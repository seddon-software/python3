{
 "cells": [
  {
   "cell_type": "code",
   "execution_count": 5,
   "metadata": {
    "slideshow": {
     "slide_type": "slide"
    }
   },
   "outputs": [
    {
     "name": "stdout",
     "output_type": "stream",
     "text": [
      "01_exceptions.py                 08_assert.py\r\n",
      "02_exceptions.py                 09_logging_exceptions.py\r\n",
      "03_exceptions.py                 10_isinstance.py\r\n",
      "04_try_except_else.py            11_exception_in_ctor_dtor.py\r\n",
      "05_raise_standard_exceptions.py  \u001b[0m\u001b[01;34mlogs\u001b[0m/\r\n",
      "06_try_except_finally.py         Untitled.ipynb\r\n",
      "07_exceptions_in_functions.py\r\n"
     ]
    }
   ],
   "source": [
    "ls"
   ]
  },
  {
   "cell_type": "code",
   "execution_count": 6,
   "metadata": {
    "slideshow": {
     "slide_type": "slide"
    }
   },
   "outputs": [
    {
     "name": "stdout",
     "output_type": "stream",
     "text": [
      "x is 10\n",
      "division by zero\n"
     ]
    }
   ],
   "source": [
    "# %load 01_exceptions.py\n",
    "def main():\n",
    "    \"\"\" try different values of x and y to trigger exceptions\"\"\"\n",
    "    try:\n",
    "        x = 10\n",
    "        y = 0\n",
    "        \n",
    "        if x > 150:\n",
    "            raise Exception(\"x is much too big\")\n",
    "        if x > 50:\n",
    "            raise Exception(\"x is too big\")\n",
    "        print(f\"x is {x}\")\n",
    "        print(f\"x/y is {x/y}\")\n",
    "    except Exception as e:\n",
    "        print(e)\n",
    "\n",
    "\n",
    "main()\n"
   ]
  },
  {
   "cell_type": "code",
   "execution_count": 1,
   "metadata": {},
   "outputs": [
    {
     "name": "stdout",
     "output_type": "stream",
     "text": [
      "x is 10\n",
      "division by zero\n"
     ]
    }
   ],
   "source": [
    "# %load 02_exceptions.py\n",
    "# define two tag classes\n",
    "class TooBig(Exception): pass\n",
    "class MuchTooBig(Exception): pass\n",
    "\n",
    "def main():\n",
    "    \"\"\" try different values of x and y to trigger exceptions\"\"\"\n",
    "    try:\n",
    "        x = 10\n",
    "        y = 0\n",
    "        \n",
    "        if x > 150:\n",
    "            raise MuchTooBig()\n",
    "        if x > 50:\n",
    "            raise TooBig()\n",
    "        print(f\"x is {x}\")\n",
    "        print(f\"x/y is {x/y}\")\n",
    "    except TooBig as e:\n",
    "        print(\"x is too big\")\n",
    "    except MuchTooBig as e:\n",
    "        print(\"x is much too big\")\n",
    "    except Exception as e:\n",
    "        print(e)\n",
    "\n",
    "\n",
    "main()\n"
   ]
  },
  {
   "cell_type": "code",
   "execution_count": 3,
   "metadata": {},
   "outputs": [
    {
     "name": "stderr",
     "output_type": "stream",
     "text": [
      "ERROR:root:No traceback has been produced, nothing to debug.\n"
     ]
    },
    {
     "ename": "ZeroDivisionError",
     "evalue": "division by zero",
     "output_type": "error",
     "traceback": [
      "\u001b[0;31m---------------------------------------------------------------------------\u001b[0m",
      "\u001b[0;31mZeroDivisionError\u001b[0m                         Traceback (most recent call last)",
      "\u001b[0;32m<ipython-input-3-aecc3eb14d0d>\u001b[0m in \u001b[0;36m<module>\u001b[0;34m\u001b[0m\n\u001b[1;32m      2\u001b[0m \u001b[0mx\u001b[0m \u001b[0;34m=\u001b[0m \u001b[0;36m2\u001b[0m\u001b[0;34m\u001b[0m\u001b[0;34m\u001b[0m\u001b[0m\n\u001b[1;32m      3\u001b[0m \u001b[0my\u001b[0m \u001b[0;34m=\u001b[0m \u001b[0mx\u001b[0m\u001b[0;34m*\u001b[0m\u001b[0;36m2\u001b[0m\u001b[0;34m\u001b[0m\u001b[0;34m\u001b[0m\u001b[0m\n\u001b[0;32m----> 4\u001b[0;31m \u001b[0my\u001b[0m\u001b[0;34m/\u001b[0m\u001b[0;36m0\u001b[0m\u001b[0;34m\u001b[0m\u001b[0;34m\u001b[0m\u001b[0m\n\u001b[0m",
      "\u001b[0;31mZeroDivisionError\u001b[0m: division by zero"
     ]
    }
   ],
   "source": [
    "%debug\n",
    "x = 2\n",
    "y = x*2\n",
    "y/0"
   ]
  },
  {
   "cell_type": "code",
   "execution_count": null,
   "metadata": {},
   "outputs": [],
   "source": []
  }
 ],
 "metadata": {
  "celltoolbar": "Slideshow",
  "kernelspec": {
   "display_name": "Python 3.7",
   "language": "python",
   "name": "python3"
  },
  "language_info": {
   "codemirror_mode": {
    "name": "ipython",
    "version": 3
   },
   "file_extension": ".py",
   "mimetype": "text/x-python",
   "name": "python",
   "nbconvert_exporter": "python",
   "pygments_lexer": "ipython3",
   "version": "3.7.3"
  }
 },
 "nbformat": 4,
 "nbformat_minor": 2
}
