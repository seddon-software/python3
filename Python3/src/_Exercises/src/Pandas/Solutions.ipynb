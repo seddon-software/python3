{
 "cells": [
  {
   "cell_type": "markdown",
   "metadata": {},
   "source": [
    "<div style=\"color:red;background-color:black\">\n",
    "Diamond Light Source\n",
    "    <h1 style=\"color:red;background-color:antiquewhite\"><br>Solutions<br></h1>\n",
    "©2000-20 Chris Seddon"
   ]
  },
  {
   "cell_type": "markdown",
   "metadata": {},
   "source": [
    "## Q1\n",
    "Use Pandas to read the file \"../MiniProject/wtk_site_metadata.csv\".  \n",
    "Print column names."
   ]
  },
  {
   "cell_type": "code",
   "execution_count": null,
   "metadata": {},
   "outputs": [],
   "source": [
    "import pandas as pd\n",
    "\n",
    "df = pd.read_csv(\"../MiniProject/wtk_site_metadata.csv\")\n",
    "for column in df.columns:\n",
    "    print(column)"
   ]
  },
  {
   "cell_type": "markdown",
   "metadata": {},
   "source": [
    "## Q2\n",
    "Use Pandas to read the file \"../MiniProject/wtk_site_metadata.csv\".  \n",
    "Create a new dataframe with just the 'longitude' and 'latitude' columns."
   ]
  },
  {
   "cell_type": "code",
   "execution_count": null,
   "metadata": {},
   "outputs": [],
   "source": [
    "import pandas as pd\n",
    "\n",
    "df = pd.read_csv(\"../MiniProject/wtk_site_metadata.csv\")\n",
    "df = df[['longitude', 'latitude']]\n",
    "print(df)"
   ]
  },
  {
   "cell_type": "markdown",
   "metadata": {},
   "source": [
    "## Q3\n",
    "Use Pandas to read the file \"../MiniProject/wtk_site_metadata.csv\".  \n",
    "Create a new series from the 'State' column of the dataframe and then remove duplicates."
   ]
  },
  {
   "cell_type": "code",
   "execution_count": null,
   "metadata": {},
   "outputs": [],
   "source": [
    "import pandas as pd\n",
    "\n",
    "df = pd.read_csv(\"../MiniProject/wtk_site_metadata.csv\")\n",
    "series = df['State']\n",
    "series = series.drop_duplicates()\n",
    "print(series)"
   ]
  },
  {
   "cell_type": "markdown",
   "metadata": {},
   "source": [
    "## Q4\n",
    "Use Pandas to read the file \"../MiniProject/wtk_site_metadata.csv\".  \n",
    "Print out the row with the largest 'longitude'."
   ]
  },
  {
   "cell_type": "code",
   "execution_count": null,
   "metadata": {},
   "outputs": [],
   "source": [
    "import pandas as pd\n",
    "\n",
    "df = pd.read_csv(\"../MiniProject/wtk_site_metadata.csv\")\n",
    "df = df[df['longitude'] == df['longitude'].max()]\n",
    "series = df['longitude']\n",
    "print(f\"Max longitude: {series.to_string(index=False)}\")"
   ]
  },
  {
   "cell_type": "markdown",
   "metadata": {},
   "source": [
    "## Q5\n",
    "Use Pandas to read the file \"../MiniProject/wtk_site_metadata.csv\".  \n",
    "Create a new dataframe containing rows with state equal to 'Rhode Island'.  \n",
    "Retain the 'longitude' and 'latitude' columns.  \n",
    "Reset the index such that it starts at 1."
   ]
  },
  {
   "cell_type": "code",
   "execution_count": null,
   "metadata": {},
   "outputs": [],
   "source": [
    "import pandas as pd\n",
    "\n",
    "df = pd.read_csv(\"../MiniProject/wtk_site_metadata.csv\")\n",
    "df = df[df['State'] == 'Rhode Island']\n",
    "df = df[['longitude', 'latitude']]\n",
    "df = df.reset_index()\n",
    "df.drop(['index'], axis = 1, inplace = True)\n",
    "print(f\"Rhode Island dataframe: {df}\")"
   ]
  },
  {
   "cell_type": "markdown",
   "metadata": {},
   "source": [
    "## Q6\n",
    "Use Pandas to read the file \"../MiniProject/wtk_site_metadata.csv\".  \n",
    "Create the same dataframe 'Rhode Island' as in the previous exercise.  \n",
    "Print the dataframe without the index, display every row to a precision of 2 decimal places."
   ]
  },
  {
   "cell_type": "code",
   "execution_count": null,
   "metadata": {},
   "outputs": [],
   "source": [
    "import pandas as pd\n",
    "pd.set_option('display.precision', 2)\n",
    "pd.set_option('display.width', None)\n",
    "pd.set_option('display.max_rows', None)\n",
    "\n",
    "df = pd.read_csv(\"../MiniProject/wtk_site_metadata.csv\")\n",
    "df = df[df['State'] == 'Rhode Island']\n",
    "df = df[['longitude', 'latitude']]\n",
    "df = df.reset_index()\n",
    "df.drop(['index'], axis = 1, inplace = True)\n",
    "print(f\"Rhode Island dataframe:\\n {df.to_string(index=False)}\")"
   ]
  },
  {
   "cell_type": "markdown",
   "metadata": {},
   "source": [
    "## Q7\n",
    "Use Pandas to read the file \"../MiniProject/wtk_site_metadata.csv\".  \n",
    "Create the same dataframe 'Rhode Island' as in the previous exercise.  \n",
    "Now add an extra column called 'power' that is computed as the product of the columns 'capacity_factor' and 'wind_speed'.  \n",
    "Now print out the last 20 entries of the new dataframe.  "
   ]
  },
  {
   "cell_type": "code",
   "execution_count": null,
   "metadata": {},
   "outputs": [],
   "source": [
    "import pandas as pd\n",
    "\n",
    "pd.set_option('display.precision', 2)\n",
    "pd.set_option('display.width', None)\n",
    "# pd.set_option('display.max_rows', None)\n",
    "\n",
    "df = pd.read_csv(\"../MiniProject/wtk_site_metadata.csv\")\n",
    "df['power'] = df.apply(lambda row:row.capacity_factor*row.wind_speed, raw=True, axis=1)\n",
    "print(df[-20:])"
   ]
  },
  {
   "cell_type": "markdown",
   "metadata": {},
   "source": [
    "## Q8\n",
    "Use Pandas to read the file \"../MiniProject/wtk_site_metadata.csv\".  \n",
    "Work with the dataframe 'Rhode Island' as in the previous exercise with the extra column called 'power'.  \n",
    "Reorder the columns such that the first three columns are 'capacity_factor', 'wind_speed' and 'power' and print the first 5 rows of the dataframe."
   ]
  },
  {
   "cell_type": "code",
   "execution_count": null,
   "metadata": {},
   "outputs": [],
   "source": [
    "import pandas as pd\n",
    "\n",
    "pd.set_option('display.precision', 2)\n",
    "pd.set_option('display.width', None)\n",
    "pd.set_option('display.max_rows', None)\n",
    "\n",
    "df = pd.read_csv(\"../MiniProject/wtk_site_metadata.csv\")\n",
    "df['power'] = df.apply(lambda row:row.capacity_factor*row.wind_speed, raw=True, axis=1)\n",
    "\n",
    "c = df.columns\n",
    "df = df[[c[8],c[9],c[-1],*c[:8],*c[10:-1]]]\n",
    "print(df.head())"
   ]
  },
  {
   "cell_type": "markdown",
   "metadata": {},
   "source": [
    "## Q9\n",
    "Use Pandas to read the file \"../MiniProject/wtk_site_metadata.csv\".  \n",
    "Work with the dataframe 'Rhode Island' as in the previous exercise with the extra column called 'power' and the column headings resorted.  \n",
    "Now sort the dataframe in descending order of 'power'.  \n",
    "Print the first 5 rows of the dataframe."
   ]
  },
  {
   "cell_type": "code",
   "execution_count": null,
   "metadata": {},
   "outputs": [],
   "source": [
    "import pandas as pd\n",
    "\n",
    "pd.set_option('display.precision', 2)\n",
    "pd.set_option('display.width', None)\n",
    "pd.set_option('display.max_rows', None)\n",
    "\n",
    "df = pd.read_csv(\"../MiniProject/wtk_site_metadata.csv\")\n",
    "df['power'] = df.apply(lambda row:row.capacity_factor*row.wind_speed, raw=True, axis=1)\n",
    "\n",
    "c = df.columns\n",
    "df = df[[c[8],c[9],c[-1],*c[:8],*c[10:-1]]]\n",
    "\n",
    "df.sort_values('power', axis=0, ascending=False, inplace=True)\n",
    "print(df.head())"
   ]
  },
  {
   "cell_type": "markdown",
   "metadata": {},
   "source": [
    "## Q10\n",
    "Use Pandas to read the file \"../MiniProject/wtk_site_metadata.csv\".  \n",
    "Work with the dataframe 'Rhode Island' as in the previous exercise with the extra column called 'power' and the column headings re-sorted.  \n",
    "Create a new sorted dataframe with rows from the 'Rhode Island' dataframe with a 'power' greater than 3."
   ]
  },
  {
   "cell_type": "code",
   "execution_count": null,
   "metadata": {},
   "outputs": [],
   "source": [
    "import pandas as pd\n",
    "\n",
    "pd.set_option('display.precision', 2)\n",
    "pd.set_option('display.width', None)\n",
    "pd.set_option('display.max_rows', None)\n",
    "\n",
    "df = pd.read_csv(\"../MiniProject/wtk_site_metadata.csv\")\n",
    "df['power'] = df.apply(lambda row:row.capacity_factor*row.wind_speed, raw=True, axis=1)\n",
    "\n",
    "c = df.columns\n",
    "df = df[[c[8],c[9],c[-1],*c[:8],*c[10:-1]]]\n",
    "\n",
    "df = df[df['power'] > 3.0]\n",
    "df.sort_values('power', axis=0, ascending=False, inplace=True)\n",
    "print(df[:30])"
   ]
  },
  {
   "cell_type": "code",
   "execution_count": null,
   "metadata": {},
   "outputs": [],
   "source": []
  }
 ],
 "metadata": {
  "kernelspec": {
   "display_name": "Python 3",
   "language": "python",
   "name": "python3"
  },
  "language_info": {
   "codemirror_mode": {
    "name": "ipython",
    "version": 3
   },
   "file_extension": ".py",
   "mimetype": "text/x-python",
   "name": "python",
   "nbconvert_exporter": "python",
   "pygments_lexer": "ipython3",
   "version": "3.7.1"
  }
 },
 "nbformat": 4,
 "nbformat_minor": 2
}
