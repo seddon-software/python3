{
 "cells": [
  {
   "cell_type": "markdown",
   "metadata": {},
   "source": [
    "# Numpy Solutions"
   ]
  },
  {
   "cell_type": "markdown",
   "metadata": {},
   "source": [
    "## Q1\n",
    "Create 4x6 array of floats between 3.5 and 5.5.  Display the results to 3 decimal \n",
    "places using `set_printoptions`."
   ]
  },
  {
   "cell_type": "code",
   "execution_count": 20,
   "metadata": {},
   "outputs": [
    {
     "name": "stdout",
     "output_type": "stream",
     "text": [
      "[[4.762 4.195 4.188 3.783 4.352 4.031]\n",
      " [5.458 4.098 5.462 3.504 4.406 5.051]\n",
      " [4.305 3.608 4.373 4.129 5.247 3.905]\n",
      " [5.309 3.775 4.904 4.420 3.869 4.839]]\n"
     ]
    }
   ],
   "source": [
    "import numpy as np\n",
    "np.set_printoptions(formatter={'float': lambda x: \"{0:0.3f}\".format(x)})\n",
    "\n",
    "a = np.random.random(size=(4,6))\n",
    "print(a*2+3.5)"
   ]
  },
  {
   "cell_type": "markdown",
   "metadata": {},
   "source": [
    "## Q2\n",
    "Create a 4x6 array of random ints between 10 and 100."
   ]
  },
  {
   "cell_type": "code",
   "execution_count": 21,
   "metadata": {},
   "outputs": [
    {
     "name": "stdout",
     "output_type": "stream",
     "text": [
      "[[92 44 86 21 63 33]\n",
      " [24 15 55 36 80 96]\n",
      " [16 21 13 91 52 14]\n",
      " [20 32 79 72 10 72]]\n"
     ]
    }
   ],
   "source": [
    "import numpy as np\n",
    "\n",
    "a = np.random.randint(low=10, high=100, size=(4,6))\n",
    "print(a)"
   ]
  },
  {
   "cell_type": "markdown",
   "metadata": {},
   "source": [
    "## Q3\n",
    "Create another 4x6 array of random ints between 10 and 100.  Then set all the even\n",
    "numbers to 100."
   ]
  },
  {
   "cell_type": "code",
   "execution_count": 49,
   "metadata": {},
   "outputs": [
    {
     "name": "stdout",
     "output_type": "stream",
     "text": [
      "array BEFORE setting even numbers:\n",
      "[[13 49 83 35 30 93]\n",
      " [31 37 87 62 89 13]\n",
      " [31 68 24 30 60 59]\n",
      " [40 90 79 48 48 20]]\n",
      "array AFTER setting even numbers:\n",
      "[[ 13  49  83  35 100  93]\n",
      " [ 31  37  87 100  89  13]\n",
      " [ 31 100 100 100 100  59]\n",
      " [100 100  79 100 100 100]]\n"
     ]
    }
   ],
   "source": [
    "import numpy as np\n",
    "\n",
    "a = np.random.randint(low=10, high=100, size=(4,6))\n",
    "print(f\"array BEFORE setting even numbers:\")\n",
    "print(a)\n",
    "a[a%2==0] = 100\n",
    "print(f\"array AFTER setting even numbers:\")\n",
    "print(a)"
   ]
  },
  {
   "cell_type": "markdown",
   "metadata": {},
   "source": [
    "## Q4\n",
    "Create another 4x6 array of random ints between 10 and 100.  Create a new 1D array\n",
    "with all the numbers in the first array that are less than 50."
   ]
  },
  {
   "cell_type": "code",
   "execution_count": 23,
   "metadata": {},
   "outputs": [
    {
     "name": "stdout",
     "output_type": "stream",
     "text": [
      "[[76 64 44 39 14 80]\n",
      " [97 52 14 93 45 80]\n",
      " [53 57 97 71 75 73]\n",
      " [84 25 64 45 39 93]]\n",
      "[44 39 14 14 45 25 45 39]\n"
     ]
    }
   ],
   "source": [
    "import numpy as np\n",
    "\n",
    "a = np.random.randint(low=10, high=100, size=(4,6))\n",
    "print(a)\n",
    "b = a[a[:] < 50]\n",
    "print(b)"
   ]
  },
  {
   "cell_type": "markdown",
   "metadata": {},
   "source": [
    "## Q5\n",
    "Create a 4x6 array of random integers between 10 and 100.\n",
    "Create a new 4x3 array of the lowest 50% of the original array whilst \n",
    "preserving order."
   ]
  },
  {
   "cell_type": "code",
   "execution_count": 24,
   "metadata": {},
   "outputs": [
    {
     "name": "stdout",
     "output_type": "stream",
     "text": [
      "[[74 80 78 74 16 27]\n",
      " [89 12 79 73 70 17]\n",
      " [57 14 48 30 74 13]\n",
      " [25 87 94 90 16 59]]\n",
      "[[16 27 12]\n",
      " [17 57 14]\n",
      " [48 30 13]\n",
      " [25 16 59]]\n"
     ]
    }
   ],
   "source": [
    "import numpy as np\n",
    "\n",
    "a = np.random.randint(low=10, high=100, size=(4,6))\n",
    "print(a)\n",
    "a = a[a <= np.percentile(a, 50)]\n",
    "print(a.reshape((4,3)))"
   ]
  },
  {
   "cell_type": "markdown",
   "metadata": {},
   "source": [
    "## Q6\n",
    "Create a 4x6 array of random integers between 10 and 100.\n",
    "Set the lowest 50% of the array to 0."
   ]
  },
  {
   "cell_type": "code",
   "execution_count": 25,
   "metadata": {},
   "outputs": [
    {
     "name": "stdout",
     "output_type": "stream",
     "text": [
      "[[48 15 67 30 13 71]\n",
      " [10 32 89 64 93 32]\n",
      " [77 80 67 85 26 49]\n",
      " [28 22 27 64 74 52]]\n",
      "[[ 0  0 67  0  0 71]\n",
      " [ 0  0 89 64 93  0]\n",
      " [77 80 67 85  0  0]\n",
      " [ 0  0  0 64 74 52]]\n"
     ]
    }
   ],
   "source": [
    "import numpy as np\n",
    "\n",
    "a = np.random.randint(low=10, high=100, size=(4,6))\n",
    "print(a)\n",
    "a[a <= np.percentile(a, 50)] = 0\n",
    "print(a)"
   ]
  },
  {
   "cell_type": "markdown",
   "metadata": {},
   "source": [
    "## Q7\n",
    "Create a 6x4 array of ints where the first row is filled\n",
    "with 10, the second with 11, the third with 12 and the last with 13."
   ]
  },
  {
   "cell_type": "code",
   "execution_count": 31,
   "metadata": {},
   "outputs": [
    {
     "name": "stdout",
     "output_type": "stream",
     "text": [
      "[[10 10 10 10 10 10]\n",
      " [11 11 11 11 11 11]\n",
      " [12 12 12 12 12 12]\n",
      " [13 13 13 13 13 13]]\n"
     ]
    }
   ],
   "source": [
    "import numpy as np\n",
    "\n",
    "a = np.arange(10, 14)\n",
    "b = np.repeat(a, 6)\n",
    "b = b.reshape((4,6))\n",
    "print(b)"
   ]
  },
  {
   "cell_type": "markdown",
   "metadata": {},
   "source": [
    "## Q8\n",
    "Create a 8x5 array of ints using the \"tile\" method so that each successive row is rotated left.  The solution should look like:\n",
    "\n",
    "    [[10 11 12 13 10]\n",
    "     [11 12 13 10 11]\n",
    "     [12 13 ... \n",
    "           ... 11 12]\n",
    "     [13 10 11 12 13]]"
   ]
  },
  {
   "cell_type": "code",
   "execution_count": 32,
   "metadata": {},
   "outputs": [
    {
     "name": "stdout",
     "output_type": "stream",
     "text": [
      "[[10 11 12 13 10]\n",
      " [11 12 13 10 11]\n",
      " [12 13 10 11 12]\n",
      " [13 10 11 12 13]\n",
      " [10 11 12 13 10]\n",
      " [11 12 13 10 11]\n",
      " [12 13 10 11 12]\n",
      " [13 10 11 12 13]]\n"
     ]
    }
   ],
   "source": [
    "import numpy as np\n",
    "# \n",
    "a = np.arange(10, 14)\n",
    "b = np.tile(a, 10)\n",
    "b = b.reshape((8,5))\n",
    "print(b)"
   ]
  },
  {
   "cell_type": "markdown",
   "metadata": {},
   "source": [
    "## Q9\n",
    "Create a 4x6 array of ints.  Then create a new array with columns 2 and 4 of the original array swapped."
   ]
  },
  {
   "cell_type": "code",
   "execution_count": 50,
   "metadata": {},
   "outputs": [
    {
     "name": "stdout",
     "output_type": "stream",
     "text": [
      "Original array:\n",
      "[[100 101 102 103 104 105]\n",
      " [106 107 108 109 110 111]\n",
      " [112 113 114 115 116 117]\n",
      " [118 119 120 121 122 123]]\n",
      "New array AFTER swapping\n",
      "[[100 101 104 103 102 105]\n",
      " [106 107 110 109 108 111]\n",
      " [112 113 116 115 114 117]\n",
      " [118 119 122 121 120 123]]\n"
     ]
    }
   ],
   "source": [
    "import numpy as np\n",
    "\n",
    "a = np.arange(100,124).reshape(4,6)\n",
    "print(\"Original array:\")\n",
    "print(a)\n",
    "\n",
    "a[:,(2,4)] = a[:,(4,2)]\n",
    "print(\"New array AFTER swapping\")\n",
    "print(a)"
   ]
  },
  {
   "cell_type": "markdown",
   "metadata": {},
   "source": [
    "## Q10\n",
    "Create a 3x10 array.  Use the `rot90` method to rotate the array by 90 degrees.  Repeat this 4 times, so you get back\n",
    "to the original array, printing the contents of the array on each step."
   ]
  },
  {
   "cell_type": "code",
   "execution_count": 52,
   "metadata": {},
   "outputs": [
    {
     "name": "stdout",
     "output_type": "stream",
     "text": [
      "STEP 1\n",
      "[[19 29 39]\n",
      " [18 28 38]\n",
      " [17 27 37]\n",
      " [16 26 36]\n",
      " [15 25 35]\n",
      " [14 24 34]\n",
      " [13 23 33]\n",
      " [12 22 32]\n",
      " [11 21 31]\n",
      " [10 20 30]]\n",
      "\n",
      "STEP 2\n",
      "[[39 38 37 36 35 34 33 32 31 30]\n",
      " [29 28 27 26 25 24 23 22 21 20]\n",
      " [19 18 17 16 15 14 13 12 11 10]]\n",
      "\n",
      "STEP 3\n",
      "[[30 20 10]\n",
      " [31 21 11]\n",
      " [32 22 12]\n",
      " [33 23 13]\n",
      " [34 24 14]\n",
      " [35 25 15]\n",
      " [36 26 16]\n",
      " [37 27 17]\n",
      " [38 28 18]\n",
      " [39 29 19]]\n",
      "\n",
      "STEP 4\n",
      "[[10 11 12 13 14 15 16 17 18 19]\n",
      " [20 21 22 23 24 25 26 27 28 29]\n",
      " [30 31 32 33 34 35 36 37 38 39]]\n",
      "\n"
     ]
    }
   ],
   "source": [
    "import numpy as np\n",
    "\n",
    "a = np.arange(10, 40).reshape(3, 10)\n",
    "\n",
    "a = np.rot90(a); print(f\"STEP 1\\n{a}\"); print()\n",
    "a = np.rot90(a); print(f\"STEP 2\\n{a}\"); print()\n",
    "a = np.rot90(a); print(f\"STEP 3\\n{a}\"); print()\n",
    "a = np.rot90(a); print(f\"STEP 4\\n{a}\"); print()"
   ]
  },
  {
   "cell_type": "markdown",
   "metadata": {},
   "source": [
    "## Q11\n",
    "Find the common elements of two 1D arrays below using the `intersect1d` method. \n",
    "<pre>\n",
    "a = np.array([5,6,1,5,0,4,6,10,11,2,3])\n",
    "b = np.array([6,2,10,9,4,9,3,2,1])\n",
    "</pre>"
   ]
  },
  {
   "cell_type": "code",
   "execution_count": 53,
   "metadata": {},
   "outputs": [
    {
     "name": "stdout",
     "output_type": "stream",
     "text": [
      "[ 1  2  3  4  6 10]\n"
     ]
    }
   ],
   "source": [
    "import numpy as np\n",
    "\n",
    "a = np.array([5,6,1,5,0,4,6,10,11,2,3])\n",
    "b = np.array([6,2,10,9,4,9,3,2,1])\n",
    "\n",
    "print(np.intersect1d(a,b))"
   ]
  },
  {
   "cell_type": "markdown",
   "metadata": {},
   "source": [
    "## Q12\n",
    "Create two 1D int arrays of equal size.  Then create a new array of the same size, selecting elements from the first array when the element in this array is even, and selecting elements from the second array \n",
    "when the element in the first array is odd.  \n",
    "Use the following arrays as sample data:\n",
    "<pre>\n",
    "a = np.arange(10,50,3)\n",
    "b = np.arange(100,114)\n",
    "</pre>"
   ]
  },
  {
   "cell_type": "code",
   "execution_count": 36,
   "metadata": {},
   "outputs": [
    {
     "name": "stdout",
     "output_type": "stream",
     "text": [
      "[100  13 102  19 104  25 106  31 108  37 110  43 112  49]\n"
     ]
    }
   ],
   "source": [
    "import numpy as np\n",
    "\n",
    "a = np.arange(10,50,3)\n",
    "b = np.arange(100,114)\n",
    "\n",
    "difference = np.where(a%2, a, b)\n",
    "print(difference)\n"
   ]
  },
  {
   "cell_type": "markdown",
   "metadata": {},
   "source": [
    "## Q13\n",
    "Create a 4x6 array of random ints between 10 and 100.  Use the Numpy documentation to see what it means to define a masked array and then create a masked array where all values in the original array that are less than 50 are masked out."
   ]
  },
  {
   "cell_type": "code",
   "execution_count": 54,
   "metadata": {},
   "outputs": [
    {
     "name": "stdout",
     "output_type": "stream",
     "text": [
      "original array:\n",
      "[[11  5 97  8  8 75]\n",
      " [80 29 12  9 59 90]\n",
      " [81 28 90  0 98 16]\n",
      " [22 39 32 38 50 76]]\n",
      "masked array:\n",
      "[[-- -- 97 -- -- 75]\n",
      " [80 -- -- -- 59 90]\n",
      " [81 -- 90 -- 98 --]\n",
      " [-- -- -- -- -- 76]]\n"
     ]
    }
   ],
   "source": [
    "import numpy as np\n",
    "import numpy.ma as ma\n",
    "\n",
    "a = np.random.randint(low=0, high=100, size=(4,6)); \n",
    "print(f\"original array:\\n{a}\")\n",
    "\n",
    "mask = ma.masked_array(a, mask=a<=50)\n",
    "print(f\"masked array:\\n{mask}\")"
   ]
  },
  {
   "cell_type": "markdown",
   "metadata": {},
   "source": [
    "## Q14\n",
    "Create a 4x6 array of random ints between 10 and 100.  \n",
    "Filter this array to produce a new 1D array consisting of only the numbers divisible by 3 in the original array."
   ]
  },
  {
   "cell_type": "code",
   "execution_count": 55,
   "metadata": {},
   "outputs": [
    {
     "name": "stdout",
     "output_type": "stream",
     "text": [
      "original array:\n",
      "[[37 42 91 73 23 74]\n",
      " [48 24 76 14 14 85]\n",
      " [18 70 27 93 61 76]\n",
      " [65 15 30 43 89 96]]\n",
      "filtered array:\n",
      "[42 48 24 18 27 93 15 30 96]\n"
     ]
    }
   ],
   "source": [
    "import numpy as np\n",
    "\n",
    "a = np.random.randint(low=10, high=100, size=(4,6))\n",
    "b = a[a % 3 == 0]\n",
    "print(f\"original array:\\n{a}\")\n",
    "print(f\"filtered array:\\n{b}\") "
   ]
  },
  {
   "cell_type": "markdown",
   "metadata": {},
   "source": [
    "## Q15\n",
    "Create a 4x6 array of random ints between 10 and 100.  Then create a 4x6 array of indices of representing rankings of the first array.\n",
    "\n",
    "For example the 2x3 array\n",
    "<pre>\n",
    "    [[49 56 61]\n",
    "     [63 39 97]]\n",
    "</pre>\n",
    "yields the rankings\n",
    "<pre>\n",
    "    [[4 0 1]\n",
    "     [2 3 5]]\n",
    "</pre>"
   ]
  },
  {
   "cell_type": "code",
   "execution_count": 56,
   "metadata": {},
   "outputs": [
    {
     "name": "stdout",
     "output_type": "stream",
     "text": [
      "a=\n",
      "[[60 37 20 30 87 42]\n",
      " [14 71 39 70 14 92]\n",
      " [61 67 99 35 57 77]\n",
      " [17 47 87 41 18 77]]\n",
      "b=\n",
      "[[ 6 10 18 22  2  3]\n",
      " [15  1  8 21  5 19]\n",
      " [16  0 12 13  9  7]\n",
      " [23 17 20  4 11 14]]\n"
     ]
    }
   ],
   "source": [
    "import numpy as np\n",
    "\n",
    "shape = (4,6)\n",
    "a = np.random.randint(low=10, high=100, size=shape)\n",
    "print(f\"a=\\n{a}\")\n",
    "b = np.argsort(a, axis=None).reshape(shape)\n",
    "print(f\"b=\\n{b}\")"
   ]
  },
  {
   "cell_type": "markdown",
   "metadata": {},
   "source": [
    "## Q16\n",
    "Create a 1D array of random ints of size (30,) containing only the numbers 10, 11, 12, 13 or 14. Now create 30 'one hot encodings' for the original array.  You can read up about 'one hot encodings' on the web.  \n",
    "\n",
    "For example a set of 'one hot encodings' for:\n",
    "<pre>\n",
    "    [20, 22, 21, 22, 20, 22]\n",
    "</pre>\n",
    "would be:\n",
    "<pre>\n",
    "    [1 0 0]\n",
    "    [0 0 1]\n",
    "    [0 1 0]\n",
    "    [0 0 1]\n",
    "    [1 0 0]\n",
    "    [0 0 1]\n",
    "</pre>"
   ]
  },
  {
   "cell_type": "code",
   "execution_count": 57,
   "metadata": {},
   "outputs": [
    {
     "name": "stdout",
     "output_type": "stream",
     "text": [
      "[11 14 12 10 13 12 10 12 14 13 11 13 11 10 14 12 14 14 11 13 14 14 10 12\n",
      " 12 12 14 14 12 12]\n",
      "[[0 1 0 0 0]\n",
      " [0 0 0 0 1]\n",
      " [0 0 1 0 0]\n",
      " [1 0 0 0 0]\n",
      " [0 0 0 1 0]\n",
      " [0 0 1 0 0]\n",
      " [1 0 0 0 0]\n",
      " [0 0 1 0 0]\n",
      " [0 0 0 0 1]\n",
      " [0 0 0 1 0]\n",
      " [0 1 0 0 0]\n",
      " [0 0 0 1 0]\n",
      " [0 1 0 0 0]\n",
      " [1 0 0 0 0]\n",
      " [0 0 0 0 1]\n",
      " [0 0 1 0 0]\n",
      " [0 0 0 0 1]\n",
      " [0 0 0 0 1]\n",
      " [0 1 0 0 0]\n",
      " [0 0 0 1 0]\n",
      " [0 0 0 0 1]\n",
      " [0 0 0 0 1]\n",
      " [1 0 0 0 0]\n",
      " [0 0 1 0 0]\n",
      " [0 0 1 0 0]\n",
      " [0 0 1 0 0]\n",
      " [0 0 0 0 1]\n",
      " [0 0 0 0 1]\n",
      " [0 0 1 0 0]\n",
      " [0 0 1 0 0]]\n"
     ]
    }
   ],
   "source": [
    "def one_hot_encodings(arr):\n",
    "    unique = np.unique(arr)\n",
    "    out = np.zeros((arr.shape[0], unique.shape[0]), dtype='int')\n",
    "    for i, k in enumerate(arr):\n",
    "        out[i, list(unique).index(k)] = 1\n",
    "    return out\n",
    "\n",
    "import numpy as np\n",
    "a = np.random.randint(low=10, high=15, size=(30,)); print(a)\n",
    "hot = one_hot_encodings(a)\n",
    "print(hot)\n"
   ]
  },
  {
   "cell_type": "markdown",
   "metadata": {},
   "source": [
    "## Q17\n",
    "Create two vectors representing points in 3D space.  Now calculate the distance between these points."
   ]
  },
  {
   "cell_type": "code",
   "execution_count": 58,
   "metadata": {},
   "outputs": [
    {
     "name": "stdout",
     "output_type": "stream",
     "text": [
      "7.071067811865475\n"
     ]
    }
   ],
   "source": [
    "import numpy as np\n",
    "\n",
    "p1 = np.array([2.5, 4.1, 3.7])\n",
    "p2 = np.array([5.5, 8.1, 8.7])\n",
    "\n",
    "distance = np.sqrt(np.dot(p2-p1, p2-p1))\n",
    "print(distance)"
   ]
  },
  {
   "cell_type": "markdown",
   "metadata": {},
   "source": [
    "## Q18\n",
    "Write a function that performs a 3D Cartesian to Spherical coordinate transformation on vectors.  Perform a Cartesian to Spherical coordinate transformation on each of\n",
    "the Cartesian unit vectors:\n",
    "<pre>\n",
    "    iHat = [1, 0, 0]\n",
    "    jHat = [0, 1, 0]\n",
    "    kHat = [0, 0, 1]\n",
    "</pre>\n",
    "Note that the transfomation for kHat causes a singularity in Spherical coordinates, so try vectors very near kHat instead:\n",
    "<pre>\n",
    "    kHat_plus  = [+0.0001,0,1])\n",
    "    kHat_minus = [-0.0001,0,1])\n",
    "</pre>"
   ]
  },
  {
   "cell_type": "code",
   "execution_count": 45,
   "metadata": {},
   "outputs": [
    {
     "name": "stdout",
     "output_type": "stream",
     "text": [
      "unit iHat = [1.000 1.571 0.000]\n",
      "unit jHat = [1.000 1.571 1.571]\n",
      "unit kHat+ = [1.000 0.000 0.000]\n",
      "unit kHat- = [1.000 0.000 3.142]\n"
     ]
    }
   ],
   "source": [
    "import numpy as np\n",
    "from numpy import sqrt, arccos\n",
    "np.set_printoptions(formatter={'float': lambda x: \"{0:0.3f}\".format(x)})\n",
    "\n",
    "\n",
    "def cartesianToSpherical(v):\n",
    "    x, y, z = v\n",
    "    r = sqrt(x**2 + y**2 + z**2)\n",
    "    ϑ = arccos(z/r)\n",
    "    𝜑 = arccos(x/sqrt(x**2+y**2))\n",
    "    return np.array([r, ϑ, 𝜑])\n",
    "\n",
    "\n",
    "iHat = np.array([1,0,0])\n",
    "jHat = np.array([0,1,0])\n",
    "kHat_plus  = np.array([+0.0001,0,1])\n",
    "kHat_minus = np.array([-0.0001,0,1])\n",
    "print( f\"unit iHat = {cartesianToSpherical(iHat)}\" )\n",
    "print( f\"unit jHat = {cartesianToSpherical(jHat)}\" )\n",
    "print( f\"unit kHat+ = {cartesianToSpherical(kHat_plus)}\" )\n",
    "print( f\"unit kHat- = {cartesianToSpherical(kHat_minus)}\" )\n"
   ]
  }
 ],
 "metadata": {
  "kernelspec": {
   "display_name": "Python 3",
   "language": "python",
   "name": "python3"
  },
  "language_info": {
   "codemirror_mode": {
    "name": "ipython",
    "version": 3
   },
   "file_extension": ".py",
   "mimetype": "text/x-python",
   "name": "python",
   "nbconvert_exporter": "python",
   "pygments_lexer": "ipython3",
   "version": "3.7.1"
  }
 },
 "nbformat": 4,
 "nbformat_minor": 2
}
