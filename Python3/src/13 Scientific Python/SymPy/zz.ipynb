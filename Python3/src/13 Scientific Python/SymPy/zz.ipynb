{
 "cells": [
  {
   "cell_type": "markdown",
   "metadata": {},
   "source": [
    "# Polynomials"
   ]
  },
  {
   "cell_type": "code",
   "execution_count": 1,
   "metadata": {},
   "outputs": [
    {
     "data": {
      "image/png": "[encoded data removed]",
      "text/latex": [
       "$$2 \\left(x - 3\\right)^{3}$$"
      ],
      "text/plain": [
       "         3\n",
       "2⋅(x - 3) "
      ]
     },
     "execution_count": 1,
     "metadata": {},
     "output_type": "execute_result"
    }
   ],
   "source": [
    "import sympy\n",
    "sympy.init_printing()\n",
    "\n",
    "# define symbols\n",
    "x , y , z = sympy.symbols('x, y, z')\n",
    "\n",
    "# print polynominal \n",
    "2*(x - 3)**3"
   ]
  },
  {
   "cell_type": "code",
   "execution_count": 2,
   "metadata": {},
   "outputs": [
    {
     "data": {
      "image/png": "[encoded data removed]",
      "text/plain": [
       "<Figure size 432x288 with 1 Axes>"
      ]
     },
     "metadata": {
      "needs_background": "light"
     },
     "output_type": "display_data"
    }
   ],
   "source": [
    "%matplotlib inline\n",
    "import numpy as np\n",
    "import pylab as plt\n",
    "X = np.arange(-50, 50, 0.01)\n",
    "Y = 2*(X-3)**3\n",
    "\n",
    "# plot the curve\n",
    "plt.plot(X, Y, color='red', lw=2)\n",
    "plt.grid()\n",
    "plt.show()"
   ]
  },
  {
   "cell_type": "code",
   "execution_count": 3,
   "metadata": {},
   "outputs": [
    {
     "data": {
      "image/png": "[encoded data removed]",
      "text/latex": [
       "$$2 x^{3} - 18 x^{2} + 54 x - 54$$"
      ],
      "text/plain": [
       "   3       2            \n",
       "2⋅x  - 18⋅x  + 54⋅x - 54"
      ]
     },
     "execution_count": 3,
     "metadata": {},
     "output_type": "execute_result"
    }
   ],
   "source": [
    "# expand expression\n",
    "(2*(x - 3)**3).expand()"
   ]
  },
  {
   "cell_type": "code",
   "execution_count": 4,
   "metadata": {},
   "outputs": [
    {
     "data": {
      "image/png": "[encoded data removed]",
      "text/latex": [
       "$$\\left(2 y + 10\\right)^{2}$$"
      ],
      "text/plain": [
       "          2\n",
       "(2⋅y + 10) "
      ]
     },
     "execution_count": 4,
     "metadata": {},
     "output_type": "execute_result"
    }
   ],
   "source": [
    "# evaluate polynominal with a given value of x\n",
    "((x + 2*y)**2).subs(x, 10)"
   ]
  },
  {
   "cell_type": "code",
   "execution_count": 5,
   "metadata": {},
   "outputs": [
    {
     "data": {
      "image/png": "[encoded data removed]",
      "text/latex": [
       "$$256$$"
      ],
      "text/plain": [
       "256"
      ]
     },
     "execution_count": 5,
     "metadata": {},
     "output_type": "execute_result"
    }
   ],
   "source": [
    "# evaluate polynominal with a given values of x and y\n",
    "((x + 2*y)**2).subs({x:10, y:3})"
   ]
  },
  {
   "cell_type": "code",
   "execution_count": 6,
   "metadata": {},
   "outputs": [
    {
     "data": {
      "image/png": "[encoded data removed]",
      "text/latex": [
       "$$36$$"
      ],
      "text/plain": [
       "36"
      ]
     },
     "execution_count": 6,
     "metadata": {},
     "output_type": "execute_result"
    }
   ],
   "source": [
    "# perform double substitution on expression \n",
    "((x + 2*y)**2).subs(x, y).subs(y, 2)"
   ]
  },
  {
   "cell_type": "code",
   "execution_count": null,
   "metadata": {},
   "outputs": [],
   "source": []
  },
  {
   "cell_type": "markdown",
   "metadata": {},
   "source": [
    "# Rational Numbers (fractions)"
   ]
  },
  {
   "cell_type": "code",
   "execution_count": 1,
   "metadata": {
    "collapsed": false
   },
   "outputs": [
    {
     "data": {
      "image/png": "[encoded data removed]",
      "text/latex": [
       "$$\\frac{7}{10}$$"
      ],
      "text/plain": [
       "7/10"
      ]
     },
     "execution_count": 1,
     "metadata": {},
     "output_type": "execute_result"
    }
   ],
   "source": [
    "from sympy import *\n",
    "import sympy\n",
    "sympy.init_printing()\n",
    "a, b = sympy.symbols('a, b')\n",
    "\n",
    "# print 0.7 as a fraction \n",
    "a = Rational(7, 10)\n",
    "a"
   ]
  },
  {
   "cell_type": "code",
   "execution_count": 2,
   "metadata": {
    "collapsed": false
   },
   "outputs": [
    {
     "data": {
      "image/png": "[encoded data removed]",
      "text/latex": [
       "$$\\left ( \\frac{63}{134}, \\quad \\frac{919}{670}\\right )$$"
      ],
      "text/plain": [
       "⎛ 63  919⎞\n",
       "⎜───, ───⎟\n",
       "⎝134  670⎠"
      ]
     },
     "execution_count": 2,
     "metadata": {},
     "output_type": "execute_result"
    }
   ],
   "source": [
    "# print an expression as a fraction \n",
    "b = Rational (45 , 67)\n",
    "a * b, a + b"
   ]
  },
  {
   "cell_type": "code",
   "execution_count": 3,
   "metadata": {
    "collapsed": false
   },
   "outputs": [
    {
     "data": {
      "image/png": "[encoded data removed]",
      "text/latex": [
       "$$1.37164179104$$"
      ],
      "text/plain": [
       "1.37164179104"
      ]
     },
     "execution_count": 3,
     "metadata": {},
     "output_type": "execute_result"
    }
   ],
   "source": [
    "# print same data as a float\n",
    "(float)(a + b)"
   ]
  },
  {
   "cell_type": "code",
   "execution_count": 4,
   "metadata": {
    "collapsed": false
   },
   "outputs": [
    {
     "data": {
      "image/png": "[encoded data removed]",
      "text/latex": [
       "$$1.37164179104477611940298507$$"
      ],
      "text/plain": [
       "1.37164179104477611940298507"
      ]
     },
     "execution_count": 4,
     "metadata": {},
     "output_type": "execute_result"
    }
   ],
   "source": [
    "# print to 27 decimal places\n",
    "(a + b).evalf(27)"
   ]
  },
  {
   "cell_type": "code",
   "execution_count": null,
   "metadata": {
    "collapsed": true
   },
   "outputs": [],
   "source": []
  },
  {
   "cell_type": "markdown",
   "metadata": {},
   "source": [
    "# Differentiation"
   ]
  },
  {
   "cell_type": "code",
   "execution_count": 1,
   "metadata": {},
   "outputs": [
    {
     "data": {
      "image/png": "[encoded data removed]",
      "text/latex": [
       "$$\\left ( \\frac{d}{d x} \\sin{\\left (x \\right )}, \\quad \\cos{\\left (x \\right )}\\right )$$"
      ],
      "text/plain": [
       "⎛d                 ⎞\n",
       "⎜──(sin(x)), cos(x)⎟\n",
       "⎝dx                ⎠"
      ]
     },
     "execution_count": 1,
     "metadata": {},
     "output_type": "execute_result"
    }
   ],
   "source": [
    "# various differentials\n",
    "\n",
    "from sympy import Derivative, symbols, exp, sin, sqrt, diff\n",
    "import sympy\n",
    "sympy.init_printing()\n",
    "x, y = symbols('x, y')\n",
    "Derivative( sin(x), x ), diff( sin(x), x )"
   ]
  },
  {
   "cell_type": "code",
   "execution_count": 2,
   "metadata": {},
   "outputs": [
    {
     "data": {
      "image/png": "[encoded data removed]",
      "text/latex": [
       "$$\\left ( \\frac{\\partial}{\\partial x}\\left(x^{9} + 10 x^{2} + 3 x + 4 y + 10\\right), \\quad 9 x^{8} + 20 x + 3\\right )$$"
      ],
      "text/plain": [
       "⎛∂ ⎛ 9       2                 ⎞     8           ⎞\n",
       "⎜──⎝x  + 10⋅x  + 3⋅x + 4⋅y + 10⎠, 9⋅x  + 20⋅x + 3⎟\n",
       "⎝∂x                                              ⎠"
      ]
     },
     "execution_count": 2,
     "metadata": {},
     "output_type": "execute_result"
    }
   ],
   "source": [
    "expression = 10 + 3*x + 4*y + 10*x**2 + x**9\n",
    "Derivative(expression, x), diff(expression, x)"
   ]
  },
  {
   "cell_type": "code",
   "execution_count": 3,
   "metadata": {},
   "outputs": [
    {
     "data": {
      "image/png": "[encoded data removed]",
      "text/latex": [
       "$$\\left ( \\frac{\\partial}{\\partial x}\\left(x^{9} + 10 x^{2} + 3 x + 4 y + 10\\right), \\quad 263.66015625\\right )$$"
      ],
      "text/plain": [
       "⎛∂ ⎛ 9       2                 ⎞              ⎞\n",
       "⎜──⎝x  + 10⋅x  + 3⋅x + 4⋅y + 10⎠, 263.66015625⎟\n",
       "⎝∂x                                           ⎠"
      ]
     },
     "execution_count": 3,
     "metadata": {},
     "output_type": "execute_result"
    }
   ],
   "source": [
    "# evaluate when x = 1.5\n",
    "Derivative(expression, x), diff(expression, x).subs(x, 1.5)"
   ]
  },
  {
   "cell_type": "code",
   "execution_count": 4,
   "metadata": {},
   "outputs": [
    {
     "data": {
      "image/png": "[encoded data removed]",
      "text/latex": [
       "$$\\left ( \\frac{d}{d x} e^{- \\frac{x^{2}}{2}}, \\quad - x e^{- \\frac{x^{2}}{2}}\\right )$$"
      ],
      "text/plain": [
       "⎛  ⎛   2 ⎞        2 ⎞\n",
       "⎜  ⎜ -x  ⎟      -x  ⎟\n",
       "⎜  ⎜ ────⎟      ────⎟\n",
       "⎜d ⎜  2  ⎟       2  ⎟\n",
       "⎜──⎝ℯ    ⎠, -x⋅ℯ    ⎟\n",
       "⎝dx                 ⎠"
      ]
     },
     "execution_count": 4,
     "metadata": {},
     "output_type": "execute_result"
    }
   ],
   "source": [
    "Derivative(exp(-x**2/2), x), diff(exp(-x**2/2), x)"
   ]
  },
  {
   "cell_type": "code",
   "execution_count": 5,
   "metadata": {},
   "outputs": [
    {
     "data": {
      "image/png": "[encoded data removed]",
      "text/latex": [
       "$$\\left ( \\frac{d^{3}}{d x^{3}} \\left(3 x^{4}\\right), \\quad 72 x\\right )$$"
      ],
      "text/plain": [
       "⎛  3            ⎞\n",
       "⎜ d ⎛   4⎞      ⎟\n",
       "⎜───⎝3⋅x ⎠, 72⋅x⎟\n",
       "⎜  3            ⎟\n",
       "⎝dx             ⎠"
      ]
     },
     "execution_count": 5,
     "metadata": {},
     "output_type": "execute_result"
    }
   ],
   "source": [
    "# now for triple differentials\n",
    "Derivative(3*x**4, x, x, x), diff(3*x**4, x, x, x)"
   ]
  },
  {
   "cell_type": "code",
   "execution_count": 6,
   "metadata": {},
   "outputs": [
    {
     "data": {
      "image/png": "[encoded data removed]",
      "text/latex": [
       "$$\\left ( \\frac{d^{3}}{d x^{3}} \\left(3 x^{4}\\right), \\quad 72 x\\right )$$"
      ],
      "text/plain": [
       "⎛  3            ⎞\n",
       "⎜ d ⎛   4⎞      ⎟\n",
       "⎜───⎝3⋅x ⎠, 72⋅x⎟\n",
       "⎜  3            ⎟\n",
       "⎝dx             ⎠"
      ]
     },
     "execution_count": 6,
     "metadata": {},
     "output_type": "execute_result"
    }
   ],
   "source": [
    "# alternative notation for the above\n",
    "Derivative(3*x**4, x, 3), diff(3*x**4, x, 3)"
   ]
  },
  {
   "cell_type": "code",
   "execution_count": null,
   "metadata": {
    "collapsed": true
   },
   "outputs": [],
   "source": []
  },
  {
   "cell_type": "markdown",
   "metadata": {},
   "source": [
    "# Integration"
   ]
  },
  {
   "cell_type": "code",
   "execution_count": 1,
   "metadata": {},
   "outputs": [
    {
     "data": {
      "image/png": "[encoded data removed]",
      "text/latex": [
       "$$\\int x^{2}\\, dx = \\frac{x^{3}}{3}$$"
      ],
      "text/plain": [
       "⌠          3\n",
       "⎮  2      x \n",
       "⎮ x  dx = ──\n",
       "⌡         3 "
      ]
     },
     "execution_count": 1,
     "metadata": {},
     "output_type": "execute_result"
    }
   ],
   "source": [
    "import sympy\n",
    "from sympy import Integral, Eq, integrate, sin, exp\n",
    "sympy.init_printing()\n",
    "\n",
    "x, y, sigma = sympy.symbols('x, y, sigma')\n",
    "Eq(Integral(x**2, x), integrate(x**2, x))"
   ]
  },
  {
   "cell_type": "code",
   "execution_count": 2,
   "metadata": {},
   "outputs": [
    {
     "data": {
      "image/png": "[encoded data removed]",
      "text/latex": [
       "$$\\int x^{2}\\, dy = x^{2} y$$"
      ],
      "text/plain": [
       "⌠             \n",
       "⎮  2       2  \n",
       "⎮ x  dy = x ⋅y\n",
       "⌡             "
      ]
     },
     "execution_count": 2,
     "metadata": {},
     "output_type": "execute_result"
    }
   ],
   "source": [
    "Eq(Integral(x**2, y), integrate(x**2, y))"
   ]
  },
  {
   "cell_type": "code",
   "execution_count": 3,
   "metadata": {},
   "outputs": [
    {
     "data": {
      "image/png": "[encoded data removed]",
      "text/latex": [
       "$$\\left ( \\int \\sin{\\left (x \\right )}\\, dx = - \\cos{\\left (x \\right )}, \\quad \\int \\sin{\\left (x \\right )}\\, dy = y \\sin{\\left (x \\right )}\\right )$$"
      ],
      "text/plain": [
       "⎛⌠                      ⌠                     ⎞\n",
       "⎜⎮ sin(x) dx = -cos(x), ⎮ sin(x) dy = y⋅sin(x)⎟\n",
       "⎝⌡                      ⌡                     ⎠"
      ]
     },
     "execution_count": 3,
     "metadata": {},
     "output_type": "execute_result"
    }
   ],
   "source": [
    "ix = (sin(x), x)\n",
    "iy = (sin(x), y)\n",
    "Eq(Integral(*ix), integrate(*ix)), Eq(Integral(*iy), integrate(*iy))"
   ]
  },
  {
   "cell_type": "code",
   "execution_count": 4,
   "metadata": {},
   "outputs": [
    {
     "data": {
      "image/png": "[encoded data removed]",
      "text/latex": [
       "$$\\int - x e^{- \\frac{x^{2}}{2}}\\, dx = e^{- \\frac{x^{2}}{2}}$$"
      ],
      "text/plain": [
       "⌠                    \n",
       "⎮       2          2 \n",
       "⎮     -x         -x  \n",
       "⎮     ────       ────\n",
       "⎮      2          2  \n",
       "⎮ -x⋅ℯ     dx = ℯ    \n",
       "⌡                    "
      ]
     },
     "execution_count": 4,
     "metadata": {},
     "output_type": "execute_result"
    }
   ],
   "source": [
    "e = (-x * exp(-x**2/2), x)\n",
    "Eq(Integral(*e), integrate(*e))"
   ]
  },
  {
   "cell_type": "code",
   "execution_count": 5,
   "metadata": {},
   "outputs": [
    {
     "data": {
      "image/png": "[encoded data removed]",
      "text/latex": [
       "$$\\iiint x^{2}\\, dx\\, dx\\, dy = \\frac{x^{4} y}{12}$$"
      ],
      "text/plain": [
       "⌠ ⌠ ⌠                4  \n",
       "⎮ ⎮ ⎮  2            x ⋅y\n",
       "⎮ ⎮ ⎮ x  dx dx dy = ────\n",
       "⌡ ⌡ ⌡                12 "
      ]
     },
     "execution_count": 5,
     "metadata": {},
     "output_type": "execute_result"
    }
   ],
   "source": [
    "# triple integral\n",
    "Eq(Integral(x**2, x, x, y), integrate(x**2, x, x, y))   "
   ]
  },
  {
   "cell_type": "code",
   "execution_count": 6,
   "metadata": {},
   "outputs": [
    {
     "data": {
      "image/png": "[encoded data removed]",
      "text/latex": [
       "$$\\left ( \\int\\int\\int_{0}^{2} x^{2}\\, dx\\, dx\\, dy, \\quad \\frac{8 x}{3} y\\right )$$"
      ],
      "text/plain": [
       "⎛    2                   ⎞\n",
       "⎜⌠ ⌠ ⌠                   ⎟\n",
       "⎜⎮ ⎮ ⎮  2           8⋅x⋅y⎟\n",
       "⎜⎮ ⎮ ⎮ x  dx dx dy, ─────⎟\n",
       "⎜⌡ ⌡ ⌡                3  ⎟\n",
       "⎝    0                   ⎠"
      ]
     },
     "execution_count": 6,
     "metadata": {},
     "output_type": "execute_result"
    }
   ],
   "source": [
    "# partially evaluate integral\n",
    "e = (x**2, (x,0,2), x, y)\n",
    "Integral(*e), integrate(*e)"
   ]
  },
  {
   "cell_type": "code",
   "execution_count": 7,
   "metadata": {},
   "outputs": [
    {
     "data": {
      "image/png": "[encoded data removed]",
      "text/latex": [
       "$$\\int_{0}^{1}\\int_{0}^{2}\\int_{0}^{2} x^{2}\\, dx\\, dx\\, dy = \\frac{16}{3}$$"
      ],
      "text/plain": [
       "1 2 2                   \n",
       "⌠ ⌠ ⌠                   \n",
       "⎮ ⎮ ⎮  2                \n",
       "⎮ ⎮ ⎮ x  dx dx dy = 16/3\n",
       "⌡ ⌡ ⌡                   \n",
       "0 0 0                   "
      ]
     },
     "execution_count": 7,
     "metadata": {},
     "output_type": "execute_result"
    }
   ],
   "source": [
    "# fully evaluate integral\n",
    "e = (x**2, (x,0,2), (x,0,2), (y,0,1))\n",
    "Eq(Integral(*e), integrate(*e))"
   ]
  },
  {
   "cell_type": "markdown",
   "metadata": {},
   "source": [
    "# Solving Differential Equations\n",
    "\n",
    "Attempt to solve the differential equation:\n",
    "$$dy/dx + 5y = 12$$\n",
    "for y    \n",
    "\n",
    "Analytical solution procedes as follows:\n",
    "$$dy/dx + 5y = 12$$\n",
    "$$dy/y = -5dx$$\n",
    "$$ln(y) = -5x + C$$\n",
    "$$y = exp(-5x + C)$$\n",
    "$$y = C_1*exp(-5x)$$"
   ]
  },
  {
   "cell_type": "code",
   "execution_count": 1,
   "metadata": {},
   "outputs": [
    {
     "data": {
      "image/png": "[encoded data removed]",
      "text/latex": [
       "$$5 y{\\left (x \\right )} + \\frac{d}{d x} y{\\left (x \\right )} = 0$$"
      ],
      "text/plain": [
       "         d           \n",
       "5⋅y(x) + ──(y(x)) = 0\n",
       "         dx          "
      ]
     },
     "execution_count": 1,
     "metadata": {},
     "output_type": "execute_result"
    }
   ],
   "source": [
    "import sympy\n",
    "from sympy import Symbol , dsolve , Function , Derivative , Eq\n",
    "sympy.init_printing()\n",
    "\n",
    "x , y , z = sympy.symbols('x, y, z')\n",
    "\n",
    "y = Function(\"y\")\n",
    "x = Symbol(\"x\")\n",
    "d = Derivative(y(x), x)\n",
    "Eq(d + 5*y(x), 0)"
   ]
  },
  {
   "cell_type": "code",
   "execution_count": 2,
   "metadata": {},
   "outputs": [
    {
     "data": {
      "image/png": "[encoded data removed]",
      "text/latex": [
       "$$y{\\left (x \\right )} = C_{1} e^{- 5 x}$$"
      ],
      "text/plain": [
       "           -5⋅x\n",
       "y(x) = C₁⋅ℯ    "
      ]
     },
     "execution_count": 2,
     "metadata": {},
     "output_type": "execute_result"
    }
   ],
   "source": [
    "# the solution ...\n",
    "C1 = Symbol(\"C1\")\n",
    "dsolve(d + 5*y(x), y(x))"
   ]
  },
  {
   "cell_type": "code",
   "execution_count": 3,
   "metadata": {},
   "outputs": [
    {
     "data": {
      "image/png": "[encoded data removed]",
      "text/latex": [
       "$$y{\\left (x \\right )} = C_{1} e^{- 5 x}$$"
      ],
      "text/plain": [
       "           -5⋅x\n",
       "y(x) = C₁⋅ℯ    "
      ]
     },
     "execution_count": 3,
     "metadata": {},
     "output_type": "execute_result"
    }
   ],
   "source": [
    "# more verbose syntax\n",
    "dsolve( Eq(d + 5*y(x), 0), y(x))"
   ]
  },
  {
   "cell_type": "code",
   "execution_count": 4,
   "metadata": {},
   "outputs": [
    {
     "data": {
      "image/png": "[encoded data removed]",
      "text/latex": [
       "$$5 y{\\left (x \\right )} + \\frac{d}{d x} y{\\left (x \\right )} = 12$$"
      ],
      "text/plain": [
       "         d            \n",
       "5⋅y(x) + ──(y(x)) = 12\n",
       "         dx           "
      ]
     },
     "execution_count": 4,
     "metadata": {},
     "output_type": "execute_result"
    }
   ],
   "source": [
    "# now solve:\n",
    "Eq(d + 5*y(x), 12)"
   ]
  },
  {
   "cell_type": "code",
   "execution_count": 5,
   "metadata": {},
   "outputs": [
    {
     "data": {
      "image/png": "[encoded data removed]",
      "text/latex": [
       "$$y{\\left (5 \\right )} = \\frac{2}{5 e^{25}} + \\frac{12}{5}$$"
      ],
      "text/plain": [
       "          -25     \n",
       "       2⋅ℯ      12\n",
       "y(5) = ────── + ──\n",
       "         5      5 "
      ]
     },
     "execution_count": 5,
     "metadata": {},
     "output_type": "execute_result"
    }
   ],
   "source": [
    "# constant = 2, x = 5\n",
    "dsolve( Eq(d + 5*y(x), 12), y(x)).subs({C1:2, x:5})"
   ]
  },
  {
   "cell_type": "code",
   "execution_count": 6,
   "metadata": {},
   "outputs": [
    {
     "data": {
      "image/png": "[encoded data removed]",
      "text/latex": [
       "$$y{\\left (5 \\right )} = 2.4000000000055551775$$"
      ],
      "text/plain": [
       "y(5) = 2.4000000000055551775"
      ]
     },
     "execution_count": 6,
     "metadata": {},
     "output_type": "execute_result"
    }
   ],
   "source": [
    "# to 20 significant figures ...\n",
    "dsolve( Eq(d + 5*y(x), 12), y(x)).subs({C1:2, x:5}).evalf(20)"
   ]
  },
  {
   "cell_type": "markdown",
   "metadata": {
    "slideshow": {
     "slide_type": "slide"
    }
   },
   "source": [
    "# Taylor Series Expansion"
   ]
  },
  {
   "cell_type": "code",
   "execution_count": 1,
   "metadata": {
    "slideshow": {
     "slide_type": "subslide"
    }
   },
   "outputs": [],
   "source": [
    "import sympy\n",
    "from sympy import Symbol, Rational, cos, sin, series\n",
    "sympy.init_printing()\n",
    "\n",
    "x = Symbol('x') "
   ]
  },
  {
   "cell_type": "code",
   "execution_count": 2,
   "metadata": {
    "slideshow": {
     "slide_type": "fragment"
    }
   },
   "outputs": [
    {
     "data": {
      "image/png": "[encoded data removed]",
      "text/latex": [
       "$$1.1173 - 0.43879 \\left(x - 0.5\\right)^{2} + 0.079904 \\left(x - 0.5\\right)^{3} + 0.036566 \\left(x - 0.5\\right)^{4} - 0.0039952 \\left(x - 0.5\\right)^{5} - 0.0012189 \\left(x - 0.5\\right)^{6} + 9.5124 \\cdot 10^{-5} \\left(x - 0.5\\right)^{7} + 2.1765 \\cdot 10^{-5} \\left(x - 0.5\\right)^{8} - 1.3212 \\cdot 10^{-6} \\left(x - 0.5\\right)^{9} - 0.47943 x + \\mathcal{O}\\left(\\left(x - 0.5\\right)^{10}; x\\rightarrow0.5\\right)$$"
      ],
      "text/plain": [
       "                          2                     3                     4       \n",
       "1.1173 - 0.43879⋅(x - 0.5)  + 0.079904⋅(x - 0.5)  + 0.036566⋅(x - 0.5)  - 0.00\n",
       "\n",
       "               5                      6                      7                \n",
       "39952⋅(x - 0.5)  - 0.0012189⋅(x - 0.5)  + 9.5124e-5⋅(x - 0.5)  + 2.1765e-5⋅(x \n",
       "\n",
       "      8                      9                ⎛         10         ⎞\n",
       "- 0.5)  - 1.3212e-6⋅(x - 0.5)  - 0.47943⋅x + O⎝(x - 0.5)  ; x → 0.5⎠"
      ]
     },
     "execution_count": 2,
     "metadata": {},
     "output_type": "execute_result"
    }
   ],
   "source": [
    "# expand cos(x) at x = 0.5\n",
    "cos(x).series(x, 0.5, 10).evalf(5)"
   ]
  },
  {
   "cell_type": "code",
   "execution_count": 3,
   "metadata": {
    "slideshow": {
     "slide_type": "slide"
    }
   },
   "outputs": [
    {
     "data": {
      "image/png": "[encoded data removed]",
      "text/latex": [
       "$$- 0.47943 x - 1.3212 \\cdot 10^{-6} \\left(x - 0.5\\right)^{9} + 2.1765 \\cdot 10^{-5} \\left(x - 0.5\\right)^{8} + 9.5124 \\cdot 10^{-5} \\left(x - 0.5\\right)^{7} - 0.0012189 \\left(x - 0.5\\right)^{6} - 0.0039952 \\left(x - 0.5\\right)^{5} + 0.036566 \\left(x - 0.5\\right)^{4} + 0.079904 \\left(x - 0.5\\right)^{3} - 0.43879 \\left(x - 0.5\\right)^{2} + 1.1173$$"
      ],
      "text/plain": [
       "                                9                      8                      \n",
       "-0.47943⋅x - 1.3212e-6⋅(x - 0.5)  + 2.1765e-5⋅(x - 0.5)  + 9.5124e-5⋅(x - 0.5)\n",
       "\n",
       "7                      6                      5                     4         \n",
       "  - 0.0012189⋅(x - 0.5)  - 0.0039952⋅(x - 0.5)  + 0.036566⋅(x - 0.5)  + 0.0799\n",
       "\n",
       "            3                    2         \n",
       "04⋅(x - 0.5)  - 0.43879⋅(x - 0.5)  + 1.1173"
      ]
     },
     "execution_count": 3,
     "metadata": {},
     "output_type": "execute_result"
    }
   ],
   "source": [
    "# remove error terms\n",
    "cos(x).series(x, 0.5, 10).removeO().evalf(5)"
   ]
  },
  {
   "cell_type": "code",
   "execution_count": 4,
   "metadata": {
    "slideshow": {
     "slide_type": "subslide"
    }
   },
   "outputs": [
    {
     "data": {
      "image/png": "[encoded data removed]",
      "text/latex": [
       "$$\\cos{\\left (\\frac{1}{2} \\right )} - \\left(x - \\frac{1}{2}\\right) \\sin{\\left (\\frac{1}{2} \\right )} - \\frac{1}{2} \\left(x - \\frac{1}{2}\\right)^{2} \\cos{\\left (\\frac{1}{2} \\right )} + \\frac{1}{6} \\left(x - \\frac{1}{2}\\right)^{3} \\sin{\\left (\\frac{1}{2} \\right )} + \\frac{1}{24} \\left(x - \\frac{1}{2}\\right)^{4} \\cos{\\left (\\frac{1}{2} \\right )} - \\frac{1}{120} \\left(x - \\frac{1}{2}\\right)^{5} \\sin{\\left (\\frac{1}{2} \\right )} - \\frac{1}{720} \\left(x - \\frac{1}{2}\\right)^{6} \\cos{\\left (\\frac{1}{2} \\right )} + \\frac{1}{5040} \\left(x - \\frac{1}{2}\\right)^{7} \\sin{\\left (\\frac{1}{2} \\right )} + \\frac{1}{40320} \\left(x - \\frac{1}{2}\\right)^{8} \\cos{\\left (\\frac{1}{2} \\right )} - \\frac{1}{362880} \\left(x - \\frac{1}{2}\\right)^{9} \\sin{\\left (\\frac{1}{2} \\right )} + \\mathcal{O}\\left(\\left(x - \\frac{1}{2}\\right)^{10}; x\\rightarrow\\frac{1}{2}\\right)$$"
      ],
      "text/plain": [
       "                                         2                     3              \n",
       "                                (x - 1/2) ⋅cos(1/2)   (x - 1/2) ⋅sin(1/2)   (x\n",
       "cos(1/2) - (x - 1/2)⋅sin(1/2) - ─────────────────── + ─────────────────── + ──\n",
       "                                         2                     6              \n",
       "\n",
       "       4                     5                     6                     7    \n",
       " - 1/2) ⋅cos(1/2)   (x - 1/2) ⋅sin(1/2)   (x - 1/2) ⋅cos(1/2)   (x - 1/2) ⋅sin\n",
       "───────────────── - ─────────────────── - ─────────────────── + ──────────────\n",
       "       24                   120                   720                   5040  \n",
       "\n",
       "                 8                     9                                   \n",
       "(1/2)   (x - 1/2) ⋅cos(1/2)   (x - 1/2) ⋅sin(1/2)    ⎛         10         ⎞\n",
       "───── + ─────────────────── - ─────────────────── + O⎝(x - 1/2)  ; x → 1/2⎠\n",
       "               40320                 362880                                "
      ]
     },
     "execution_count": 4,
     "metadata": {},
     "output_type": "execute_result"
    }
   ],
   "source": [
    "# display as rationals \n",
    "series(cos(x), x0=Rational(0.5), n=10)"
   ]
  },
  {
   "cell_type": "code",
   "execution_count": 5,
   "metadata": {
    "slideshow": {
     "slide_type": "fragment"
    }
   },
   "outputs": [
    {
     "data": {
      "image/png": "[encoded data removed]",
      "text/latex": [
       "$$1 - \\frac{x^{2}}{2} + \\frac{x^{4}}{24} - \\frac{x^{6}}{720} + \\frac{x^{8}}{40320} + \\mathcal{O}\\left(x^{10}\\right)$$"
      ],
      "text/plain": [
       "     2    4     6      8          \n",
       "    x    x     x      x      ⎛ 10⎞\n",
       "1 - ── + ── - ─── + ───── + O⎝x  ⎠\n",
       "    2    24   720   40320         "
      ]
     },
     "execution_count": 5,
     "metadata": {},
     "output_type": "execute_result"
    }
   ],
   "source": [
    "# expand cos(x) at x = 0\n",
    "series(cos(x), x0=0, n=10)"
   ]
  },
  {
   "cell_type": "code",
   "execution_count": null,
   "metadata": {
    "collapsed": true
   },
   "outputs": [],
   "source": []
  },
  {
   "cell_type": "markdown",
   "metadata": {
    "slideshow": {
     "slide_type": "slide"
    }
   },
   "source": [
    "# Solving non linear equations"
   ]
  },
  {
   "cell_type": "code",
   "execution_count": 1,
   "metadata": {
    "slideshow": {
     "slide_type": "slide"
    }
   },
   "outputs": [
    {
     "name": "stdout",
     "output_type": "stream",
     "text": [
      "2.4563\n",
      "-1.6748 - 1.031*I\n",
      "-1.6748 + 1.031*I\n"
     ]
    }
   ],
   "source": [
    "import sympy\n",
    "sympy.init_printing()\n",
    "\n",
    "x, y, z = sympy.symbols('x, y, z')\n",
    "eq = x - x**2.5 + 7\n",
    "z = sympy.solve(eq, x)\n",
    "\n",
    "# note most of the results are complex (I represents sqrt(-1))\n",
    "for result in z:\n",
    "    print(sympy.N(result, 5))    # N is used to limit precision"
   ]
  },
  {
   "cell_type": "code",
   "execution_count": 2,
   "metadata": {
    "slideshow": {
     "slide_type": "subslide"
    }
   },
   "outputs": [
    {
     "name": "stderr",
     "output_type": "stream",
     "text": [
      "/Users/seddon/Anaconda3/anaconda/lib/python3.5/site-packages/ipykernel/__main__.py:7: RuntimeWarning: invalid value encountered in power\n"
     ]
    },
    {
     "data": {
      "image/png": "[encoded data removed]",
      "text/plain": [
       "<matplotlib.figure.Figure at 0x10cc2cd30>"
      ]
     },
     "metadata": {},
     "output_type": "display_data"
    }
   ],
   "source": [
    "%matplotlib inline\n",
    "\n",
    "import pylab as plt\n",
    "X = plt.arange(-5, 5, 0.01)\n",
    "\n",
    "# plot the curve - note that values are complex if x < 0\n",
    "Y = X - X**2.5 + 7\n",
    "plt.plot(X, Y, color='red', lw=2)\n",
    "\n",
    "# plot y = 0 because x < 0 will not be displayed otherwise\n",
    "Y = X*0\n",
    "plt.plot(X, Y, color='blue', lw=1)\n",
    "\n",
    "# plot the axes\n",
    "plt.axhline(0, color='blue')\n",
    "plt.axvline(0, color='blue')\n",
    "plt.show()"
   ]
  },
  {
   "cell_type": "code",
   "execution_count": null,
   "metadata": {
    "collapsed": true
   },
   "outputs": [],
   "source": []
  },
  {
   "cell_type": "code",
   "execution_count": null,
   "metadata": {
    "collapsed": true
   },
   "outputs": [],
   "source": []
  }
 ],
 "metadata": {
  "anaconda-cloud": {},
  "celltoolbar": "Slideshow",
  "kernelspec": {
   "display_name": "Python 3",
   "language": "python",
   "name": "python3"
  },
  "language_info": {
   "codemirror_mode": {
    "name": "ipython",
    "version": 3
   },
   "file_extension": ".py",
   "mimetype": "text/x-python",
   "name": "python",
   "nbconvert_exporter": "python",
   "pygments_lexer": "ipython3",
   "version": "3.7.1"
  }
 },
 "nbformat": 4,
 "nbformat_minor": 1
}
