{
 "cells": [
  {
   "cell_type": "code",
   "execution_count": 4,
   "metadata": {},
   "outputs": [
    {
     "name": "stdout",
     "output_type": "stream",
     "text": [
      "[[1. 1. 1. 1. 1.]\n",
      " [1. 1. 1. 1. 1.]\n",
      " [1. 1. 1. 1. 1.]]\n",
      "[[13. 13. 13. 13. 13.]\n",
      " [13. 13. 13. 13. 13.]\n",
      " [13. 13. 13. 13. 13.]]\n",
      "[[0. 0. 0. 0. 0.]\n",
      " [0. 0. 0. 0. 0.]\n",
      " [0. 0. 0. 0. 0.]]\n",
      "[[0 0 0 0 0]\n",
      " [0 0 0 0 0]\n",
      " [0 0 0 0 0]]\n",
      "[ 2  3  5  7 11 13 17]\n",
      "[[3 4]\n",
      " [5 6]]\n",
      "[[0.937 0.641 0.798]\n",
      " [0.443 0.903 0.421]]\n",
      "[0. 1. 2. 3.]\n",
      "[ 4.  5.  6.  7.  8.  9. 10. 11. 12. 13. 14. 15. 16.]\n",
      "[4.  4.1 4.2 4.3 4.4 4.5 4.6 4.7 4.8 4.9 5.  5.1 5.2 5.3 5.4 5.5 5.6 5.7\n",
      " 5.8 5.9]\n",
      "[-50. -25.   0.  25.  50.]\n",
      "[-50.    -33.333 -16.667   0.     16.667  33.333  50.   ]\n"
     ]
    },
    {
     "data": {
      "text/plain": [
       "1"
      ]
     },
     "execution_count": 4,
     "metadata": {},
     "output_type": "execute_result"
    }
   ],
   "source": [
    "# %load 01-creating-arrays.py\n",
    "############################################################\n",
    "#\n",
    "#    creating arrays\n",
    "#\n",
    "############################################################\n",
    "\n",
    "import numpy as np\n",
    "\n",
    "np.set_printoptions(precision=3)\n",
    "\n",
    "# create array filled with 1's\n",
    "a = np.ones( (3,5) ); print(a)\n",
    "b = np.ones( (3,5) ) * 13; print(b)\n",
    "\n",
    "# create array filled with 0's\n",
    "a = np.zeros( (3,5) ); print(a)\n",
    "\n",
    "# create empty array\n",
    "a = np.empty( (3,5), dtype=int); print(a) \n",
    "\n",
    "# create array from a list\n",
    "a = np.array( [2,3,5,7,11,13,17] ); print(a)\n",
    "a = np.array( [ [3,4],[5,6] ]); print(a)\n",
    "\n",
    "# create array with random values\n",
    "a = np.array( np.random.random((2,3)) ); print(a)\n",
    "\n",
    "# create using arange\n",
    "a = np.arange(4.0);      print(a)\n",
    "a = np.arange(4.0,17.0);   print(a)\n",
    "a = np.arange(4.0,6.0,0.1); print(a)\n",
    "\n",
    "# create equally spaced arrays\n",
    "a = np.linspace(-50.0,50.0,5); print(a)\n",
    "a = np.linspace(-50.0,50.0,7); print(a)\n",
    "\n",
    "\n",
    "1\n"
   ]
  },
  {
   "cell_type": "code",
   "execution_count": null,
   "metadata": {},
   "outputs": [],
   "source": []
  }
 ],
 "metadata": {
  "kernelspec": {
   "display_name": "Python 3",
   "language": "python",
   "name": "python3"
  },
  "language_info": {
   "codemirror_mode": {
    "name": "ipython",
    "version": 3
   },
   "file_extension": ".py",
   "mimetype": "text/x-python",
   "name": "python",
   "nbconvert_exporter": "python",
   "pygments_lexer": "ipython3",
   "version": "3.7.1"
  }
 },
 "nbformat": 4,
 "nbformat_minor": 2
}
