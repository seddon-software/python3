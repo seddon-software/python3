{
 "cells": [
  {
   "cell_type": "code",
   "execution_count": null,
   "metadata": {},
   "outputs": [],
   "source": [
    "# %load 01-creating-arrays.py\n",
    "############################################################\n",
    "#\n",
    "#    creating arrays\n",
    "#\n",
    "############################################################\n",
    "\n",
    "import numpy as np\n",
    "\n",
    "np.set_printoptions(precision=3)\n",
    "\n",
    "# create array filled with 1's\n",
    "a = np.ones( (3,5) ); print(a)\n",
    "b = np.ones( (3,5) ) * 13; print(b)\n",
    "\n",
    "# create array filled with 0's\n",
    "a = np.zeros( (3,5) ); print(a)\n",
    "\n",
    "# create empty array\n",
    "a = np.empty( (3,5), dtype=int); print(a) \n",
    "\n",
    "# create array from a list\n",
    "a = np.array( [2,3,5,7,11,13,17] ); print(a)\n",
    "a = np.array( [ [3,4],[5,6] ]); print(a)\n",
    "\n",
    "# create array with random values\n",
    "a = np.array( np.random.random((2,3)) ); print(a)\n",
    "\n",
    "# create using arange\n",
    "a = np.arange(4.0);      print(a)\n",
    "a = np.arange(4.0,17.0);   print(a)\n",
    "a = np.arange(4.0,6.0,0.1); print(a)\n",
    "\n",
    "# create equally spaced arrays\n",
    "a = np.linspace(-50.0,50.0,5); print(a)\n",
    "a = np.linspace(-50.0,50.0,7); print(a)\n",
    "\n",
    "\n",
    "1\n"
   ]
  },
  {
   "cell_type": "code",
   "execution_count": null,
   "metadata": {},
   "outputs": [],
   "source": []
  }
 ],
 "metadata": {
  "kernelspec": {
   "display_name": "Python 3",
   "language": "python",
   "name": "python3"
  },
  "language_info": {
   "codemirror_mode": {
    "name": "ipython",
    "version": 3
   },
   "file_extension": ".py",
   "mimetype": "text/x-python",
   "name": "python",
   "nbconvert_exporter": "python",
   "pygments_lexer": "ipython3",
   "version": "3.7.1"
  }
 },
 "nbformat": 4,
 "nbformat_minor": 2
}
