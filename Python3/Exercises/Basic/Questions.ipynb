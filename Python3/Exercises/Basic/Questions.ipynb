{
 "cells": [
  {
   "cell_type": "markdown",
   "metadata": {},
   "source": [
    "<div style=\"color:red;background-color:black\">\n",
    "Diamond Light Source\n",
    "\n",
    "<h1 style=\"color:red;background-color:antiquewhite\"><br>Basic Questions<br></h1>  \n",
    "\n",
    "©2000-20 Chris Seddon "
   ]
  },
  {
   "cell_type": "markdown",
   "metadata": {},
   "source": [
    "http://www.keme.co.uk/~seddon-software/Python/Exercises%20(Python).pdf"
   ]
  },
  {
   "cell_type": "markdown",
   "metadata": {},
   "source": [
    "## Q2.1\n",
    "Write a program that inputs a 4 digit year and then calculates whether or not it is a leap year.  Test your code with the following years:\n",
    "* 2021 (not a leap year)\n",
    "* 2024 (is a leap year)\n",
    "* 2100 (not a leap year)\n",
    "* 2000 (is a leap year)"
   ]
  },
  {
   "cell_type": "code",
   "execution_count": 1,
   "metadata": {},
   "outputs": [],
   "source": [
    "# Write YOUR code here"
   ]
  },
  {
   "cell_type": "markdown",
   "metadata": {},
   "source": [
    "## Q2.2\n",
    "Using a variation of the above program, calculate the number of days in the inclusive date range '1st January 2000' to '31st December 2999'.  You should find that there are 365243 days in the millenia."
   ]
  },
  {
   "cell_type": "code",
   "execution_count": 2,
   "metadata": {},
   "outputs": [],
   "source": [
    "# Write YOUR code here"
   ]
  },
  {
   "cell_type": "markdown",
   "metadata": {},
   "source": [
    "## Q2.3\n",
    "Write a program that prints out the square, cubes and fourth power of the first 20 integers."
   ]
  },
  {
   "cell_type": "code",
   "execution_count": 3,
   "metadata": {},
   "outputs": [],
   "source": [
    "# Write YOUR code here"
   ]
  },
  {
   "cell_type": "markdown",
   "metadata": {},
   "source": [
    "## Q2.4\n",
    "Write a program that prints out the first 20 Fibonacci numbers.  You can use the web to find out the definition \n",
    "of the Fibonacci sequence."
   ]
  },
  {
   "cell_type": "code",
   "execution_count": 4,
   "metadata": {},
   "outputs": [],
   "source": [
    "# Write YOUR code here"
   ]
  },
  {
   "cell_type": "markdown",
   "metadata": {},
   "source": [
    "## Q2.5\n",
    "Write a program that calculates the ratio of successive pairs of the first 200 Fibonacci numbers.  Does the ratio \n",
    "converge to a number?"
   ]
  },
  {
   "cell_type": "code",
   "execution_count": 5,
   "metadata": {},
   "outputs": [],
   "source": [
    "# Write YOUR code here"
   ]
  },
  {
   "cell_type": "markdown",
   "metadata": {},
   "source": [
    "## Q3.1\n",
    "Write a program that prints out the sum, difference, product and dividend of two complex numbers."
   ]
  },
  {
   "cell_type": "code",
   "execution_count": null,
   "metadata": {},
   "outputs": [],
   "source": [
    "# Write YOUR code here"
   ]
  },
  {
   "cell_type": "markdown",
   "metadata": {},
   "source": [
    "## Q3.3\n",
    "Use the `range` function to generate two separate tuples containing the list of integers from 10 to 19 and from 30 to 39.  Tuples are immutable, so how can you form a new tuple containing all the elements of the other two tuples."
   ]
  },
  {
   "cell_type": "code",
   "execution_count": null,
   "metadata": {},
   "outputs": [],
   "source": [
    "# Write YOUR code here"
   ]
  },
  {
   "cell_type": "markdown",
   "metadata": {},
   "source": [
    "## Q3.4\n",
    "It is not possible to invert dictionaries in the general case, because unlike the dictionary values, keys must be unique and immutable. However the following dictionary can be\n",
    "inverted:\n",
    "<pre>\n",
    "salaries = {\n",
    " \"John\" : 45000,\n",
    " \"Sheila\" : 48000,\n",
    " \"Vivien\" : 31000,\n",
    " \"Roy\" : 37000,\n",
    " \"Ruth\" : 50000\n",
    " }\n",
    "</pre>\n",
    "So write code to interchange the keys and values of the above."
   ]
  },
  {
   "cell_type": "code",
   "execution_count": null,
   "metadata": {},
   "outputs": [],
   "source": [
    "# Write YOUR code here"
   ]
  },
  {
   "cell_type": "markdown",
   "metadata": {},
   "source": [
    "## Q4.1\n",
    "Write a function that rotates the values of 3 variables.  \n",
    "For example:\n",
    "<pre>\n",
    "    x = 100\n",
    "    y = 200\n",
    "    z = 300\n",
    "    Rotate( ... )\n",
    "    # x is now 200\n",
    "    # y is now 300\n",
    "    # z is now 100\n",
    "</pre>"
   ]
  },
  {
   "cell_type": "code",
   "execution_count": null,
   "metadata": {},
   "outputs": [],
   "source": [
    "# Write YOUR code here"
   ]
  },
  {
   "cell_type": "markdown",
   "metadata": {},
   "source": [
    "## Q4.2\n",
    "Write a function that rotates the values of an array.  \n",
    "For example:\n",
    "<pre>\n",
    "array = [100, 200, 300, 400, 500]\n",
    "    Rotate( ... )\n",
    "    # array is now: [200, 300, 400, 500, 100]\n",
    "</pre>"
   ]
  },
  {
   "cell_type": "code",
   "execution_count": null,
   "metadata": {},
   "outputs": [],
   "source": [
    "# Write YOUR code here"
   ]
  },
  {
   "cell_type": "markdown",
   "metadata": {},
   "source": [
    "## Q4.3\n",
    "Write a function to calculate Factorials.  \n",
    "Try out  \n",
    "*    factorial(1)  \n",
    "*    factorial(10)  \n",
    "*    factorial(40)  \n",
    "*    factorial(100)  "
   ]
  },
  {
   "cell_type": "code",
   "execution_count": null,
   "metadata": {},
   "outputs": [],
   "source": [
    "# Write YOUR code here"
   ]
  },
  {
   "cell_type": "markdown",
   "metadata": {},
   "source": [
    "## Q4.4\n",
    "Write a function that takes a string and capitalises the first character of the string and ensures the remaining characters are converted to lower case.  \n",
    "Use the following test data:\n",
    "<pre>\n",
    "    UpperFirst(\"test1\")\n",
    "    UpperFirst(\"mIxEdCaSe\")\n",
    "    UpperFirst(\"UPPER\")\n",
    "    UpperFirst(\"lower\")\n",
    "    UpperFirst(\"oPPOSITE\")\n",
    "</pre>"
   ]
  },
  {
   "cell_type": "code",
   "execution_count": null,
   "metadata": {},
   "outputs": [],
   "source": [
    "# Write YOUR code here"
   ]
  },
  {
   "cell_type": "markdown",
   "metadata": {},
   "source": [
    "## Q4.5\n",
    "Write a function that takes an integer array (list) as a parameter and doubles the value of each element of the array."
   ]
  },
  {
   "cell_type": "code",
   "execution_count": null,
   "metadata": {},
   "outputs": [],
   "source": [
    "# Write YOUR code here"
   ]
  },
  {
   "cell_type": "markdown",
   "metadata": {},
   "source": [
    "## Q4.6\n",
    "Write a function that takes two int arrays (of the same size) as parameters and adds the arrays together, element by element.  \n",
    "Return the summed array."
   ]
  },
  {
   "cell_type": "code",
   "execution_count": null,
   "metadata": {},
   "outputs": [],
   "source": [
    "# Write YOUR code here"
   ]
  },
  {
   "cell_type": "markdown",
   "metadata": {},
   "source": [
    "## Q5.1\n",
    "Write a program that calculates the factorial of an integer in the range 2 to 10.  Add exception handling code to prevent calculating a result where the input number is larger than 10, or any negative integer.  Make sure you can handle the case where the input is not an integer."
   ]
  },
  {
   "cell_type": "code",
   "execution_count": null,
   "metadata": {},
   "outputs": [],
   "source": [
    "# Write YOUR code here"
   ]
  },
  {
   "cell_type": "markdown",
   "metadata": {},
   "source": [
    "## Q6.1\n",
    "Create a class that represents a bank account.  \n",
    "Add methods to allow a customer to `deposit()` and `withdraw()` money and provide a method `getBalance()`.  \n",
    "Write a test program to check out your class."
   ]
  },
  {
   "cell_type": "code",
   "execution_count": null,
   "metadata": {},
   "outputs": [],
   "source": [
    "# Write YOUR code here"
   ]
  },
  {
   "cell_type": "markdown",
   "metadata": {},
   "source": [
    "## Q6.2\n",
    "Modify the previous example to add facilities for providing an overdraft.  \n",
    "You will need to define a `setOverdraft()` method."
   ]
  },
  {
   "cell_type": "code",
   "execution_count": null,
   "metadata": {},
   "outputs": [],
   "source": [
    "# Write YOUR code here"
   ]
  },
  {
   "cell_type": "markdown",
   "metadata": {},
   "source": [
    "## Q6.3\n",
    "An object starts moving at from position s0 with velocity v0 and gains a constant acceleration of a.  After time t, compute its position and velocity.  \n",
    "Write a class to define the particle and provide the following methods:\n",
    "<pre>\n",
    "    def accelerate(self, a, t):\n",
    "        # dv/dt = a\n",
    "        # ds/dt = v\n",
    "        # v = ∫a.dt = at + s0\n",
    "        # s = ∫v.dt = ∫at.dt = at^2/2 + s0.t + v0\n",
    "    \n",
    "    def getPosition(self):\n",
    "    \n",
    "    def getVelocity(self):\n",
    "</pre>\n",
    "Calculate the positionand velocity of the object at time t=10.  \n",
    "Perform all calculations in 3D space.  Use `numpy` to simplify the calculations."
   ]
  },
  {
   "cell_type": "code",
   "execution_count": null,
   "metadata": {},
   "outputs": [],
   "source": [
    "# Write YOUR code here"
   ]
  },
  {
   "cell_type": "markdown",
   "metadata": {},
   "source": [
    "## Q6.4\n",
    "A relativistic particle, B travels at 3/4 of the speed of light in the x direction as viewed from an observer in frame of reference A.\n",
    "A second relativistic particle, C  travels at 3/4 of the speed of light in the z direction as viewed from an observer in B's frame of reference.\n",
    "What is speed the of particle C as viewed from the observer in frame A.\n",
    "\n",
    "The relativistic formulae you require can be found at:\n",
    "    http://www.math.ucr.edu/home/baez/physics/Relativity/SR/velocity.html"
   ]
  },
  {
   "cell_type": "code",
   "execution_count": null,
   "metadata": {},
   "outputs": [],
   "source": [
    "# Write YOUR code here"
   ]
  },
  {
   "cell_type": "markdown",
   "metadata": {},
   "source": [
    "## Q7.1\n",
    "Write a program that emulates the word count program: `wc`.\n",
    "Use the file \"zen.txt\" as input and print out the number of characters, words and lines in this file."
   ]
  },
  {
   "cell_type": "code",
   "execution_count": null,
   "metadata": {},
   "outputs": [],
   "source": [
    "# Write YOUR code here"
   ]
  },
  {
   "cell_type": "markdown",
   "metadata": {},
   "source": [
    "## Q7.2\n",
    "Write a file copy program."
   ]
  },
  {
   "cell_type": "code",
   "execution_count": null,
   "metadata": {},
   "outputs": [],
   "source": [
    "# Write YOUR code here"
   ]
  },
  {
   "cell_type": "code",
   "execution_count": null,
   "metadata": {},
   "outputs": [],
   "source": [
    "%%bash\n",
    "cat data/original.txt\n",
    "cat data/copy.txt"
   ]
  },
  {
   "cell_type": "markdown",
   "metadata": {},
   "source": [
    "## Q7.3\n",
    "The file call `data/TestData.txt` contains test data consisting of one number per line.  Your job is to read the entire file into memory and compute the sum of all the numbers."
   ]
  },
  {
   "cell_type": "code",
   "execution_count": null,
   "metadata": {},
   "outputs": [],
   "source": [
    "%%bash\n",
    "cat data/TestData.txt"
   ]
  },
  {
   "cell_type": "code",
   "execution_count": null,
   "metadata": {},
   "outputs": [],
   "source": [
    "# Write YOUR code here"
   ]
  },
  {
   "cell_type": "markdown",
   "metadata": {},
   "source": [
    "## Q7.4\n",
    "Try the previous example with the test file `data/TestData2.txt`; this file contains non integral data.  Use exception handling to filter out lines that don't contain integers."
   ]
  },
  {
   "cell_type": "code",
   "execution_count": null,
   "metadata": {},
   "outputs": [],
   "source": [
    "%%bash\n",
    "cat data/TestData2.txt"
   ]
  },
  {
   "cell_type": "code",
   "execution_count": null,
   "metadata": {},
   "outputs": [],
   "source": [
    "# Write YOUR code here"
   ]
  },
  {
   "cell_type": "markdown",
   "metadata": {},
   "source": [
    "## Q7.5\n",
    "Write a program that concatenates three files:\n",
    "*    data/TestFile1.txt\n",
    "*    data/TestFile2.txt\n",
    "*    data/TestFile3.txt  \n",
    "\n",
    "into a new file called:\n",
    "*    data/TestFile.txt"
   ]
  },
  {
   "cell_type": "code",
   "execution_count": null,
   "metadata": {},
   "outputs": [],
   "source": [
    "%%bash\n",
    "cat data/TestFile1.txt\n",
    "cat data/TestFile2.txt\n",
    "cat data/TestFile3.txt"
   ]
  },
  {
   "cell_type": "code",
   "execution_count": null,
   "metadata": {},
   "outputs": [],
   "source": [
    "# Write YOUR code here"
   ]
  },
  {
   "cell_type": "code",
   "execution_count": null,
   "metadata": {},
   "outputs": [],
   "source": [
    "%%bash\n",
    "cat data/TestFile.txt"
   ]
  },
  {
   "cell_type": "markdown",
   "metadata": {},
   "source": [
    "## Q7.6\n",
    "Write a program that reads a file, reverses the order of lines in the file and then saves the changes in a new file. \n",
    "Use `data/TestFile1.txt` as you test file."
   ]
  },
  {
   "cell_type": "code",
   "execution_count": null,
   "metadata": {},
   "outputs": [],
   "source": [
    "# Write YOUR code here"
   ]
  },
  {
   "cell_type": "code",
   "execution_count": null,
   "metadata": {},
   "outputs": [],
   "source": [
    "%%bash\n",
    "cat data/OutFile.txt"
   ]
  }
 ],
 "metadata": {
  "kernelspec": {
   "display_name": "Python 3",
   "language": "python",
   "name": "python3"
  },
  "language_info": {
   "codemirror_mode": {
    "name": "ipython",
    "version": 3
   },
   "file_extension": ".py",
   "mimetype": "text/x-python",
   "name": "python",
   "nbconvert_exporter": "python",
   "pygments_lexer": "ipython3",
   "version": "3.7.3"
  }
 },
 "nbformat": 4,
 "nbformat_minor": 2
}
