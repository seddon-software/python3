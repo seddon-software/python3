{
 "cells": [
  {
   "cell_type": "markdown",
   "metadata": {},
   "source": [
    "<div style=\"color:red;background-color:black\">\n",
    "Diamond Light Source\n",
    "\n",
    "<h1 style=\"color:red;background-color:antiquewhite\"> Python Fundamentals: Numpy</h1>  \n",
    "\n",
    "©2000-20 Chris Seddon \n",
    "</div>"
   ]
  },
  {
   "cell_type": "markdown",
   "metadata": {},
   "source": [
    "## 1\n",
    "Execute the following cell to activate styling for this tutorial"
   ]
  },
  {
   "cell_type": "code",
   "execution_count": 1,
   "metadata": {},
   "outputs": [
    {
     "data": {
      "text/html": [
       "<style>/* GLOBALS */\n",
       "/* body {background-color: #f7f7f7;} */\n",
       ".text_cell {background-color: cornsilk;}\n",
       ".code_cell { background-color: lightskyblue; }\n",
       ".selected { background-color: peachpuff; }\n",
       ".output { background-color: aliceblue; }\n",
       "\n",
       "</style>"
      ],
      "text/plain": [
       "<IPython.core.display.HTML object>"
      ]
     },
     "execution_count": 1,
     "metadata": {},
     "output_type": "execute_result"
    }
   ],
   "source": [
    "from IPython.display import HTML\n",
    "HTML(f\"<style>{open('my.css').read()}</style>\")"
   ]
  },
  {
   "cell_type": "markdown",
   "metadata": {},
   "source": [
    "## 2\n",
    "Numpy is a library that lets us work with multi-dimensional arrays.  \n",
    "\n",
    "Most scientific analysis in Python uses Numpy.  Several libraries extend Numpy including Pandas (which is dealt with in a separate tutorial).\n",
    "\n",
    "Let's begin by creating some Numpy arrays:"
   ]
  },
  {
   "cell_type": "code",
   "execution_count": 7,
   "metadata": {},
   "outputs": [
    {
     "name": "stdout",
     "output_type": "stream",
     "text": [
      "a = \n",
      "[[1. 1. 1. 1. 1.]\n",
      " [1. 1. 1. 1. 1.]\n",
      " [1. 1. 1. 1. 1.]]\n",
      "b = \n",
      "[[13. 13. 13. 13. 13.]\n",
      " [13. 13. 13. 13. 13.]\n",
      " [13. 13. 13. 13. 13.]]\n",
      "c = \n",
      "[[0. 0. 0. 0. 0.]\n",
      " [0. 0. 0. 0. 0.]\n",
      " [0. 0. 0. 0. 0.]]\n",
      "d = \n",
      "[[0 0 0 0 0]\n",
      " [0 0 0 0 0]\n",
      " [0 0 0 0 0]]\n"
     ]
    }
   ],
   "source": [
    "import numpy as np\n",
    "\n",
    "np.set_printoptions(precision=3)\n",
    "\n",
    "# create array filled with 1's\n",
    "a = np.ones( (3,5) ); print(f\"a = \\n{a}\")\n",
    "b = np.ones( (3,5) ) * 13; print(f\"b = \\n{b}\")\n",
    "\n",
    "# create array filled with 0's\n",
    "c = np.zeros( (3,5) ); print(f\"c = \\n{c}\")\n",
    "\n",
    "# create empty array of ints\n",
    "d = np.empty( (3,5), dtype=int); print(f\"d = \\n{d}\") "
   ]
  },
  {
   "cell_type": "markdown",
   "metadata": {},
   "source": [
    "## 3\n",
    "By default Numpy creates arrays of floats, but the last example shows how to work with arrays of int.  By the way, Numpy works with an internal precision of about 15 significant figures for floats, but the statement\n",
    "<pre>np.set_printoptions(precision=3)</pre>\n",
    "is just for rounding the printed output to 3 decimal places.  \n",
    "\n",
    "Numpy arrays are different from ordinary Python lists or tuples.  Let's check the type of a Numpy array:"
   ]
  },
  {
   "cell_type": "code",
   "execution_count": 8,
   "metadata": {},
   "outputs": [
    {
     "name": "stdout",
     "output_type": "stream",
     "text": [
      "<class 'numpy.ndarray'>\n"
     ]
    }
   ],
   "source": [
    "import numpy as np\n",
    "\n",
    "a = np.ones( (3,5) )\n",
    "print(type(a))"
   ]
  },
  {
   "cell_type": "markdown",
   "metadata": {},
   "source": [
    "## 4\n",
    "\n",
    "All Numpy arrays are stored as 1 dimensional arrays, irrespective of their real dimensionality.  The data in the array is pointed at by a structure called the \"view\" which contains, amongst other things, this dimensionality information.\n",
    "\n",
    "In the following example we create two Numpy arrays sharing the same set of data, but having different views.  The first array is created with \"arange\" and the second is a shallow copy of the first, but with its dimensionality changed using the \"resize\" function.\n",
    "\n",
    "\"arange\" is Numpy's versionof the range generator.  And no, its not a mispelling of \"arrange\"; it stands for \"array range\".  Where it differs from the built in \"range\" generator is that it can be used with floating points numbers.\n",
    "\n",
    "\"reshape\" takes an existing Numpy array and creates a new view on the same data.  The idea is that the new view contains different dimensionality data.  Since the data is unchanged, the new dimensions must contain the same number of data points as the original array.  Thus in the example below, we start with a 1 dimensional array with 24 elements and reshape it to a 3 dimensional array with 2 * 3 * 4 = 24 elements.  \n",
    "\n",
    "<img src=\"images/Slide9.jpg\" style=\"margin-bottom: -25%;\"/>\n"
   ]
  },
  {
   "cell_type": "code",
   "execution_count": 11,
   "metadata": {
    "scrolled": true
   },
   "outputs": [
    {
     "name": "stdout",
     "output_type": "stream",
     "text": [
      "a = \n",
      "[ 0  1  2  3  4  5  6  7  8  9 10 11 12 13 14 15 16 17 18 19 20 21 22 23]\n",
      "\n",
      "b = \n",
      "[[[ 0  1  2  3]\n",
      "  [ 4  5  6  7]\n",
      "  [ 8  9 10 11]]\n",
      "\n",
      " [[12 13 14 15]\n",
      "  [16 17 18 19]\n",
      "  [20 21 22 23]]]\n"
     ]
    }
   ],
   "source": [
    "import numpy as np\n",
    "\n",
    "a = np.arange(24); print(f\"a = \\n{a}\")\n",
    "# reshape it\n",
    "b = a.reshape(2,3,4); print(f\"\\nb = \\n{b}\")"
   ]
  },
  {
   "cell_type": "markdown",
   "metadata": {},
   "source": [
    "## 5\n",
    "We can prove these two Numpy arrays share data by modifying one of the arrays - the other array sees the changes:"
   ]
  },
  {
   "cell_type": "code",
   "execution_count": 13,
   "metadata": {},
   "outputs": [
    {
     "name": "stdout",
     "output_type": "stream",
     "text": [
      "a = \n",
      "[ 0  1  2  3  4  5  6  7  8  9 10 11 12 99 14 15 16 17 18 19 20 21 22 23]\n",
      "\n",
      "b = \n",
      "[[[ 0  1  2  3]\n",
      "  [ 4  5  6  7]\n",
      "  [ 8  9 10 11]]\n",
      "\n",
      " [[12 99 14 15]\n",
      "  [16 17 18 19]\n",
      "  [20 21 22 23]]]\n"
     ]
    }
   ],
   "source": [
    "import numpy as np\n",
    "\n",
    "a[13] = 99\n",
    "print(f\"a = \\n{a}\")\n",
    "print(f\"\\nb = \\n{b}\")"
   ]
  },
  {
   "cell_type": "markdown",
   "metadata": {},
   "source": [
    "## 6\n",
    "Creating some more Numpy arrays ..."
   ]
  },
  {
   "cell_type": "code",
   "execution_count": 17,
   "metadata": {},
   "outputs": [
    {
     "name": "stdout",
     "output_type": "stream",
     "text": [
      "a = \n",
      "[ 2  3  5  7 11 13 17]\n",
      "\n",
      "b = \n",
      "[[3 4]\n",
      " [5 6]]\n",
      "\n",
      "c = \n",
      "[[0.312 0.052 0.16 ]\n",
      " [0.009 0.663 0.558]]\n"
     ]
    }
   ],
   "source": [
    "import numpy as np\n",
    "\n",
    "# create array from a Python list\n",
    "a = np.array( [2,3,5,7,11,13,17] ); print(f\"a = \\n{a}\")\n",
    "b = np.array( [ [3,4],[5,6] ]); print(f\"\\nb = \\n{b}\")\n",
    "\n",
    "# create array with random values\n",
    "c = np.array( np.random.random((2,3)) ); print(f\"\\nc = \\n{c}\")"
   ]
  },
  {
   "cell_type": "markdown",
   "metadata": {},
   "source": [
    "## 7\n",
    "Numpy works with multi-dimensional data (vectors) rather than scalers.  However we may want to work with an existing function that only takes scaler input.  If we try passing a list to such a function it fails:"
   ]
  },
  {
   "cell_type": "code",
   "execution_count": 18,
   "metadata": {},
   "outputs": [
    {
     "ename": "TypeError",
     "evalue": "unsupported operand type(s) for ** or pow(): 'range' and 'int'",
     "output_type": "error",
     "traceback": [
      "\u001b[0;31m---------------------------------------------------------------------------\u001b[0m",
      "\u001b[0;31mTypeError\u001b[0m                                 Traceback (most recent call last)",
      "\u001b[0;32m<ipython-input-18-804d9b14d115>\u001b[0m in \u001b[0;36m<module>\u001b[0;34m\u001b[0m\n\u001b[1;32m      3\u001b[0m \u001b[0;34m\u001b[0m\u001b[0m\n\u001b[1;32m      4\u001b[0m \u001b[0mx\u001b[0m \u001b[0;34m=\u001b[0m \u001b[0mrange\u001b[0m\u001b[0;34m(\u001b[0m\u001b[0;36m5\u001b[0m\u001b[0;34m,\u001b[0m \u001b[0;36m10\u001b[0m\u001b[0;34m)\u001b[0m\u001b[0;34m\u001b[0m\u001b[0;34m\u001b[0m\u001b[0m\n\u001b[0;32m----> 5\u001b[0;31m \u001b[0mprint\u001b[0m\u001b[0;34m(\u001b[0m\u001b[0msquare\u001b[0m\u001b[0;34m(\u001b[0m\u001b[0mx\u001b[0m\u001b[0;34m)\u001b[0m\u001b[0;34m)\u001b[0m\u001b[0;34m\u001b[0m\u001b[0;34m\u001b[0m\u001b[0m\n\u001b[0m",
      "\u001b[0;32m<ipython-input-18-804d9b14d115>\u001b[0m in \u001b[0;36msquare\u001b[0;34m(x)\u001b[0m\n\u001b[1;32m      1\u001b[0m \u001b[0;32mdef\u001b[0m \u001b[0msquare\u001b[0m\u001b[0;34m(\u001b[0m\u001b[0mx\u001b[0m\u001b[0;34m)\u001b[0m\u001b[0;34m:\u001b[0m\u001b[0;34m\u001b[0m\u001b[0;34m\u001b[0m\u001b[0m\n\u001b[0;32m----> 2\u001b[0;31m     \u001b[0;32mreturn\u001b[0m \u001b[0mx\u001b[0m\u001b[0;34m**\u001b[0m\u001b[0;36m2\u001b[0m\u001b[0;34m\u001b[0m\u001b[0;34m\u001b[0m\u001b[0m\n\u001b[0m\u001b[1;32m      3\u001b[0m \u001b[0;34m\u001b[0m\u001b[0m\n\u001b[1;32m      4\u001b[0m \u001b[0mx\u001b[0m \u001b[0;34m=\u001b[0m \u001b[0mrange\u001b[0m\u001b[0;34m(\u001b[0m\u001b[0;36m5\u001b[0m\u001b[0;34m,\u001b[0m \u001b[0;36m10\u001b[0m\u001b[0;34m)\u001b[0m\u001b[0;34m\u001b[0m\u001b[0;34m\u001b[0m\u001b[0m\n\u001b[1;32m      5\u001b[0m \u001b[0mprint\u001b[0m\u001b[0;34m(\u001b[0m\u001b[0msquare\u001b[0m\u001b[0;34m(\u001b[0m\u001b[0mx\u001b[0m\u001b[0;34m)\u001b[0m\u001b[0;34m)\u001b[0m\u001b[0;34m\u001b[0m\u001b[0;34m\u001b[0m\u001b[0m\n",
      "\u001b[0;31mTypeError\u001b[0m: unsupported operand type(s) for ** or pow(): 'range' and 'int'"
     ]
    }
   ],
   "source": [
    "def square(x): \n",
    "    return x**2\n",
    "\n",
    "x = range(5, 10)\n",
    "print(square(x))"
   ]
  },
  {
   "cell_type": "markdown",
   "metadata": {},
   "source": [
    "## 8\n",
    "To overcome this, Numpy provides a \"vectorize\" function.  This we allow us to pass vectors to our function whilst still allowing it to work with scalers:"
   ]
  },
  {
   "cell_type": "code",
   "execution_count": 19,
   "metadata": {},
   "outputs": [
    {
     "name": "stdout",
     "output_type": "stream",
     "text": [
      "[25. 36. 49. 64. 81.]\n",
      "100.0\n"
     ]
    }
   ],
   "source": [
    "import numpy as np\n",
    "\n",
    "def square(x): return x * x\n",
    "\n",
    "# vectorize function to return floats\n",
    "square = np.vectorize(square, otypes=[np.float])\n",
    "x = range(5, 10)\n",
    "print(square(x))         # now works for vectors\n",
    "print(square(10))        # but still works for scalars"
   ]
  },
  {
   "cell_type": "markdown",
   "metadata": {},
   "source": [
    "## 9\n",
    "In Numpy you can perform matrix arithmetic on 2 dimensional arrays.  For example to matrix multiply two arrays:"
   ]
  },
  {
   "cell_type": "code",
   "execution_count": 20,
   "metadata": {},
   "outputs": [
    {
     "name": "stdout",
     "output_type": "stream",
     "text": [
      "a = \n",
      "[[3 4 5]\n",
      " [2 3 8]\n",
      " [4 1 7]\n",
      " [2 1 2]]\n",
      "b = \n",
      "[[2 3 1 6]\n",
      " [1 2 4 5]\n",
      " [3 0 2 5]]\n",
      "c = \n",
      "[[25 17 29 63]\n",
      " [31 12 30 67]\n",
      " [30 14 22 64]\n",
      " [11  8 10 27]]\n"
     ]
    }
   ],
   "source": [
    "import numpy as np\n",
    "a = np.array( [[3,4,5],[2,3,8],[4,1,7],[2,1,2]] ); print(f\"a = \\n{a}\")\n",
    "b = np.array( [[2,3,1,6],[1,2,4,5],[3,0,2,5]] ); print(f\"b = \\n{b}\")\n",
    "c = a @ b; print(f\"c = \\n{c}\")"
   ]
  },
  {
   "cell_type": "markdown",
   "metadata": {},
   "source": [
    "## 10\n",
    "However, if the arrays are not 2 dimensional then this wouldn't work in general.  Therefore the @ sign is only used for matrix multiplication.  All other mathematical operators and functions are performed element by element on Numpy arrays.  \n",
    "\n",
    "It is easy to see how this scheme works on arrays of the same size.  Consider the following operations with 1 dimensional arrays.  Peforming calculations, element by element, on \"a\" and \"b\" of shape=(7,) means performing the 7 calculations:  \n",
    "&nbsp;&nbsp;&nbsp;&nbsp;3 * 5 + 2 = 17  \n",
    "&nbsp;&nbsp;&nbsp;&nbsp;3 * 5 + 2 = 17  \n",
    "&nbsp;&nbsp;&nbsp;&nbsp;3 * 5 + 2 = 17  \n",
    "&nbsp;&nbsp;&nbsp;&nbsp;3 * 5 + 2 = 17  \n",
    "&nbsp;&nbsp;&nbsp;&nbsp;4 * 6 + 2 = 26  \n",
    "&nbsp;&nbsp;&nbsp;&nbsp;3 * 5 + 2 = 17  \n",
    "&nbsp;&nbsp;&nbsp;&nbsp;3 * 5 + 2 = 17  \n",
    "and storing the answers in \"c\".  \n",
    "\n",
    "We'll leave what to do about arrays of different sizes until later in this tutorial."
   ]
  },
  {
   "cell_type": "code",
   "execution_count": 22,
   "metadata": {},
   "outputs": [
    {
     "name": "stdout",
     "output_type": "stream",
     "text": [
      "a = \n",
      "[3 3 3 3 4 3 3]\n",
      "\n",
      "b = \n",
      "[5 5 5 5 6 5 5]\n",
      "\n",
      "c = \n",
      "[17 17 17 17 26 17 17]\n"
     ]
    }
   ],
   "source": [
    "a = np.array( [3,3,3,3,4,3,3] ); print(f\"a = \\n{a}\")\n",
    "b = np.array( [5,5,5,5,6,5,5] ); print(f\"\\nb = \\n{b}\")\n",
    "\n",
    "# operations are performed on each element\n",
    "c = a * b + 2\n",
    "print(f\"\\nc = \\n{c}\")"
   ]
  },
  {
   "cell_type": "markdown",
   "metadata": {},
   "source": [
    "## 11\n",
    "Sometimes we need to change the type of data in a Numpy array.  For example, with images, pixel values can be stored as decimal (from 0.0 to 1.0) or as integers (0 to 255).  If we are creating a black and white image, we might set the array up with integers 0 or 1 and then convert the array to floats.  Such operations are called casts.\n",
    "\n",
    "Below are some examples.  Note the use of the \"fronfunction\" method.  This method calls a function (lambda) to calculate the value of each element in the array.  Since we are creating a (4,4) array, there will be 16 calculations to perform.  The \"i\" and \"j\" inputs to the lambda witll vary from 0 to 3, and calculate: <pre>(i+2) * (j+2)**1.4</pre>"
   ]
  },
  {
   "cell_type": "code",
   "execution_count": 23,
   "metadata": {},
   "outputs": [
    {
     "name": "stdout",
     "output_type": "stream",
     "text": [
      "float64\n",
      "[[ 5.278  9.311 13.929 19.037]\n",
      " [ 7.917 13.967 20.893 28.555]\n",
      " [10.556 18.622 27.858 38.073]\n",
      " [13.195 23.278 34.822 47.591]]\n",
      "int64\n",
      "[[ 5  9 13 19]\n",
      " [ 7 13 20 28]\n",
      " [10 18 27 38]\n",
      " [13 23 34 47]]\n",
      "bool\n",
      "[[ True  True  True  True]\n",
      " [ True  True  True  True]\n",
      " [ True  True  True  True]\n",
      " [ True  True  True  True]]\n"
     ]
    }
   ],
   "source": [
    "import numpy as np\n",
    "np.set_printoptions(precision=3)\n",
    "\n",
    "# start with a float64 array\n",
    "array1 = np.fromfunction(lambda i,j: (i+2)*(j+2)**1.4, (4,4))\n",
    "print(array1.dtype)\n",
    "print(array1)\n",
    "\n",
    "# casting creates a new array of int\n",
    "array2 = array1.astype(int)\n",
    "print(array2.dtype)\n",
    "print(array2)\n",
    "\n",
    "# casting creates a new array of bool\n",
    "array3 = array1.astype(bool)\n",
    "print(array3.dtype) \n",
    "print(array3)"
   ]
  },
  {
   "cell_type": "markdown",
   "metadata": {},
   "source": [
    "## 12\n",
    "As with ordinary Python arrays (lists and tuple) we can use slicing.  The notation in Numpy is slightly different from normal - all the slicing parameters are enclosed in a single set of [ ] brackets."
   ]
  },
  {
   "cell_type": "code",
   "execution_count": 30,
   "metadata": {},
   "outputs": [
    {
     "name": "stdout",
     "output_type": "stream",
     "text": [
      "a = [ 0  1  2  3  4  5  6  7  8  9 10 11 12 13 14 15 16 17 18 19]\n",
      "a[7:14] = [ 7  8  9 10 11 12 13]\n",
      "a[2:14:3] = [ 2  5  8 11]\n",
      "a[::] = [ 0  1  2  3  4  5  6  7  8  9 10 11 12 13 14 15 16 17 18 19]\n"
     ]
    }
   ],
   "source": [
    "import numpy as np\n",
    "\n",
    "# one dimensional arrays\n",
    "a = np.arange(20); print(f\"a = {a}\")\n",
    "print(f\"a[7:14] = {a[7:14]}\")\n",
    "print(f\"a[2:14:3] = {a[2:14:3]}\")\n",
    "print(f\"a[::] = {a[::]}\")"
   ]
  },
  {
   "cell_type": "markdown",
   "metadata": {},
   "source": [
    "## 13\n",
    "Note the default slice, `a[::]`, creates a shallow copy of \"a\"."
   ]
  },
  {
   "cell_type": "code",
   "execution_count": 33,
   "metadata": {},
   "outputs": [
    {
     "name": "stdout",
     "output_type": "stream",
     "text": [
      "id(a) = 4569115024\n",
      "id(b) = 4569115104\n",
      "a = [ 0  1 99  3  4  5  6  7  8  9 10 11 12 13 14 15 16 17 18 19]\n",
      "b = [ 0  1 99  3  4  5  6  7  8  9 10 11 12 13 14 15 16 17 18 19]\n"
     ]
    }
   ],
   "source": [
    "import numpy as np\n",
    "\n",
    "a = np.arange(20)\n",
    "b = a[::]\n",
    "print(f\"id(a) = {id(a)}\")\n",
    "print(f\"id(b) = {id(b)}\")\n",
    "b[2] = 99\n",
    "print(f\"a = {a}\")\n",
    "print(f\"b = {b}\")"
   ]
  },
  {
   "cell_type": "markdown",
   "metadata": {},
   "source": [
    "## 14\n",
    "We can also slice multi-dimensional arrays.  In the following example we slice elements 0 and 1 of each dimension.  Thus we will end up with a 2 x 2 x 2 array:"
   ]
  },
  {
   "cell_type": "code",
   "execution_count": 38,
   "metadata": {},
   "outputs": [
    {
     "name": "stdout",
     "output_type": "stream",
     "text": [
      "a = \n",
      "[[[ 0  1]\n",
      "  [ 2  3]\n",
      "  [ 4  5]]\n",
      "\n",
      " [[ 6  7]\n",
      "  [ 8  9]\n",
      "  [10 11]]\n",
      "\n",
      " [[12 13]\n",
      "  [14 15]\n",
      "  [16 17]]\n",
      "\n",
      " [[18 19]\n",
      "  [20 21]\n",
      "  [22 23]]]\n",
      "\n",
      "b = \n",
      "[[[0 1]\n",
      "  [2 3]]\n",
      "\n",
      " [[6 7]\n",
      "  [8 9]]]\n"
     ]
    }
   ],
   "source": [
    "import numpy as np\n",
    "\n",
    "# multi-dimensional arrays\n",
    "a = np.arange(24).reshape(4,3,2)\n",
    "print(f\"a = \\n{a}\")\n",
    "\n",
    "b = a[0:2,0:2,0:2]\n",
    "print(f\"\\nb = \\n{b}\")"
   ]
  },
  {
   "cell_type": "markdown",
   "metadata": {},
   "source": [
    "## 15\n",
    "Sometimes we want to combine two arrays into one.  We can use horizontal or vertical stacking for this:"
   ]
  },
  {
   "cell_type": "code",
   "execution_count": 40,
   "metadata": {},
   "outputs": [
    {
     "name": "stdout",
     "output_type": "stream",
     "text": [
      "horizontal stacking\n",
      "[[1. 1. 1. 1. 1. 0. 0. 0. 0. 0.]\n",
      " [1. 1. 1. 1. 1. 0. 0. 0. 0. 0.]\n",
      " [1. 1. 1. 1. 1. 0. 0. 0. 0. 0.]]\n",
      "vertical stacking\n",
      "[[1. 1. 1. 1. 1.]\n",
      " [1. 1. 1. 1. 1.]\n",
      " [1. 1. 1. 1. 1.]\n",
      " [0. 0. 0. 0. 0.]\n",
      " [0. 0. 0. 0. 0.]\n",
      " [0. 0. 0. 0. 0.]]\n"
     ]
    }
   ],
   "source": [
    "import numpy as np\n",
    "\n",
    "a = np.ones( (3,5) )\n",
    "b = np.zeros( (3,5) )\n",
    "\n",
    "print(\"horizontal stacking\")\n",
    "h = np.hstack( (a,b) ); print(h)\n",
    "print(\"vertical stacking\")\n",
    "v = np.vstack( (a,b) ); print(v)\n"
   ]
  },
  {
   "cell_type": "markdown",
   "metadata": {},
   "source": [
    "## 16\n"
   ]
  },
  {
   "cell_type": "code",
   "execution_count": null,
   "metadata": {},
   "outputs": [],
   "source": []
  },
  {
   "cell_type": "markdown",
   "metadata": {},
   "source": [
    "## 17\n"
   ]
  },
  {
   "cell_type": "code",
   "execution_count": null,
   "metadata": {},
   "outputs": [],
   "source": []
  },
  {
   "cell_type": "markdown",
   "metadata": {},
   "source": [
    "## 18\n"
   ]
  },
  {
   "cell_type": "code",
   "execution_count": null,
   "metadata": {},
   "outputs": [],
   "source": []
  },
  {
   "cell_type": "markdown",
   "metadata": {},
   "source": [
    "## 19\n"
   ]
  },
  {
   "cell_type": "code",
   "execution_count": null,
   "metadata": {},
   "outputs": [],
   "source": []
  },
  {
   "cell_type": "markdown",
   "metadata": {},
   "source": [
    "## 20\n"
   ]
  },
  {
   "cell_type": "code",
   "execution_count": null,
   "metadata": {},
   "outputs": [],
   "source": []
  }
 ],
 "metadata": {
  "kernelspec": {
   "display_name": "Python 3",
   "language": "python",
   "name": "python3"
  },
  "language_info": {
   "codemirror_mode": {
    "name": "ipython",
    "version": 3
   },
   "file_extension": ".py",
   "mimetype": "text/x-python",
   "name": "python",
   "nbconvert_exporter": "python",
   "pygments_lexer": "ipython3",
   "version": "3.7.1"
  }
 },
 "nbformat": 4,
 "nbformat_minor": 4
}
