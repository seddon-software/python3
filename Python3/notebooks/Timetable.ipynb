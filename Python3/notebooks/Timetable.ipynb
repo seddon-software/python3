{
 "cells": [
  {
   "cell_type": "markdown",
   "metadata": {},
   "source": [
    "# Timetable"
   ]
  },
  {
   "cell_type": "markdown",
   "metadata": {},
   "source": [
    "### Day 1 (3 hours)\n",
    "           9-10: Python First Steps\n",
    "           11-12: Lists and Tuples\n",
    "            2-3: Functions\n",
    "### Day 2 (4 hours)\n",
    "            9-10: Dictionaries\n",
    "           11-12: Numpy\n",
    "            1-2: Labs\n",
    "            3-4: Object Orientation\n",
    "### Day 3 (3 hours + Q&A)\n",
    "            9-10: Functional Programming\n",
    "           11-12: Pandas\n",
    "            2-3: Labs\n",
    "            3-4: Q&A "
   ]
  }
 ],
 "metadata": {
  "kernelspec": {
   "display_name": "Python 3",
   "language": "python",
   "name": "python3"
  },
  "language_info": {
   "codemirror_mode": {
    "name": "ipython",
    "version": 3
   },
   "file_extension": ".py",
   "mimetype": "text/x-python",
   "name": "python",
   "nbconvert_exporter": "python",
   "pygments_lexer": "ipython3",
   "version": "3.7.1"
  }
 },
 "nbformat": 4,
 "nbformat_minor": 2
}
