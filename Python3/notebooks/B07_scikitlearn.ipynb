{
 "cells": [
  {
   "cell_type": "markdown",
   "metadata": {},
   "source": [
    "<div style=\"color:red;background-color:black\">\n",
    "Diamond Light Source\n",
    "\n",
    "<h1 style=\"color:red;background-color:antiquewhite\"> Python Fundamentals: SciKitLearn</h1>  \n",
    "\n",
    "©2000-20 Chris Seddon \n",
    "</div>"
   ]
  },
  {
   "cell_type": "markdown",
   "metadata": {},
   "source": [
    "## 1\n",
    "Execute the following cell to activate styling for this tutorial"
   ]
  },
  {
   "cell_type": "code",
   "execution_count": null,
   "metadata": {},
   "outputs": [],
   "source": [
    "from IPython.display import HTML\n",
    "HTML(f\"<style>{open('my.css').read()}</style>\")"
   ]
  },
  {
   "cell_type": "markdown",
   "metadata": {},
   "source": [
    "## 2\n",
    "The iris flower is an excellent starting point for studying machine learning.  There are 3 common species of iris: setosa, versicolor and virginica.  What is interesting about these species is that they are easy to classify if we measure their petal and sepal width and length.  Each species cluster around a region in 4 dimensional space (the dimensions being (petal width, petal length, sepal width, sepal length).\n",
    "\n",
    "Let's start with a picture:"
   ]
  },
  {
   "cell_type": "code",
   "execution_count": null,
   "metadata": {},
   "outputs": [],
   "source": [
    "from PIL import Image\n",
    "\n",
    "image = Image.open(\"images/iris.png\")\n",
    "image"
   ]
  },
  {
   "cell_type": "markdown",
   "metadata": {},
   "source": [
    "## 3\n",
    "Let's examine our dataset with Pandas:"
   ]
  },
  {
   "cell_type": "code",
   "execution_count": null,
   "metadata": {},
   "outputs": [],
   "source": [
    "import pandas as pd\n",
    "pd.set_option('display.width', None)        # None means all data displayed\n",
    "\n",
    "\n",
    "# load iris data set\n",
    "iris_df = pd.read_csv(\"data/iris.csv\")\n",
    "print(iris_df)"
   ]
  },
  {
   "cell_type": "markdown",
   "metadata": {},
   "source": [
    "## 4\n",
    "It will be helpful to add a new column to our dataframe where we use integers for the species.  We'll call this column 'target':"
   ]
  },
  {
   "cell_type": "code",
   "execution_count": null,
   "metadata": {},
   "outputs": [],
   "source": [
    "import pandas as pd\n",
    "pd.set_option('display.width', None)        # None means all data displayed\n",
    "\n",
    "\n",
    "# load iris data set\n",
    "iris_df = pd.read_csv(\"data/iris.csv\")\n",
    "target_names = {'setosa':0, 'versicolor':1, 'virginica':2}\n",
    "iris_df[\"target\"] = iris_df.apply(lambda row: target_names[row.species], axis=1, raw=True)\n",
    "print(iris_df.sample(10))"
   ]
  },
  {
   "cell_type": "markdown",
   "metadata": {},
   "source": [
    "## 5\n",
    "With machine learning, we use the 4 dimensional space of (sepal_length, sepal_width, petal_length and petal_width) to classify the irises.  To get a feel for this, we would like to plot the 4 dimensional space with each iris, but that's impossible.  However, what we can do is create four 3 dimensional cross sections of the 4 dimensional space:"
   ]
  },
  {
   "cell_type": "code",
   "execution_count": null,
   "metadata": {},
   "outputs": [],
   "source": [
    "%matplotlib inline\n",
    "from sklearn.datasets import load_iris\n",
    "from mpl_toolkits.mplot3d import Axes3D\n",
    "import matplotlib.pyplot as plt\n",
    "import pandas as pd\n",
    "\n",
    "colors = [\"red\", \"green\", \"blue\", \"black\", \"black\"]\n",
    "markers = [\"o\", \"o\", \"o\", \"D\", \"D\"]\n",
    "sizes = [10, 10, 10, 100, 100]\n",
    "labels = ['sepal length', 'sepal width', 'petal length', 'petal width']\n",
    "target_names = {'setosa':0, 'versicolor':1, 'virginica':2}\n",
    "\n",
    "iris_df = pd.read_csv(\"data/iris.csv\")\n",
    "iris_df[\"target\"] = iris_df.apply(lambda row: target_names[row.species], axis=1, raw=True)\n",
    "iris_df.drop([\"species\"], axis = 1, inplace = True)\n",
    "\n",
    "# plot\n",
    "figure = plt.figure(figsize=(16, 12))\n",
    "        \n",
    "def scatter(subplot, i, j, k):\n",
    "    def doit(row):\n",
    "        n = int(row[4])          \n",
    "        ax.scatter(row[i], row[j], row[k],   \n",
    "                   c=colors[n], \n",
    "                   marker=markers[n],\n",
    "                   s=sizes[n])\n",
    "\n",
    "    ax = figure.add_subplot(subplot, projection='3d')\n",
    "    ax.set_xlabel(labels[i])\n",
    "    ax.set_ylabel(labels[j])\n",
    "    ax.set_zlabel(labels[k])\n",
    "    iris_df.apply(doit, axis=1, raw=True)\n",
    "\n",
    "scatter(221, 0, 1, 2)\n",
    "scatter(222, 0, 1, 3)\n",
    "scatter(223, 0, 2, 3)\n",
    "scatter(224, 1, 2, 3)\n",
    "plt.show()"
   ]
  },
  {
   "cell_type": "markdown",
   "metadata": {},
   "source": [
    "## 6\n",
    "Now we take our dataframe and use it to train our model.  There are several different model we can use.  We will be using:<pre>KNeighborsClassifier\n",
    "LogisticRegression</pre>\n",
    "\n",
    "Training the model involves separation the 4 \"parameters\" (sepal_length, sepal_width, petal_length and petal_width) from the \"target\" column in our dataframe and passing these two dataframes to an estimator.  In our case, the estimator will have 150 rows to work with.\n",
    "\n",
    "Next we introduce 3 new irises that haven't been classified yet.  Since each model has been trained, it can now predict which type of iris they think they are.\n",
    "\n",
    "Note the use of \"iloc\" to extract columns from the dataframe."
   ]
  },
  {
   "cell_type": "code",
   "execution_count": null,
   "metadata": {},
   "outputs": [],
   "source": [
    "from sklearn.neighbors import KNeighborsClassifier\n",
    "from sklearn.linear_model import LogisticRegression\n",
    "\n",
    "iris_df = pd.read_csv(\"data/iris.csv\")\n",
    "iris_df[\"target\"] = iris_df.apply(lambda row: target_names[row.species], axis=1, raw=True)\n",
    "iris_df.drop([\"species\"], axis = 1, inplace = True)\n",
    "\n",
    "# create 2 new dataframes to pass to the estimator\n",
    "parameters = iris_df.iloc[:,[0,1,2,3]]\n",
    "target = iris_df.iloc[:,4]\n",
    "\n",
    "# define three unclassified iris's\n",
    "iris1 = [4.1, 3.1, 1.8, 0.5]\n",
    "iris2 = [6.9, 3.5, 3.5, 2.5]\n",
    "iris3 = [6.7, 2.0, 5.0, 1.6] \n",
    "\n",
    "def predict(estimator, message):\n",
    "    estimator.fit(parameters, target)     # train\n",
    "    print(message, estimator.predict([iris1, iris2, iris3])) # estimate\n",
    "\n",
    "# predict with different estimators and parameters\n",
    "predict(KNeighborsClassifier(n_neighbors=1), \"KNeighbors(K=1):\")\n",
    "predict(KNeighborsClassifier(n_neighbors=3), \"KNeighbors(K=3):\")\n",
    "predict(KNeighborsClassifier(n_neighbors=5), \"KNeighbors(K=5):\")\n",
    "predict(LogisticRegression(solver='lbfgs', multi_class='auto', max_iter=150), \"LogisticRegression:\")"
   ]
  },
  {
   "cell_type": "markdown",
   "metadata": {},
   "source": [
    "## 7\n",
    "As you can see, there is some disagreement over what species the third iris belongs to.  \n",
    "\n",
    "Let's look at our 4 plots again, this time with the 3 new iris plotted.  Our 3 new irises are colored black, grey and silver:"
   ]
  },
  {
   "cell_type": "code",
   "execution_count": null,
   "metadata": {},
   "outputs": [],
   "source": [
    "%matplotlib inline\n",
    "from sklearn.datasets import load_iris\n",
    "from mpl_toolkits.mplot3d import Axes3D\n",
    "import matplotlib.pyplot as plt\n",
    "import pandas as pd\n",
    "\n",
    "colors = [\"red\", \"green\", \"blue\", \"black\", \"grey\", \"silver\"]\n",
    "markers = [\"o\", \"o\", \"o\", \"D\", \"D\", \"D\"]\n",
    "sizes = [10, 10, 10, 100, 100, 100]\n",
    "labels = ['sepal length', 'sepal width', 'petal length', 'petal width']\n",
    "target_names = {'setosa':0, 'versicolor':1, 'virginica':2}\n",
    "\n",
    "iris_df = pd.read_csv(\"data/iris.csv\")\n",
    "iris_df[\"target\"] = iris_df.apply(lambda row: target_names[row.species], axis=1, raw=True)\n",
    "iris_df.drop([\"species\"], axis = 1, inplace = True)\n",
    "iris1 = [4.1, 3.1, 1.8, 0.5, 3]\n",
    "iris2 = [6.9, 3.5, 2.5, 2.5, 4]  \n",
    "iris3 = [6.7, 3.0, 5.2, 2.3, 5] \n",
    "df = pd.DataFrame([iris1, iris2, iris3], columns = iris_df.columns) \n",
    "iris_df = iris_df.append(df)\n",
    "\n",
    "# plot\n",
    "figure = plt.figure(figsize=(16, 12))\n",
    "def scatter(subplot, i, j, k):\n",
    "    def doit(row):\n",
    "        n = int(row[4])          \n",
    "        ax.scatter(row[i], row[j], row[k],   \n",
    "                   c=colors[n], \n",
    "                   marker=markers[n],\n",
    "                   s=sizes[n])\n",
    "\n",
    "    ax = figure.add_subplot(subplot, projection='3d')\n",
    "    ax.set_xlabel(labels[i])\n",
    "    ax.set_ylabel(labels[j])\n",
    "    ax.set_zlabel(labels[k])\n",
    "    iris_df.apply(doit, axis=1, raw=True)\n",
    "\n",
    "scatter(221, 0, 1, 2)\n",
    "scatter(222, 0, 1, 3)\n",
    "scatter(223, 0, 2, 3)\n",
    "scatter(224, 1, 2, 3)\n",
    "plt.show()"
   ]
  }
 ],
 "metadata": {
  "kernelspec": {
   "display_name": "Python 3",
   "language": "python",
   "name": "python3"
  },
  "language_info": {
   "codemirror_mode": {
    "name": "ipython",
    "version": 3
   },
   "file_extension": ".py",
   "mimetype": "text/x-python",
   "name": "python",
   "nbconvert_exporter": "python",
   "pygments_lexer": "ipython3",
   "version": "3.7.1"
  }
 },
 "nbformat": 4,
 "nbformat_minor": 4
}
