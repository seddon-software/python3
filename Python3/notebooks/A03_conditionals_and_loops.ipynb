{
 "cells": [
  {
   "cell_type": "markdown",
   "metadata": {},
   "source": [
    "<div style=\"color:red;background-color:black\">\n",
    "Diamond Light Source\n",
    "\n",
    "<h1 style=\"color:red;background-color:antiquewhite\"> Python Language: Conditionals and Loops</h1>  \n",
    "\n",
    "©2000-20 Chris Seddon \n",
    "</div>"
   ]
  },
  {
   "cell_type": "markdown",
   "metadata": {},
   "source": [
    "## 1\n",
    "Execute the following cell to activate styling for this tutorial"
   ]
  },
  {
   "cell_type": "code",
   "execution_count": null,
   "metadata": {},
   "outputs": [],
   "source": [
    "from IPython.display import HTML\n",
    "HTML(f\"<style>{open('my.css').read()}</style>\")"
   ]
  },
  {
   "cell_type": "markdown",
   "metadata": {},
   "source": [
    "## 2\n",
    "Let's start with the Hello World Python example:"
   ]
  },
  {
   "cell_type": "code",
   "execution_count": null,
   "metadata": {},
   "outputs": [],
   "source": [
    "print(\"Hello World\")"
   ]
  },
  {
   "cell_type": "markdown",
   "metadata": {},
   "source": [
    "## 3\n",
    "Python doesn't mind if you use single or double quotes, so the following program is also valid:"
   ]
  },
  {
   "cell_type": "code",
   "execution_count": null,
   "metadata": {},
   "outputs": [],
   "source": [
    "print('Hello World')"
   ]
  },
  {
   "cell_type": "markdown",
   "metadata": {},
   "source": [
    "## 4\n",
    "Python uses indentation to define conditional blocks and loop statements.  Python is \n",
    "highly unusual in this respect.  The indentation is usually 4 spaces, but can be any number \n",
    "of spaces and tabs.  It is important to be consistent with indentation.  You can use a set number of spaces (e.g. \n",
    "4 spaces) or tabs, but you must not mix indentation in any given block.\n",
    "\n",
    "Comments are introduced using the # symbol. \n",
    "\n",
    "Python supports several conditional statements; variants of the if statement.  \n",
    "The simplest form is shown below; the test condition <pre>x < 0</pre> is evaluated and if found to be true, the indented statements following will be executed.  If the test evaluates to false, no action is taken.  \n",
    "\n",
    "Note that the input function was used to read in data for this program.  This function prompts the user and \n",
    "then reads data from the keyboard as a string.  In this example we really want to read in an \n",
    "integer, so we simply convert the input string to the required format using the int(...) conversion operator (cast). \n"
   ]
  },
  {
   "cell_type": "code",
   "execution_count": null,
   "metadata": {
    "slideshow": {
     "slide_type": "slide"
    }
   },
   "outputs": [],
   "source": [
    "x = int(input(\"Please enter an integer: \"))\n",
    "\n",
    "if x < 0:\n",
    "    print('Negative')"
   ]
  },
  {
   "cell_type": "markdown",
   "metadata": {
    "slideshow": {
     "slide_type": "subslide"
    }
   },
   "source": [
    "## 5\n",
    "This example below shows a block with more than one statement.  If the test condition <pre>x > 0</pre> is found to be true, all the indented statements will be executed.  \n",
    "Note that the print statement uses \"f\" strings where the { } are evaluated immediately."
   ]
  },
  {
   "cell_type": "code",
   "execution_count": null,
   "metadata": {
    "slideshow": {
     "slide_type": "slide"
    }
   },
   "outputs": [],
   "source": [
    "x = int(input(\"Please enter a positive integer: \"))\n",
    "\n",
    "if x > 0:\n",
    "    print('x is positive')\n",
    "    print(f'the square of x is {x**2}')\n",
    "    print(f'the cube of x is {x**3}')\n",
    "\n",
    "print('end of if-statement')"
   ]
  },
  {
   "cell_type": "markdown",
   "metadata": {
    "slideshow": {
     "slide_type": "subslide"
    }
   },
   "source": [
    "## 6\n",
    "Another variant of the if statement is the if-else. The test condition <pre>x < 0</pre> is evaluated and if found to be true, the indented statements following the if will be executed.  If the test evaluates to false, the indented statements following the else will be executed.  \n",
    "The if and the else lines must be followed by a block of one or more indented statements.  Furthermore, if there is a nested if statement in the block, then a second level of indentation will be required."
   ]
  },
  {
   "cell_type": "code",
   "execution_count": null,
   "metadata": {
    "slideshow": {
     "slide_type": "slide"
    }
   },
   "outputs": [],
   "source": [
    "x = int(input(\"Please enter an integer: \"))\n",
    "\n",
    "if x < 0:\n",
    "    print('Negative')\n",
    "else:\n",
    "    print('Not negative')"
   ]
  },
  {
   "cell_type": "markdown",
   "metadata": {},
   "source": [
    "## 7\n",
    "More complicated conditionals make use of the elif statement:"
   ]
  },
  {
   "cell_type": "code",
   "execution_count": null,
   "metadata": {},
   "outputs": [],
   "source": [
    "x = int(input(\"Please enter an integer: \"))\n",
    "\n",
    "if x < 0:\n",
    "    print('Negative')\n",
    "elif x < 10:\n",
    "    print('Small')\n",
    "elif x < 100:\n",
    "    print('Medium')\n",
    "else:\n",
    "    print('Large')"
   ]
  },
  {
   "cell_type": "markdown",
   "metadata": {},
   "source": [
    "## 8\n",
    "Turning our attention to loops, there are two distinct loop constructs.  By far the most common is the 'for' loop.  In the example below we loop 4 times and set the variable n to the succesive values of 5, 7, 2 and 4.  The variable n is called the loop count.  \n",
    "Note the use of 'end' in the print statement.  Normally print outputs a new line at the end of printing; here we tell it to print a space instead."
   ]
  },
  {
   "cell_type": "code",
   "execution_count": null,
   "metadata": {},
   "outputs": [],
   "source": [
    "for n in 5, 7, 2, 4:\n",
    "    print(n, end=' ')"
   ]
  },
  {
   "cell_type": "markdown",
   "metadata": {},
   "source": [
    "## 9\n",
    "The loop count is often a sequence starting from zero:"
   ]
  },
  {
   "cell_type": "code",
   "execution_count": null,
   "metadata": {},
   "outputs": [],
   "source": [
    "for n in 0, 1, 2, 3, 4, 5, 6, 7, 8, 9:\n",
    "    print(n, end=' ')"
   ]
  },
  {
   "cell_type": "markdown",
   "metadata": {},
   "source": [
    "## 10\n",
    "Clearly this would get unweildy if the loop count gets large.  However, we can use the 'range' generator for these loops.  In fact the 'range' generator can be used for any loop.  Below is the equivalent loop to our previous example:"
   ]
  },
  {
   "cell_type": "code",
   "execution_count": null,
   "metadata": {},
   "outputs": [],
   "source": [
    "for n in range(10):\n",
    "    print(n, end=' ')"
   ]
  },
  {
   "cell_type": "markdown",
   "metadata": {},
   "source": [
    "## 11\n",
    "Note that range(10) means from 0 to 9 inclusive.  The parameter 10 is just beyond this range.  Range can have more than one parameter; here are some examples where range has a lower and upper bound:"
   ]
  },
  {
   "cell_type": "code",
   "execution_count": null,
   "metadata": {},
   "outputs": [],
   "source": [
    "for n in range(5, 15):\n",
    "    print(n, end=' ')\n",
    "print()\n",
    "for n in range(2, 8):\n",
    "    print(n, end=' ')"
   ]
  },
  {
   "cell_type": "markdown",
   "metadata": {},
   "source": [
    "## 12\n",
    "The range generator can have up to 3 parameters; the last parameter is the step.  The step can be positive or negative:"
   ]
  },
  {
   "cell_type": "code",
   "execution_count": null,
   "metadata": {},
   "outputs": [],
   "source": [
    "for n in range(10, 30, 2):\n",
    "    print(n, end=' ')\n",
    "print()\n",
    "for n in range(50, 5, -5):\n",
    "    print(n, end=' ')"
   ]
  },
  {
   "cell_type": "markdown",
   "metadata": {},
   "source": [
    "## 13\n",
    "Finally we conside the alternate form of the loop - the while loop.  This loop continues while a condition is true:"
   ]
  },
  {
   "cell_type": "code",
   "execution_count": null,
   "metadata": {},
   "outputs": [],
   "source": [
    "x = 0\n",
    "while x < 10:\n",
    "    x += 2\n",
    "    print(x, end=',')"
   ]
  }
 ],
 "metadata": {
  "kernelspec": {
   "display_name": "Python 3",
   "language": "python",
   "name": "python3"
  },
  "language_info": {
   "codemirror_mode": {
    "name": "ipython",
    "version": 3
   },
   "file_extension": ".py",
   "mimetype": "text/x-python",
   "name": "python",
   "nbconvert_exporter": "python",
   "pygments_lexer": "ipython3",
   "version": "3.7.1"
  }
 },
 "nbformat": 4,
 "nbformat_minor": 4
}
