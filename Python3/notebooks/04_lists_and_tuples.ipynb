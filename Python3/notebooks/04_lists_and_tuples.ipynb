{
 "cells": [
  {
   "cell_type": "markdown",
   "metadata": {},
   "source": [
    "<div style=\"color:red;background-color:black\">\n",
    "Diamond Light Source\n",
    "\n",
    "<h1 style=\"color:red;background-color:antiquewhite\"> Python Fundamentals: List and Tuples</h1>  \n",
    "\n",
    "©2000-20 Chris Seddon \n",
    "</div>"
   ]
  },
  {
   "cell_type": "markdown",
   "metadata": {},
   "source": [
    "## 1\n",
    "Execute the following cell to activate styling for this tutorial"
   ]
  },
  {
   "cell_type": "code",
   "execution_count": null,
   "metadata": {},
   "outputs": [],
   "source": [
    "from IPython.display import HTML\n",
    "HTML(f\"<style>{open('my.css').read()}</style>\")"
   ]
  },
  {
   "cell_type": "markdown",
   "metadata": {},
   "source": [
    "## 2\n",
    "Python is unusual in that it has two types of array: lists and tuples (lists are mutable and tuples are immutable).  To understand why, you have to realise that Python supports two fundamentally different programming paradigms: Functional and Object Oriented.  We say Python is a hybrid language.  \n",
    "In Functional programming everything is immutable, so tuples are used as arrays, but in Object Oriented programming most items are mutable, hence lists are normally used as arrays.  \n",
    "Here's how to create and print a tuple: "
   ]
  },
  {
   "cell_type": "code",
   "execution_count": null,
   "metadata": {},
   "outputs": [],
   "source": [
    "t = (4, 6, 9, 2, 1)\n",
    "print(t)"
   ]
  },
  {
   "cell_type": "markdown",
   "metadata": {},
   "source": [
    "## 3\n",
    "The round brackets are used for creating tuples, but lists are created using square brackets:"
   ]
  },
  {
   "cell_type": "code",
   "execution_count": null,
   "metadata": {},
   "outputs": [],
   "source": [
    "l = [4, 6, 9, 2, 1]\n",
    "print(l)"
   ]
  },
  {
   "cell_type": "markdown",
   "metadata": {},
   "source": [
    "## 4 \n",
    "Lists and tuples can contain any sort of data - not just integers.  Here are some examples where the arrays contain strings, integers and floats.  Note that you can mix things inside an array, even though it's not normally a good idea to do so.  \n",
    "Pay special attention to \"t2\" - tuples containing a single element must use a comma to distiguish them from a simple number in round brackets."
   ]
  },
  {
   "cell_type": "code",
   "execution_count": null,
   "metadata": {
    "slideshow": {
     "slide_type": "slide"
    }
   },
   "outputs": [],
   "source": [
    "tuple1 = (\"red\", \"green\", \"blue\")\n",
    "tuple2 = (109.7,)    # note the comma\n",
    "list1 = [\"Monday\", 3, \"September\"]\n",
    "list2 = [4.76, \"hello\", 5, 7, -8.9]\n",
    "print(tuple1)\n",
    "print(tuple2)\n",
    "print(list1)\n",
    "print(list2)"
   ]
  },
  {
   "cell_type": "markdown",
   "metadata": {},
   "source": [
    "## 5\n",
    "We can index into a tuple or list using square brackets.  The first element is 0.  As a convenience the last item can also be indexed as -1.  Consider the following tuple example (lists work the same way):  "
   ]
  },
  {
   "cell_type": "code",
   "execution_count": null,
   "metadata": {},
   "outputs": [],
   "source": [
    "t = [10, 20, 30, 40, 50]\n",
    "print(f't[0] = {t[0]}')\n",
    "print(f't[1] = {t[1]}')\n",
    "print(f't[4] = {t[4]}')\n",
    "print(f't[-1] = {t[-1]}')\n",
    "print(f't[-3] = {t[-3]}')"
   ]
  },
  {
   "cell_type": "markdown",
   "metadata": {},
   "source": [
    "## 6\n",
    "We can also create list and tuples from the \"range\" generator.  Unfortunately, range doesn't generate a list directly, it creates a range object; we have to cast it to a list.  In the example below x points to a range object, but y does point to a real list."
   ]
  },
  {
   "cell_type": "code",
   "execution_count": null,
   "metadata": {},
   "outputs": [],
   "source": [
    "x = range(10, 20)\n",
    "print(f'x = {x}')\n",
    "print(f'type(x) = {type(x)}')\n",
    "y = list(range(10,20))\n",
    "print()\n",
    "print(f'y = {y}')\n",
    "print(f'type(y) = {type(y)}')"
   ]
  },
  {
   "cell_type": "markdown",
   "metadata": {
    "slideshow": {
     "slide_type": "subslide"
    }
   },
   "source": [
    "## 7\n",
    "List and tuples can contain other lists and tuples.  Consider the following two dimension array that is a mixture of lists and tuples.  \n",
    "Note how we can access all parts of this structure:"
   ]
  },
  {
   "cell_type": "code",
   "execution_count": null,
   "metadata": {
    "slideshow": {
     "slide_type": "slide"
    }
   },
   "outputs": [],
   "source": [
    "x = [[10,11],(20,21),[30,31],[40,41],[50,51]]\n",
    "print(x)\n",
    "print(x[0])\n",
    "print(x[1])\n",
    "print(x[0][0])\n",
    "print(x[0][1])\n",
    "print(x[1][0])\n",
    "print(x[0][1])"
   ]
  },
  {
   "cell_type": "markdown",
   "metadata": {
    "slideshow": {
     "slide_type": "subslide"
    }
   },
   "source": [
    "## 8\n",
    "It can be a little confusing knowing what is mutable and what is immutable for structures like this.  If we try to modify the structure the following statements are OK, and hence we are modifying the mutable parts.  Note that x[2] is mutable even though it is a tuple.  "
   ]
  },
  {
   "cell_type": "code",
   "execution_count": null,
   "metadata": {
    "slideshow": {
     "slide_type": "slide"
    }
   },
   "outputs": [],
   "source": [
    "x = [[10,11],(20,21),[30,31],[40,41],[50,51]]\n",
    "x[0] = \"mutable\"\n",
    "x[1] = \"mutable\"\n",
    "x[2] = \"mutable\"\n",
    "x[3] = \"mutable\"\n",
    "x[4] = \"mutable\"\n",
    "print(x)"
   ]
  },
  {
   "cell_type": "markdown",
   "metadata": {},
   "source": [
    "## 9\n",
    "Why is this the case?  The explanation is that the structure x is a list and contains 5 components.  These components are actually pointers (object references) and not lists and tuples.  The 5 pointers do point to the lists and tuples, but they in themselves are mutable because they form part of a list.  \n",
    "\n",
    "However, if we dig deeper we find x[1] is a tuple and contains two pointers to integers.  This time the pointers are immutable because they form part of a tuple.  Contrast that with x[0], x[2], x[3] and x[4].  Each of these lists also contain two pointers, but they are all mutable.  \n",
    "\n",
    "In the example, we can change the components of x[0] (i.e. x[0][0] and x[0][1]), but attempting to modify the component x[1][0] results in an error because it is immutable (as would an attempt to change x[1][1]."
   ]
  },
  {
   "cell_type": "code",
   "execution_count": null,
   "metadata": {},
   "outputs": [],
   "source": [
    "x = [[10,11],(20,21),[30,31],[40,41],[50,51]]\n",
    "x[0][0] = 88\n",
    "x[0][1] = 99\n",
    "print(x)\n",
    "x[1][0] = 100"
   ]
  },
  {
   "cell_type": "markdown",
   "metadata": {},
   "source": [
    "## 10\n",
    "Perhaps a diagram will make things clearer.  Each box is a pointer and the rounded boxes are objects (lists and tuples).  I've colored the immutable pointers and objects in red; mutable items are in green.  \n",
    "![title](images/Slide1.jpg)\n",
    "\n",
    "For the rest of this tutorial we will concentrate on lists.  If we take the structure above and change the tuple to a list we get a two dimensional list:"
   ]
  },
  {
   "cell_type": "code",
   "execution_count": null,
   "metadata": {},
   "outputs": [],
   "source": [
    "x = [[10,11],[20,21],[30,31],[40,41],[50,51]]\n",
    "print(x)"
   ]
  },
  {
   "cell_type": "markdown",
   "metadata": {},
   "source": [
    "## 11\n",
    "If we select part of a list it is called a slice.  Slices use syntax similar to \"range\" whereby the upper limit is non inclusive.  Suppose we want the middle 3 parts of the above list (remember 1:4 means 1 up to but not including 4):"
   ]
  },
  {
   "cell_type": "code",
   "execution_count": null,
   "metadata": {},
   "outputs": [],
   "source": [
    "x = [[10,11],[20,21],[30,31],[40,41],[50,51]]\n",
    "y = x[1:4]\n",
    "print(y)"
   ]
  },
  {
   "cell_type": "markdown",
   "metadata": {},
   "source": [
    "## 12\n",
    "We can use default values for slices.  The last example is actually called the default slice and amounts to the whole list.  Is is a copy?"
   ]
  },
  {
   "cell_type": "code",
   "execution_count": null,
   "metadata": {},
   "outputs": [],
   "source": [
    "x = [[10,11],[20,21],[30,31],[40,41],[50,51]]\n",
    "y = x[:4]\n",
    "print(y)\n",
    "y = x[1:]\n",
    "print(y)\n",
    "y = x[:]\n",
    "print(y)"
   ]
  },
  {
   "cell_type": "markdown",
   "metadata": {},
   "source": [
    "## 13\n",
    "Let's look at ids to see if we have a copy or not.  Firstly, note that the ids of x and y are different implying x and y point to different objects, so we do have a copy.  \n",
    "\n",
    "However do we have a shallow or deep copy?  A shallow copy only copies the top level structure; a deep copy copies everything.  \n",
    "\n",
    "If we compare ids on the next level down we can see that the ids match, implying a shallow copy: shallow copies are used a lot in data science paricularly in Numpy."
   ]
  },
  {
   "cell_type": "code",
   "execution_count": null,
   "metadata": {},
   "outputs": [],
   "source": [
    "x = [[10,11],[20,21],[30,31],[40,41],[50,51]]\n",
    "y = x[:]\n",
    "print(y)\n",
    "print(id(x), id(y))\n",
    "print(id(x[0]),id(y[0]))\n",
    "print(id(x[1]),id(y[1]))\n",
    "print(id(x[2]),id(y[2]))\n",
    "print(id(x[3]),id(y[3]))\n",
    "print(id(x[4]),id(y[4]))"
   ]
  },
  {
   "cell_type": "markdown",
   "metadata": {},
   "source": [
    "## 14\n",
    "Next consider casting the list to another list.  This also creates a shallow copy as can be verified in the same way:"
   ]
  },
  {
   "cell_type": "code",
   "execution_count": null,
   "metadata": {},
   "outputs": [],
   "source": [
    "x = [[10,11],[20,21],[30,31],[40,41],[50,51]]\n",
    "z = list(x)\n",
    "print(z)\n",
    "print(id(x), id(z))\n",
    "print(id(x[0]),id(z[0]))\n",
    "print(id(x[1]),id(z[1]))\n",
    "print(id(x[2]),id(z[2]))\n",
    "print(id(x[3]),id(z[3]))\n",
    "print(id(x[4]),id(z[4]))"
   ]
  },
  {
   "cell_type": "markdown",
   "metadata": {},
   "source": [
    "## 15\n",
    "Yet another way to copy a list is to import the library module \"copy\".  When using a library you have to use the syntax:\n",
    "<pre>module_name.function_name</pre>  \n",
    "In this case the module name and the function name are the same, so we have to use: <pre>copy.copy</pre>\n",
    "\n",
    "Yet again this is a shallow copy.  Perhaps the designers of this module should have used \"shallow\" rather than \"copy\".  Especially since this module can create \"deep\" copies as well."
   ]
  },
  {
   "cell_type": "code",
   "execution_count": null,
   "metadata": {},
   "outputs": [],
   "source": [
    "import copy\n",
    "x = [[10,11],[20,21],[30,31],[40,41],[50,51]]\n",
    "shallow = copy.copy(x)\n",
    "deep = copy.deepcopy(x)\n",
    "print(shallow)\n",
    "print(deep)"
   ]
  },
  {
   "cell_type": "markdown",
   "metadata": {},
   "source": [
    "## 16\n",
    "If we compare ids of the shallow and deep copies we see the shallow ids are the same, but the deep ids are different:"
   ]
  },
  {
   "cell_type": "code",
   "execution_count": null,
   "metadata": {},
   "outputs": [],
   "source": [
    "import copy\n",
    "x = [[10,11],[20,21],[30,31],[40,41],[50,51]]\n",
    "shallow = copy.copy(x)\n",
    "deep = copy.deepcopy(x)\n",
    "print(\"shallow:\", id(x[0]), id(shallow[0]))\n",
    "print(\"deep:   \", id(x[0]), id(deep[0]))"
   ]
  },
  {
   "cell_type": "markdown",
   "metadata": {},
   "source": [
    "## 17\n",
    "In addition to copying lists, there are several other methods (functions) that work on lists.  Here we consider a few of the more important ones.  \n",
    "\n",
    "Full documentaion can be found at:\n",
    "https://docs.python.org/3/tutorial/datastructures.html\n",
    "\n",
    "Probably the most common method is append:"
   ]
  },
  {
   "cell_type": "code",
   "execution_count": null,
   "metadata": {},
   "outputs": [],
   "source": [
    "a = [10, 20, 30, 40]\n",
    "a.append(99)\n",
    "print(a)"
   ]
  },
  {
   "cell_type": "markdown",
   "metadata": {},
   "source": [
    "## 18\n",
    "Append adds a single item to the list; if we want to append another list we use extend:"
   ]
  },
  {
   "cell_type": "code",
   "execution_count": null,
   "metadata": {},
   "outputs": [],
   "source": [
    "a = [10, 20, 30, 40]\n",
    "b = [50, 51, 52]\n",
    "a.extend(b)\n",
    "print(a)"
   ]
  },
  {
   "cell_type": "markdown",
   "metadata": {},
   "source": [
    "## 19\n",
    "We can check if an item is present in a list:"
   ]
  },
  {
   "cell_type": "code",
   "execution_count": null,
   "metadata": {},
   "outputs": [],
   "source": [
    "a = [10, 20, 30, 40]\n",
    "if 20 in a:\n",
    "    print(\"20 is in list\")\n",
    "else:\n",
    "    print(\"20 is NOT in list\")"
   ]
  },
  {
   "cell_type": "markdown",
   "metadata": {},
   "source": [
    "## 20\n",
    "To remove an item from a list:"
   ]
  },
  {
   "cell_type": "code",
   "execution_count": null,
   "metadata": {},
   "outputs": [],
   "source": [
    "a = [10, 20, 30, 40]\n",
    "a.pop(2)\n",
    "print(a)"
   ]
  },
  {
   "cell_type": "markdown",
   "metadata": {},
   "source": [
    "## 21\n",
    "Your can sort a list in-place:"
   ]
  },
  {
   "cell_type": "code",
   "execution_count": null,
   "metadata": {},
   "outputs": [],
   "source": [
    "a = [\"Red\", \"Blue\", \"Green\", \"Purple\", \"Brown\"]\n",
    "a.sort()\n",
    "print(a)"
   ]
  },
  {
   "cell_type": "markdown",
   "metadata": {},
   "source": [
    "## 22\n",
    "As stated above, there are many other list methods.  \n",
    "\n",
    "Let's look at one final handy feature: converting between strings and lists using \"split\".  By default, split uses a spce as a delimiter.  Consult the documentation for alternative delimiters. "
   ]
  },
  {
   "cell_type": "code",
   "execution_count": null,
   "metadata": {},
   "outputs": [],
   "source": [
    "s = \"The quick brown fox jumps over the lazy dog\"\n",
    "l = s.split()\n",
    "print(f\"l = {l}\")"
   ]
  },
  {
   "cell_type": "markdown",
   "metadata": {},
   "source": [
    "## 23\n",
    "And in the other direction we use \"join\".  \n",
    "\n",
    "join is actually a method of the string class, so we use the notation <pre>\" \".join(...)</pre>\n",
    "\n",
    "The list is passed as a parameter to join."
   ]
  },
  {
   "cell_type": "code",
   "execution_count": null,
   "metadata": {},
   "outputs": [],
   "source": [
    "l = ['The', 'quick', 'brown', 'fox', 'jumps', 'over', 'the', 'lazy', 'dog']\n",
    "s = \" \".join(l)\n",
    "print(s)"
   ]
  }
 ],
 "metadata": {
  "kernelspec": {
   "display_name": "Python 3",
   "language": "python",
   "name": "python3"
  },
  "language_info": {
   "codemirror_mode": {
    "name": "ipython",
    "version": 3
   },
   "file_extension": ".py",
   "mimetype": "text/x-python",
   "name": "python",
   "nbconvert_exporter": "python",
   "pygments_lexer": "ipython3",
   "version": "3.7.1"
  }
 },
 "nbformat": 4,
 "nbformat_minor": 4
}
