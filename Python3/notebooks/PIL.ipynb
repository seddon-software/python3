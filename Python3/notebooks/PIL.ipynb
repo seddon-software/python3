{
 "cells": [
  {
   "cell_type": "markdown",
   "metadata": {},
   "source": [
    "<div style=\"color:red;background-color:black\">\n",
    "Diamond Light Source\n",
    "\n",
    "<h1 style=\"color:red;background-color:antiquewhite\"> Python Fundamentals: PIL</h1>  \n",
    "\n",
    "©2000-20 Chris Seddon \n",
    "</div>"
   ]
  },
  {
   "cell_type": "markdown",
   "metadata": {},
   "source": [
    "## 1\n",
    "Execute the following cell to activate styling for this tutorial"
   ]
  },
  {
   "cell_type": "code",
   "execution_count": null,
   "metadata": {},
   "outputs": [],
   "source": [
    "from IPython.display import HTML, Image\n",
    "HTML(f\"<style>{open('my.css').read()}</style>\")    "
   ]
  },
  {
   "cell_type": "markdown",
   "metadata": {},
   "source": [
    "## 2\n",
    "The Python Imaging Library (PIL) is a simple library used for peforming simple transformations on images.  Normally PIL works without recourse to any other libraries, but PIL doesn't display the images inline in the notebook.  Because of this we will use Jupyter notebook's internal \"display\" method to display images.  \n",
    "\n",
    "Be prepared to wait for the images to appear.  Jupyter notebook can be slow when displaying images (~ 10 secs).\n",
    "\n",
    "Here is our first example that displays a plastic container.  Note that the line:<pre>image.show()</pre> has been replaced by <pre>display(image)</pre> as dicussed above:"
   ]
  },
  {
   "cell_type": "code",
   "execution_count": null,
   "metadata": {},
   "outputs": [],
   "source": [
    "import PIL.Image\n",
    "\n",
    "try:\n",
    "    image = PIL.Image.open(\"images/plastic_container.jpg\")\n",
    "    #image.show()       # this works, but not inline in the notebook\n",
    "    #display(image)\n",
    "except IOError as e:\n",
    "    print(e)\n",
    "display(image)"
   ]
  },
  {
   "cell_type": "markdown",
   "metadata": {},
   "source": [
    "## 3\n",
    "Here we use PIL to create a mirror image of our plastic container.  In order to simplify the coding, we'll drop the try block and assume our images are available in the\"images\" directory.\n",
    "\n",
    "If the image is to be displayed as the last line of our code we can just say<pre>image</pre>rather than<pre>display(image)</pre>"
   ]
  },
  {
   "cell_type": "code",
   "execution_count": null,
   "metadata": {},
   "outputs": [],
   "source": [
    "from PIL import Image\n",
    "\n",
    "image = Image.open(\"images/plastic_container.jpg\")\n",
    "image = image.transpose(Image.FLIP_LEFT_RIGHT)\n",
    "image"
   ]
  },
  {
   "cell_type": "markdown",
   "metadata": {},
   "source": [
    "## 4\n",
    "If we want to save the modified image we can use:<pre>image.save(outfile, \"JPEG\")</pre>"
   ]
  },
  {
   "cell_type": "code",
   "execution_count": null,
   "metadata": {},
   "outputs": [],
   "source": [
    "from PIL import Image\n",
    "\n",
    "image = Image.open(\"images/plastic_container.jpg\")\n",
    "image = image.transpose(Image.FLIP_LEFT_RIGHT)\n",
    "image.save(\"images/mirror_image.jpg\", \"JPEG\")\n",
    "print(\"image saved to disk\")"
   ]
  },
  {
   "cell_type": "markdown",
   "metadata": {},
   "source": [
    "## 5\n",
    "Let's check it worked:"
   ]
  },
  {
   "cell_type": "code",
   "execution_count": null,
   "metadata": {},
   "outputs": [],
   "source": [
    "from PIL import Image\n",
    "\n",
    "image = Image.open(\"images/mirror_image.jpg\")\n",
    "image"
   ]
  },
  {
   "cell_type": "markdown",
   "metadata": {},
   "source": [
    "## 6\n",
    "Let's try a different image and print its size.  This one's from the New York Macy's parade:"
   ]
  },
  {
   "cell_type": "code",
   "execution_count": null,
   "metadata": {},
   "outputs": [],
   "source": [
    "from PIL import Image\n",
    "\n",
    "image = Image.open(\"images/macy_parade.jpg\")\n",
    "print(image.size)\n",
    "image"
   ]
  },
  {
   "cell_type": "markdown",
   "metadata": {},
   "source": [
    "## 7\n",
    "PIL makes it easy to crop an image by defining a cropping box.  This box defines coordinates as follows<pre>(left, top, right, bottom)</pre>\n",
    "\n",
    "Note that Jupyter notebook changes the image size automatically (but PIL doesn't):"
   ]
  },
  {
   "cell_type": "code",
   "execution_count": null,
   "metadata": {},
   "outputs": [],
   "source": [
    "from PIL import Image\n",
    "\n",
    "image = Image.open(\"images/macy_parade.jpg\")\n",
    "print(f\"size before cropping = {image.size}\")\n",
    "box = (800, 300, 1500, 800)\n",
    "image = image.crop(box)\n",
    "print(f\"size after cropping = {image.size}\")\n",
    "image"
   ]
  },
  {
   "cell_type": "markdown",
   "metadata": {},
   "source": [
    "## 8\n",
    "PIL can create thumbnails:"
   ]
  },
  {
   "cell_type": "code",
   "execution_count": null,
   "metadata": {},
   "outputs": [],
   "source": [
    "from PIL import Image\n",
    "\n",
    "image = Image.open(\"images/macy_parade.jpg\")\n",
    "size = (128, 128)\n",
    "image.thumbnail(size)\n",
    "image"
   ]
  },
  {
   "cell_type": "markdown",
   "metadata": {},
   "source": [
    "## 9\n",
    "The merge option in PIL allows us to change the RGB pixels.  In this example we extract the red, green and blue components and then merge them as green (in red channel), blue (in green channel) and green again (in blue channel) to give a psychedelic effect: "
   ]
  },
  {
   "cell_type": "code",
   "execution_count": null,
   "metadata": {},
   "outputs": [],
   "source": [
    "from PIL import Image\n",
    "\n",
    "image = Image.open(\"images/macy_parade.jpg\")\n",
    "r, g, b = image.split()\n",
    "image = Image.merge(\"RGB\", (g, b, g))\n",
    "image"
   ]
  },
  {
   "cell_type": "markdown",
   "metadata": {},
   "source": [
    "## 10\n",
    "Now we'll rotate the image by 45 degrees:"
   ]
  },
  {
   "cell_type": "code",
   "execution_count": null,
   "metadata": {},
   "outputs": [],
   "source": [
    "from PIL import Image\n",
    "\n",
    "image = Image.open(\"images/macy_parade.jpg\")\n",
    "image = image.rotate(45)\n",
    "image"
   ]
  },
  {
   "cell_type": "markdown",
   "metadata": {},
   "source": [
    "## 11\n",
    "This is how to resize the image:"
   ]
  },
  {
   "cell_type": "code",
   "execution_count": null,
   "metadata": {},
   "outputs": [],
   "source": [
    "from PIL import Image\n",
    "\n",
    "image = Image.open(\"images/macy_parade.jpg\")\n",
    "image = image.resize((250, 250))\n",
    "image"
   ]
  },
  {
   "cell_type": "markdown",
   "metadata": {},
   "source": [
    "## 12\n",
    "PIL can convert a color image to greyscale (mode \"L\").  The library uses the luma transform:<pre>\n",
    "L = R * 299/1000 + G * 587/1000 + B * 114/1000</pre>"
   ]
  },
  {
   "cell_type": "code",
   "execution_count": null,
   "metadata": {},
   "outputs": [],
   "source": [
    "from PIL import Image\n",
    "\n",
    "image = Image.open(\"images/macy_parade.jpg\")\n",
    "image = image.convert(\"L\")\n",
    "image"
   ]
  },
  {
   "cell_type": "markdown",
   "metadata": {},
   "source": [
    "## 13\n",
    "Rather than greyscale, you might want black and white (mode \"1\").  The resulting image appears 'grainy':"
   ]
  },
  {
   "cell_type": "code",
   "execution_count": null,
   "metadata": {},
   "outputs": [],
   "source": [
    "from PIL import Image\n",
    "\n",
    "image = Image.open(\"images/macy_parade.jpg\")\n",
    "image = image.convert(\"1\")\n",
    "image"
   ]
  },
  {
   "cell_type": "markdown",
   "metadata": {},
   "source": [
    "## 14\n",
    "You can blurr an image using \"filter\"; the effect is slight.  I've blurred the image 20 times to enhance the effect: "
   ]
  },
  {
   "cell_type": "code",
   "execution_count": null,
   "metadata": {},
   "outputs": [],
   "source": [
    "from PIL import Image, ImageFilter\n",
    "\n",
    "image = Image.open(\"images/macy_parade.jpg\")\n",
    "for i in range(20):\n",
    "    print(\".\", end=' ')\n",
    "    image = image.filter(ImageFilter.BLUR)\n",
    "image"
   ]
  },
  {
   "cell_type": "markdown",
   "metadata": {},
   "source": [
    "## 15\n",
    "Finally, we'll create a contour of the image (picking out lines):"
   ]
  },
  {
   "cell_type": "code",
   "execution_count": null,
   "metadata": {},
   "outputs": [],
   "source": [
    "from PIL import Image, ImageFilter\n",
    "\n",
    "image = Image.open(\"images/macy_parade.jpg\")\n",
    "image = image.filter(ImageFilter.CONTOUR)\n",
    "image"
   ]
  }
 ],
 "metadata": {
  "kernelspec": {
   "display_name": "Python 3",
   "language": "python",
   "name": "python3"
  },
  "language_info": {
   "codemirror_mode": {
    "name": "ipython",
    "version": 3
   },
   "file_extension": ".py",
   "mimetype": "text/x-python",
   "name": "python",
   "nbconvert_exporter": "python",
   "pygments_lexer": "ipython3",
   "version": "3.7.1"
  }
 },
 "nbformat": 4,
 "nbformat_minor": 4
}
