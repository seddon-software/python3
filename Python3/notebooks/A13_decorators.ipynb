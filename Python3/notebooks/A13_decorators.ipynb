{
 "cells": [
  {
   "cell_type": "markdown",
   "metadata": {},
   "source": [
    "<div style=\"color:red;background-color:black\">\n",
    "Diamond Light Source\n",
    "\n",
    "<h1 style=\"color:red;background-color:antiquewhite\"> Python Language: Decorators</h1>  \n",
    "\n",
    "©2000-20 Chris Seddon \n",
    "</div>"
   ]
  },
  {
   "cell_type": "markdown",
   "metadata": {},
   "source": [
    "## 1\n",
    "Execute the following cell to activate styling for this tutorial"
   ]
  },
  {
   "cell_type": "code",
   "execution_count": null,
   "metadata": {},
   "outputs": [],
   "source": [
    "from IPython.display import HTML\n",
    "HTML(f\"<style>{open('my.css').read()}</style>\")"
   ]
  },
  {
   "cell_type": "markdown",
   "metadata": {},
   "source": [
    "## 2\n",
    "In this tutorial we will be investigation decorators - how to create and use them and what they bring to Python.  Decorators are used to modify or enhance what a function can do.  Essentially, decorators replace a function with an enhanced version.  The enhanced function usually calls the original function as part of its functionality, but also provides extra features.  \n",
    "\n",
    "Think of a Christmas tree just bought from the shop.  What we want to do is decorate the tree with lights, tinsel and baubles.  We then have an enhanced or decorated tree.\n",
    "\n",
    "Getting back to Python, let's take a look at how to create a simple decorator.  We will be creating a \"trace\" decorator.  This decorator will print a trace followed by calling the function the decorator replaces.  But first, let's create 3 functions that will end up being decorated:"
   ]
  },
  {
   "cell_type": "code",
   "execution_count": null,
   "metadata": {},
   "outputs": [],
   "source": [
    "def square(x): \n",
    "    return x**2\n",
    "\n",
    "def cube(x):\n",
    "    return x**3\n",
    "    \n",
    "def quad(x):\n",
    "    return x**4"
   ]
  },
  {
   "cell_type": "markdown",
   "metadata": {},
   "source": [
    "## 3\n",
    "A decorator is itself a function - its name can be any legal name.  What is important is that all decorators follow a definite pattern.  This pattern is in 3 parts:\n",
    "\n",
    "* the decorator will take the original function as a parameter\n",
    "* the decorator will define a local pointer to an enhanced function\n",
    "* the decorator will return the local pointer\n",
    "\n",
    "Thus a decorator's input is an 'old' function and its output is a 'new' function.  \n",
    "The decorator will look like:"
   ]
  },
  {
   "cell_type": "code",
   "execution_count": null,
   "metadata": {},
   "outputs": [],
   "source": [
    "def trace(fn):         # input is the original 'old' function\n",
    "    def enhanced(n):   # define a local function that calls the old function\n",
    "        print(\"this will be the trace\")\n",
    "        return fn(n)   # call the 'old' function\n",
    "    return enhanced    # return the 'new' function"
   ]
  },
  {
   "cell_type": "markdown",
   "metadata": {},
   "source": [
    "## 4\n",
    "We will be changing the print statement above in the final version of the decorator, but it will suffice for now.  Note that the local function in the decorator has the same signature as our 3 sample functions above (square, cube and quad).  This is because the \"enhance\" function will replace one of the sample functions and therefore should have the same set of parameters.  \n",
    "\n",
    "Let's see what happens when we call \"trace\" with the same functions as parameters:"
   ]
  },
  {
   "cell_type": "code",
   "execution_count": null,
   "metadata": {
    "slideshow": {
     "slide_type": "slide"
    }
   },
   "outputs": [],
   "source": [
    "print( trace(square) )\n",
    "print( trace(cube) )\n",
    "print( trace(quad) )"
   ]
  },
  {
   "cell_type": "markdown",
   "metadata": {},
   "source": [
    "## 5\n",
    "As expected \"trace\" returns a pointer to the \"enhance\" function in each case.  Given that \"trace\" returns a function pointer taking one parameter, we can call it by passing a single number.  Each of the sample functions will behave similarly, so we will choose \"cube\" to show what is happening."
   ]
  },
  {
   "cell_type": "code",
   "execution_count": null,
   "metadata": {},
   "outputs": [],
   "source": [
    "f = trace(cube)    # get a pointer to the decorator's 'new' function\n",
    "print( f(5) )      # call this function"
   ]
  },
  {
   "cell_type": "markdown",
   "metadata": {},
   "source": [
    "## 6\n",
    "The pointer \"f\" can be omitted in the above example if we combine the two lines.  This gives rise to a 2 sets of brackets.  Unusual, but logical, since we have 2 nested functions in the decorator."
   ]
  },
  {
   "cell_type": "code",
   "execution_count": null,
   "metadata": {},
   "outputs": [],
   "source": [
    "print( trace(cube)(5) )"
   ]
  },
  {
   "cell_type": "markdown",
   "metadata": {},
   "source": [
    "## 7\n",
    "Now let's improve the print statement giving rise to the trace:"
   ]
  },
  {
   "cell_type": "code",
   "execution_count": null,
   "metadata": {},
   "outputs": [],
   "source": [
    "def trace(fn):\n",
    "    def enhanced(n):\n",
    "        print(f\"calling cube with parameter {n}\")\n",
    "        return fn(n)\n",
    "    return enhanced\n",
    "\n",
    "print( trace(cube)(5) )"
   ]
  },
  {
   "cell_type": "markdown",
   "metadata": {
    "slideshow": {
     "slide_type": "subslide"
    }
   },
   "source": [
    "## 8\n",
    "This will only work with \"cube\".  We can do better than that of course:"
   ]
  },
  {
   "cell_type": "code",
   "execution_count": null,
   "metadata": {},
   "outputs": [],
   "source": [
    "def trace(fn):\n",
    "    def enhanced(n):\n",
    "        print(f\"calling {fn} with parameter {n}\")\n",
    "        return fn(n)\n",
    "    return enhanced\n",
    "\n",
    "print( trace(square)(5) )\n",
    "print( trace(cube)(5) )\n",
    "print( trace(quad)(5) )"
   ]
  },
  {
   "cell_type": "markdown",
   "metadata": {
    "slideshow": {
     "slide_type": "subslide"
    }
   },
   "source": [
    "## 9\n",
    "As a refinement we can use <pre>fn.\\__name__</pre> which returns just the name of the function."
   ]
  },
  {
   "cell_type": "code",
   "execution_count": null,
   "metadata": {},
   "outputs": [],
   "source": [
    "def trace(fn):\n",
    "    def enhanced(n):\n",
    "        print(f\"calling {fn.__name__}({n})\")\n",
    "        return fn(n)\n",
    "    return enhanced\n",
    "\n",
    "print( trace(square)(5) )\n",
    "print( trace(cube)(5) )\n",
    "print( trace(quad)(5) )"
   ]
  },
  {
   "cell_type": "markdown",
   "metadata": {
    "slideshow": {
     "slide_type": "subslide"
    }
   },
   "source": [
    "## 10\n",
    "Using the double set of brackets as in the above example is how \"Functional\" Python works.  Some programmers are unfamiliar with this programming paradigm and feel uncomfortable calling functions in this way.  Because of this Python adds some \"syntax sugar\" to make this more palatable at the expense of clarity.  \n",
    "\n",
    "The idea is to use the syntax <pre>@trace</pre>\n",
    "in front of our sample functions to automatically call the \"trace\" function whenever a normal call is made.  Thus the following complete example is equivalent to the \"Functional\" code above."
   ]
  },
  {
   "cell_type": "code",
   "execution_count": null,
   "metadata": {},
   "outputs": [],
   "source": [
    "def trace(fn):\n",
    "    def enhanced(n):\n",
    "        print(f\"calling {fn.__name__}({n})\")\n",
    "        return fn(n)\n",
    "    return enhanced\n",
    "\n",
    "@trace\n",
    "def square(x): \n",
    "    return x**2\n",
    "\n",
    "@trace\n",
    "def cube(x):\n",
    "    return x**3\n",
    "    \n",
    "@trace\n",
    "def quad(x):\n",
    "    return x**4\n",
    "\n",
    "print( square(5) )\n",
    "print( cube(5) )\n",
    "print( quad(5) )"
   ]
  },
  {
   "cell_type": "markdown",
   "metadata": {
    "slideshow": {
     "slide_type": "subslide"
    }
   },
   "source": [
    "## 11\n",
    "Using the @ notation simplifies the code and only a single set of brackets is required in the call.  While this is simpler, it masks the fact that \"trace\" is called each time.  The fact that \"trace\" is called is obvious in the \"Functional\" code.  When we say we have a decorator we normally mean we will use the @ notation rather than its \"Functional\" equivalent.\n",
    "\n",
    "This completes our simple decorator.  \n",
    "\n",
    "Decorators can be much more complicated than this, but all follow the basic design that you pass an 'old' function and get back a 'new' function.  \n",
    "\n",
    "Several decorators are provided as part of the Python standard library and many others are defined in third party libraries.  Decorators come in all shapes and sizes, so we will only be able to touch the surface with our examples.\n",
    "\n",
    "One of my favourite decorators is \"memoizer\".  This decorator is used to improve performance on recursive algorithms like generating Fibonacci numbers.  What we find with algorithms like this is that the recursion often recalculates the same Fibonacci number over and over again.\n",
    "\n",
    "Here is a recursive Fibonacci function in which we print a message if n equals 5.  We can then see how many times F(5) is calculated as part of evaluating F(6) through F(13):"
   ]
  },
  {
   "cell_type": "code",
   "execution_count": null,
   "metadata": {
    "scrolled": true,
    "slideshow": {
     "slide_type": "slide"
    }
   },
   "outputs": [],
   "source": [
    "def F(n):\n",
    "    if n==5: print(\"5\", end=\",\")\n",
    "    return n if n < 2 else F(n-1) + F(n-2)\n",
    "\n",
    "print( F(6) )\n",
    "print( F(7) )\n",
    "print( F(8) )\n",
    "print( F(9) )\n",
    "print( F(10) )\n",
    "print( F(11) )\n",
    "print( F(12) )\n",
    "print( F(13) )"
   ]
  },
  {
   "cell_type": "markdown",
   "metadata": {},
   "source": [
    "## 12\n",
    "As you can see F(5) is calculated numerous times.  If you count the 5s you find that for each Fibonacci calculation we find F(5) is calculated:\n",
    "\n",
    "* F(6): 1 time\n",
    "* F(7): 2 times\n",
    "* F(8): 3 times\n",
    "* F(9): 5 times\n",
    "* F(10): 8 times\n",
    "* F(11): 13 times\n",
    "* F(12): 21 times\n",
    "* F(13): 34 times\n",
    "\n",
    "I think I've seen those numbers before!\n",
    "\n",
    "The idea behind \"memoizer\" is to avoid all these repeat calculations.  Instead, when each F(n) is calculated for the first time, it is placed in a cache.  Then subsequence calculations can read F(n) from the cache rather than recalculate it.  This speeds things up a great deal.\n",
    "\n",
    "Let's create two versions of F(n), one using the memoizer and one not.  We can then compare timings.  But first, here is the \"memoize\" decorator:"
   ]
  },
  {
   "cell_type": "code",
   "execution_count": null,
   "metadata": {},
   "outputs": [],
   "source": [
    "def memoize(f):\n",
    "    cache = {}\n",
    "    def inner(n):\n",
    "        if n in cache:\n",
    "            return cache[n]\n",
    "        else:\n",
    "            cache[n] = f(n)\n",
    "            return cache[n]\n",
    "    return inner"
   ]
  },
  {
   "cell_type": "markdown",
   "metadata": {},
   "source": [
    "## 13\n",
    "Now let's do the timings.  We are going to calculate F(8) one million times to get accurate timings.  In turns out that the non \"memoize\" function is far too slow for larger values, but 8 is a rasonable compromize: "
   ]
  },
  {
   "cell_type": "code",
   "execution_count": null,
   "metadata": {},
   "outputs": [],
   "source": [
    "@memoize\n",
    "def fib(n):\n",
    "    return n if n < 2 else fib(n-1) + fib(n-2)\n",
    "\n",
    "def Fib(n):\n",
    "    return n if n < 2 else Fib(n-1) + Fib(n-2)\n",
    "\n",
    "import timeit, sys\n",
    "sys.setrecursionlimit(20000)  \n",
    "print( f\"with memoize: {timeit.timeit(stmt='fib(8)', setup='from __main__ import fib', number=1000000)}\" )\n",
    "print( f\"using recursion: {timeit.timeit(stmt='Fib(8)', setup='from __main__ import Fib', number=1000000)}\" )\n"
   ]
  },
  {
   "cell_type": "markdown",
   "metadata": {},
   "source": [
    "## 14\n",
    "The \"memoize\" function saves a huge amount of time even on small values of n.  The effect is much bigger as n increases.  \n",
    "\n",
    "Next we will look at a built-in decorator, the so called \"property\" decorator.  We define a class called \"Circle\" that defines 2 decorator methods:<pre>area\n",
    "perimeter</pre>\n",
    "\n",
    "The idea behind this decorator is to make method calls look like attributes (we can leave off the brackets in the method call):"
   ]
  },
  {
   "cell_type": "code",
   "execution_count": null,
   "metadata": {},
   "outputs": [],
   "source": [
    "import math\n",
    "\n",
    "class Circle(object):\n",
    "    def __init__(self, radius):\n",
    "        self.radius = radius\n",
    "\n",
    "    # computed properties (and hence read only)\n",
    "    @property\n",
    "    def area(self):\n",
    "        return math.pi*self.radius**2\n",
    "    \n",
    "    @property\n",
    "    def perimeter(self):\n",
    "        return 2*math.pi*self.radius"
   ]
  },
  {
   "cell_type": "markdown",
   "metadata": {},
   "source": [
    "## 15\n",
    "Let's create circle objects and access the methods as though they were attributes:"
   ]
  },
  {
   "cell_type": "code",
   "execution_count": null,
   "metadata": {},
   "outputs": [],
   "source": [
    "circle1 = Circle(10.0)\n",
    "circle2 = Circle(20.0)\n",
    "circle3 = Circle(30.0)\n",
    "\n",
    "print(circle1.radius)\n",
    "print(circle1.area)\n",
    "print(circle1.perimeter)\n",
    "print()\n",
    "\n",
    "print(circle2.radius)\n",
    "print(circle2.area)\n",
    "print(circle2.perimeter)\n",
    "print()\n",
    "\n",
    "print(circle3.radius)\n",
    "print(circle3.area)\n",
    "print(circle3.perimeter)"
   ]
  },
  {
   "cell_type": "markdown",
   "metadata": {},
   "source": [
    "## 16\n",
    "In the above code looks as though the \"Circle\" objects have 3 attributes.  In fact, by looking at the code we know there is only one attribute.  The other \"attributes\" are really methods that fetch the calculated values and hence are read only.  It's as if these are computed attribues.\n",
    "\n",
    "We can verify there is only one attribute by looking at the objects dictionaries:"
   ]
  },
  {
   "cell_type": "code",
   "execution_count": null,
   "metadata": {},
   "outputs": [],
   "source": [
    "print(f\"circle1's dict: {circle1.__dict__}\")\n",
    "print(f\"circle2's dict: {circle2.__dict__}\")\n",
    "print(f\"circle3's dict: {circle3.__dict__}\")"
   ]
  },
  {
   "cell_type": "markdown",
   "metadata": {},
   "source": [
    "## 17\n",
    "A related decorator is the \"property setter\" decorator.  This builds on the \"property\" decorator and allows us to set values as well as read values.   \n",
    "\n",
    "With the setter decorator we can attempt to modify these \"imaginary\" attributes.  Note however, there is only one real attribute <pre>theRadius</pre>\n",
    "Therefore the setter decorator, despite appearances, must modify this real attribute.  We use floats to modify \"circle1\" and \"circle2\", but with \"circle3\" we attempt to change this attribute to a nonsensical value (a string); we arrange for the setter decorator to raise an exception in this case."
   ]
  },
  {
   "cell_type": "code",
   "execution_count": null,
   "metadata": {},
   "outputs": [],
   "source": [
    "class Circle(object):\n",
    "    def __init__(self, radius):\n",
    "        self.theRadius = radius\n",
    "\n",
    "    @property\n",
    "    def radius(self):\n",
    "        return self.theRadius\n",
    "    \n",
    "    @radius.setter      # version 2.6\n",
    "    def radius(self, value):\n",
    "        if not isinstance(value, float):\n",
    "            raise TypeError(\"Must be a float\")\n",
    "        self.theRadius = value\n",
    "\n",
    "circle1 = Circle(10.0)\n",
    "circle2 = Circle(20.0)\n",
    "circle3 = Circle(30.0)\n",
    "\n",
    "circle1.radius = 15.0\n",
    "print(circle1.radius)\n",
    "\n",
    "circle2.radius = 25.0\n",
    "print(circle2.radius)\n",
    "\n",
    "try:\n",
    "    circle3.radius = \"big\"\n",
    "except TypeError as e:\n",
    "    print(e)"
   ]
  },
  {
   "cell_type": "markdown",
   "metadata": {},
   "source": [
    "## 18\n",
    "Amongst the many other examples we could look at, I'll bring your attention to a decorator with parameters.\n",
    "\n",
    "Consider this \"logging\" decorator.  This is an enhanced version of the \"trace\" decorator we saw earlier.  The parameter is passed to the decorator via an outer function called \"log\".  The rest of the decorator is defined on familiar lines.  "
   ]
  },
  {
   "cell_type": "code",
   "execution_count": null,
   "metadata": {},
   "outputs": [],
   "source": [
    "import logging\n",
    "\n",
    "# define a parameterized decorator\n",
    "def log(level):\n",
    "    def logit(fn):\n",
    "        def enhance(x):\n",
    "            message = f\"calling {fn.__name__}({x})\"\n",
    "            if(level == logging.DEBUG):    logging.debug(message)\n",
    "            if(level == logging.INFO):     logging.info(message)\n",
    "            if(level == logging.WARNING):  logging.warning(message)\n",
    "            if(level == logging.ERROR):    logging.error(message)\n",
    "            if(level == logging.CRITICAL): logging.critical(message)\n",
    "            return fn(x)\n",
    "        return enhance\n",
    "    return logit\n",
    " \n",
    "@log(logging.WARNING)\n",
    "def square(x): \n",
    "    return x**2\n",
    "@log(logging.DEBUG)\n",
    "def cube(x):\n",
    "    return x**3\n",
    "@log(logging.CRITICAL)\n",
    "def quad(x):\n",
    "    return x**4"
   ]
  },
  {
   "cell_type": "markdown",
   "metadata": {},
   "source": [
    "## 19\n",
    "A little information about logging would be useful here.  The \"logging\" module defines 5 logging levels from the least important, \"DEBUG\", all the way up to \"CRITICAL\":\n",
    "\n",
    "* DEBUG\n",
    "* INFO\n",
    "* WARNING\n",
    "* ERROR\n",
    "* CRITICAL\n",
    "\n",
    "The calling program has to set the desired level of logging using <pre>logging.basicConfig(level=logging.CRITICAL)\n",
    "</pre>\n",
    "and then all calls of this level and above will be recorded.\n",
    "\n",
    "Suppose we start with setting logging to the \"DEBUG\" level.  This means all levels of logging will be recorded:"
   ]
  },
  {
   "cell_type": "code",
   "execution_count": null,
   "metadata": {},
   "outputs": [],
   "source": [
    "logging.basicConfig(level=logging.DEBUG)\n",
    "\n",
    "print(square(4))\n",
    "print(cube(5))\n",
    "print(quad(10))"
   ]
  },
  {
   "cell_type": "markdown",
   "metadata": {},
   "source": [
    "## 20\n",
    "Now suppose we set the logging level to \"WARNING\".  This will mean \"ERROR\" and \"CRITICAL\" levels will also be recorded, but not \"DEBUG\" and \"INFO\".\n",
    "\n",
    "Note, because of the way Jupyter notebooks works, we have to reload the \"logging\" module to reset this module.  \n",
    "<pre>import importlib\n",
    "importlib.reload(logging)</pre>\n",
    "This would not be necessary when running Python normally. "
   ]
  },
  {
   "cell_type": "code",
   "execution_count": null,
   "metadata": {},
   "outputs": [],
   "source": [
    "import importlib\n",
    "importlib.reload(logging)\n",
    "\n",
    "logging.basicConfig(level=logging.WARNING)\n",
    "\n",
    "print(square(4))\n",
    "print(cube(5))\n",
    "print(quad(10))"
   ]
  },
  {
   "cell_type": "markdown",
   "metadata": {},
   "source": [
    "## 21\n",
    "Finally, let's raise the level to \"CRITICAL\":"
   ]
  },
  {
   "cell_type": "code",
   "execution_count": null,
   "metadata": {},
   "outputs": [],
   "source": [
    "import importlib\n",
    "importlib.reload(logging)\n",
    "\n",
    "logging.basicConfig(level=logging.CRITICAL)\n",
    "\n",
    "print(square(4))\n",
    "print(cube(5))\n",
    "print(quad(10))"
   ]
  }
 ],
 "metadata": {
  "kernelspec": {
   "display_name": "Python 3",
   "language": "python",
   "name": "python3"
  },
  "language_info": {
   "codemirror_mode": {
    "name": "ipython",
    "version": 3
   },
   "file_extension": ".py",
   "mimetype": "text/x-python",
   "name": "python",
   "nbconvert_exporter": "python",
   "pygments_lexer": "ipython3",
   "version": "3.7.1"
  }
 },
 "nbformat": 4,
 "nbformat_minor": 4
}
