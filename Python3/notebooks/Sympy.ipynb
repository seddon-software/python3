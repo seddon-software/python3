{
 "cells": [
  {
   "cell_type": "markdown",
   "metadata": {},
   "source": [
    "<div style=\"color:red;background-color:black\">\n",
    "Diamond Light Source\n",
    "\n",
    "<h1 style=\"color:red;background-color:antiquewhite\"> Python Fundamentals: Sympy</h1>  \n",
    "\n",
    "©2000-20 Chris Seddon \n",
    "</div>"
   ]
  },
  {
   "cell_type": "markdown",
   "metadata": {},
   "source": [
    "Execute the following cell to activate styling for this tutorial"
   ]
  },
  {
   "cell_type": "code",
   "execution_count": 1,
   "metadata": {},
   "outputs": [
    {
     "data": {
      "text/html": [
       "<style>/* GLOBALS */\n",
       "/* body {background-color: #f7f7f7;} */\n",
       ".text_cell {background-color: cornsilk;}\n",
       ".code_cell { background-color: lightskyblue; }\n",
       ".selected { background-color: peachpuff; }\n",
       ".output { background-color: aliceblue; }\n",
       "\n",
       "</style>"
      ],
      "text/plain": [
       "<IPython.core.display.HTML object>"
      ]
     },
     "execution_count": 1,
     "metadata": {},
     "output_type": "execute_result"
    }
   ],
   "source": [
    "from IPython.display import HTML\n",
    "HTML(f\"<style>{open('my.css').read()}</style>\")"
   ]
  },
  {
   "cell_type": "markdown",
   "metadata": {},
   "source": [
    "SymPy is an open-source Python library for symbolic computation.  In this tutorial we will be looking at how to use SymPy using various examples.  "
   ]
  },
  {
   "cell_type": "markdown",
   "metadata": {},
   "source": [
    "## Polynomials: 1\n",
    "Define a polynomial with three unknowns.  Note the fancy output:"
   ]
  },
  {
   "cell_type": "code",
   "execution_count": 2,
   "metadata": {},
   "outputs": [
    {
     "data": {
      "image/png": "[encoded data removed]",
      "text/latex": [
       "$$\\frac{5 y}{z} + 2 \\left(x - 3\\right)^{3}$$"
      ],
      "text/plain": [
       "5⋅y            3\n",
       "─── + 2⋅(x - 3) \n",
       " z              "
      ]
     },
     "execution_count": 2,
     "metadata": {},
     "output_type": "execute_result"
    }
   ],
   "source": [
    "import sympy\n",
    "sympy.init_printing()\n",
    "\n",
    "# define symbols\n",
    "x , y , z = sympy.symbols('x, y, z')\n",
    "\n",
    "# print polynominal \n",
    "2*(x - 3)**3 + 5*y/z"
   ]
  },
  {
   "cell_type": "markdown",
   "metadata": {},
   "source": [
    "## Polynomials: 2\n",
    "Use matplotlib to plot a cubic polynomial."
   ]
  },
  {
   "cell_type": "code",
   "execution_count": 3,
   "metadata": {},
   "outputs": [
    {
     "data": {
      "image/png": "[encoded data removed]",
      "text/plain": [
       "<Figure size 432x288 with 1 Axes>"
      ]
     },
     "metadata": {
      "needs_background": "light"
     },
     "output_type": "display_data"
    }
   ],
   "source": [
    "%matplotlib inline\n",
    "import numpy as np\n",
    "import pylab as plt\n",
    "X = np.arange(-50, 50, 0.01)\n",
    "Y = 2*(X-3)**3\n",
    "\n",
    "# plot the curve\n",
    "plt.plot(X, Y, color='red', lw=2)\n",
    "plt.grid()\n",
    "plt.show()"
   ]
  },
  {
   "cell_type": "markdown",
   "metadata": {},
   "source": [
    "## Polynomials: 3\n",
    "Expand a polynomial expression to standard form:"
   ]
  },
  {
   "cell_type": "code",
   "execution_count": 4,
   "metadata": {},
   "outputs": [
    {
     "data": {
      "image/png": "[encoded data removed]",
      "text/latex": [
       "$$2 x^{3} - 18 x^{2} + 54 x - 54$$"
      ],
      "text/plain": [
       "   3       2            \n",
       "2⋅x  - 18⋅x  + 54⋅x - 54"
      ]
     },
     "execution_count": 4,
     "metadata": {},
     "output_type": "execute_result"
    }
   ],
   "source": [
    "# expand expression\n",
    "(2*(x - 3)**3).expand()"
   ]
  },
  {
   "cell_type": "markdown",
   "metadata": {},
   "source": [
    "## Polynomials: 4\n",
    "Evaluate a polynomial expression when x = 10:"
   ]
  },
  {
   "cell_type": "code",
   "execution_count": 5,
   "metadata": {},
   "outputs": [
    {
     "data": {
      "image/png": "[encoded data removed]",
      "text/latex": [
       "$$\\left(2 y + 10\\right)^{2}$$"
      ],
      "text/plain": [
       "          2\n",
       "(2⋅y + 10) "
      ]
     },
     "execution_count": 5,
     "metadata": {},
     "output_type": "execute_result"
    }
   ],
   "source": [
    "# evaluate polynominal with a given value of x\n",
    "((x + 2*y)**2).subs(x, 10)"
   ]
  },
  {
   "cell_type": "markdown",
   "metadata": {},
   "source": [
    "## Polynomials: 5\n",
    "Evaluate a polynomial expression when x = 10 and y = 3:"
   ]
  },
  {
   "cell_type": "code",
   "execution_count": 6,
   "metadata": {},
   "outputs": [
    {
     "data": {
      "image/png": "[encoded data removed]",
      "text/latex": [
       "$$256$$"
      ],
      "text/plain": [
       "256"
      ]
     },
     "execution_count": 6,
     "metadata": {},
     "output_type": "execute_result"
    }
   ],
   "source": [
    "# evaluate polynominal with a given values of x and y\n",
    "((x + 2*y)**2).subs({x:10, y:3})"
   ]
  },
  {
   "cell_type": "markdown",
   "metadata": {},
   "source": [
    "## Polynomials: 5\n",
    "Evaluate a polynomial expression twice.  First substitute x = y and then set y = 3:"
   ]
  },
  {
   "cell_type": "code",
   "execution_count": 7,
   "metadata": {},
   "outputs": [
    {
     "data": {
      "image/png": "[encoded data removed]",
      "text/latex": [
       "$$36$$"
      ],
      "text/plain": [
       "36"
      ]
     },
     "execution_count": 7,
     "metadata": {},
     "output_type": "execute_result"
    }
   ],
   "source": [
    "# perform double substitution on expression \n",
    "((x + 2*y)**2).subs(x, y).subs(y, 2)"
   ]
  },
  {
   "cell_type": "markdown",
   "metadata": {},
   "source": [
    "## Rational Numbers: 1\n",
    "Sympy allows us to work with rational numbers (fractions):"
   ]
  },
  {
   "cell_type": "code",
   "execution_count": 8,
   "metadata": {},
   "outputs": [
    {
     "data": {
      "image/png": "[encoded data removed]",
      "text/latex": [
       "$$\\frac{7}{10}$$"
      ],
      "text/plain": [
       "7/10"
      ]
     },
     "execution_count": 8,
     "metadata": {},
     "output_type": "execute_result"
    }
   ],
   "source": [
    "from sympy import *\n",
    "import sympy\n",
    "sympy.init_printing()\n",
    "a, b = sympy.symbols('a, b')\n",
    "\n",
    "# print 0.7 as a fraction \n",
    "a = Rational(7, 10)\n",
    "a"
   ]
  },
  {
   "cell_type": "markdown",
   "metadata": {},
   "source": [
    "## Rational Numbers: 2\n",
    "Display a*b and a+b as fractions:"
   ]
  },
  {
   "cell_type": "code",
   "execution_count": 9,
   "metadata": {},
   "outputs": [
    {
     "data": {
      "image/png": "[encoded data removed]",
      "text/latex": [
       "$$\\left ( \\frac{63}{134}, \\quad \\frac{919}{670}\\right )$$"
      ],
      "text/plain": [
       "⎛ 63  919⎞\n",
       "⎜───, ───⎟\n",
       "⎝134  670⎠"
      ]
     },
     "execution_count": 9,
     "metadata": {},
     "output_type": "execute_result"
    }
   ],
   "source": [
    "# print an expression as a fraction \n",
    "a = Rational(7, 10)\n",
    "b = Rational (45 , 67)\n",
    "a * b, a + b"
   ]
  },
  {
   "cell_type": "markdown",
   "metadata": {},
   "source": [
    "## Rational Numbers: 3\n",
    "Display a*b as a float:"
   ]
  },
  {
   "cell_type": "code",
   "execution_count": 10,
   "metadata": {},
   "outputs": [
    {
     "data": {
      "image/png": "[encoded data removed]",
      "text/latex": [
       "$$1.371641791044776$$"
      ],
      "text/plain": [
       "1.371641791044776"
      ]
     },
     "execution_count": 10,
     "metadata": {},
     "output_type": "execute_result"
    }
   ],
   "source": [
    "# print same data as a float\n",
    "(float)(a + b)"
   ]
  },
  {
   "cell_type": "markdown",
   "metadata": {},
   "source": [
    "## Rational Numbers: 3\n",
    "Display a*b with 27 decimal places of precision:"
   ]
  },
  {
   "cell_type": "code",
   "execution_count": 11,
   "metadata": {},
   "outputs": [
    {
     "data": {
      "image/png": "[encoded data removed]",
      "text/latex": [
       "$$1.37164179104477611940298507$$"
      ],
      "text/plain": [
       "1.37164179104477611940298507"
      ]
     },
     "execution_count": 11,
     "metadata": {},
     "output_type": "execute_result"
    }
   ],
   "source": [
    "# print to 27 decimal places\n",
    "(a + b).evalf(27)"
   ]
  },
  {
   "cell_type": "markdown",
   "metadata": {},
   "source": [
    "## Differentiation: 1\n",
    "Find the differentional of sin(x):"
   ]
  },
  {
   "cell_type": "code",
   "execution_count": 12,
   "metadata": {},
   "outputs": [
    {
     "data": {
      "image/png": "[encoded data removed]",
      "text/latex": [
       "$$\\left ( \\frac{d}{d x} \\sin{\\left (x \\right )}, \\quad \\cos{\\left (x \\right )}\\right )$$"
      ],
      "text/plain": [
       "⎛d                 ⎞\n",
       "⎜──(sin(x)), cos(x)⎟\n",
       "⎝dx                ⎠"
      ]
     },
     "execution_count": 12,
     "metadata": {},
     "output_type": "execute_result"
    }
   ],
   "source": [
    "from sympy import Derivative, symbols, exp, sin, sqrt, diff\n",
    "import sympy\n",
    "sympy.init_printing()\n",
    "x, y = symbols('x, y')\n",
    "Derivative( sin(x), x ), diff( sin(x), x )"
   ]
  },
  {
   "cell_type": "markdown",
   "metadata": {},
   "source": [
    "## Differentiation: 2\n",
    "Find the differentional of a polynomial:"
   ]
  },
  {
   "cell_type": "code",
   "execution_count": 13,
   "metadata": {},
   "outputs": [
    {
     "data": {
      "image/png": "[encoded data removed]",
      "text/latex": [
       "$$\\left ( \\frac{\\partial}{\\partial x} \\left(x^{9} + 10 x^{2} + 3 x + 4 y + 10\\right), \\quad 9 x^{8} + 20 x + 3\\right )$$"
      ],
      "text/plain": [
       "⎛∂ ⎛ 9       2                 ⎞     8           ⎞\n",
       "⎜──⎝x  + 10⋅x  + 3⋅x + 4⋅y + 10⎠, 9⋅x  + 20⋅x + 3⎟\n",
       "⎝∂x                                              ⎠"
      ]
     },
     "execution_count": 13,
     "metadata": {},
     "output_type": "execute_result"
    }
   ],
   "source": [
    "expression = 10 + 3*x + 4*y + 10*x**2 + x**9\n",
    "Derivative(expression, x), diff(expression, x)"
   ]
  },
  {
   "cell_type": "markdown",
   "metadata": {},
   "source": [
    "## Differentiation: 3\n",
    "Differentiate and then evaluate a polynomial when x = 1.5:"
   ]
  },
  {
   "cell_type": "code",
   "execution_count": 14,
   "metadata": {},
   "outputs": [
    {
     "data": {
      "image/png": "[encoded data removed]",
      "text/latex": [
       "$$\\left ( \\frac{\\partial}{\\partial x} \\left(x^{9} + 10 x^{2} + 3 x + 4 y + 10\\right), \\quad 263.66015625\\right )$$"
      ],
      "text/plain": [
       "⎛∂ ⎛ 9       2                 ⎞              ⎞\n",
       "⎜──⎝x  + 10⋅x  + 3⋅x + 4⋅y + 10⎠, 263.66015625⎟\n",
       "⎝∂x                                           ⎠"
      ]
     },
     "execution_count": 14,
     "metadata": {},
     "output_type": "execute_result"
    }
   ],
   "source": [
    "# evaluate when x = 1.5\n",
    "expression = 10 + 3*x + 4*y + 10*x**2 + x**9\n",
    "Derivative(expression, x), diff(expression, x).subs(x, 1.5)"
   ]
  },
  {
   "cell_type": "markdown",
   "metadata": {},
   "source": [
    "## Differentiation: 4\n",
    "Differentiate an exponential expression:"
   ]
  },
  {
   "cell_type": "code",
   "execution_count": 15,
   "metadata": {},
   "outputs": [
    {
     "data": {
      "image/png": "[encoded data removed]",
      "text/latex": [
       "$$\\left ( \\frac{d}{d x} e^{- \\frac{x^{2}}{2}}, \\quad - x e^{- \\frac{x^{2}}{2}}\\right )$$"
      ],
      "text/plain": [
       "⎛  ⎛   2 ⎞        2 ⎞\n",
       "⎜  ⎜ -x  ⎟      -x  ⎟\n",
       "⎜  ⎜ ────⎟      ────⎟\n",
       "⎜d ⎜  2  ⎟       2  ⎟\n",
       "⎜──⎝ℯ    ⎠, -x⋅ℯ    ⎟\n",
       "⎝dx                 ⎠"
      ]
     },
     "execution_count": 15,
     "metadata": {},
     "output_type": "execute_result"
    }
   ],
   "source": [
    "Derivative(exp(-x**2/2), x), diff(exp(-x**2/2), x)"
   ]
  },
  {
   "cell_type": "markdown",
   "metadata": {},
   "source": [
    "## Differentiation: 5\n",
    "Triple differentiation:"
   ]
  },
  {
   "cell_type": "code",
   "execution_count": 16,
   "metadata": {},
   "outputs": [
    {
     "data": {
      "image/png": "[encoded data removed]",
      "text/latex": [
       "$$\\left ( \\frac{d^{3}}{d x^{3}} 3 x^{4}, \\quad 72 x\\right )$$"
      ],
      "text/plain": [
       "⎛  3            ⎞\n",
       "⎜ d ⎛   4⎞      ⎟\n",
       "⎜───⎝3⋅x ⎠, 72⋅x⎟\n",
       "⎜  3            ⎟\n",
       "⎝dx             ⎠"
      ]
     },
     "execution_count": 16,
     "metadata": {},
     "output_type": "execute_result"
    }
   ],
   "source": [
    "Derivative(3*x**4, x, x, x), diff(3*x**4, x, x, x)"
   ]
  },
  {
   "cell_type": "markdown",
   "metadata": {},
   "source": [
    "## Integration: 1\n",
    "Simple integration"
   ]
  },
  {
   "cell_type": "code",
   "execution_count": 17,
   "metadata": {},
   "outputs": [
    {
     "data": {
      "image/png": "[encoded data removed]",
      "text/latex": [
       "$$\\int x^{2}\\, dx = \\frac{x^{3}}{3}$$"
      ],
      "text/plain": [
       "⌠          3\n",
       "⎮  2      x \n",
       "⎮ x  dx = ──\n",
       "⌡         3 "
      ]
     },
     "execution_count": 17,
     "metadata": {},
     "output_type": "execute_result"
    }
   ],
   "source": [
    "import sympy\n",
    "from sympy import Integral, Eq, integrate, sin, exp\n",
    "sympy.init_printing()\n",
    "\n",
    "x, y, sigma = sympy.symbols('x, y, sigma')\n",
    "Eq(Integral(x**2, x), integrate(x**2, x))"
   ]
  },
  {
   "cell_type": "markdown",
   "metadata": {},
   "source": [
    "## Integration: 2\n",
    "Integration with two variables, x and y.  The variable x is considered constant:"
   ]
  },
  {
   "cell_type": "code",
   "execution_count": 18,
   "metadata": {},
   "outputs": [
    {
     "data": {
      "image/png": "[encoded data removed]",
      "text/latex": [
       "$$\\int x^{2}\\, dy = x^{2} y$$"
      ],
      "text/plain": [
       "⌠             \n",
       "⎮  2       2  \n",
       "⎮ x  dy = x ⋅y\n",
       "⌡             "
      ]
     },
     "execution_count": 18,
     "metadata": {},
     "output_type": "execute_result"
    }
   ],
   "source": [
    "Eq(Integral(x**2, y), integrate(x**2, y))"
   ]
  },
  {
   "cell_type": "markdown",
   "metadata": {},
   "source": [
    "## Integration: 3\n",
    "Integration with the same two variables, x and y.  This time we create tuple for the function and derivative variable of the form:<pre>t1 = ((sin(x), x)</pre>\n",
    "Recall that <pre>*t1</pre>\n",
    "expands the tuple.  x is variable in the first example, but constant in the second example:"
   ]
  },
  {
   "cell_type": "code",
   "execution_count": 19,
   "metadata": {},
   "outputs": [
    {
     "data": {
      "image/png": "[encoded data removed]",
      "text/latex": [
       "$$\\left ( \\int \\sin{\\left (x \\right )}\\, dx = - \\cos{\\left (x \\right )}, \\quad \\int \\sin{\\left (x \\right )}\\, dy = y \\sin{\\left (x \\right )}\\right )$$"
      ],
      "text/plain": [
       "⎛⌠                      ⌠                     ⎞\n",
       "⎜⎮ sin(x) dx = -cos(x), ⎮ sin(x) dy = y⋅sin(x)⎟\n",
       "⎝⌡                      ⌡                     ⎠"
      ]
     },
     "execution_count": 19,
     "metadata": {},
     "output_type": "execute_result"
    }
   ],
   "source": [
    "t1 = (sin(x), x)\n",
    "t2 = (sin(x), y)\n",
    "Eq(Integral(*t1), integrate(*t1)), Eq(Integral(*t2), integrate(*t2))"
   ]
  },
  {
   "cell_type": "markdown",
   "metadata": {},
   "source": [
    "## Integration: 4\n",
    "Integration with an exponential:"
   ]
  },
  {
   "cell_type": "code",
   "execution_count": 20,
   "metadata": {},
   "outputs": [
    {
     "data": {
      "image/png": "[encoded data removed]",
      "text/latex": [
       "$$\\int \\left(- x e^{- \\frac{x^{2}}{2}}\\right)\\, dx = e^{- \\frac{x^{2}}{2}}$$"
      ],
      "text/plain": [
       "⌠                    \n",
       "⎮       2          2 \n",
       "⎮     -x         -x  \n",
       "⎮     ────       ────\n",
       "⎮      2          2  \n",
       "⎮ -x⋅ℯ     dx = ℯ    \n",
       "⌡                    "
      ]
     },
     "execution_count": 20,
     "metadata": {},
     "output_type": "execute_result"
    }
   ],
   "source": [
    "e = (-x * exp(-x**2/2), x)\n",
    "Eq(Integral(*e), integrate(*e))"
   ]
  },
  {
   "cell_type": "markdown",
   "metadata": {},
   "source": [
    "## Integration: 5\n",
    "Triple integration.  <pre>Integral(x\\**2, x, x, y)</pre>\n",
    "means integrate x**2 with respect to dx, dx and finally dy."
   ]
  },
  {
   "cell_type": "code",
   "execution_count": 21,
   "metadata": {},
   "outputs": [
    {
     "data": {
      "image/png": "[encoded data removed]",
      "text/latex": [
       "$$\\iiint x^{2}\\, dx\\, dx\\, dy = \\frac{x^{4} y}{12}$$"
      ],
      "text/plain": [
       "⌠ ⌠ ⌠                4  \n",
       "⎮ ⎮ ⎮  2            x ⋅y\n",
       "⎮ ⎮ ⎮ x  dx dx dy = ────\n",
       "⌡ ⌡ ⌡                12 "
      ]
     },
     "execution_count": 21,
     "metadata": {},
     "output_type": "execute_result"
    }
   ],
   "source": [
    "# triple integral\n",
    "Eq(Integral(x**2, x, x, y), integrate(x**2, x, x, y))   "
   ]
  },
  {
   "cell_type": "markdown",
   "metadata": {},
   "source": [
    "## Integration: 5\n",
    "Partial integration; the last integral is a definite integral:"
   ]
  },
  {
   "cell_type": "code",
   "execution_count": 22,
   "metadata": {},
   "outputs": [
    {
     "data": {
      "image/png": "[encoded data removed]",
      "text/latex": [
       "$$\\left ( \\int\\int\\int_{0}^{2} x^{2}\\, dx\\, dx\\, dy, \\quad \\frac{8 x y}{3}\\right )$$"
      ],
      "text/plain": [
       "⎛    2                   ⎞\n",
       "⎜⌠ ⌠ ⌠                   ⎟\n",
       "⎜⎮ ⎮ ⎮  2           8⋅x⋅y⎟\n",
       "⎜⎮ ⎮ ⎮ x  dx dx dy, ─────⎟\n",
       "⎜⌡ ⌡ ⌡                3  ⎟\n",
       "⎝    0                   ⎠"
      ]
     },
     "execution_count": 22,
     "metadata": {},
     "output_type": "execute_result"
    }
   ],
   "source": [
    "# partially evaluate integral\n",
    "e = (x**2, (x,0,2), x, y)\n",
    "Integral(*e), integrate(*e)"
   ]
  },
  {
   "cell_type": "markdown",
   "metadata": {},
   "source": [
    "## Integration: 5\n",
    "Triple integration; all definite integrals:"
   ]
  },
  {
   "cell_type": "code",
   "execution_count": 23,
   "metadata": {},
   "outputs": [
    {
     "data": {
      "image/png": "[encoded data removed]",
      "text/latex": [
       "$$\\int_{0}^{1}\\int_{0}^{2}\\int_{0}^{2} x^{2}\\, dx\\, dx\\, dy = \\frac{16}{3}$$"
      ],
      "text/plain": [
       "1 2 2                   \n",
       "⌠ ⌠ ⌠                   \n",
       "⎮ ⎮ ⎮  2                \n",
       "⎮ ⎮ ⎮ x  dx dx dy = 16/3\n",
       "⌡ ⌡ ⌡                   \n",
       "0 0 0                   "
      ]
     },
     "execution_count": 23,
     "metadata": {},
     "output_type": "execute_result"
    }
   ],
   "source": [
    "# fully evaluate integral\n",
    "e = (x**2, (x,0,2), (x,0,2), (y,0,1))\n",
    "Eq(Integral(*e), integrate(*e))"
   ]
  },
  {
   "cell_type": "markdown",
   "metadata": {},
   "source": [
    "## Differential Equations: 1\n",
    "\n",
    "We'll attempt to solve the differential equation below:"
   ]
  },
  {
   "cell_type": "code",
   "execution_count": 24,
   "metadata": {},
   "outputs": [
    {
     "data": {
      "image/png": "[encoded data removed]",
      "text/latex": [
       "$$5 y{\\left (x \\right )} + \\frac{d}{d x} y{\\left (x \\right )} = 12$$"
      ],
      "text/plain": [
       "         d            \n",
       "5⋅y(x) + ──(y(x)) = 12\n",
       "         dx           "
      ]
     },
     "execution_count": 24,
     "metadata": {},
     "output_type": "execute_result"
    }
   ],
   "source": [
    "import sympy\n",
    "from sympy import Symbol , dsolve , Function , Derivative , Eq\n",
    "sympy.init_printing()\n",
    "\n",
    "x , y , z = sympy.symbols('x, y, z')\n",
    "\n",
    "y = Function(\"y\")\n",
    "x = Symbol(\"x\")\n",
    "d = Derivative(y(x), x)\n",
    "Eq(d + 5*y(x), 12)\n"
   ]
  },
  {
   "cell_type": "markdown",
   "metadata": {},
   "source": [
    "## Differential Equations: 2\n",
    "\n",
    "The solution is:"
   ]
  },
  {
   "cell_type": "code",
   "execution_count": 25,
   "metadata": {},
   "outputs": [
    {
     "data": {
      "image/png": "[encoded data removed]",
      "text/latex": [
       "$$y{\\left (x \\right )} = \\frac{C_{1} e^{- 5 x}}{5} + \\frac{12}{5}$$"
      ],
      "text/plain": [
       "           -5⋅x     \n",
       "       C₁⋅ℯ       12\n",
       "y(x) = ──────── + ──\n",
       "          5       5 "
      ]
     },
     "execution_count": 25,
     "metadata": {},
     "output_type": "execute_result"
    }
   ],
   "source": [
    "# constant = 2, x = 5\n",
    "dsolve( Eq(d + 5*y(x), 12), y(x))"
   ]
  },
  {
   "cell_type": "markdown",
   "metadata": {},
   "source": [
    "## Differential Equations: 3\n",
    "\n",
    "If we know the constant is 2 and x = 5:"
   ]
  },
  {
   "cell_type": "code",
   "execution_count": 26,
   "metadata": {},
   "outputs": [
    {
     "data": {
      "image/png": "[encoded data removed]",
      "text/latex": [
       "$$y{\\left (5 \\right )} = \\frac{2}{5 e^{25}} + \\frac{12}{5}$$"
      ],
      "text/plain": [
       "          -25     \n",
       "       2⋅ℯ      12\n",
       "y(5) = ────── + ──\n",
       "         5      5 "
      ]
     },
     "execution_count": 26,
     "metadata": {},
     "output_type": "execute_result"
    }
   ],
   "source": [
    "C1 = Symbol(\"C1\")\n",
    "dsolve( Eq(d + 5*y(x), 12), y(x)).subs({C1:2, x:5})"
   ]
  },
  {
   "cell_type": "markdown",
   "metadata": {},
   "source": [
    "## Differential Equations: 4\n",
    "\n",
    "... or the solution as a float:"
   ]
  },
  {
   "cell_type": "code",
   "execution_count": 27,
   "metadata": {},
   "outputs": [
    {
     "data": {
      "image/png": "[encoded data removed]",
      "text/latex": [
       "$$y{\\left (5 \\right )} = 2.4000000000055551775$$"
      ],
      "text/plain": [
       "y(5) = 2.4000000000055551775"
      ]
     },
     "execution_count": 27,
     "metadata": {},
     "output_type": "execute_result"
    }
   ],
   "source": [
    "# to 20 significant figures ...\n",
    "dsolve( Eq(d + 5*y(x), 12), y(x)).subs({C1:2, x:5}).evalf(20)"
   ]
  },
  {
   "cell_type": "markdown",
   "metadata": {
    "slideshow": {
     "slide_type": "slide"
    }
   },
   "source": [
    "## Taylor Series: 1\n",
    "Find the Taylor series expansion of cos(x) around x = 0.5.  Work to 4 decimal places and stop the expansion after 10 terms:"
   ]
  },
  {
   "cell_type": "code",
   "execution_count": 28,
   "metadata": {
    "slideshow": {
     "slide_type": "subslide"
    }
   },
   "outputs": [
    {
     "data": {
      "image/png": "[encoded data removed]",
      "text/latex": [
       "$$1.117 - 0.4388 \\left(x - 0.5\\right)^{2} + 0.0799 \\left(x - 0.5\\right)^{3} + 0.03657 \\left(x - 0.5\\right)^{4} - 0.003995 \\left(x - 0.5\\right)^{5} - 0.001219 \\left(x - 0.5\\right)^{6} + 9.512 \\cdot 10^{-5} \\left(x - 0.5\\right)^{7} + 2.177 \\cdot 10^{-5} \\left(x - 0.5\\right)^{8} - 1.321 \\cdot 10^{-6} \\left(x - 0.5\\right)^{9} - 0.4794 x + O\\left(\\left(x - 0.5\\right)^{10}; x\\rightarrow 0.5\\right)$$"
      ],
      "text/plain": [
       "                        2                   3                    4            \n",
       "1.117 - 0.4388⋅(x - 0.5)  + 0.0799⋅(x - 0.5)  + 0.03657⋅(x - 0.5)  - 0.003995⋅\n",
       "\n",
       "         5                     6                     7                     8  \n",
       "(x - 0.5)  - 0.001219⋅(x - 0.5)  + 9.512e-5⋅(x - 0.5)  + 2.177e-5⋅(x - 0.5)  -\n",
       "\n",
       "                   9               ⎛         10         ⎞\n",
       " 1.321e-6⋅(x - 0.5)  - 0.4794⋅x + O⎝(x - 0.5)  ; x → 0.5⎠"
      ]
     },
     "execution_count": 28,
     "metadata": {},
     "output_type": "execute_result"
    }
   ],
   "source": [
    "import sympy\n",
    "from sympy import Symbol, Rational, cos, sin, series\n",
    "sympy.init_printing()\n",
    "\n",
    "x = Symbol('x') \n",
    "cos(x).series(x0=0.5, n=10).evalf(4)"
   ]
  },
  {
   "cell_type": "markdown",
   "metadata": {
    "slideshow": {
     "slide_type": "slide"
    }
   },
   "source": [
    "## Taylor Series: 2\n",
    "It's much clearer if we use rationals (fractions):"
   ]
  },
  {
   "cell_type": "code",
   "execution_count": 29,
   "metadata": {
    "slideshow": {
     "slide_type": "subslide"
    }
   },
   "outputs": [
    {
     "data": {
      "image/png": "[encoded data removed]",
      "text/latex": [
       "$$\\cos{\\left (\\frac{1}{2} \\right )} - \\left(x - \\frac{1}{2}\\right) \\sin{\\left (\\frac{1}{2} \\right )} - \\frac{\\left(x - \\frac{1}{2}\\right)^{2} \\cos{\\left (\\frac{1}{2} \\right )}}{2} + \\frac{\\left(x - \\frac{1}{2}\\right)^{3} \\sin{\\left (\\frac{1}{2} \\right )}}{6} + \\frac{\\left(x - \\frac{1}{2}\\right)^{4} \\cos{\\left (\\frac{1}{2} \\right )}}{24} - \\frac{\\left(x - \\frac{1}{2}\\right)^{5} \\sin{\\left (\\frac{1}{2} \\right )}}{120} - \\frac{\\left(x - \\frac{1}{2}\\right)^{6} \\cos{\\left (\\frac{1}{2} \\right )}}{720} + \\frac{\\left(x - \\frac{1}{2}\\right)^{7} \\sin{\\left (\\frac{1}{2} \\right )}}{5040} + \\frac{\\left(x - \\frac{1}{2}\\right)^{8} \\cos{\\left (\\frac{1}{2} \\right )}}{40320} - \\frac{\\left(x - \\frac{1}{2}\\right)^{9} \\sin{\\left (\\frac{1}{2} \\right )}}{362880} + O\\left(\\left(x - \\frac{1}{2}\\right)^{10}; x\\rightarrow \\frac{1}{2}\\right)$$"
      ],
      "text/plain": [
       "                                         2                     3              \n",
       "                                (x - 1/2) ⋅cos(1/2)   (x - 1/2) ⋅sin(1/2)   (x\n",
       "cos(1/2) - (x - 1/2)⋅sin(1/2) - ─────────────────── + ─────────────────── + ──\n",
       "                                         2                     6              \n",
       "\n",
       "       4                     5                     6                     7    \n",
       " - 1/2) ⋅cos(1/2)   (x - 1/2) ⋅sin(1/2)   (x - 1/2) ⋅cos(1/2)   (x - 1/2) ⋅sin\n",
       "───────────────── - ─────────────────── - ─────────────────── + ──────────────\n",
       "       24                   120                   720                   5040  \n",
       "\n",
       "                 8                     9                                   \n",
       "(1/2)   (x - 1/2) ⋅cos(1/2)   (x - 1/2) ⋅sin(1/2)    ⎛         10         ⎞\n",
       "───── + ─────────────────── - ─────────────────── + O⎝(x - 1/2)  ; x → 1/2⎠\n",
       "               40320                 362880                                "
      ]
     },
     "execution_count": 29,
     "metadata": {},
     "output_type": "execute_result"
    }
   ],
   "source": [
    "cos(x).series(x0=Rational(0.5), n=10)"
   ]
  },
  {
   "cell_type": "markdown",
   "metadata": {
    "slideshow": {
     "slide_type": "slide"
    }
   },
   "source": [
    "## Taylor Series: 3\n",
    "We can remove the error term:"
   ]
  },
  {
   "cell_type": "code",
   "execution_count": 30,
   "metadata": {
    "slideshow": {
     "slide_type": "slide"
    }
   },
   "outputs": [
    {
     "data": {
      "image/png": "[encoded data removed]",
      "text/latex": [
       "$$- \\frac{\\left(x - \\frac{1}{2}\\right)^{9} \\sin{\\left (\\frac{1}{2} \\right )}}{362880} + \\frac{\\left(x - \\frac{1}{2}\\right)^{8} \\cos{\\left (\\frac{1}{2} \\right )}}{40320} + \\frac{\\left(x - \\frac{1}{2}\\right)^{7} \\sin{\\left (\\frac{1}{2} \\right )}}{5040} - \\frac{\\left(x - \\frac{1}{2}\\right)^{6} \\cos{\\left (\\frac{1}{2} \\right )}}{720} - \\frac{\\left(x - \\frac{1}{2}\\right)^{5} \\sin{\\left (\\frac{1}{2} \\right )}}{120} + \\frac{\\left(x - \\frac{1}{2}\\right)^{4} \\cos{\\left (\\frac{1}{2} \\right )}}{24} + \\frac{\\left(x - \\frac{1}{2}\\right)^{3} \\sin{\\left (\\frac{1}{2} \\right )}}{6} - \\frac{\\left(x - \\frac{1}{2}\\right)^{2} \\cos{\\left (\\frac{1}{2} \\right )}}{2} - \\left(x - \\frac{1}{2}\\right) \\sin{\\left (\\frac{1}{2} \\right )} + \\cos{\\left (\\frac{1}{2} \\right )}$$"
      ],
      "text/plain": [
       "           9                     8                     7                     6\n",
       "  (x - 1/2) ⋅sin(1/2)   (x - 1/2) ⋅cos(1/2)   (x - 1/2) ⋅sin(1/2)   (x - 1/2) \n",
       "- ─────────────────── + ─────────────────── + ─────────────────── - ──────────\n",
       "         362880                40320                  5040                  72\n",
       "\n",
       "                     5                     4                     3            \n",
       "⋅cos(1/2)   (x - 1/2) ⋅sin(1/2)   (x - 1/2) ⋅cos(1/2)   (x - 1/2) ⋅sin(1/2)   \n",
       "───────── - ─────────────────── + ─────────────────── + ─────────────────── - \n",
       "0                   120                    24                    6            \n",
       "\n",
       "         2                                         \n",
       "(x - 1/2) ⋅cos(1/2)                                \n",
       "─────────────────── - (x - 1/2)⋅sin(1/2) + cos(1/2)\n",
       "         2                                         "
      ]
     },
     "execution_count": 30,
     "metadata": {},
     "output_type": "execute_result"
    }
   ],
   "source": [
    "cos(x).series(x0=Rational(0.5), n=10).removeO()"
   ]
  },
  {
   "cell_type": "markdown",
   "metadata": {
    "slideshow": {
     "slide_type": "slide"
    }
   },
   "source": [
    "## Taylor Series: 4\n",
    "We can get the MacLauren series by expanding around x = 0:"
   ]
  },
  {
   "cell_type": "code",
   "execution_count": 31,
   "metadata": {
    "slideshow": {
     "slide_type": "fragment"
    }
   },
   "outputs": [
    {
     "data": {
      "image/png": "[encoded data removed]",
      "text/latex": [
       "$$1 - \\frac{x^{2}}{2} + \\frac{x^{4}}{24} - \\frac{x^{6}}{720} + \\frac{x^{8}}{40320} + O\\left(x^{10}\\right)$$"
      ],
      "text/plain": [
       "     2    4     6      8          \n",
       "    x    x     x      x      ⎛ 10⎞\n",
       "1 - ── + ── - ─── + ───── + O⎝x  ⎠\n",
       "    2    24   720   40320         "
      ]
     },
     "execution_count": 31,
     "metadata": {},
     "output_type": "execute_result"
    }
   ],
   "source": [
    "series(cos(x), x0=0, n=10)"
   ]
  },
  {
   "cell_type": "markdown",
   "metadata": {
    "slideshow": {
     "slide_type": "slide"
    }
   },
   "source": [
    "## Non Linear Equations: 1\n",
    "We can solving some non linear equations if there is an analytical solution.  Note, some of the roots are complex in this example:"
   ]
  },
  {
   "cell_type": "code",
   "execution_count": 34,
   "metadata": {
    "slideshow": {
     "slide_type": "slide"
    }
   },
   "outputs": [
    {
     "name": "stdout",
     "output_type": "stream",
     "text": [
      "2.4563\n",
      "-1.6748 - 1.031*I\n",
      "-1.6748 + 1.031*I\n"
     ]
    }
   ],
   "source": [
    "import sympy\n",
    "sympy.init_printing()\n",
    "\n",
    "x, y, z = sympy.symbols('x, y, z')\n",
    "eq = x - x**2.5 + 7\n",
    "z = sympy.solve(eq, x)\n",
    "\n",
    "# note most of the results are complex (I represents sqrt(-1))\n",
    "for result in z:\n",
    "    print(sympy.N(result, 5))    # N is used to limit precision"
   ]
  },
  {
   "cell_type": "markdown",
   "metadata": {
    "slideshow": {
     "slide_type": "slide"
    }
   },
   "source": [
    "## Non Linear Equations: 2\n",
    "Let's have a look at a plot of this function.  Note only the real parts get plotted (x >= 0):"
   ]
  },
  {
   "cell_type": "code",
   "execution_count": null,
   "metadata": {
    "slideshow": {
     "slide_type": "subslide"
    }
   },
   "outputs": [],
   "source": [
    "%matplotlib inline\n",
    "\n",
    "import matplotlib.pyplot as plt\n",
    "import numpy as np\n",
    "\n",
    "X = np.arange(0, 5, 0.01)\n",
    "\n",
    "# plot the curve - note that values are complex if x < 0\n",
    "Y = X - X**2.5 + 7\n",
    "plt.plot(X, Y, color='red', lw=2)\n",
    "\n",
    "# plot y = 0 because the graph for x < 0 will not be displayed otherwise\n",
    "X = np.arange(-5, 5, 0.01)\n",
    "Y = X*0\n",
    "plt.plot(X, Y, color='blue', lw=1)\n",
    "\n",
    "# plot the axes\n",
    "plt.axhline(0, color='blue')\n",
    "plt.axvline(0, color='blue')\n",
    "plt.show()"
   ]
  },
  {
   "cell_type": "code",
   "execution_count": null,
   "metadata": {},
   "outputs": [],
   "source": []
  }
 ],
 "metadata": {
  "anaconda-cloud": {},
  "kernelspec": {
   "display_name": "Python 3",
   "language": "python",
   "name": "python3"
  },
  "language_info": {
   "codemirror_mode": {
    "name": "ipython",
    "version": 3
   },
   "file_extension": ".py",
   "mimetype": "text/x-python",
   "name": "python",
   "nbconvert_exporter": "python",
   "pygments_lexer": "ipython3",
   "version": "3.7.1"
  }
 },
 "nbformat": 4,
 "nbformat_minor": 4
}
