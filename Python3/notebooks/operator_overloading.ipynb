{
 "cells": [
  {
   "cell_type": "markdown",
   "metadata": {},
   "source": [
    "<div style=\"color:red;background-color:black\">\n",
    "Diamond Light Source\n",
    "\n",
    "<h1 style=\"color:red;background-color:antiquewhite\"> Python Fundamentals: Operator Overloading</h1>  \n",
    "\n",
    "©2000-20 Chris Seddon \n",
    "</div>"
   ]
  },
  {
   "cell_type": "markdown",
   "metadata": {},
   "source": [
    "## 1\n",
    "Execute the following cell to activate styling for this tutorial"
   ]
  },
  {
   "cell_type": "code",
   "execution_count": 4,
   "metadata": {},
   "outputs": [
    {
     "data": {
      "text/html": [
       "<style>/* GLOBALS */\n",
       "/* body {background-color: #f7f7f7;} */\n",
       ".text_cell {background-color: cornsilk;}\n",
       ".code_cell { background-color: lightskyblue; }\n",
       ".selected { background-color: peachpuff; }\n",
       ".output { background-color: aliceblue; }\n",
       "\n",
       "</style>"
      ],
      "text/plain": [
       "<IPython.core.display.HTML object>"
      ]
     },
     "execution_count": 4,
     "metadata": {},
     "output_type": "execute_result"
    }
   ],
   "source": [
    "from IPython.display import HTML\n",
    "HTML(f\"<style>{open('my.css').read()}</style>\")"
   ]
  },
  {
   "cell_type": "markdown",
   "metadata": {},
   "source": [
    "## 2\n",
    "Along with many other languages, Python allows operators to be overloaded so they will work with objects of our classes.  Special methods of the form \"\\__xxx__\" must be defined in our class in order to make this work.  \n",
    "\n",
    "In this tutorial we will be working with a \"Time\" class to illustate techniques.  Our first special mehod is:<pre>\\__str__</pre> that allows our objects to work with print: "
   ]
  },
  {
   "cell_type": "code",
   "execution_count": 5,
   "metadata": {},
   "outputs": [
    {
     "name": "stdout",
     "output_type": "stream",
     "text": [
      "Time is: 2 hrs,45 mins\n",
      "Time is: 5 hrs,30 mins\n"
     ]
    }
   ],
   "source": [
    "class Time:    \n",
    "    def __init__(self, hrs, min):\n",
    "        self.hrs = hrs\n",
    "        self.min = min\n",
    "\n",
    "    # used by print\n",
    "    def __str__(self):\n",
    "        return \"Time is: \" + str(self.hrs) + \" hrs,\" + str(self.min) + \" mins\"\n",
    "\n",
    "\n",
    "t1 = Time(2, 45)\n",
    "t2 = Time(5, 30)\n",
    "print(t1)\n",
    "print(t2)"
   ]
  },
  {
   "cell_type": "markdown",
   "metadata": {},
   "source": [
    "## 3\n",
    "Often we want to overload the + and minus operators for our objects.  \n",
    "\n",
    "By convention, when we say:<pre>t1 + t2</pre>\n",
    "Python translates this into:<pre>t1.\\__add__(t2)</pre>\n",
    "such that \"t1\" is referenced as \"self\" and \"t2\" as \"rhs\" in the `__add__` method."
   ]
  },
  {
   "cell_type": "code",
   "execution_count": 7,
   "metadata": {},
   "outputs": [
    {
     "name": "stdout",
     "output_type": "stream",
     "text": [
      "Time is: 8 hrs,15 mins\n",
      "Time is: 2 hrs,45 mins\n"
     ]
    }
   ],
   "source": [
    "class Time:    \n",
    "    def __init__(self, hrs, min):\n",
    "        self.hrs = hrs\n",
    "        self.min = min\n",
    "\n",
    "    # rhs must be an int or Time\n",
    "    def __add__(self, rhs):\n",
    "        hrs = self.hrs + rhs.hrs\n",
    "        min = self.min + rhs.min\n",
    "        if min >= 60:\n",
    "            hrs = hrs + 1\n",
    "            min = min - 60\n",
    "        return Time(hrs, min)\n",
    "    \n",
    "    def __sub__(self, rhs):\n",
    "        hrs = self.hrs - rhs.hrs\n",
    "        min = self.min - rhs.min\n",
    "        if min < 0:\n",
    "            hrs = hrs - 1\n",
    "            min = min + 60\n",
    "        return Time(hrs, min)\n",
    "    \n",
    "    # used by print\n",
    "    def __str__(self):\n",
    "        return \"Time is: \" + str(self.hrs) + \" hrs,\" + str(self.min) + \" mins\"\n",
    "\n",
    "t1 = Time(2, 45)\n",
    "t2 = Time(5, 30)\n",
    "print(t1 + t2)\n",
    "print(t2 - t1)"
   ]
  },
  {
   "cell_type": "markdown",
   "metadata": {},
   "source": [
    "## 3\n",
    "We can extend these methods to cope when we pass in an integer rather than a Time object.  What needs to be done is to check the type of \"rhs\".  Thus for<pre>t1 + t2 # t1.\\__add__(t2)</pre>\n",
    "\"rhs\" is a Time object, but for <pre>t1 + 10 # t1.\\__add__(10)</pre>\n",
    "\"rhs\" is an integer."
   ]
  },
  {
   "cell_type": "code",
   "execution_count": 10,
   "metadata": {},
   "outputs": [
    {
     "name": "stdout",
     "output_type": "stream",
     "text": [
      "Time is: 8 hrs,15 mins\n",
      "Time is: 5 hrs,0 mins\n"
     ]
    }
   ],
   "source": [
    "class Time:    \n",
    "    def __init__(self, hrs, min):\n",
    "        self.hrs = hrs\n",
    "        self.min = min\n",
    "\n",
    "    # rhs must be an int or Time\n",
    "    def __add__(self, rhs):\n",
    "        if isinstance(rhs, int): rhs = Time(rhs//60, rhs%60)\n",
    "        if not isinstance(rhs, Time): raise Exception(\"Incorrect input type\")\n",
    "\n",
    "        hrs = self.hrs + rhs.hrs\n",
    "        min = self.min + rhs.min\n",
    "        if min >= 60:\n",
    "            hrs = hrs + 1\n",
    "            min = min - 60\n",
    "        return Time(hrs, min)\n",
    "    \n",
    "    # used by print\n",
    "    def __str__(self):\n",
    "        return \"Time is: \" + str(self.hrs) + \" hrs,\" + str(self.min) + \" mins\"\n",
    "\n",
    "t1 = Time(2, 45)\n",
    "t2 = Time(5, 30)\n",
    "print(t1 + t2)\n",
    "print(t1 + 135)"
   ]
  },
  {
   "cell_type": "markdown",
   "metadata": {},
   "source": [
    "## 4\n",
    "Note that in the above, it is the \"rhs\" that can be a Time object or an ingteger.  Statements like the following:<pre>1 + t1</pre> \n",
    "won't work, because Python translates them into<pre>1.\\__add__(t1)</pre>\n",
    "and the int class doesn't know about Time objects.  \n",
    "\n",
    "However, when the right hand side of an expression is a Time object, but the left hand side is not, we can use reverse add \"\\__radd__\".  In this case, \"self\" references the right hand side and the second parameter is the left hand side.  Thus<pre>135 + t1</pre>\n",
    "gets translated to:<pre>t1.\\__radd__(135)</pre>"
   ]
  },
  {
   "cell_type": "code",
   "execution_count": 6,
   "metadata": {},
   "outputs": [
    {
     "name": "stdout",
     "output_type": "stream",
     "text": [
      "Time is: 5 hrs,0 mins\n",
      "Time is: 5 hrs,0 mins\n"
     ]
    }
   ],
   "source": [
    "class Time:    \n",
    "    def __init__(self, hrs, min):\n",
    "        self.hrs = hrs\n",
    "        self.min = min\n",
    "\n",
    "    # rhs must be an int or Time\n",
    "    def __add__(self, rhs):\n",
    "        if isinstance(rhs, int): rhs = Time(rhs//60, rhs%60)\n",
    "        if not isinstance(rhs, Time): raise Exception(\"Incorrect input type\")\n",
    "\n",
    "        hrs = self.hrs + rhs.hrs\n",
    "        min = self.min + rhs.min\n",
    "        if min >= 60:\n",
    "            hrs = hrs + 1\n",
    "            min = min - 60\n",
    "        return Time(hrs, min)\n",
    "    \n",
    "    # sel must be an int or Time\n",
    "    def __radd__(self, lhs):\n",
    "        return self + lhs\n",
    "    \n",
    "    # used by print\n",
    "    def __str__(self):\n",
    "        return \"Time is: \" + str(self.hrs) + \" hrs,\" + str(self.min) + \" mins\"\n",
    "\n",
    "t1 = Time(2, 45)\n",
    "print(135 + t1)"
   ]
  },
  {
   "cell_type": "markdown",
   "metadata": {},
   "source": [
    "## 5\n",
    "Notice in the above code, we don't duplicate code in \"\\__radd__\", we simply call \"\\__add__\".  <pre>\n",
    "self + lhs</pre>\n",
    "is the same as<pre>\\__add__(self, lhs)</pre>\n",
    "\n",
    "Now sometimes we want to increment our object; we can use \"\\__iadd__\" to overload +=.  Our complete example, now looks like:"
   ]
  },
  {
   "cell_type": "code",
   "execution_count": 7,
   "metadata": {},
   "outputs": [
    {
     "name": "stdout",
     "output_type": "stream",
     "text": [
      "Time is: 5 hrs,5 mins\n",
      "Time is: 1 hrs,20 mins\n"
     ]
    }
   ],
   "source": [
    "class Time:    \n",
    "    def __init__(self, hrs, min):\n",
    "        self.hrs = hrs\n",
    "        self.min = min\n",
    "\n",
    "    # rhs must be an int or Time\n",
    "    def __add__(self, rhs):\n",
    "        if isinstance(rhs, int): rhs = Time(0, rhs)\n",
    "        if not isinstance(rhs, Time): raise Exception(\"Incorrect input type\")\n",
    "\n",
    "        hrs = self.hrs + rhs.hrs\n",
    "        min = self.min + rhs.min\n",
    "        if min >= 60:\n",
    "            hrs = hrs + 1\n",
    "            min = min - 60\n",
    "        return Time(hrs, min)\n",
    "    \n",
    "    # only works if rhs is Time\n",
    "    def __sub__(self, rhs):\n",
    "        hrs = self.hrs - rhs.hrs\n",
    "        min = self.min - rhs.min\n",
    "        if min < 0:\n",
    "            hrs = hrs - 1\n",
    "            min = min + 60\n",
    "        return Time(hrs, min)\n",
    "    \n",
    "    # called if Time is on the rhs\n",
    "    def __radd__(self, lhs):\n",
    "        return self + lhs\n",
    "    \n",
    "    # called for +=\n",
    "    def __iadd__(self, other):\n",
    "        self = self + other\n",
    "        return self\n",
    "    \n",
    "    # used by print\n",
    "    def __str__(self):\n",
    "        return \"Time is: \" + str(self.hrs) + \" hrs,\" + str(self.min) + \" mins\"\n",
    "\n",
    "t1 = Time(3, 45)\n",
    "t2 = Time(1, 20)\n",
    "t1 += t2\n",
    "print(t1)\n",
    "print(t2)"
   ]
  },
  {
   "cell_type": "markdown",
   "metadata": {},
   "source": [
    "## 6\n",
    "We could go on adding special methods to our class; there are many special methods:\n",
    "<a href=\"https://docs.python.org/3/reference/datamodel.html\">scroll down to: 3.3.8. Emulating numeric types</a>"
   ]
  },
  {
   "cell_type": "code",
   "execution_count": null,
   "metadata": {},
   "outputs": [],
   "source": []
  },
  {
   "cell_type": "markdown",
   "metadata": {},
   "source": [
    "## 7\n"
   ]
  },
  {
   "cell_type": "code",
   "execution_count": null,
   "metadata": {},
   "outputs": [],
   "source": []
  },
  {
   "cell_type": "markdown",
   "metadata": {},
   "source": [
    "## 8\n"
   ]
  },
  {
   "cell_type": "code",
   "execution_count": null,
   "metadata": {},
   "outputs": [],
   "source": []
  },
  {
   "cell_type": "markdown",
   "metadata": {},
   "source": [
    "## 9\n"
   ]
  },
  {
   "cell_type": "code",
   "execution_count": null,
   "metadata": {},
   "outputs": [],
   "source": []
  },
  {
   "cell_type": "markdown",
   "metadata": {},
   "source": [
    "## 10\n"
   ]
  },
  {
   "cell_type": "code",
   "execution_count": null,
   "metadata": {},
   "outputs": [],
   "source": []
  },
  {
   "cell_type": "markdown",
   "metadata": {},
   "source": [
    "## 11\n"
   ]
  },
  {
   "cell_type": "code",
   "execution_count": null,
   "metadata": {},
   "outputs": [],
   "source": []
  },
  {
   "cell_type": "markdown",
   "metadata": {},
   "source": [
    "## 12\n"
   ]
  },
  {
   "cell_type": "code",
   "execution_count": null,
   "metadata": {},
   "outputs": [],
   "source": []
  },
  {
   "cell_type": "markdown",
   "metadata": {},
   "source": [
    "## 13\n"
   ]
  },
  {
   "cell_type": "code",
   "execution_count": null,
   "metadata": {},
   "outputs": [],
   "source": []
  },
  {
   "cell_type": "markdown",
   "metadata": {},
   "source": [
    "## 14\n"
   ]
  },
  {
   "cell_type": "code",
   "execution_count": null,
   "metadata": {},
   "outputs": [],
   "source": []
  },
  {
   "cell_type": "markdown",
   "metadata": {},
   "source": [
    "## 15\n"
   ]
  },
  {
   "cell_type": "code",
   "execution_count": null,
   "metadata": {},
   "outputs": [],
   "source": []
  },
  {
   "cell_type": "markdown",
   "metadata": {},
   "source": [
    "## 16\n"
   ]
  },
  {
   "cell_type": "code",
   "execution_count": null,
   "metadata": {},
   "outputs": [],
   "source": []
  },
  {
   "cell_type": "markdown",
   "metadata": {},
   "source": [
    "## 17\n"
   ]
  },
  {
   "cell_type": "code",
   "execution_count": null,
   "metadata": {},
   "outputs": [],
   "source": []
  },
  {
   "cell_type": "markdown",
   "metadata": {},
   "source": [
    "## 18\n"
   ]
  },
  {
   "cell_type": "code",
   "execution_count": null,
   "metadata": {},
   "outputs": [],
   "source": []
  },
  {
   "cell_type": "markdown",
   "metadata": {},
   "source": [
    "## 19\n"
   ]
  },
  {
   "cell_type": "code",
   "execution_count": null,
   "metadata": {},
   "outputs": [],
   "source": []
  },
  {
   "cell_type": "markdown",
   "metadata": {},
   "source": [
    "## 20\n"
   ]
  },
  {
   "cell_type": "code",
   "execution_count": null,
   "metadata": {},
   "outputs": [],
   "source": []
  }
 ],
 "metadata": {
  "kernelspec": {
   "display_name": "Python 3",
   "language": "python",
   "name": "python3"
  },
  "language_info": {
   "codemirror_mode": {
    "name": "ipython",
    "version": 3
   },
   "file_extension": ".py",
   "mimetype": "text/x-python",
   "name": "python",
   "nbconvert_exporter": "python",
   "pygments_lexer": "ipython3",
   "version": "3.7.1"
  }
 },
 "nbformat": 4,
 "nbformat_minor": 4
}
