{
 "cells": [
  {
   "cell_type": "markdown",
   "metadata": {},
   "source": [
    "<div style=\"color:red;background-color:black\">\n",
    "Diamond Light Source\n",
    "\n",
    "<h1 style=\"color:red;background-color:antiquewhite\"> Python Language: Dictionaries</h1>  \n",
    "\n",
    "©2000-20 Chris Seddon \n",
    "</div>"
   ]
  },
  {
   "cell_type": "markdown",
   "metadata": {},
   "source": [
    "## 1\n",
    "Execute the following cell to activate styling for this tutorial"
   ]
  },
  {
   "cell_type": "code",
   "execution_count": null,
   "metadata": {},
   "outputs": [],
   "source": [
    "from IPython.display import HTML\n",
    "HTML(f\"<style>{open('my.css').read()}</style>\")"
   ]
  },
  {
   "cell_type": "markdown",
   "metadata": {},
   "source": [
    "## 2\n",
    "Dictionaries are one of the most important data structures in Python; a dictionary is a collection of key value pairs.  \n",
    "\n",
    "The following example shows a simple dictionary, with the days of the week as keys and the ordinal numbers as values."
   ]
  },
  {
   "cell_type": "code",
   "execution_count": null,
   "metadata": {},
   "outputs": [],
   "source": [
    "d = { \"Monday\"    : 1,\n",
    "      \"Tuesday\"   : 2,\n",
    "      \"Wednesday\" : 3,\n",
    "      \"Thursday\"  : 4,\n",
    "      \"Friday\"    : 5 }\n",
    "print(d)"
   ]
  },
  {
   "cell_type": "markdown",
   "metadata": {},
   "source": [
    "## 3\n",
    "The keys in any dictionary must be unique and immutable; they are usually simple strings but can be tuples or even integers.  Theoretically, floats can be used as keys, but because they are not stored exactly (they have rounding errors) they are not suitable as keys.\n",
    "\n",
    "The values don't have any restrictions; they don't have to be immutable and they don't have to be unique.\n",
    "\n",
    "Occasionally we use tuples as keys:"
   ]
  },
  {
   "cell_type": "code",
   "execution_count": null,
   "metadata": {},
   "outputs": [],
   "source": [
    "salary = {(\"John\",\"G\",\"Smith\")     : 24000,\n",
    "          (\"Bill\", \"Joyner\")       : 34000,\n",
    "          (\"Susan\",\"H\", \"Pointer\") : 37500,\n",
    "          (\"John\", \"Gerald\")       : 28000,\n",
    "          (\"Steve\", \"Pointer\")     : 34000}\n",
    "print(salary)"
   ]
  },
  {
   "cell_type": "markdown",
   "metadata": {},
   "source": [
    "## 4 \n",
    "In previous versions of Python, dictionaries did not define any kind of order.  As of Python 3.7, dictionaries now remember the order in which key value pairs are added to the dictionary; as you can see from the print statement."
   ]
  },
  {
   "cell_type": "code",
   "execution_count": null,
   "metadata": {
    "slideshow": {
     "slide_type": "slide"
    }
   },
   "outputs": [],
   "source": [
    "salary = {\"Johnny\": 24000,\n",
    "          \"Bill\"  : 34000,\n",
    "          \"Susan\" : 37500,\n",
    "          \"John\"  : 28000,\n",
    "          \"Steve\" : 34000}\n",
    "print(salary)"
   ]
  },
  {
   "cell_type": "markdown",
   "metadata": {},
   "source": [
    "## 5\n",
    "Dictionaries are implemented using a hashing algorithm.  Normally it's not too important to know how things are implemented, but in the case of dictionaries it will help us understand why keys have to be unique and immutable and why earlier versions of Python did not define an order for dictionaries.\n",
    "\n",
    "Take the case where the keys are immutable strings.  Python defines a set of slots or bins for the key/value pairs (or more correctly for the pointers to key/value pairs).  Typically there are more bins than key/value pairs.  Each bin is either empty or contains a pointer to the key/value pair, however sometimes a bin contains more than one pointer to key/value pairs.  The ideal situation is when there is zero or one pointer per bin, but if there are more than one pointer in a bin it is called a collision and this affects performance.  More of that later.\n",
    "\n",
    "The crux of the matter is how do we decide which bin to place a pointer to a key/value pair.  The answer is hashing.\n",
    "\n",
    "Consider a dictionary with, say 100 bins.  Given a key, \"John\" and a value 28000, which bin will we use?  Now strings have a built-in hash function which generates a number.  If we take the remainder on dividing by the number of bins (100) we will get a number in the range 0 to 99.  We can use this as the bin for this key/value pair."
   ]
  },
  {
   "cell_type": "code",
   "execution_count": null,
   "metadata": {},
   "outputs": [],
   "source": [
    "key = \"John\"\n",
    "hash = key.__hash__()\n",
    "print(f\"key goes in bin {hash % 100}\")"
   ]
  },
  {
   "cell_type": "markdown",
   "metadata": {},
   "source": [
    "## 6\n",
    "Now suppose we have a pair with a similar key: \"Johnny\"/24000.  Since the key is similar. you might expect the hash to be similar.  However the hash turns out to be completely different:"
   ]
  },
  {
   "cell_type": "code",
   "execution_count": null,
   "metadata": {},
   "outputs": [],
   "source": [
    "key = \"Johnny\"\n",
    "hash = key.__hash__()\n",
    "print(f\"key goes in bin {hash % 100}\")"
   ]
  },
  {
   "cell_type": "markdown",
   "metadata": {},
   "source": [
    "## 7\n",
    "Thus similar keys do not imply the keys will be stored near to each other.  The hashing mixes everything up and you can't predict which key/value pairs will be close to each other.  It's even possible that two totally different keys hash to the same bin (hopefully that didn't happen above!).\n",
    "\n",
    "Thus we say that a dictionary has no obvious \"order\".  However, starting with Python 3.7, each dictionary is now associated with a list object which records the order in which key/value pairs are added to the dictionary.  Hence we now say that a dictionary maintains \"insertion order\", but its important we realse that the dictionary part doesn't have an order, only the associated list.\n",
    "\n",
    "The hashed key is used to both to insert the key/value pair and then later to retreive it.  Hence it is important that the hash doesn't change.  That's why the key must be immutable.  If the hash changed we'd loose track of which bin it was in and we'd never be able to find the key/value again.\n",
    "\n",
    "The key has to be unique too ..."
   ]
  },
  {
   "cell_type": "code",
   "execution_count": null,
   "metadata": {},
   "outputs": [],
   "source": [
    "salary = {\"John\"  : 24000,\n",
    "          \"Bill\"  : 34000,\n",
    "          \"Susan\" : 37500,\n",
    "          \"John\"  : 28000,\n",
    "          \"Steve\" : 34000}\n",
    "print(salary)"
   ]
  },
  {
   "cell_type": "markdown",
   "metadata": {},
   "source": [
    "## 8\n",
    "I mentioned that two or more key/value pairs could end up in the same bin.  In that case the dictionary will still work, but Python will have to check on each key/value pair to see which is the correct one.  This introduces a slight inefficiency.  We say we have a collision.\n",
    "\n",
    "Provided there are not too many collisions the dictionary performs very efficiently.  Python will choose the hash algorithm and the number of bins automatically.  We, as the programmer, we can sit back and let Python do all the hard work.\n",
    "\n",
    "The above dictionary defines the key \"John\" twice. As you can see from the above output, there is only one key called \"John\". What happens id=s the second key \"John\" overrides the value 24000 with 28000. Hence keys have to be unique.\n",
    "\n",
    "Key values can be changed after the dictionary has been created, using:\n",
    "\n",
    "salary[\"John\"] = 28000"
   ]
  },
  {
   "cell_type": "code",
   "execution_count": null,
   "metadata": {},
   "outputs": [],
   "source": [
    "salary = {\"John\"  : 24000,\n",
    "          \"Bill\"  : 34000,\n",
    "          \"Susan\" : 37500,\n",
    "          \"Steve\" : 34000}\n",
    "print(salary)\n",
    "salary[\"John\"] = 28000\n",
    "print(salary)"
   ]
  },
  {
   "cell_type": "markdown",
   "metadata": {
    "slideshow": {
     "slide_type": "subslide"
    }
   },
   "source": [
    "## 9\n",
    "Thus using the same key just updates the value.  But what if we choose a new key?"
   ]
  },
  {
   "cell_type": "code",
   "execution_count": null,
   "metadata": {
    "slideshow": {
     "slide_type": "slide"
    }
   },
   "outputs": [],
   "source": [
    "salary = {\"John\"  : 24000,\n",
    "          \"Bill\"  : 34000,\n",
    "          \"Susan\" : 37500,\n",
    "          \"Steve\" : 34000}\n",
    "print(salary)\n",
    "salary[\"Terry\"] = 41000\n",
    "print(salary)"
   ]
  },
  {
   "cell_type": "markdown",
   "metadata": {},
   "source": [
    "## 10\n",
    "Creating a new key creates a new entry in the dictionary.  \n",
    "\n",
    "How do we remove a key?"
   ]
  },
  {
   "cell_type": "code",
   "execution_count": null,
   "metadata": {},
   "outputs": [],
   "source": [
    "salary = {\"John\"  : 24000,\n",
    "          \"Bill\"  : 34000,\n",
    "          \"Susan\" : 37500,\n",
    "          \"Steve\" : 34000}\n",
    "print(salary)\n",
    "salary.pop(\"Bill\")\n",
    "print(salary)"
   ]
  },
  {
   "cell_type": "markdown",
   "metadata": {},
   "source": [
    "## 11\n",
    "Sometimes we know a value has changed, but we don't know what it has been changed to.  For example \"Susan\" gets a pay rise, but won't tell us how much:"
   ]
  },
  {
   "cell_type": "code",
   "execution_count": null,
   "metadata": {},
   "outputs": [],
   "source": [
    "salary = {\"John\"  : 24000,\n",
    "          \"Bill\"  : 34000,\n",
    "          \"Susan\" : 37500,\n",
    "          \"Steve\" : 34000}\n",
    "print(salary)\n",
    "salary[\"Susan\"] = None\n",
    "print(salary)"
   ]
  },
  {
   "cell_type": "markdown",
   "metadata": {},
   "source": [
    "## 12\n",
    "There are a number of convenience methods for working with dictionaries.  Some are discussed below.\n",
    "\n",
    "How do we check if a given key is in the dictionary?"
   ]
  },
  {
   "cell_type": "code",
   "execution_count": null,
   "metadata": {},
   "outputs": [],
   "source": [
    "salary = {\"John\"  : 24000,\n",
    "          \"Bill\"  : 34000,\n",
    "          \"Susan\" : 37500,\n",
    "          \"Steve\" : 34000}\n",
    "if \"Bill\" in salary:\n",
    "    print(\"Bill is in the dictionary\")\n",
    "if not \"Mary\" in salary:\n",
    "    print(\"Mary is NOT in the dictionary\")    "
   ]
  },
  {
   "cell_type": "markdown",
   "metadata": {},
   "source": [
    "## 13\n",
    "Sometimes we need to print out the dictionary in lexical order.  This presents a problem because the dictionary only records insertion order, not lexical order.  \n",
    "\n",
    "However we could extract the keys into a list and sort that.  Then we can recover the values from the dictionary.  The dictionary has a keys() method to extract the keys - unfortunately it returns an intermediate data structure (dict_keys).  We need to cast the dict_keys to a list to get things to work."
   ]
  },
  {
   "cell_type": "code",
   "execution_count": null,
   "metadata": {},
   "outputs": [],
   "source": [
    "salary = {\"John\"  : 24000,\n",
    "          \"Bill\"  : 34000,\n",
    "          \"Susan\" : 37500,\n",
    "          \"Peter\" : 33000,\n",
    "          \"Steve\" : 34000}\n",
    "keys = list(salary.keys())\n",
    "keys.sort()\n",
    "\n",
    "for key in keys:\n",
    "    print(f\"{key}, {salary[key]}\")"
   ]
  },
  {
   "cell_type": "markdown",
   "metadata": {},
   "source": [
    "## 14\n",
    "You can extract the values fro a dictionary.  This is useful to get stats on the dictionary:"
   ]
  },
  {
   "cell_type": "code",
   "execution_count": null,
   "metadata": {},
   "outputs": [],
   "source": [
    "salary = {\"John\"  : 24000,\n",
    "          \"Bill\"  : 34000,\n",
    "          \"Susan\" : 37500,\n",
    "          \"Peter\" : 33000,\n",
    "          \"Steve\" : 34000}\n",
    "values = list(salary.values())\n",
    "averageValue = sum(values) / len(values)\n",
    "print(f\"The average salary is {averageValue}\")"
   ]
  },
  {
   "cell_type": "markdown",
   "metadata": {},
   "source": [
    "## 15\n",
    "And finally, you can combine dictionaries:"
   ]
  },
  {
   "cell_type": "code",
   "execution_count": null,
   "metadata": {},
   "outputs": [],
   "source": [
    "salary_set1 = {\"John\"  : 24000,\n",
    "               \"Bill\"  : 34000,\n",
    "               \"Susan\" : 37500,\n",
    "               \"Peter\" : 33000,\n",
    "               \"Steve\" : 34000}\n",
    "salary_set2 = {\"Alice\" : 42000,\n",
    "               \"Peter\" : 37000,\n",
    "               \"Mary\"  : 21000,\n",
    "               \"James\" : 55000}\n",
    "salary = {**salary_set1, **salary_set2}\n",
    "print(salary)\n"
   ]
  }
 ],
 "metadata": {
  "kernelspec": {
   "display_name": "Python 3",
   "language": "python",
   "name": "python3"
  },
  "language_info": {
   "codemirror_mode": {
    "name": "ipython",
    "version": 3
   },
   "file_extension": ".py",
   "mimetype": "text/x-python",
   "name": "python",
   "nbconvert_exporter": "python",
   "pygments_lexer": "ipython3",
   "version": "3.7.1"
  }
 },
 "nbformat": 4,
 "nbformat_minor": 4
}
