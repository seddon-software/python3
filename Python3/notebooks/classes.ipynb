{
 "cells": [
  {
   "cell_type": "markdown",
   "metadata": {},
   "source": [
    "<div style=\"color:red;background-color:black\">\n",
    "Diamond Light Source\n",
    "\n",
    "<h1 style=\"color:red;background-color:antiquewhite\"> Python Fundamentals: Classes</h1>  \n",
    "\n",
    "©2000-20 Chris Seddon \n",
    "</div>"
   ]
  },
  {
   "cell_type": "markdown",
   "metadata": {},
   "source": [
    "Execute the following cell to activate styling for this tutorial"
   ]
  },
  {
   "cell_type": "code",
   "execution_count": 1,
   "metadata": {},
   "outputs": [
    {
     "data": {
      "text/html": [
       "<style>/* GLOBALS */\n",
       "/* body {background-color: #f7f7f7;} */\n",
       ".text_cell {background-color: cornsilk;}\n",
       ".code_cell { background-color: lightskyblue; }\n",
       ".selected { background-color: peachpuff; }\n",
       ".output { background-color: aliceblue; }\n",
       "\n",
       "</style>"
      ],
      "text/plain": [
       "<IPython.core.display.HTML object>"
      ]
     },
     "execution_count": 1,
     "metadata": {},
     "output_type": "execute_result"
    }
   ],
   "source": [
    "from IPython.display import HTML\n",
    "HTML(f\"<style>{open('my.css').read()}</style>\")"
   ]
  },
  {
   "cell_type": "markdown",
   "metadata": {},
   "source": [
    "## 1\n",
    "In this tutorial we will create a single class called Point; we will use this class to create 3 Point objects.  \n",
    "Each of the Point objects will be able to move around a screen:\n",
    "\n",
    "<img src=\"images/figure5.jpg\"/>\n",
    "\n",
    "We will define the class with 3 functions (common parlance is to call these functions \"methods\"):\n",
    "* initialize\n",
    "* moveBy\n",
    "* display  \n",
    "\n",
    "The \"initialize\" method will define the initial coordinates of the given point and give the point a name.  To simplify the code, the intention is to avoid writing any graphics software, so instead the \"display\" method will simply print out the name and position of the point.  The \"moveBy\" method will change the point's position.\n",
    "\n",
    "Of course we will need to keep track of each point's position and name; each point will use a dictionary for this.\n",
    "\n",
    "Finally, when we are writing code for problems such as this, it is important not to write too much code in one go.  It's much better to develop code incrementally.  With this in mind let's create a minimal Point class and flush out the details later:"
   ]
  },
  {
   "cell_type": "code",
   "execution_count": 6,
   "metadata": {},
   "outputs": [
    {
     "name": "stdout",
     "output_type": "stream",
     "text": [
      "<class '__main__.Point'>\n"
     ]
    }
   ],
   "source": [
    "class Point:\n",
    "    pass\n",
    "\n",
    "print(Point)"
   ]
  },
  {
   "cell_type": "markdown",
   "metadata": {},
   "source": [
    "## 2\n",
    "Note that classes are conventionally declared starting with a capital letter.  \n",
    "\n",
    "Next we want to be able to instantiate 3 objects of this class.  In several computer languages object creation is along the lines: \n",
    "<pre>p = new Point()</pre>\n",
    "However in Python we are even more succinct:"
   ]
  },
  {
   "cell_type": "code",
   "execution_count": 5,
   "metadata": {},
   "outputs": [
    {
     "name": "stdout",
     "output_type": "stream",
     "text": [
      "<__main__.Point object at 0x10484ceb8>\n",
      "<__main__.Point object at 0x10484ce80>\n",
      "<__main__.Point object at 0x10484c4e0>\n"
     ]
    }
   ],
   "source": [
    "p1 = Point()\n",
    "p2 = Point()\n",
    "p3 = Point()\n",
    "\n",
    "print(p1)\n",
    "print(p2)\n",
    "print(p3)"
   ]
  },
  {
   "cell_type": "markdown",
   "metadata": {},
   "source": [
    "## 3 \n",
    "Be careful not to confuse the above object instantiation with a function call.  Unfortunately, they both use the same syntax; hence the convention that function names start with a lower case letter and classes start with an upper case letter.  \n",
    "\n",
    "Let's add an \"initialize\" method to the class (again a minimal implementation).  We will need to pass an initial value of x and y and give the point a name.  Therefore the \"initialize\" method will need to pass these 3 parameters.  However we also need to pass a further parameter that points at the object's dictionary.  This last parameter is called \"self\" and must be the first parameter of the method:"
   ]
  },
  {
   "cell_type": "code",
   "execution_count": 8,
   "metadata": {
    "slideshow": {
     "slide_type": "slide"
    }
   },
   "outputs": [],
   "source": [
    "class Point:\n",
    "    def initialize(self, x0, y0, name):\n",
    "        pass\n",
    "\n",
    "p1 = Point()\n",
    "p2 = Point()\n",
    "p3 = Point()"
   ]
  },
  {
   "cell_type": "markdown",
   "metadata": {},
   "source": [
    "## 4\n",
    "Let's see if we can call the \"initialize\" method for each point with some sample data:"
   ]
  },
  {
   "cell_type": "code",
   "execution_count": 9,
   "metadata": {
    "slideshow": {
     "slide_type": "slide"
    }
   },
   "outputs": [],
   "source": [
    "class Point:\n",
    "    def initialize(self, x0, y0, name):\n",
    "        pass\n",
    "\n",
    "p1 = Point()\n",
    "p2 = Point()\n",
    "p3 = Point()\n",
    "Point.initialize(p1, 100, 150, 'point-p1')\n",
    "Point.initialize(p2, 400, 450, 'point-p2')\n",
    "Point.initialize(p3, 250, 750, 'point-p3')"
   ]
  },
  {
   "cell_type": "markdown",
   "metadata": {},
   "source": [
    "## 6\n",
    "Now we are ready to add code to \"initialize\".  The code must take the 3 inputs \"x0\", \"y0\" and \"name\" and copy them into the object's dictionary pointed at by \"self\".  The 3 entries in the dictionary will be:\n",
    "\n",
    "<pre>self.x\n",
    "self.y\n",
    "self.name</pre>\n",
    "\n",
    "Realize \"x0\", \"y0\" and \"name\" are local variables and will be deleted at the end of the method.  The copies will be stored safely in the object's dictionary and will not get deleted.  In fact the object's dictionary stays alive while there exists a pointer to the dictionary.  Precisely what \"p1\", \"p2\" and \"p3\" are achieving."
   ]
  },
  {
   "cell_type": "code",
   "execution_count": 10,
   "metadata": {
    "slideshow": {
     "slide_type": "slide"
    }
   },
   "outputs": [],
   "source": [
    "class Point:\n",
    "    def initialize(self, x0, y0, name):\n",
    "        self.x = x0\n",
    "        self.y = y0\n",
    "        self.name = name\n",
    "\n",
    "p1 = Point()\n",
    "p2 = Point()\n",
    "p3 = Point()\n",
    "p1.initialize(100, 150, 'point-p1')\n",
    "p2.initialize(400, 450, 'point-p2')\n",
    "p3.initialize(250, 750, 'point-p3')"
   ]
  },
  {
   "cell_type": "markdown",
   "metadata": {
    "slideshow": {
     "slide_type": "subslide"
    }
   },
   "source": [
    "## 7\n",
    "Now we can add code for the \"display\" method.  This method merely prints out the contents of each object's dictionary.  Recall that \"self\" points to the object's dictionary and must be passed as the first parameter:"
   ]
  },
  {
   "cell_type": "code",
   "execution_count": 12,
   "metadata": {
    "slideshow": {
     "slide_type": "slide"
    }
   },
   "outputs": [
    {
     "name": "stdout",
     "output_type": "stream",
     "text": [
      "point-p1 100 150\n",
      "point-p2 400 450\n",
      "point-p3 250 750\n"
     ]
    }
   ],
   "source": [
    "class Point:\n",
    "    def initialize(self, x0, y0, name):\n",
    "        self.x = x0\n",
    "        self.y = y0\n",
    "        self.name = name\n",
    "    def display(self):\n",
    "        print(self.name,self.x,self.y)\n",
    "p1 = Point()\n",
    "p2 = Point()\n",
    "p3 = Point()\n",
    "p1.initialize(100, 150, 'point-p1')\n",
    "p2.initialize(400, 450, 'point-p2')\n",
    "p3.initialize(250, 750, 'point-p3')\n",
    "p1.display()\n",
    "p2.display()\n",
    "p3.display()"
   ]
  },
  {
   "cell_type": "markdown",
   "metadata": {
    "slideshow": {
     "slide_type": "subslide"
    }
   },
   "source": [
    "## 8\n",
    "Trivially, we could improve the program's output by tiding using an f-string in \"display\":"
   ]
  },
  {
   "cell_type": "code",
   "execution_count": 13,
   "metadata": {
    "slideshow": {
     "slide_type": "slide"
    }
   },
   "outputs": [
    {
     "name": "stdout",
     "output_type": "stream",
     "text": [
      "point-p1 is at [100,150]\n",
      "point-p2 is at [400,450]\n",
      "point-p3 is at [250,750]\n"
     ]
    }
   ],
   "source": [
    "class Point:\n",
    "    def initialize(self, x0, y0, name):\n",
    "        self.x = x0\n",
    "        self.y = y0\n",
    "        self.name = name\n",
    "    def display(self):\n",
    "        print(f\"{self.name} is at [{self.x},{self.y}]\")\n",
    "p1 = Point()\n",
    "p2 = Point()\n",
    "p3 = Point()\n",
    "p1.initialize(100, 150, 'point-p1')\n",
    "p2.initialize(400, 450, 'point-p2')\n",
    "p3.initialize(250, 750, 'point-p3')\n",
    "p1.display()\n",
    "p2.display()\n",
    "p3.display()"
   ]
  },
  {
   "cell_type": "markdown",
   "metadata": {},
   "source": [
    "## 9\n",
    "To complete the class we need to write the \"moveBy\" method.  This method will change the values in the object's dictionary.  As always, we need to pass \"self\" as the first parameter.  \n",
    "I think I'll call the \"moveBy\" method before \"display\"; that way we can see the results of moving the objects:"
   ]
  },
  {
   "cell_type": "code",
   "execution_count": 14,
   "metadata": {
    "slideshow": {
     "slide_type": "slide"
    }
   },
   "outputs": [
    {
     "name": "stdout",
     "output_type": "stream",
     "text": [
      "point-p1 is at [101,151]\n",
      "point-p2 is at [401,451]\n",
      "point-p3 is at [251,751]\n"
     ]
    }
   ],
   "source": [
    "class Point:\n",
    "    def initialize(self, x0, y0, name):\n",
    "        self.x = x0\n",
    "        self.y = y0\n",
    "        self.name = name\n",
    "    def display(self):\n",
    "        print(f\"{self.name} is at [{self.x},{self.y}]\")\n",
    "    def moveBy(self, dx, dy):\n",
    "        self.x += dx\n",
    "        self.y += dy\n",
    "p1 = Point()\n",
    "p2 = Point()\n",
    "p3 = Point()\n",
    "p1.initialize(100, 150, 'point-p1')\n",
    "p2.initialize(400, 450, 'point-p2')\n",
    "p3.initialize(250, 750, 'point-p3')\n",
    "p1.moveBy(1,1)\n",
    "p2.moveBy(1,1)\n",
    "p3.moveBy(1,1)\n",
    "p1.display()\n",
    "p2.display()\n",
    "p3.display()"
   ]
  },
  {
   "cell_type": "markdown",
   "metadata": {},
   "source": [
    "## 10\n",
    "Now we have a complete class.  All classes get defined in a similar manner: treat this as a template for all your other classes.  \n",
    "\n",
    "DefininSo much for immutable objects.  Let's use a list to look at mutable objects.\n",
    "This time we use the append method to modify the list:"
   ]
  },
  {
   "cell_type": "code",
   "execution_count": null,
   "metadata": {},
   "outputs": [],
   "source": [
    "def addItem(a):\n",
    "    a.append(99)\n",
    "    \n",
    "x = [10, 20, 30, 40]\n",
    "addItem(x)\n",
    "print(x)"
   ]
  },
  {
   "cell_type": "markdown",
   "metadata": {},
   "source": [
    "## 11\n",
    "This time the program works even though there is no return statement and no assignment in the calling program.  These were essential for immutable objects.  \n",
    "\n",
    "With mutable objects the \"addItem\" function doesn't create a new list object because it can modify the object passed to the routine (it's mutable).  Since 'x' in the calling program and 'a' in the \"addOne\" both point to the same list, they both see the change.  Hence no need for a return statement and no need for an assignment in the calling program.\n",
    "\n",
    "Functions acting on mutable objects modify in-place and do not have a return statement.\n",
    "\n",
    "One more example:"
   ]
  },
  {
   "cell_type": "code",
   "execution_count": null,
   "metadata": {},
   "outputs": [],
   "source": [
    "x = [10, 20, 30, 40]\n",
    "x = x.append(99)\n",
    "print(x)"
   ]
  },
  {
   "cell_type": "markdown",
   "metadata": {},
   "source": [
    "## 12\n",
    "Note the above fails because we tried to return something from an operation on a mutable object.  Python just returns the empty object (None).\n",
    "\n",
    "Python treats mutable and immutable objects totally differently.\n",
    "\n",
    "To correct the program, realise append() doesn't return anything!"
   ]
  },
  {
   "cell_type": "code",
   "execution_count": null,
   "metadata": {},
   "outputs": [],
   "source": [
    "x = [10, 20, 30, 40]\n",
    "x.append(99)\n",
    "print(x)"
   ]
  }
 ],
 "metadata": {
  "kernelspec": {
   "display_name": "Python 3",
   "language": "python",
   "name": "python3"
  },
  "language_info": {
   "codemirror_mode": {
    "name": "ipython",
    "version": 3
   },
   "file_extension": ".py",
   "mimetype": "text/x-python",
   "name": "python",
   "nbconvert_exporter": "python",
   "pygments_lexer": "ipython3",
   "version": "3.7.1"
  }
 },
 "nbformat": 4,
 "nbformat_minor": 4
}
