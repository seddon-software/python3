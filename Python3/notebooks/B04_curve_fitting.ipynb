{
 "cells": [
  {
   "cell_type": "markdown",
   "metadata": {},
   "source": [
    "<div style=\"color:red;background-color:black\">\n",
    "Diamond Light Source\n",
    "\n",
    "<h1 style=\"color:red;background-color:antiquewhite\"> Python Libraries: Curve Fitting</h1>  \n",
    "\n",
    "©2000-20 Chris Seddon \n",
    "</div>"
   ]
  },
  {
   "cell_type": "markdown",
   "metadata": {},
   "source": [
    "## 1\n",
    "Execute the following cell to activate styling for this tutorial"
   ]
  },
  {
   "cell_type": "code",
   "execution_count": null,
   "metadata": {},
   "outputs": [],
   "source": [
    "from IPython.display import HTML\n",
    "HTML(f\"<style>{open('my.css').read()}</style>\")"
   ]
  },
  {
   "cell_type": "markdown",
   "metadata": {},
   "source": [
    "## 2\n",
    "Before we start with fitting any real data, let's see how to use SciPy to perform curve fitting on some synthetic data.  We will begin by generating sample data for a simple polynominal and then add some noise to make hings more realistic.\n",
    "\n",
    "Suppose we wish to fit the polynomial:\n",
    "$$y = ax^2 + bx + c$$\n",
    "where a, b and c are unknown constants.  \n",
    "\n",
    "We can create some test data and plot it with the following code:"
   ]
  },
  {
   "cell_type": "code",
   "execution_count": null,
   "metadata": {},
   "outputs": [],
   "source": [
    "import numpy as np\n",
    "import matplotlib.pyplot as plt\n",
    "%matplotlib inline\n",
    "\n",
    "\n",
    "ax = plt.gca()\n",
    "ax.set_title(\"ax\" + chr(0x00B2) + \" + bx + c\")\n",
    "\n",
    "x = np.arange(-4, 4, 0.01)\n",
    "noise = np.random.rand((len(x)))-0.5 # between -0.5 and 0.5\n",
    "y = 7.8*x**2 - 2.3*x + 13.4 + 50 * noise\n",
    "plt.plot(x, y)\n",
    "print()"
   ]
  },
  {
   "cell_type": "markdown",
   "metadata": {},
   "source": [
    "## 3\n",
    "Now we define the function to fit.  The function must have the input variable \"x\" as the first parameter, followed by all the unknown constants (a, b and c in our case).  The function must return \"y\".  SciPy will use the experimental data to estimate value for the unknown constants.  \n",
    "\n",
    "SciPy curve fitting is designed for one dimensional fits.  It is possible to adapt the algorithm to multiple dimensions, but it is not straightford to do so.\n",
    "\n",
    "Here is our fitting function:"
   ]
  },
  {
   "cell_type": "code",
   "execution_count": null,
   "metadata": {
    "slideshow": {
     "slide_type": "slide"
    }
   },
   "outputs": [],
   "source": [
    "def quadratic(x, a, b, c):\n",
    "    return a*x**2 + b*x + c"
   ]
  },
  {
   "cell_type": "markdown",
   "metadata": {},
   "source": [
    "## 4\n",
    "We can perform the fit using SciPy's \"curve_fit\" method.  The method takes a pointer to our fit function, followed by the \"x\" and \"y\" experimental data.  The last parameter is a list of initial guesses for the 3 unknown constants.  If the initial guess is too far off, the fitting will fail.  Usually it's fairly easy to come up with some reasonable estimates."
   ]
  },
  {
   "cell_type": "code",
   "execution_count": null,
   "metadata": {},
   "outputs": [],
   "source": [
    "import scipy.optimize\n",
    "\n",
    "def initialGuess():    \n",
    "    a = 5\n",
    "    b = 0\n",
    "    c = 8\n",
    "    return [a, b, c]\n",
    "\n",
    "fit, estimated_covariance = scipy.optimize.curve_fit(quadratic, x, y, p0=initialGuess())\n",
    "print(f\"estimates of [a, b, c] are {fit}\")"
   ]
  },
  {
   "cell_type": "markdown",
   "metadata": {},
   "source": [
    "## 5\n",
    "The curve fit returns estimates of the unknown constants and the estimated covariance.  The covariance information is discussed in SciPy documentation:\n",
    "* <a href=\"https://docs.scipy.org/doc/scipy/reference/generated/scipy.optimize.curve_fit.html#scipy.optimize.curve_fit\">scipy.optimize.curve_fit</a>\n",
    "\n",
    "All that remains is to plot the fit against the synthetic experimental data:"
   ]
  },
  {
   "cell_type": "code",
   "execution_count": null,
   "metadata": {},
   "outputs": [],
   "source": [
    "plt.plot(x, y)\n",
    "ax.set_xlabel('x')\n",
    "ax.set_ylabel('y')\n",
    "\n",
    "plt.plot(x, quadratic(x, *fit), 'r-',\n",
    "         label=f'a={fit[0]:.2f} b={fit[1]:.2f} c={fit[2]:.2f}')\n",
    "plt.legend()\n",
    "plt.show()"
   ]
  },
  {
   "cell_type": "markdown",
   "metadata": {},
   "source": [
    "## 6\n",
    "The three constants are reasonably accurate, especially in view of the large noise component.  Reduce the noise and we'd be even more accurate:"
   ]
  },
  {
   "cell_type": "code",
   "execution_count": null,
   "metadata": {},
   "outputs": [],
   "source": [
    "y = 7.8*x**2 - 2.3*x + 13.4 + 10 * noise\n",
    "plt.plot(x, y)\n",
    "ax.set_xlabel('x')\n",
    "ax.set_ylabel('y')\n",
    "\n",
    "plt.plot(x, quadratic(x, *fit), 'r-',\n",
    "         label=f'a={fit[0]:.2f} b={fit[1]:.2f} c={fit[2]:.2f}')\n",
    "plt.legend()\n",
    "plt.show()"
   ]
  },
  {
   "cell_type": "markdown",
   "metadata": {},
   "source": [
    "## 7\n",
    "Now we know how to use SciPy's curve fitting module, we can perform curve fitting on some real experimental data from:\n",
    "<pre>data/14763.dat</pre>\n",
    "We'll use Pandas to read this data into memory."
   ]
  },
  {
   "cell_type": "code",
   "execution_count": null,
   "metadata": {},
   "outputs": [],
   "source": [
    "%matplotlib inline\n",
    "import h5py\n",
    "import numpy as np\n",
    "import pandas as pd\n",
    "import matplotlib.pyplot as plt\n",
    "from math import log, sqrt\n",
    "from scipy.optimize import curve_fit\n",
    "\n",
    "def main():\n",
    "    fileName = \"data/14763.dat\"\n",
    "    data = pd.read_csv(fileName, \n",
    "                       skiprows = 6,\n",
    "                       engine = 'python',\n",
    "                       sep = '[ \\t]+')\n",
    "    \n",
    "    print(data)\n",
    "    print(data.keys())\n",
    "    \n",
    "main()"
   ]
  },
  {
   "cell_type": "markdown",
   "metadata": {},
   "source": [
    "## 8\n",
    "The plan is to plot 'gonx' against 'i_pin' to get an idea of what the data looks like."
   ]
  },
  {
   "cell_type": "code",
   "execution_count": null,
   "metadata": {},
   "outputs": [],
   "source": [
    "%matplotlib inline\n",
    "import h5py\n",
    "import numpy as np\n",
    "import pandas as pd\n",
    "import matplotlib.pyplot as plt\n",
    "from math import log, sqrt\n",
    "from scipy.optimize import curve_fit\n",
    "\n",
    "def main():\n",
    "    fileName = \"data/14763.dat\"\n",
    "    data = pd.read_csv(fileName, \n",
    "                       skiprows = 6,\n",
    "                       engine = 'python',\n",
    "                       sep = '[ \\t]+')\n",
    "    \n",
    "    plt.gcf().canvas.set_window_title(fileName)\n",
    "    ax = plt.gca()\n",
    "    ax.set_title(\"gaussian fitting\")\n",
    "    x = data['gonx']\n",
    "    y = data['i_pin']\n",
    "    ax.set_xlabel('gonx')\n",
    "    ax.set_ylabel('i_pin')\n",
    "    plt.plot(x, y)\n",
    "    plt.show()\n",
    "main()"
   ]
  },
  {
   "cell_type": "markdown",
   "metadata": {},
   "source": [
    "## 9\n",
    "This data is from a scan where the \"i_pin\" intensity drops off as we move \"gonx\".  Let's look at the differences plot.  \n",
    "\n",
    "Don't forgot that by taking differences, we loose one value from the Y axis.  We should plot \"gonx[:-1]\" against \"i_pin\":"
   ]
  },
  {
   "cell_type": "code",
   "execution_count": null,
   "metadata": {},
   "outputs": [],
   "source": [
    "%matplotlib inline\n",
    "import h5py\n",
    "import numpy as np\n",
    "import pandas as pd\n",
    "import matplotlib.pyplot as plt\n",
    "from math import log, sqrt\n",
    "from scipy.optimize import curve_fit\n",
    "\n",
    "def main():\n",
    "    fileName = \"data/14763.dat\"\n",
    "    data = pd.read_csv(fileName, \n",
    "                       skiprows = 6,\n",
    "                       engine = 'python',\n",
    "                       sep = '[ \\t]+')\n",
    "    \n",
    "    plt.gcf().canvas.set_window_title(fileName)\n",
    "    ax = plt.gca()\n",
    "    ax.set_title(\"gaussian fitting\")\n",
    "    x = data['gonx']\n",
    "    y = data['i_pin']\n",
    "    dy = np.diff(y)\n",
    "    ax.set_xlabel('gonx')\n",
    "    ax.set_ylabel('d(i_pin)')\n",
    "    plt.plot(x[:-1], dy)\n",
    "    plt.show()\n",
    "main()"
   ]
  },
  {
   "cell_type": "markdown",
   "metadata": {},
   "source": [
    "## 10\n",
    "We will be interested in the positive peak, so we need to slice off \"gonx\" values away from this peak.  We can incorporate removing 1 data point from the \"x\" axis by the following slices:\n",
    "<pre>x = data['gonx'][250:-401]\n",
    "y = data['i_pin'][250:-400]</pre>"
   ]
  },
  {
   "cell_type": "code",
   "execution_count": null,
   "metadata": {},
   "outputs": [],
   "source": [
    "%matplotlib inline\n",
    "import h5py\n",
    "import numpy as np\n",
    "import pandas as pd\n",
    "import matplotlib.pyplot as plt\n",
    "from math import log, sqrt\n",
    "from scipy.optimize import curve_fit\n",
    "\n",
    "fileName = \"data/14763.dat\"\n",
    "data = pd.read_csv(fileName, \n",
    "                   skiprows = 6,\n",
    "                   engine = 'python',\n",
    "                   sep = '[ \\t]+')\n",
    "\n",
    "plt.gcf().canvas.set_window_title(fileName)\n",
    "ax = plt.gca()\n",
    "ax.set_title(\"gaussian fitting\")\n",
    "x = data['gonx']\n",
    "y = data['i_pin']\n",
    "dy = np.diff(y)\n",
    "ax.set_xlabel('gonx')\n",
    "ax.set_ylabel('d(i_pin)')\n",
    "x = data['gonx'][250:-401]\n",
    "y = data['i_pin'][250:-400]\n",
    "dy = np.diff(y)\n",
    "plt.plot(x, dy)\n",
    "plt.show()"
   ]
  },
  {
   "cell_type": "markdown",
   "metadata": {},
   "source": [
    "## 11\n",
    "As before we need to define our function to be fitted.  This time it is a Gaussian.  The Gaussian is defined by 3 constants:\n",
    "\n",
    "* peak: is at about 0.03\n",
    "* μ: is the center which is about -1.0 \n",
    "* σ: is the standard deviation and is about 0.4  \n",
    "\n",
    "The standard deviation is related to to the full width at half maximum (FWHM) by the formula:\n",
    "<pre>σ = FWHM / √(2log2)</pre>\n"
   ]
  },
  {
   "cell_type": "code",
   "execution_count": null,
   "metadata": {},
   "outputs": [],
   "source": [
    "import numpy as np\n",
    "\n",
    "def gauss(x, peak, μ, σ):\n",
    "    return peak*np.exp(-(x-μ)**2/(2.*σ**2))"
   ]
  },
  {
   "cell_type": "markdown",
   "metadata": {},
   "source": [
    "## 12\n",
    "The curve fitting procedes as before and the 3 constants are determined.  Our initial guess of the 3 constants could be the values determined above, but will work with a less accurate guess as below:"
   ]
  },
  {
   "cell_type": "code",
   "execution_count": null,
   "metadata": {},
   "outputs": [],
   "source": [
    "def initialGuess():    \n",
    "    peak = 0.04\n",
    "    center = -1.3\n",
    "    FWHM = fullWidthAtHalfMaximum = 0.1\n",
    "    k = 2 * sqrt(2 * log(2))\n",
    "    standard_deviation = FWHM / k\n",
    "    return [peak, center, standard_deviation]\n",
    "fit, estimated_covariance = curve_fit(gauss, x, dy, p0=initialGuess())\n",
    "print(f\"[peak, μ, σ] = {fit}\")"
   ]
  },
  {
   "cell_type": "markdown",
   "metadata": {},
   "source": [
    "## 13\n",
    "Finally, we can plot the fit against the experimental data.\n",
    "\n",
    "Here is the complete example:"
   ]
  },
  {
   "cell_type": "code",
   "execution_count": null,
   "metadata": {},
   "outputs": [],
   "source": [
    "%matplotlib inline\n",
    "import h5py\n",
    "import numpy as np\n",
    "import pandas as pd\n",
    "import matplotlib.pyplot as plt\n",
    "from math import log, sqrt\n",
    "from scipy.optimize import curve_fit\n",
    "\n",
    "def gauss(x, peak, μ, σ):\n",
    "    return peak*np.exp(-(x-μ)**2/(2.*σ**2))\n",
    "\n",
    "def main():\n",
    "    fileName = \"data/14763.dat\"\n",
    "    data = pd.read_csv(fileName, \n",
    "                       skiprows = 6,\n",
    "                       engine = 'python',\n",
    "                       sep = '[ \\t]+')\n",
    "    \n",
    "    print(data)\n",
    "    print(data.keys())\n",
    "    \n",
    "    plt.gcf().canvas.set_window_title(fileName)\n",
    "    ax = plt.gca()\n",
    "    ax.set_title(\"gaussian fitting\")\n",
    "    x = data['gonx'][250:-401]\n",
    "    y = data['i_pin'][250:-400]\n",
    "    dy = np.diff(y)\n",
    "    \n",
    "    def initialGuess():    \n",
    "        peak = 0.04\n",
    "        center = -1.3\n",
    "        FWHM = fullWidthAtHalfMaximum = 0.1\n",
    "        k = 2 * sqrt(2 * log(2))\n",
    "        standard_deviation = FWHM / k\n",
    "        return [peak, center, standard_deviation]\n",
    "    fit, estimated_covariance = curve_fit(gauss, x, dy, p0=initialGuess())\n",
    "    print(fit)\n",
    "    plt.plot(x, dy)\n",
    "    ax.set_xlabel('gonx')\n",
    "    ax.set_ylabel('d(i_pin)')\n",
    "\n",
    "    plt.plot(x, gauss(x, *fit), 'r-',\n",
    "             label=f'peak={fit[0]:.2f} μ={fit[1]:.2f} σ={fit[2]:.2f}')\n",
    "    plt.legend()\n",
    "    plt.show()\n",
    "\n",
    "\n",
    "main()\n"
   ]
  }
 ],
 "metadata": {
  "kernelspec": {
   "display_name": "Python 3",
   "language": "python",
   "name": "python3"
  },
  "language_info": {
   "codemirror_mode": {
    "name": "ipython",
    "version": 3
   },
   "file_extension": ".py",
   "mimetype": "text/x-python",
   "name": "python",
   "nbconvert_exporter": "python",
   "pygments_lexer": "ipython3",
   "version": "3.7.1"
  }
 },
 "nbformat": 4,
 "nbformat_minor": 4
}
