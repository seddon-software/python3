{
 "cells": [
  {
   "cell_type": "markdown",
   "metadata": {},
   "source": [
    "<div style=\"color:red;background-color:black\">\n",
    "Diamond Light Source\n",
    "\n",
    "<h1 style=\"color:red;background-color:antiquewhite\"> Python Language: Exception Handling</h1>  \n",
    "\n",
    "©2000-20 Chris Seddon \n",
    "</div>"
   ]
  },
  {
   "cell_type": "markdown",
   "metadata": {},
   "source": [
    "## 1\n",
    "Execute the following cell to activate styling for this tutorial"
   ]
  },
  {
   "cell_type": "code",
   "execution_count": null,
   "metadata": {},
   "outputs": [],
   "source": [
    "from IPython.display import HTML\n",
    "HTML(f\"<style>{open('my.css').read()}</style>\")"
   ]
  },
  {
   "cell_type": "markdown",
   "metadata": {},
   "source": [
    "## 2\n",
    "Exception handling is the modern way of handling errors in programs.  Almost all programming languages use exception handling; C being the notable 'exception'.  Exception handling is split into 3 parts:  \n",
    "\n",
    "* try block: defining a region of code to monitor for exceptions\n",
    "* raise statement: what to do when a problem arises\n",
    "* except block: block of code to handle or respond to the exception\n",
    "\n",
    "Here is a simple example:"
   ]
  },
  {
   "cell_type": "code",
   "execution_count": null,
   "metadata": {},
   "outputs": [],
   "source": [
    "try:\n",
    "    for n in range(5, -5, -1):\n",
    "        print(10/n)\n",
    "except:\n",
    "    print(\"division failed\")"
   ]
  },
  {
   "cell_type": "markdown",
   "metadata": {},
   "source": [
    "## 3 \n",
    "You'll notice that there was no \"raise\" statement evident in the above example.  This was because the division by zero was detected by the Python runtime and the exception was raised there.  We can't see the code for the runtime, but be reassured an exception was raised.\n",
    "\n",
    "In the following example we raise the exception ourselves, rather than relying on the Python runtime."
   ]
  },
  {
   "cell_type": "code",
   "execution_count": null,
   "metadata": {
    "slideshow": {
     "slide_type": "slide"
    }
   },
   "outputs": [],
   "source": [
    "try:\n",
    "    for n in range(5, -5, -1):\n",
    "        if n == 0: \n",
    "            raise Exception()\n",
    "        print(10/n)\n",
    "except:\n",
    "    print(\"division failed\")"
   ]
  },
  {
   "cell_type": "markdown",
   "metadata": {},
   "source": [
    "## 4\n",
    "The mechanics of exception handling involve creating an exception object when a problem is detected.  In the above example, when \"n\" is zero, we know the code is about to fail, so we create the exception object from the \"Exception\" class with the line: <pre>\n",
    "raise Exception()\n",
    "</pre>\n",
    "The \"Exception\" class is the base class for all exceptions.  As we will see later, we often raise exceptions using exception objects from derived classes.  You can find a full list of built-in exception classes in the Python documentation:\n",
    "<a href=\"https://docs.python.org/3/library/exceptions.html\">built-in exceptions</a>\n",
    "\n",
    "The example above can be rewriiten using objects of the \"ZeroDivisionError\" class:"
   ]
  },
  {
   "cell_type": "code",
   "execution_count": null,
   "metadata": {
    "slideshow": {
     "slide_type": "slide"
    }
   },
   "outputs": [],
   "source": [
    "try:\n",
    "    for n in range(5, -5, -1):\n",
    "        if n == 0: \n",
    "            raise ZeroDivisionError()\n",
    "        print(10/n)\n",
    "except ZeroDivisionError:\n",
    "    print(\"division failed\")"
   ]
  },
  {
   "cell_type": "markdown",
   "metadata": {},
   "source": [
    "## 5\n",
    "It is often a good idea to define our own exception classes.  When we define our own exception class we should derive from \"Exception\", but we don't need to add any methods or attributes.  \n",
    "Such classes are called \"tag\" classes; they don't add any functionality to the \"Exception\" class, but they do have a distinct name (or tag): <pre>class TooBig(Exception): pass</pre>\n",
    "\n",
    "Code using our own tag class is demonstrated below:"
   ]
  },
  {
   "cell_type": "code",
   "execution_count": null,
   "metadata": {},
   "outputs": [],
   "source": [
    "class TooBig(Exception): pass\n",
    "\n",
    "try:\n",
    "    for x in range(25, 200, 25):\n",
    "        if x > 100: \n",
    "            raise TooBig()\n",
    "        else:\n",
    "            print(x)\n",
    "except TooBig as e:\n",
    "    print(f\"{x} is too big\")    "
   ]
  },
  {
   "cell_type": "markdown",
   "metadata": {},
   "source": [
    "## 6\n",
    "There is really no need to add an error message when we raise a \"TooBig\" exception; the name says it all.  Note that a TooBig object is raised in the try block and subsequently caught in the except block.  When the object is caught we need to give it a name: <pre>except TooBig as e:</pre>  \n",
    "\n",
    "Try blocks can appear in functions - this adds flexibility to our code.  The following example uses functions and another user defined tag class:"
   ]
  },
  {
   "cell_type": "code",
   "execution_count": null,
   "metadata": {},
   "outputs": [],
   "source": [
    "class TooBig(Exception): pass\n",
    "class MuchTooBig(Exception): pass\n",
    "\n",
    "def checkValue(x):\n",
    "    try:\n",
    "        if x > 200: \n",
    "            raise MuchTooBig()\n",
    "        elif x > 100:\n",
    "            raise TooBig()\n",
    "        else:\n",
    "            print(x)\n",
    "    except MuchTooBig as e:\n",
    "        print(f\"{x} is much too big\")\n",
    "    except TooBig as e:\n",
    "        print(f\"{x} is too big\")\n",
    "\n",
    "checkValue(50)\n",
    "checkValue(150)\n",
    "checkValue(250)"
   ]
  },
  {
   "cell_type": "markdown",
   "metadata": {
    "slideshow": {
     "slide_type": "subslide"
    }
   },
   "source": [
    "## 7\n",
    "An important consideration with exception handling is to realise that it is a \"GOTO\" technology.  What I mean by this is that as soon as an exception is raised, the remaining statements in the try block are bypassed and we \"GOTO\" the except block directly.\n",
    "\n",
    "To demonstrate this we can write:"
   ]
  },
  {
   "cell_type": "code",
   "execution_count": null,
   "metadata": {
    "slideshow": {
     "slide_type": "slide"
    }
   },
   "outputs": [],
   "source": [
    "try:\n",
    "    print(\"before exception\")\n",
    "    print(\"before exception\")\n",
    "    print(\"before exception\")\n",
    "    raise Exception()\n",
    "    print(\"after exception\")   # these 3 statements are never executed\n",
    "    print(\"after exception\")\n",
    "    print(\"after exception\")\n",
    "except:\n",
    "    print(\"in the except block\")\n",
    "    print(\"in the except block\")\n",
    "    \n",
    "print(\"outside the try block\")"
   ]
  },
  {
   "cell_type": "markdown",
   "metadata": {
    "slideshow": {
     "slide_type": "subslide"
    }
   },
   "source": [
    "## 8\n",
    "In the example above, the 3 print statements: <pre>print(\"after exception\")</pre> are bypassed as soon as the exception is raised and control is passed to the except block.  Once the except block is completed, execution continues with the first statement after the except block.  \n",
    "\n",
    "Exception handling provides additional facilities to the above.  One such feature is to branch our code depending on whether an exception occurs or not: \n",
    " \n",
    "* except: if exception occurs \n",
    "* else:   if no exception  \n",
    "\n",
    "Consider the following:"
   ]
  },
  {
   "cell_type": "code",
   "execution_count": null,
   "metadata": {
    "slideshow": {
     "slide_type": "slide"
    }
   },
   "outputs": [],
   "source": [
    "from math import sqrt\n",
    "\n",
    "def squareRoot(x):\n",
    "    try:\n",
    "        root = sqrt(x)\n",
    "    except Exception as e:\n",
    "        print(\"sqrt() failed ...\")\n",
    "        print(e)\n",
    "    else:\n",
    "        print(\"sqrt() succeeded ...\")\n",
    "        print(root)\n",
    "\n",
    "squareRoot(100)\n",
    "squareRoot(-100)"
   ]
  },
  {
   "cell_type": "markdown",
   "metadata": {},
   "source": [
    "## 9\n",
    "Another feature we can use is the \"finally\" block.  Code in the \"finally\" block is guaranteed to be executed whether or not an exception is raised.  Finally blocks are used to perform operations that should be completed, even if an exception is raised.  \n",
    "\n",
    "For example, finally blocks can close files, release locks, close database connections etc.\n",
    "\n",
    "Here is an example:"
   ]
  },
  {
   "cell_type": "code",
   "execution_count": null,
   "metadata": {},
   "outputs": [],
   "source": [
    "class TooBig(Exception): pass\n",
    "class MuchTooBig(Exception): pass\n",
    "\n",
    "def checkValue(x):\n",
    "    try:\n",
    "        if x > 200: \n",
    "            raise MuchTooBig()\n",
    "        elif x > 100:\n",
    "            raise TooBig()\n",
    "        else:\n",
    "            print(x)\n",
    "    except MuchTooBig as e:\n",
    "        print(f\"{x} is much too big\")\n",
    "    except TooBig as e:\n",
    "        print(f\"{x} is too big\")\n",
    "    finally:\n",
    "        print(\"finally block is always called ...\")\n",
    "\n",
    "checkValue(50)\n",
    "checkValue(150)\n",
    "checkValue(250)"
   ]
  },
  {
   "cell_type": "markdown",
   "metadata": {},
   "source": [
    "## 10\n",
    "So far we have only looked at exceptions being raised and caught in the same function.  Often an exception is raised in one function and caught in another.  To make this work, realise that a try block extends to code in all functions executed as part of the try block and not just within the function.\n",
    "\n",
    "Here is an example ..."
   ]
  },
  {
   "cell_type": "code",
   "execution_count": null,
   "metadata": {},
   "outputs": [],
   "source": [
    "class Point:\n",
    "    def __init__(self, x0, y0):\n",
    "        print(\"CTOR\")\n",
    "        self.x = x0\n",
    "        self.y = y0\n",
    "        \n",
    "    def __del__(self):\n",
    "        print(\"DTOR\")\n",
    "        \n",
    "def f1():\n",
    "    print(\"Entering f1\")\n",
    "    p1 = Point(50, 17)\n",
    "    f2()\n",
    "    print(\"Leaving f1\")\n",
    "\n",
    "def f2():\n",
    "    print(\"Entering f2\")\n",
    "    p2 = Point(70, 83)\n",
    "    f3()\n",
    "    print(\"Leaving f2\")\n",
    "    \n",
    "def f3():\n",
    "    print(\"Entering f3\")\n",
    "    p3 = Point(29, 43)\n",
    "    raise Exception(\"Some exception\")\n",
    "    print(\"Leaving f3\")\n",
    "    \n",
    "def main():\n",
    "    try:\n",
    "        f1()\n",
    "    except Exception as e:\n",
    "        print(e)\n",
    "\n",
    "main()\n",
    "print(\"End of program\")"
   ]
  },
  {
   "cell_type": "markdown",
   "metadata": {},
   "source": [
    "## 11\n",
    "The example above illustrates the fact that the try block defined in \"main\" extends to code in \"f1\", \"f2\" and \"f3\".  When an exception is raised in \"f3\", control transfers immediately to the except block in \"main\".  This means the three functions \"f1\", \"f2\" and \"f3\" are terminated abruptly and the statements: <pre>\n",
    "print(\"Leaving f1\")\n",
    "print(\"Leaving f2\")\n",
    "print(\"Leaving f3\")\n",
    "</pre>\n",
    "are never executed.  As I said above, exception handling is a \"GOTO\" technology.  \n",
    "\n",
    "Note the \"CTOR\" and \"DTOR\" print statements.  The \"CTOR\" messages are displayed when the \"Point\" objects are created.  The \"DTOR\" messages are displayed when Python's garbage collector removes the object from memory.  Note that garbage collectors in some Python interpreters may not clean up objects immediately.  It's even possible that the program finishes before the garbage collector kicks in and the \"DTOR\" is never called.  \n",
    "\n",
    "You should be aware that just printing error messages in exception handlers is considered poor practice.  This is because programs are often run automatically and it is very easy to miss messages printed on the console.  Instead, it is recommended to use logging to record messages.  Here is an example of doing just that:"
   ]
  },
  {
   "cell_type": "code",
   "execution_count": null,
   "metadata": {},
   "outputs": [],
   "source": [
    "import logging, os\n",
    "\n",
    "# create log file\n",
    "if not os.path.exists('logs'): os.mkdir('logs')\n",
    "logging.basicConfig(filename='logs/exception.log',level=logging.ERROR)\n",
    "\n",
    "\n",
    "def do_work():\n",
    "    # if an exception is encountered in library code we might not know\n",
    "    # what to do about it, so log error and rethrow\n",
    "    logging.error('problem in library code ...')\n",
    "    raise Exception('do_work() failed')\n",
    "\n",
    "def check():\n",
    "    try:\n",
    "        # perform some work in library code\n",
    "        do_work()\n",
    "    except Exception as e:\n",
    "        # handle the error in your code\n",
    "        # because you know what you want to do about it\n",
    "        print(\"handling exception generated by library code ...\")\n",
    "\n",
    "check()\n",
    "check()\n",
    "check()"
   ]
  },
  {
   "cell_type": "markdown",
   "metadata": {},
   "source": [
    "## 12\n",
    "Let's look at the log file:"
   ]
  },
  {
   "cell_type": "code",
   "execution_count": null,
   "metadata": {},
   "outputs": [],
   "source": [
    "%%bash\n",
    "cat logs/exception.log"
   ]
  },
  {
   "cell_type": "markdown",
   "metadata": {},
   "source": [
    "## 13\n",
    "Finally, we will conclude our short tour of exception handling by looking at assert statements.  \n",
    "\n",
    "When we write a function we often assume that the function is called with sensible parameters and we don't make any checks.  Using assert statements, we can verify if pre and post conditions for calling functions are met.  If these conditions are not met then the function will not work as expected and the assert statements will raise an exception.  \n",
    "Normally we do not provide except blocks for assert statements.  The pre or post conditions should always be met, otherwise the program is invalid and we let it terminate in error as in the following example:"
   ]
  },
  {
   "cell_type": "code",
   "execution_count": null,
   "metadata": {},
   "outputs": [],
   "source": [
    "def CalculateQuartile(percent):\n",
    "    assert percent >= 0 and percent <= 100\n",
    "    quartile = 1\n",
    "    if percent > 25:\n",
    "        quartile = 2\n",
    "    if percent > 50:\n",
    "        quartile = 3\n",
    "    if percent > 75:\n",
    "        quartile = 4\n",
    "    print(f\"{percent} is in quartile {quartile}\")\n",
    "\n",
    "CalculateQuartile(3)\n",
    "CalculateQuartile(34)\n",
    "CalculateQuartile(68)\n",
    "CalculateQuartile(93)\n",
    "CalculateQuartile(104)"
   ]
  },
  {
   "cell_type": "markdown",
   "metadata": {},
   "source": [
    "## 14\n",
    "However, if you want to provide except blocks for such errors without termination the program it's best to provide a user defined exception instead.  The exception raised by an assert statement is designed to be displayed in a stack trace and not in an except block.\n",
    "\n",
    "Using a user defined exception class we could then recode the above as:"
   ]
  },
  {
   "cell_type": "code",
   "execution_count": null,
   "metadata": {},
   "outputs": [],
   "source": [
    "class InvalidPreCondition(Exception): pass\n",
    "\n",
    "def CalculateQuartile(percent):\n",
    "    if percent < 0 or percent > 100:\n",
    "        raise InvalidPreCondition()\n",
    "    quartile = 1\n",
    "    if percent > 25:\n",
    "        quartile = 2\n",
    "    if percent > 50:\n",
    "        quartile = 3\n",
    "    if percent > 75:\n",
    "        quartile = 4\n",
    "    print(f\"{percent} is in quartile {quartile}\")\n",
    "\n",
    "try:\n",
    "    CalculateQuartile(3)\n",
    "    CalculateQuartile(34)\n",
    "    CalculateQuartile(68)\n",
    "    CalculateQuartile(93)\n",
    "    CalculateQuartile(104)\n",
    "except InvalidPreCondition:\n",
    "    print(\"pre-condition failed\")"
   ]
  }
 ],
 "metadata": {
  "kernelspec": {
   "display_name": "Python 3",
   "language": "python",
   "name": "python3"
  },
  "language_info": {
   "codemirror_mode": {
    "name": "ipython",
    "version": 3
   },
   "file_extension": ".py",
   "mimetype": "text/x-python",
   "name": "python",
   "nbconvert_exporter": "python",
   "pygments_lexer": "ipython3",
   "version": "3.7.1"
  }
 },
 "nbformat": 4,
 "nbformat_minor": 4
}
