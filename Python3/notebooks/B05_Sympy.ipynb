{
 "cells": [
  {
   "cell_type": "markdown",
   "metadata": {},
   "source": [
    "<div style=\"color:red;background-color:black\">\n",
    "Diamond Light Source\n",
    "\n",
    "<h1 style=\"color:red;background-color:antiquewhite\"> Python Libraries: Sympy</h1>  \n",
    "\n",
    "©2000-20 Chris Seddon \n",
    "</div>"
   ]
  },
  {
   "cell_type": "markdown",
   "metadata": {},
   "source": [
    "Note (March 2020): This tutorial is only working with Python 3.6 (breaks with Python 3.7)\n",
    "\n",
    "Execute the following cell to activate styling for this tutorial"
   ]
  },
  {
   "cell_type": "code",
   "execution_count": 34,
   "metadata": {},
   "outputs": [
    {
     "data": {
      "text/html": [
       "<style>/* GLOBALS */\n",
       "/* body {background-color: #f7f7f7;} */\n",
       ".text_cell {background-color: cornsilk;}\n",
       ".code_cell { background-color: lightskyblue; }\n",
       ".selected { background-color: peachpuff; }\n",
       ".output { background-color: aliceblue; }\n",
       "\n",
       "</style>"
      ],
      "text/plain": [
       "<IPython.core.display.HTML object>"
      ]
     },
     "execution_count": 34,
     "metadata": {},
     "output_type": "execute_result"
    }
   ],
   "source": [
    "from IPython.display import HTML\n",
    "HTML(f\"<style>{open('my.css').read()}</style>\")"
   ]
  },
  {
   "cell_type": "markdown",
   "metadata": {},
   "source": [
    "SymPy is an open-source Python library for symbolic computation.  In this tutorial we will be looking at how to use SymPy using various examples.  "
   ]
  },
  {
   "cell_type": "markdown",
   "metadata": {},
   "source": [
    "## Polynomials: 1\n",
    "Define a polynomial with three unknowns.  Note the fancy output:"
   ]
  },
  {
   "cell_type": "code",
   "execution_count": 35,
   "metadata": {},
   "outputs": [
    {
     "data": {
      "image/png": "[encoded data removed]",
      "text/latex": [
       "$$\\frac{5 y}{z} + 2 \\left(x - 3\\right)^{3}$$"
      ],
      "text/plain": [
       "5⋅y            3\n",
       "─── + 2⋅(x - 3) \n",
       " z              "
      ]
     },
     "execution_count": 35,
     "metadata": {},
     "output_type": "execute_result"
    }
   ],
   "source": [
    "import sympy\n",
    "sympy.init_printing()\n",
    "\n",
    "# define symbols\n",
    "x , y , z = sympy.symbols('x, y, z')\n",
    "\n",
    "# print polynominal \n",
    "2*(x - 3)**3 + 5*y/z"
   ]
  },
  {
   "cell_type": "markdown",
   "metadata": {},
   "source": [
    "## Polynomials: 2\n",
    "Use matplotlib to plot a cubic polynomial."
   ]
  },
  {
   "cell_type": "code",
   "execution_count": null,
   "metadata": {},
   "outputs": [],
   "source": [
    "%matplotlib inline\n",
    "import numpy as np\n",
    "import pylab as plt\n",
    "X = np.arange(-50, 50, 0.01)\n",
    "Y = 2*(X-3)**3\n",
    "\n",
    "# plot the curve\n",
    "plt.plot(X, Y, color='red', lw=2)\n",
    "plt.grid()\n",
    "plt.show()"
   ]
  },
  {
   "cell_type": "markdown",
   "metadata": {},
   "source": [
    "## Polynomials: 3\n",
    "Expand a polynomial expression to standard form:"
   ]
  },
  {
   "cell_type": "code",
   "execution_count": null,
   "metadata": {},
   "outputs": [],
   "source": [
    "# expand expression\n",
    "(2*(x - 3)**3).expand()"
   ]
  },
  {
   "cell_type": "markdown",
   "metadata": {},
   "source": [
    "## Polynomials: 4\n",
    "Evaluate a polynomial expression when x = 10:"
   ]
  },
  {
   "cell_type": "code",
   "execution_count": null,
   "metadata": {},
   "outputs": [],
   "source": [
    "# evaluate polynominal with a given value of x\n",
    "((x + 2*y)**2).subs(x, 10)"
   ]
  },
  {
   "cell_type": "markdown",
   "metadata": {},
   "source": [
    "## Polynomials: 5\n",
    "Evaluate a polynomial expression when x = 10 and y = 3:"
   ]
  },
  {
   "cell_type": "code",
   "execution_count": null,
   "metadata": {},
   "outputs": [],
   "source": [
    "# evaluate polynominal with a given values of x and y\n",
    "((x + 2*y)**2).subs({x:10, y:3})"
   ]
  },
  {
   "cell_type": "markdown",
   "metadata": {},
   "source": [
    "## Polynomials: 5\n",
    "Evaluate a polynomial expression twice.  First substitute x = y and then set y = 3:"
   ]
  },
  {
   "cell_type": "code",
   "execution_count": null,
   "metadata": {},
   "outputs": [],
   "source": [
    "# perform double substitution on expression \n",
    "((x + 2*y)**2).subs(x, y).subs(y, 2)"
   ]
  },
  {
   "cell_type": "markdown",
   "metadata": {},
   "source": [
    "## Rational Numbers: 1\n",
    "Sympy allows us to work with rational numbers (fractions):"
   ]
  },
  {
   "cell_type": "code",
   "execution_count": null,
   "metadata": {},
   "outputs": [],
   "source": [
    "from sympy import *\n",
    "import sympy\n",
    "sympy.init_printing()\n",
    "a, b = sympy.symbols('a, b')\n",
    "\n",
    "# print 0.7 as a fraction \n",
    "a = Rational(7, 10)\n",
    "a"
   ]
  },
  {
   "cell_type": "markdown",
   "metadata": {},
   "source": [
    "## Rational Numbers: 2\n",
    "Display a*b and a+b as fractions:"
   ]
  },
  {
   "cell_type": "code",
   "execution_count": null,
   "metadata": {},
   "outputs": [],
   "source": [
    "# print an expression as a fraction \n",
    "a = Rational(7, 10)\n",
    "b = Rational (45 , 67)\n",
    "a * b, a + b"
   ]
  },
  {
   "cell_type": "markdown",
   "metadata": {},
   "source": [
    "## Rational Numbers: 3\n",
    "Display a*b as a float:"
   ]
  },
  {
   "cell_type": "code",
   "execution_count": null,
   "metadata": {},
   "outputs": [],
   "source": [
    "# print same data as a float\n",
    "(float)(a + b)"
   ]
  },
  {
   "cell_type": "markdown",
   "metadata": {},
   "source": [
    "## Rational Numbers: 3\n",
    "Display a*b with 27 decimal places of precision:"
   ]
  },
  {
   "cell_type": "code",
   "execution_count": null,
   "metadata": {},
   "outputs": [],
   "source": [
    "# print to 27 decimal places\n",
    "(a + b).evalf(27)"
   ]
  },
  {
   "cell_type": "markdown",
   "metadata": {},
   "source": [
    "## Differentiation: 1\n",
    "Find the differentional of sin(x):"
   ]
  },
  {
   "cell_type": "code",
   "execution_count": null,
   "metadata": {},
   "outputs": [],
   "source": [
    "from sympy import Derivative, symbols, exp, sin, sqrt, diff\n",
    "import sympy\n",
    "sympy.init_printing()\n",
    "x, y = symbols('x, y')\n",
    "Derivative( sin(x), x ), diff( sin(x), x )"
   ]
  },
  {
   "cell_type": "markdown",
   "metadata": {},
   "source": [
    "## Differentiation: 2\n",
    "Find the differentional of a polynomial:"
   ]
  },
  {
   "cell_type": "code",
   "execution_count": null,
   "metadata": {},
   "outputs": [],
   "source": [
    "expression = 10 + 3*x + 4*y + 10*x**2 + x**9\n",
    "Derivative(expression, x), diff(expression, x)"
   ]
  },
  {
   "cell_type": "markdown",
   "metadata": {},
   "source": [
    "## Differentiation: 3\n",
    "Differentiate and then evaluate a polynomial when x = 1.5:"
   ]
  },
  {
   "cell_type": "code",
   "execution_count": null,
   "metadata": {},
   "outputs": [],
   "source": [
    "# evaluate when x = 1.5\n",
    "expression = 10 + 3*x + 4*y + 10*x**2 + x**9\n",
    "Derivative(expression, x), diff(expression, x).subs(x, 1.5)"
   ]
  },
  {
   "cell_type": "markdown",
   "metadata": {},
   "source": [
    "## Differentiation: 4\n",
    "Differentiate an exponential expression:"
   ]
  },
  {
   "cell_type": "code",
   "execution_count": null,
   "metadata": {},
   "outputs": [],
   "source": [
    "Derivative(exp(-x**2/2), x), diff(exp(-x**2/2), x)"
   ]
  },
  {
   "cell_type": "markdown",
   "metadata": {},
   "source": [
    "## Differentiation: 5\n",
    "Triple differentiation:"
   ]
  },
  {
   "cell_type": "code",
   "execution_count": null,
   "metadata": {},
   "outputs": [],
   "source": [
    "Derivative(3*x**4, x, x, x), diff(3*x**4, x, x, x)"
   ]
  },
  {
   "cell_type": "markdown",
   "metadata": {},
   "source": [
    "## Integration: 1\n",
    "Simple integration"
   ]
  },
  {
   "cell_type": "code",
   "execution_count": null,
   "metadata": {},
   "outputs": [],
   "source": [
    "import sympy\n",
    "from sympy import Integral, Eq, integrate, sin, exp\n",
    "sympy.init_printing()\n",
    "\n",
    "x, y, sigma = sympy.symbols('x, y, sigma')\n",
    "Eq(Integral(x**2, x), integrate(x**2, x))"
   ]
  },
  {
   "cell_type": "markdown",
   "metadata": {},
   "source": [
    "## Integration: 2\n",
    "Integration with two variables, x and y.  The variable x is considered constant:"
   ]
  },
  {
   "cell_type": "code",
   "execution_count": null,
   "metadata": {},
   "outputs": [],
   "source": [
    "Eq(Integral(x**2, y), integrate(x**2, y))"
   ]
  },
  {
   "cell_type": "markdown",
   "metadata": {},
   "source": [
    "## Integration: 3\n",
    "Integration with the same two variables, x and y.  This time we create tuple for the function and derivative variable of the form:<pre>t1 = ((sin(x), x)</pre>\n",
    "Recall that <pre>*t1</pre>\n",
    "expands the tuple.  x is variable in the first example, but constant in the second example:"
   ]
  },
  {
   "cell_type": "code",
   "execution_count": null,
   "metadata": {},
   "outputs": [],
   "source": [
    "t1 = (sin(x), x)\n",
    "t2 = (sin(x), y)\n",
    "Eq(Integral(*t1), integrate(*t1)), Eq(Integral(*t2), integrate(*t2))"
   ]
  },
  {
   "cell_type": "markdown",
   "metadata": {},
   "source": [
    "## Integration: 4\n",
    "Integration with an exponential:"
   ]
  },
  {
   "cell_type": "code",
   "execution_count": null,
   "metadata": {},
   "outputs": [],
   "source": [
    "e = (-x * exp(-x**2/2), x)\n",
    "Eq(Integral(*e), integrate(*e))"
   ]
  },
  {
   "cell_type": "markdown",
   "metadata": {},
   "source": [
    "## Integration: 5\n",
    "Triple integration.  <pre>Integral(x\\**2, x, x, y)</pre>\n",
    "means integrate x**2 with respect to dx, dx and finally dy."
   ]
  },
  {
   "cell_type": "code",
   "execution_count": null,
   "metadata": {},
   "outputs": [],
   "source": [
    "# triple integral\n",
    "Eq(Integral(x**2, x, x, y), integrate(x**2, x, x, y))   "
   ]
  },
  {
   "cell_type": "markdown",
   "metadata": {},
   "source": [
    "## Integration: 5\n",
    "Partial integration; the last integral is a definite integral:"
   ]
  },
  {
   "cell_type": "code",
   "execution_count": null,
   "metadata": {},
   "outputs": [],
   "source": [
    "# partially evaluate integral\n",
    "e = (x**2, (x,0,2), x, y)\n",
    "Integral(*e), integrate(*e)"
   ]
  },
  {
   "cell_type": "markdown",
   "metadata": {},
   "source": [
    "## Integration: 5\n",
    "Triple integration; all definite integrals:"
   ]
  },
  {
   "cell_type": "code",
   "execution_count": null,
   "metadata": {},
   "outputs": [],
   "source": [
    "# fully evaluate integral\n",
    "e = (x**2, (x,0,2), (x,0,2), (y,0,1))\n",
    "Eq(Integral(*e), integrate(*e))"
   ]
  },
  {
   "cell_type": "markdown",
   "metadata": {},
   "source": [
    "## Differential Equations: 1\n",
    "\n",
    "We'll attempt to solve the differential equation below:"
   ]
  },
  {
   "cell_type": "code",
   "execution_count": null,
   "metadata": {},
   "outputs": [],
   "source": [
    "import sympy\n",
    "from sympy import Symbol , dsolve , Function , Derivative , Eq\n",
    "sympy.init_printing()\n",
    "\n",
    "x , y , z = sympy.symbols('x, y, z')\n",
    "\n",
    "y = Function(\"y\")\n",
    "x = Symbol(\"x\")\n",
    "d = Derivative(y(x), x)\n",
    "Eq(d + 5*y(x), 12)\n"
   ]
  },
  {
   "cell_type": "markdown",
   "metadata": {},
   "source": [
    "## Differential Equations: 2\n",
    "\n",
    "The solution is:"
   ]
  },
  {
   "cell_type": "code",
   "execution_count": null,
   "metadata": {},
   "outputs": [],
   "source": [
    "# constant = 2, x = 5\n",
    "dsolve( Eq(d + 5*y(x), 12), y(x))"
   ]
  },
  {
   "cell_type": "markdown",
   "metadata": {},
   "source": [
    "## Differential Equations: 3\n",
    "\n",
    "If we know the constant is 2 and x = 5:"
   ]
  },
  {
   "cell_type": "code",
   "execution_count": null,
   "metadata": {},
   "outputs": [],
   "source": [
    "C1 = Symbol(\"C1\")\n",
    "dsolve( Eq(d + 5*y(x), 12), y(x)).subs({C1:2, x:5})"
   ]
  },
  {
   "cell_type": "markdown",
   "metadata": {},
   "source": [
    "## Differential Equations: 4\n",
    "\n",
    "... or the solution as a float:"
   ]
  },
  {
   "cell_type": "code",
   "execution_count": null,
   "metadata": {},
   "outputs": [],
   "source": [
    "# to 20 significant figures ...\n",
    "dsolve( Eq(d + 5*y(x), 12), y(x)).subs({C1:2, x:5}).evalf(20)"
   ]
  },
  {
   "cell_type": "markdown",
   "metadata": {
    "slideshow": {
     "slide_type": "slide"
    }
   },
   "source": [
    "## Taylor Series: 1\n",
    "Find the Taylor series expansion of cos(x) around x = 0.5.  Work to 4 decimal places and stop the expansion after 10 terms:"
   ]
  },
  {
   "cell_type": "code",
   "execution_count": null,
   "metadata": {
    "slideshow": {
     "slide_type": "subslide"
    }
   },
   "outputs": [],
   "source": [
    "import sympy\n",
    "from sympy import Symbol, Rational, cos, sin, series\n",
    "sympy.init_printing()\n",
    "\n",
    "x = Symbol('x') \n",
    "cos(x).series(x0=0.5, n=10).evalf(4)"
   ]
  },
  {
   "cell_type": "markdown",
   "metadata": {
    "slideshow": {
     "slide_type": "slide"
    }
   },
   "source": [
    "## Taylor Series: 2\n",
    "It's much clearer if we use rationals (fractions):"
   ]
  },
  {
   "cell_type": "code",
   "execution_count": null,
   "metadata": {
    "slideshow": {
     "slide_type": "subslide"
    }
   },
   "outputs": [],
   "source": [
    "cos(x).series(x0=Rational(0.5), n=10)"
   ]
  },
  {
   "cell_type": "markdown",
   "metadata": {
    "slideshow": {
     "slide_type": "slide"
    }
   },
   "source": [
    "## Taylor Series: 3\n",
    "We can remove the error term:"
   ]
  },
  {
   "cell_type": "code",
   "execution_count": null,
   "metadata": {
    "slideshow": {
     "slide_type": "slide"
    }
   },
   "outputs": [],
   "source": [
    "cos(x).series(x0=Rational(0.5), n=10).removeO()"
   ]
  },
  {
   "cell_type": "markdown",
   "metadata": {
    "slideshow": {
     "slide_type": "slide"
    }
   },
   "source": [
    "## Taylor Series: 4\n",
    "We can get the MacLauren series by expanding around x = 0:"
   ]
  },
  {
   "cell_type": "code",
   "execution_count": null,
   "metadata": {
    "slideshow": {
     "slide_type": "fragment"
    }
   },
   "outputs": [],
   "source": [
    "series(cos(x), x0=0, n=10)"
   ]
  },
  {
   "cell_type": "markdown",
   "metadata": {
    "slideshow": {
     "slide_type": "slide"
    }
   },
   "source": [
    "## Non Linear Equations: 1\n",
    "We can solve some non linear equations if there is an analytical solution.  In this example we will be looking at solutions to:\n",
    "$$y = x - x^{2.5} + 7$$"
   ]
  },
  {
   "cell_type": "code",
   "execution_count": null,
   "metadata": {},
   "outputs": [],
   "source": [
    "import sympy\n",
    "\n",
    "x, y = sympy.symbols('x, y')\n",
    "eq = x - x**2.5 + 7\n",
    "y = sympy.solve( eq, x )\n",
    " \n",
    "# note some of the results are complex (I represents sqrt(-1))\n",
    "for result in y:\n",
    "    print(sympy.N(result, 5))    # N is used to limit precision"
   ]
  },
  {
   "cell_type": "markdown",
   "metadata": {
    "slideshow": {
     "slide_type": "slide"
    }
   },
   "source": [
    "## Non Linear Equations: 2\n",
    "Let's have a look at a plot of this function.  We will be plotting real and imaginary parts of y.  \n",
    "\n",
    "Note that the Numpy \"arange\" method doesn't directly work with complex numbers.  What we have to do with x coordinates is to generate a \"real\" sequence and then multiply by 1 + 0j:<pre>X = (1 + 0j) * plt.arange(-5, 5, 0.1)</pre>\n"
   ]
  },
  {
   "cell_type": "code",
   "execution_count": null,
   "metadata": {},
   "outputs": [],
   "source": [
    "%matplotlib inline\n",
    "import sympy\n",
    "import pylab as plt\n",
    "\n",
    "plt.gca().set_title('Y = X - X**2.5 + 7')\n",
    "\n",
    "# show the graph\n",
    "X = (1 + 0j) * plt.arange(-5, 5, 0.1)\n",
    "Y = X - X**2.5 + 7\n",
    "plt.plot(X.real, Y.real, color='red', lw=2, label='real')\n",
    "plt.plot(X.real, Y.imag, color='green', lw=2, label='imag')\n",
    "plt.legend()\n",
    "\n",
    "X = plt.arange(-5, 5, 0.1)\n",
    "plt.grid()\n",
    "plt.show()"
   ]
  }
 ],
 "metadata": {
  "anaconda-cloud": {},
  "kernelspec": {
   "display_name": "Python 3",
   "language": "python",
   "name": "python3"
  },
  "language_info": {
   "codemirror_mode": {
    "name": "ipython",
    "version": 3
   },
   "file_extension": ".py",
   "mimetype": "text/x-python",
   "name": "python",
   "nbconvert_exporter": "python",
   "pygments_lexer": "ipython3",
   "version": "3.7.1"
  }
 },
 "nbformat": 4,
 "nbformat_minor": 4
}
