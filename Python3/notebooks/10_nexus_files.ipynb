{
 "cells": [
  {
   "cell_type": "markdown",
   "metadata": {},
   "source": [
    "<div style=\"color:red;background-color:black\">\n",
    "Diamond Light Source\n",
    "\n",
    "<h1 style=\"color:red;background-color:antiquewhite\"> Python Fundamentals: Nexus Files</h1>  \n",
    "\n",
    "©2000-20 Chris Seddon \n",
    "</div>"
   ]
  },
  {
   "cell_type": "markdown",
   "metadata": {},
   "source": [
    "Execute the following cell to activate styling for this tutorial"
   ]
  },
  {
   "cell_type": "code",
   "execution_count": null,
   "metadata": {},
   "outputs": [],
   "source": [
    "from IPython.display import HTML\n",
    "HTML(f\"<style>{open('my.css').read()}</style>\")"
   ]
  },
  {
   "cell_type": "markdown",
   "metadata": {},
   "source": [
    "## 1\n",
    "At Diamond we often need to fit experimental data.  Python offers support with several libraries:\n",
    "* numpy\n",
    "* scipy\n",
    "* matplotlib\n",
    "* hdf5  \n",
    "\n",
    "At Diamond, experimental data if often in the form of Nexus files - a number of samples Nexus files are used in this tutorial.  If you want to understand more about the structure of Nexus files, take a look at:  \n",
    "\n",
    "* <a href=\"https://manual.nexusformat.org/\">User Manual and Reference Documentation</a>\n",
    "\n",
    "The Nexus files for this tutorial are stored in the \"nexus\" sub-directory:"
   ]
  },
  {
   "cell_type": "code",
   "execution_count": null,
   "metadata": {},
   "outputs": [],
   "source": [
    "%%bash\n",
    "ls nexus"
   ]
  },
  {
   "cell_type": "markdown",
   "metadata": {},
   "source": [
    "## 2\n",
    "Before analysing our Nexus files, be aware that you can also use the excellent \"Dawn\" workbench at Diamond Light Source.  Dawn is based on Eclipse and will automatically draw plots for Nexus files.  What we aim to do here is show how to produce equivalent plots in Jupyter notebook.  \n",
    "\n",
    "Recall that to run Dawn you need to enter (at the command prompt):\n",
    "<pre>module load dawn\n",
    "dawn</pre>\n",
    "\n",
    "Back in Jupyter notebook, we will start with the file <pre>data/i22-4996.nxs</pre>\n",
    "Before we plot anything we need to know what keys are stored in this file.  If you are using Dawn, this information is automatically displayed, but in notebook we need to do a little work:"
   ]
  },
  {
   "cell_type": "code",
   "execution_count": null,
   "metadata": {},
   "outputs": [],
   "source": [
    "import os\n",
    "import h5py\n",
    "\n",
    "f = h5py.File(\"nexus/i22-4996.nxs\", \"r\")\n",
    "\n",
    "for group in f:\n",
    "    print(f[f\"/{group}\"])\n",
    "    for subgroup in f[group]:\n",
    "        print(f[f\"/{group}/{subgroup}\"])"
   ]
  },
  {
   "cell_type": "markdown",
   "metadata": {},
   "source": [
    "## 3\n",
    "We intend to plot the \"Hotwaxs\" data, so we need to establish how much data we have and the dimensional information for the data. This is easily achieved using:"
   ]
  },
  {
   "cell_type": "code",
   "execution_count": null,
   "metadata": {},
   "outputs": [],
   "source": [
    "import h5py\n",
    "\n",
    "f = h5py.File(\"nexus/i22-4996.nxs\", \"r\")\n",
    "\n",
    "# get dataset\n",
    "ds = f[\"/entry1/Hotwaxs/data\"]\n",
    "\n",
    "# check shape (1,1,512)\n",
    "print(ds.shape)"
   ]
  },
  {
   "cell_type": "markdown",
   "metadata": {},
   "source": [
    "## 4\n",
    "The nexus data needs to be converted to a Numpy array to be plotted.  In the above example the first two dimensions contain *DON'T KNOW* and need to be removed.  This will reduce the data to a one dimensional set which is easily plotted.  \n",
    "\n",
    "Note that to convert a dataset to a Numpy array the expression\n",
    "<pre>ds.value[0,0]</pre>\n",
    "used to be used, but is now deprecated.  Instead we use\n",
    "<pre>ds[(0,0)]</pre>"
   ]
  },
  {
   "cell_type": "code",
   "execution_count": null,
   "metadata": {},
   "outputs": [],
   "source": [
    "%matplotlib inline\n",
    "import h5py\n",
    "import numpy as np\n",
    "import matplotlib.pyplot as plt\n",
    "\n",
    "# open Nexus file\n",
    "f = h5py.File(\"nexus/i22-4996.nxs\", \"r\")\n",
    "\n",
    "# get dataset\n",
    "ds = f[\"/entry1/Hotwaxs/data\"]\n",
    "\n",
    "# check shape (1,1,512)\n",
    "print(f\"dataset shape = {ds.shape}\")\n",
    "\n",
    "# extract last dimension to numpy array\n",
    "X = ds[(0,0)]\n",
    "size = X.shape[0] \n",
    "Y = np.arange(size)\n",
    "\n",
    "ax = plt.gca()\n",
    "ax.set_title(\"i22-4996.nxs\")\n",
    "ax.set_xlabel(\"X\")\n",
    "ax.set_ylabel(\"Hotwaxs\")\n",
    "plt.plot(Y, X)\n",
    "plt.show()"
   ]
  },
  {
   "cell_type": "markdown",
   "metadata": {},
   "source": [
    "## 5\n",
    "Now we can plot the data independent of Dawn, we can perform additional customised processing as desired.  Say, for example, we wish to apply a filter to the data.  We could use SciPy's \"savgol\" filter:\n",
    "* <a href=\"https://docs.scipy.org/doc/scipy/reference/generated/scipy.signal.savgol_filter.html\">scipy.signal.savgol_filter</a>"
   ]
  },
  {
   "cell_type": "code",
   "execution_count": null,
   "metadata": {},
   "outputs": [],
   "source": [
    "%matplotlib inline\n",
    "import h5py\n",
    "import numpy as np\n",
    "import matplotlib.pyplot as plt\n",
    "from scipy.signal import savgol_filter\n",
    "\n",
    "\n",
    "# open Nexus file\n",
    "f = h5py.File(\"nexus/i22-4996.nxs\", \"r\")\n",
    "\n",
    "# get dataset\n",
    "ds = f[\"/entry1/Hotwaxs/data\"]\n",
    "\n",
    "# check shape (1,1,512)\n",
    "print(f\"dataset shape = {ds.shape}\")\n",
    "\n",
    "# extract last dimension to numpy array\n",
    "Y = ds[(0,0)]\n",
    "size = Y.shape[0] \n",
    "X = np.arange(size)\n",
    "# window size 51, polynomial order 3\n",
    "Y_filtered = savgol_filter(Y, 51, 3) \n",
    "\n",
    "\n",
    "ax = plt.gca()\n",
    "ax.set_title(\"i22-4996.nxs\")\n",
    "ax.set_xlabel(\"X\")\n",
    "ax.set_ylabel(\"Hotwaxs\")\n",
    "plt.plot(X, Y)\n",
    "plt.plot(X, Y_filtered)\n",
    "plt.show()"
   ]
  },
  {
   "cell_type": "markdown",
   "metadata": {},
   "source": [
    "## 6\n",
    "Let's turn our attention to a different example; a 2 dimensional plot of data from\n",
    "<pre>MoKedge_1_15.nxs</pre>\n",
    "\n",
    "We will be making two plots: plotting the quantity \"It\" and differences \"d(It)\" against \"energy\".  To begin with we will open the Nexus file and check on the dimensionality of the data:"
   ]
  },
  {
   "cell_type": "code",
   "execution_count": null,
   "metadata": {},
   "outputs": [],
   "source": [
    "%matplotlib inline\n",
    "import h5py\n",
    "import numpy as np\n",
    "import matplotlib.pyplot as plt\n",
    "\n",
    "fileName = \"nexus/MoKedge_1_15.nxs\"\n",
    "f = h5py.File(fileName, \"r\")\n",
    "\n",
    "X = f[\"/entry1/counterTimer01/Energy\"][()]\n",
    "Y = f[\"/entry1/counterTimer01/It\"][()]\n",
    "\n",
    "print(f\"Shape of Energy data: {X.shape}\")\n",
    "print(f\"Shape of It data: {Y.shape}\")"
   ]
  },
  {
   "cell_type": "markdown",
   "metadata": {},
   "source": [
    "## 7\n",
    "When we take the differences of the \"It\" data we will end up with one less value.  We will need to take this into account in the subsequent plot by dropping one of the \"Energy\" points: "
   ]
  },
  {
   "cell_type": "code",
   "execution_count": null,
   "metadata": {},
   "outputs": [],
   "source": [
    "import numpy as np\n",
    "dY = np.diff(Y)\n",
    "print(f\"Shape of d(It) data: {dY.shape}\")"
   ]
  },
  {
   "cell_type": "markdown",
   "metadata": {},
   "source": [
    "## 8\n",
    "Let's take a look at the first plot:"
   ]
  },
  {
   "cell_type": "code",
   "execution_count": null,
   "metadata": {},
   "outputs": [],
   "source": [
    "import h5py\n",
    "import numpy as np\n",
    "import matplotlib.pyplot as plt\n",
    "\n",
    "fileName = \"nexus/MoKedge_1_15.nxs\"\n",
    "f = h5py.File(fileName, \"r\")\n",
    "\n",
    "Y = f[\"/entry1/counterTimer01/It\"][()]\n",
    "X = f[\"/entry1/counterTimer01/Energy\"][()]\n",
    "kwargs = {'linewidth':1, 'color':'red'}\n",
    "\n",
    "# plot It\n",
    "plt.plot(X, Y, **kwargs)\n",
    "plt.show()"
   ]
  },
  {
   "cell_type": "markdown",
   "metadata": {},
   "source": [
    "## 9\n",
    "Adding some plot labels and including a Savgol filter we could improve the above with the code below.  Notice the use of Unicode variable names\n",
    "<pre>Ŷ = savgol_filter ...\n",
    "k̂wargs = ...</pre>\n",
    "\n",
    "The Ŷ and k̂ characters are examples of combination Unicode characters.  \n",
    "\n",
    "For more information on Unicode:\n",
    "<a href=\"https://unicode-table.com/en\">unicode table</a>"
   ]
  },
  {
   "cell_type": "code",
   "execution_count": null,
   "metadata": {},
   "outputs": [],
   "source": [
    "%matplotlib inline\n",
    "import h5py\n",
    "import numpy as np\n",
    "import matplotlib.pyplot as plt\n",
    "from scipy.signal import savgol_filter  # for smoothing\n",
    "\n",
    "def set_title(title):\n",
    "    figure = plt.gcf()\n",
    "    figure.canvas.set_window_title(title)\n",
    "\n",
    "def setupAxes(xLabel, yLabel):\n",
    "    set_title(\"MoKedge_1_15.nxs\")\n",
    "    ax = plt.gca()\n",
    "    ax.set_facecolor((1.0, 0.9, 0.6))\n",
    "    ax.set_xlabel(xLabel)\n",
    "    ax.set_ylabel(yLabel)\n",
    "    ax.xaxis.set_label_position(\"top\")\n",
    "    ax.yaxis.set_label_position(\"right\")\n",
    "    ax.ticklabel_format(axis='y', style='sci', scilimits=(0,5))\n",
    "    plt.grid(True)\n",
    "\n",
    "fileName = \"nexus/MoKedge_1_15.nxs\"\n",
    "f = h5py.File(fileName, \"r\")\n",
    "\n",
    "Y = f[\"/entry1/counterTimer01/It\"][()]\n",
    "X = f[\"/entry1/counterTimer01/Energy\"][()]\n",
    "Ŷ = savgol_filter(Y, 25, 3) # smoothing window size 25, polynomial order 3\n",
    "\n",
    "k̂wargs = {'linewidth':3, 'color':'blue'}\n",
    "kwargs = {'linewidth':1, 'color':'red'}\n",
    "\n",
    "# plot It\n",
    "setupAxes('Energy', 'It')\n",
    "plt.plot(X, Ŷ, **k̂wargs)\n",
    "plt.plot(X, Y, **kwargs)\n",
    "plt.show()"
   ]
  },
  {
   "cell_type": "markdown",
   "metadata": {},
   "source": [
    "## 10\n",
    "We can now add the differences plot.  Both plots are shown below:"
   ]
  },
  {
   "cell_type": "code",
   "execution_count": null,
   "metadata": {},
   "outputs": [],
   "source": [
    "%matplotlib inline\n",
    "import h5py\n",
    "import numpy as np\n",
    "import matplotlib.pyplot as plt\n",
    "from scipy.signal import savgol_filter  # for smoothing\n",
    "\n",
    "def set_title(title):\n",
    "    figure = plt.gcf()\n",
    "    figure.canvas.set_window_title(title)\n",
    "\n",
    "def setupAxes(xLabel, yLabel):\n",
    "    set_title(\"MoKedge_1_15.nxs\")\n",
    "    ax = plt.gca()\n",
    "    ax.set_facecolor((1.0, 0.9, 0.6))\n",
    "    ax.set_xlabel(xLabel)\n",
    "    ax.set_ylabel(yLabel)\n",
    "    ax.xaxis.set_label_position(\"top\")\n",
    "    ax.yaxis.set_label_position(\"right\")\n",
    "    ax.ticklabel_format(axis='y', style='sci', scilimits=(0,5))\n",
    "    plt.grid(True)\n",
    "\n",
    "fileName = \"nexus/MoKedge_1_15.nxs\"\n",
    "f = h5py.File(fileName, \"r\")\n",
    "\n",
    "Y = f[\"/entry1/counterTimer01/It\"][()]\n",
    "X = f[\"/entry1/counterTimer01/Energy\"][()]\n",
    "Ŷ = savgol_filter(Y, 25, 3) # smoothing window size 25, polynomial order 3\n",
    "dY = np.diff(Y)\n",
    "dŶ = savgol_filter(dY, 25, 3) # smoothing window size 25, polynomial order 3\n",
    "\n",
    "k̂wargs = {'linewidth':3, 'color':'blue'}\n",
    "kwargs = {'linewidth':1, 'color':'red'}\n",
    "\n",
    "# plot It\n",
    "setupAxes('Energy', 'It')\n",
    "plt.plot(X, Ŷ, **k̂wargs)\n",
    "plt.plot(X, Y, **kwargs)\n",
    "plt.show()\n",
    "\n",
    "# plot d(It)\n",
    "setupAxes('Energy', 'd(It)')\n",
    "left = 280\n",
    "right = 70\n",
    "plt.plot(X[left:-right-1], dŶ[left:-right], **k̂wargs)\n",
    "plt.plot(X[left:-right-1], dY[left:-right], **kwargs)\n",
    "plt.show()"
   ]
  }
 ],
 "metadata": {
  "kernelspec": {
   "display_name": "Python 3",
   "language": "python",
   "name": "python3"
  },
  "language_info": {
   "codemirror_mode": {
    "name": "ipython",
    "version": 3
   },
   "file_extension": ".py",
   "mimetype": "text/x-python",
   "name": "python",
   "nbconvert_exporter": "python",
   "pygments_lexer": "ipython3",
   "version": "3.7.1"
  }
 },
 "nbformat": 4,
 "nbformat_minor": 4
}
