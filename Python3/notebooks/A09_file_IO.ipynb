{
 "cells": [
  {
   "cell_type": "markdown",
   "metadata": {},
   "source": [
    "<div style=\"color:red;background-color:black\">\n",
    "Diamond Light Source\n",
    "\n",
    "<h1 style=\"color:red;background-color:antiquewhite\"> Python Language: FileIO</h1>  \n",
    "\n",
    "©2000-20 Chris Seddon \n",
    "</div>"
   ]
  },
  {
   "cell_type": "markdown",
   "metadata": {},
   "source": [
    "## 1\n",
    "Execute the following cell to activate styling for this tutorial"
   ]
  },
  {
   "cell_type": "code",
   "execution_count": null,
   "metadata": {},
   "outputs": [],
   "source": [
    "from IPython.display import HTML\n",
    "HTML(f\"<style>{open('my.css').read()}</style>\")"
   ]
  },
  {
   "cell_type": "markdown",
   "metadata": {},
   "source": [
    "## 2\n",
    "Q. How do we read from a file in Python?  Well, Python builds a thin wraper around the C programming language support.  This wrapper is fairly easy to use.\n",
    "\n",
    "To begin with, we need to differentiate between text and binary files.  Technically, in Red Hat Unix, there is no real distinction between these types, but the distinction is much more important in Windows.  However, Python handles text and binary files differently.\n",
    "\n",
    "Let's begin with reading a text file:"
   ]
  },
  {
   "cell_type": "code",
   "execution_count": null,
   "metadata": {},
   "outputs": [],
   "source": [
    "try: \n",
    "    f = open(\"data/14763.dat\", \"r\")\n",
    "    try:\n",
    "        for line in f:\n",
    "            print(line, end=\" \")\n",
    "    finally:\n",
    "        f.close()\n",
    "except IOError as e:\n",
    "    print(e)"
   ]
  },
  {
   "cell_type": "markdown",
   "metadata": {},
   "source": [
    "## 3\n",
    "It is important to use exception handling with the above code.  There are many reasons why reading a file might fail: perhaps we have used the wrong filename or we do not have permission to open the file or even the file might be on a remote file system and we get a network error.  \n",
    "\n",
    "We start by opening the file in \"read\" mode: <pre>f = open(\"data/14763.dat\", \"r\")</pre>\n",
    "\n",
    "If all goes well the \"open\" call returns a pointer to a \"file\" object \"f\".  This object is basically a representation of the file's <a href=\"http://www.linfo.org/inode.html\">inode</a>.  \n",
    "\n",
    "\"f\" is an iterator and all iterators are can be used inside a \"for\" loop.  With this iterator it will return a line of text on each iteration.  When all the lines are read, the loop terminates and we should make sure the file is closed and its inode is garbage collected.  This should be performed in the finally block, because this block is always executed whether or not an exception is thrown.\n",
    "\n",
    "Here is the same example where we try to read from a non existing file:"
   ]
  },
  {
   "cell_type": "code",
   "execution_count": null,
   "metadata": {},
   "outputs": [],
   "source": [
    "try: \n",
    "    f = open(\"data/non-existing-file.dat\", \"r\")\n",
    "    try:\n",
    "        for line in f:\n",
    "            print(line, end=\" \")\n",
    "    finally:\n",
    "        f.close()\n",
    "except IOError as e:\n",
    "    print(e)"
   ]
  },
  {
   "cell_type": "markdown",
   "metadata": {},
   "source": [
    "## 4 \n",
    "One problem you often see with FileIO code is that the programmer forgets to use a finally block and the file doesn't get closed.  I should point out that this isn't normally a serious problem, because the operating system will close all open files automatically when the program finishes.  Nevertheless, it is poor practice (I once saw an application that opened several hundred files and forgot to close them - this hit the limit on the number of open files that could be opened simultaneously and the program crashed!).  \n",
    "\n",
    "Python provides a shorthand for the above that includes the finally block - the \"with\" statement.  Here is the example rewritten using a \"with\" statement; this is the recommended way to read a file (it's shorter and less error prone).  The \"with\" statement automatically closes the file:"
   ]
  },
  {
   "cell_type": "code",
   "execution_count": null,
   "metadata": {},
   "outputs": [],
   "source": [
    "try:\n",
    "    with open(\"data/14763.dat\", \"r\") as f:\n",
    "        for line in f:\n",
    "            print(line, end=\" \")\n",
    "except IOError as e:\n",
    "    print(e)"
   ]
  },
  {
   "cell_type": "markdown",
   "metadata": {},
   "source": [
    "## 5\n",
    "The file object \"f\" has a set of methods.  The loop above calls the \"readline\" method implicitly, but you can call methods explicitly.  The above example can be rewritten with an explicit call to \"readline\", although the code is somewhat less elegant:  "
   ]
  },
  {
   "cell_type": "code",
   "execution_count": null,
   "metadata": {},
   "outputs": [],
   "source": [
    "try:\n",
    "    with open(\"data/14763.dat\", \"r\") as f:\n",
    "        line = True\n",
    "        while line:\n",
    "            line = f.readline()\n",
    "            print(line, end=\" \")\n",
    "except IOError as e:\n",
    "    print(e)"
   ]
  },
  {
   "cell_type": "markdown",
   "metadata": {},
   "source": [
    "## 6\n",
    "The file object \"f\" doesn't have to be used inside a loop. \"f\" can be used to read the entire file in one go into a string using the \"read\" method:"
   ]
  },
  {
   "cell_type": "code",
   "execution_count": null,
   "metadata": {
    "slideshow": {
     "slide_type": "slide"
    }
   },
   "outputs": [],
   "source": [
    "try: \n",
    "    with open(\"data/14763.dat\", \"r\") as f:\n",
    "        allLines = f.read()\n",
    "        print(type(allLines))\n",
    "        print(allLines)\n",
    "except IOError as e:\n",
    "    print(e)"
   ]
  },
  {
   "cell_type": "markdown",
   "metadata": {},
   "source": [
    "## 7\n",
    "The \"readlines\" method is similar to \"read\" except if reads the file into a list instead of a string:"
   ]
  },
  {
   "cell_type": "code",
   "execution_count": null,
   "metadata": {},
   "outputs": [],
   "source": [
    "try: \n",
    "    with open(\"data/14763.dat\", \"r\") as f:\n",
    "        allLines = f.readlines()\n",
    "        print(type(allLines))\n",
    "        print(allLines)\n",
    "except IOError as e:\n",
    "    print(e)"
   ]
  },
  {
   "cell_type": "markdown",
   "metadata": {},
   "source": [
    "## 8\n",
    "Note \"\\n\" and \"\\t\" in the above display.  These are the newline and tab characters.  \n",
    "\n",
    "Displaying a large list, as in the above, makes things difficult to read, especially since the newline and tab characters are not expanded.  The following version of the program converts the list to a string, making it much easier to read (but obviously it would have been easier to use the \"read\" method as discussed earlier).  \n",
    "\n",
    "Note the line: <pre>allLinesAsString = \"\".join(allLines)</pre>\n",
    "This joins all elements of the list with the empty string \"\". "
   ]
  },
  {
   "cell_type": "code",
   "execution_count": null,
   "metadata": {
    "slideshow": {
     "slide_type": "slide"
    }
   },
   "outputs": [],
   "source": [
    "try: \n",
    "    with open(\"data/14763.dat\", \"r\") as f:\n",
    "        allLines = f.readlines()\n",
    "        print(type(allLines))\n",
    "        allLinesAsString = \"\".join(allLines)\n",
    "        print(allLinesAsString)\n",
    "except IOError as e:\n",
    "    print(e)"
   ]
  },
  {
   "cell_type": "markdown",
   "metadata": {},
   "source": [
    "## 9\n",
    "We can also create and write to files.  Code is analogous to the above examples.  \n",
    "\n",
    "In all the examples observe that \"open\" has a second parameter after the filename.  This parameter is defined as follows: <pre>r: read\n",
    "w: write and truncate\n",
    "r+: read and write\n",
    "w+: read, write and truncate\n",
    "a: append\n",
    "t: text mode\n",
    "b: binary mode</pre>\n",
    "\n",
    "Truncating a file means deleting its previous contents on opening (truncate to zero length).  Text mode is the default; text mode works with strings, but binary mode works with bytes.  Note that you can open a file both for reading and writing at the same time.  You can also open the same file several times simultaneously.\n",
    "\n",
    "Let's start by writing a list of strings to a text file; the \"w+\" will elete the previous contents of the file:"
   ]
  },
  {
   "cell_type": "code",
   "execution_count": null,
   "metadata": {},
   "outputs": [],
   "source": [
    "data = (\"line 1\\n\", \"line 2\\n\", \"line 3\\n\", \"line 4\\n\", \"line 5\\n\")\n",
    "try:\n",
    "    with open(\"data/example.txt\", \"w+\") as f: \n",
    "        f.writelines(data)\n",
    "except IOError as e:\n",
    "    print(e)"
   ]
  },
  {
   "cell_type": "markdown",
   "metadata": {
    "slideshow": {
     "slide_type": "subslide"
    }
   },
   "source": [
    "## 10\n",
    "We can check the file has been written correctly:"
   ]
  },
  {
   "cell_type": "code",
   "execution_count": null,
   "metadata": {
    "slideshow": {
     "slide_type": "slide"
    }
   },
   "outputs": [],
   "source": [
    "%%bash\n",
    "cat data/example.txt"
   ]
  },
  {
   "cell_type": "markdown",
   "metadata": {
    "slideshow": {
     "slide_type": "subslide"
    }
   },
   "source": [
    "## 11\n",
    "Reading and writing from and to binary files is also possible using methods of the file object.  Examples of binary fles are PDF files, Nexus files, images, audio and video files.  However, usually you will be using a library to work with these file and not resort to low level file object methods.  \n",
    "\n",
    "But, just for the record, here is an example of writing a series of bytes to a file.  Note that when working with text files we use strings, but for binary files, Python insists on using bytes:"
   ]
  },
  {
   "cell_type": "code",
   "execution_count": null,
   "metadata": {
    "slideshow": {
     "slide_type": "slide"
    }
   },
   "outputs": [],
   "source": [
    "# use bytes\n",
    "data = b\"\\x5F\\x9D\\x3E\\x5F\\x00\\x00\\x00\\x00\\x9D\\x3E\\x5F\\x9D\\x3E\\x5F\\x9D\\x3E\\x5F\\x9D\\x3E\"\n",
    "\n",
    "try:\n",
    "    with open(\"data/myfile.bin\", \"wb\") as f:\n",
    "        f.write(data)\n",
    "except IOError as e:\n",
    "    print(e)"
   ]
  },
  {
   "cell_type": "markdown",
   "metadata": {},
   "source": [
    "## 12\n",
    "To read the binary file, we use <pre>hexdump</pre>"
   ]
  },
  {
   "cell_type": "code",
   "execution_count": null,
   "metadata": {},
   "outputs": [],
   "source": [
    "%%bash\n",
    "hexdump data/myfile.bin"
   ]
  },
  {
   "cell_type": "markdown",
   "metadata": {},
   "source": [
    "## 13\n",
    "All the examples discussed so far use sequential IO.  When we read or write from/to a file the \"file position indicator\" moves sequentially through the file.  However, you can jump around in the file using random access.  This is normally done when working with binary files where you read/write records from/to the file at a known offset (number of bytes) from the start of the file.  \n",
    "\n",
    "The following example shows how to write bytes to a file at offsets of 40, 140 and 240 bytes from the start of the file and then writing much further on in the file (4096*25 bytes into the file) using:  \n",
    "\n",
    "`seek(offset, whence)`\n",
    "* whence = 0: offset relative to start of file\n",
    "* whence = 1: offset relative to current position in file\n",
    "* whence = 2: offset relative to end of file\n",
    "</pre>\n",
    "The gaps will be filled with zeros:"
   ]
  },
  {
   "cell_type": "code",
   "execution_count": null,
   "metadata": {},
   "outputs": [],
   "source": [
    "b = bytes([0x33, 0x33, 0x33, 0x33, 0x33, 0x33, 0x33, 0x33])\n",
    "try:\n",
    "    with open('data/myfile2.bin', 'wb') as myFile:\n",
    "        myFile.seek(40, 0)\n",
    "        myFile.write(b)\n",
    "\n",
    "        myFile.seek(140, 0)\n",
    "        myFile.write(b)\n",
    "\n",
    "        myFile.seek(240, 0)\n",
    "        myFile.write(b)\n",
    "\n",
    "        myFile.seek(4096*25, 0)\n",
    "        myFile.write(b)\n",
    "except IOError as e:\n",
    "    print(e)"
   ]
  },
  {
   "cell_type": "markdown",
   "metadata": {},
   "source": [
    "## 14\n",
    "Let's check it worked:"
   ]
  },
  {
   "cell_type": "code",
   "execution_count": null,
   "metadata": {},
   "outputs": [],
   "source": [
    "%%bash\n",
    "hexdump data/myfile2.bin"
   ]
  }
 ],
 "metadata": {
  "kernelspec": {
   "display_name": "Python 3",
   "language": "python",
   "name": "python3"
  },
  "language_info": {
   "codemirror_mode": {
    "name": "ipython",
    "version": 3
   },
   "file_extension": ".py",
   "mimetype": "text/x-python",
   "name": "python",
   "nbconvert_exporter": "python",
   "pygments_lexer": "ipython3",
   "version": "3.7.1"
  }
 },
 "nbformat": 4,
 "nbformat_minor": 4
}
