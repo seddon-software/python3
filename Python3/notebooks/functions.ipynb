{
 "cells": [
  {
   "cell_type": "markdown",
   "metadata": {},
   "source": [
    "<div style=\"color:red;background-color:black\">\n",
    "Diamond Light Source\n",
    "\n",
    "<h1 style=\"color:red;background-color:antiquewhite\"> Python Fundamentals: Functions</h1>  \n",
    "\n",
    "©2000-20 Chris Seddon \n",
    "</div>"
   ]
  },
  {
   "cell_type": "markdown",
   "metadata": {},
   "source": [
    "Execute the following cell to activate styling for this tutorial"
   ]
  },
  {
   "cell_type": "code",
   "execution_count": 57,
   "metadata": {},
   "outputs": [
    {
     "data": {
      "text/html": [
       "<style>/* GLOBALS */\n",
       "/* body {background-color: #f7f7f7;} */\n",
       ".text_cell {background-color: cornsilk;}\n",
       ".code_cell { background-color: lightskyblue; }\n",
       ".selected { background-color: peachpuff; }\n",
       ".output { background-color: aliceblue; }\n",
       "\n",
       "</style>"
      ],
      "text/plain": [
       "<IPython.core.display.HTML object>"
      ]
     },
     "execution_count": 57,
     "metadata": {},
     "output_type": "execute_result"
    }
   ],
   "source": [
    "from IPython.display import HTML\n",
    "HTML(f\"<style>{open('my.css').read()}</style>\")"
   ]
  },
  {
   "cell_type": "markdown",
   "metadata": {},
   "source": [
    "## 1\n",
    "Functions are defined by the \"def\" statement.  You can put statements, conditionals and loops inside a function.  The original idea behind functions was to name a block of code so that it could easily be repeated:"
   ]
  },
  {
   "cell_type": "code",
   "execution_count": null,
   "metadata": {},
   "outputs": [],
   "source": [
    "def square():\n",
    "    n = 6 * 6\n",
    "    print(n)\n",
    "\n",
    "square()\n",
    "square()\n",
    "square()"
   ]
  },
  {
   "cell_type": "markdown",
   "metadata": {},
   "source": [
    "## 2\n",
    "In order to make functions more flexible, you can pass in parameters.  Currently our square function can only calculate the square of 6 which isn't very useful.  \n",
    "\n",
    "Bu adding parameters we can greater increase the flexibility of the function.  In the code below we define a parameter \"n\" and call the function with different values of \"n\"."
   ]
  },
  {
   "cell_type": "code",
   "execution_count": null,
   "metadata": {},
   "outputs": [],
   "source": [
    "def square(n):\n",
    "    print(n**2)\n",
    "\n",
    "square(5)\n",
    "square(7)\n",
    "square(11)"
   ]
  },
  {
   "cell_type": "markdown",
   "metadata": {},
   "source": [
    "## 3 \n",
    "Functions can have more than one parameter.  For example if we want to find the average of 3 numbers we can write:"
   ]
  },
  {
   "cell_type": "code",
   "execution_count": null,
   "metadata": {
    "slideshow": {
     "slide_type": "slide"
    }
   },
   "outputs": [],
   "source": [
    "def average(a, b, c):\n",
    "    total = a + b + c\n",
    "    print(total/3)\n",
    "    \n",
    "average(5, 8, 11)\n",
    "average(10, 100, 1000)\n",
    "average(4, -4, 0)"
   ]
  },
  {
   "cell_type": "markdown",
   "metadata": {},
   "source": [
    "## 4\n",
    "Rather than printing results in the function, it's often more useful to return the result to the calling program.  Let's rewrite the previous example in this style:"
   ]
  },
  {
   "cell_type": "code",
   "execution_count": null,
   "metadata": {
    "slideshow": {
     "slide_type": "slide"
    }
   },
   "outputs": [],
   "source": [
    "def average(a, b, c):\n",
    "    total = a + b + c\n",
    "    return total/3\n",
    "    \n",
    "result = average(5, 8, 11)\n",
    "print(f\"the average of our numbers is: {result}\")\n",
    "\n",
    "result = average(10, 100, 1000)\n",
    "print(f\"the average of our numbers is: {result}\")"
   ]
  },
  {
   "cell_type": "markdown",
   "metadata": {},
   "source": [
    "## 5\n",
    "All modern programming languages support functions.  However functions in Python are a little different.  \n",
    "\n",
    "In the above example it looks like we have a function called \"average\", but this is not technically accurate.  \"average\" is actually a regular Python pointer and it point to an anonymous function object.  Think of the function object in terms of the byte code for that function.\n",
    "\n",
    "Thus functions in Python don't have names and this can lead to some strange consequences.  Consider the code below.  We define an anonymous function pointed at by \"square\".  Then we point \"fn\" at the same anonymous function.  Now we call call the function in two different ways: "
   ]
  },
  {
   "cell_type": "code",
   "execution_count": null,
   "metadata": {},
   "outputs": [],
   "source": [
    "def square(n):\n",
    "    return n**2\n",
    "    \n",
    "x = square(7)\n",
    "print(f\"square of 7 = {x}\")\n",
    "\n",
    "fn = square\n",
    "x = fn(7)\n",
    "print(f\"square of 7 = {x}\")"
   ]
  },
  {
   "cell_type": "markdown",
   "metadata": {},
   "source": [
    "## 6\n",
    "Now because \"square\" and \"fn\" are pointers, we can point them a different objects.  In the following example I point \"square\" at a different object, but still leave fn pointing at the anonymous function:"
   ]
  },
  {
   "cell_type": "code",
   "execution_count": null,
   "metadata": {},
   "outputs": [],
   "source": [
    "def square(n):\n",
    "    return n**2\n",
    "\n",
    "fn = square\n",
    "square = 23.45\n",
    "print(square)\n",
    "\n",
    "x = fn(7)\n",
    "print(f\"square of 7 = {x}\")"
   ]
  },
  {
   "cell_type": "markdown",
   "metadata": {
    "slideshow": {
     "slide_type": "subslide"
    }
   },
   "source": [
    "## 7\n",
    "Note that in the previous example, because \"square\" is not pointing at the anonymous function anymore, I can't call the function via the pointer \"square\".  If I try, I get an exception."
   ]
  },
  {
   "cell_type": "code",
   "execution_count": null,
   "metadata": {},
   "outputs": [],
   "source": [
    "def square(n):\n",
    "    return n**2\n",
    "\n",
    "fn = square\n",
    "square = 23.45\n",
    "x = square(7)"
   ]
  },
  {
   "cell_type": "markdown",
   "metadata": {
    "slideshow": {
     "slide_type": "subslide"
    }
   },
   "source": [
    "## 8\n",
    "Functions range from the simple to the complex, but it's advisable to keep functions fairly short, say no more the 25 lines long.  \n",
    "\n",
    "Before we move on, here is a slightly more complex function which calculates if a given year is a leap year.  \n",
    "\n",
    "Equally import to writing a function is to test that it works.  Modern testing techniques are beyond the scope of this tutorial, but you should at least call the function with a reasonable sample of test data."
   ]
  },
  {
   "cell_type": "code",
   "execution_count": null,
   "metadata": {
    "slideshow": {
     "slide_type": "slide"
    }
   },
   "outputs": [],
   "source": [
    "def isLeapYear(year):\n",
    "    if   year % 400 == 0: return True\n",
    "    elif year % 100 == 0: return False\n",
    "    elif year %   4 == 0: return True\n",
    "    else                : return False\n",
    "\n",
    "print(f\"Is 1991 a leap year? {isLeapYear(1991)}\")\n",
    "print(f\"Is 2024 a leap year? {isLeapYear(2024)}\")\n",
    "print(f\"Is 2000 a leap year? {isLeapYear(2000)}\")\n",
    "print(f\"Is 2100 a leap year? {isLeapYear(2100)}\")"
   ]
  },
  {
   "cell_type": "markdown",
   "metadata": {},
   "source": [
    "## 9\n",
    "Mind you, some purists say there should only be a single return statement in any function.  However, the pragmatist is happy with the above because the code is easy to read and the return points are easily identified.\n",
    "\n",
    "Let's revisit functions with several parameters.  Let's define a function that calculates the area of a rectangle defined by coordinates of the top left and bottom right points:\n",
    "<img src=\"images/figure2.jpg\" width=\"300\" height=\"300\" />"
   ]
  },
  {
   "cell_type": "code",
   "execution_count": null,
   "metadata": {},
   "outputs": [],
   "source": [
    "def area(topLeftX, topLeftY, bottomRightX, bottomRightY):\n",
    "    height =  topLeftY - bottomRightY\n",
    "    width  = -topLeftX + bottomRightX\n",
    "    return height * width\n",
    "\n",
    "print(area(25, 40, 0, 80))\n",
    "    "
   ]
  },
  {
   "cell_type": "markdown",
   "metadata": {},
   "source": [
    "## 10\n",
    "The above function takes 4 parameters.  The order of the parameters is very imortant.  The first parameter is topLeft (25), then topRight(40), then bottomRightX(0) and finally bottomRight(80).  We call this passing parameters by position.\n",
    "\n",
    "However, as the number of parameters increases it becomes hard to know which parameter corresponds to which variable.  For this reason, you can also pass parameters by name.  So here is the alternative way of calling the function and note the order of the parameters is not important with this method:"
   ]
  },
  {
   "cell_type": "code",
   "execution_count": null,
   "metadata": {},
   "outputs": [],
   "source": [
    "def area(topLeftX, topLeftY, bottomRightX, bottomRightY):\n",
    "    height =  topLeftY - bottomRightY\n",
    "    width  = -topLeftX + bottomRightX\n",
    "    return height * width\n",
    "\n",
    "print(area(topLeftX=25, topLeftY=40, bottomRightX=0, bottomRightY=80))\n",
    "print(area(bottomRightX=0, topLeftY=40, bottomRightY=80, topLeftX=25))"
   ]
  },
  {
   "cell_type": "markdown",
   "metadata": {},
   "source": [
    "## 11\n",
    "Python functions are usually defined via \"def\" statements.  However, for simple functions an alternative exists: lambda functions.  By simple functions, I mean functions that don't have a body and only have a return statement.  \n",
    "\n",
    "The syntax of a lambda is a little odd and some people don't like using them, but they are part of mainstream Python, so let's see how they work.  Note that a lambda function can always be rewritten as a \"def\".\n",
    "\n",
    "Consider the function:\n",
    "<pre>def average(x, y, z):\n",
    "    return (x + y + z) / 3.0</pre>\n",
    "This can be written as a lambda:"
   ]
  },
  {
   "cell_type": "code",
   "execution_count": null,
   "metadata": {},
   "outputs": [],
   "source": [
    "average = lambda x, y, z : (x + y + z) / 3.0\n",
    "print(average(10, 100, 1000))"
   ]
  },
  {
   "cell_type": "markdown",
   "metadata": {},
   "source": [
    "## 12\n",
    "Note the lambda illustates that a Python function is anonymous and that \"average\" is a pointer to the function object.\n",
    "\n",
    "Lambdas are normally used when you want to define the function once, as a parameter to another function.  Consider the \"power\" function below.  We can call it with \"square\", \"cube\" or \"quad\" as its first parameter and \"power\" then calls the function passed."
   ]
  },
  {
   "cell_type": "code",
   "execution_count": null,
   "metadata": {},
   "outputs": [],
   "source": [
    "def square(n):\n",
    "    return n**2\n",
    "\n",
    "def cube(n):\n",
    "    return n**3\n",
    "\n",
    "def quad(n):\n",
    "    return n**4\n",
    "\n",
    "def power(fn, n):\n",
    "    return fn(n)\n",
    "\n",
    "print(power(square, 5))\n",
    "print(power(cube, 7))\n",
    "print(power(quad, 11))"
   ]
  },
  {
   "cell_type": "markdown",
   "metadata": {},
   "source": [
    "## 13\n",
    "Now consider passing an arbitrary function to \"power\".  We could use a \"def\" for our function, but it is more convenient to define a lambda, on the fly, so to speak, as in:"
   ]
  },
  {
   "cell_type": "code",
   "execution_count": null,
   "metadata": {},
   "outputs": [],
   "source": [
    "def square(n):\n",
    "    return n**2\n",
    "\n",
    "def cube(n):\n",
    "    return n**3\n",
    "\n",
    "def quad(n):\n",
    "    return n**4\n",
    "\n",
    "def power(fn, n):\n",
    "    return fn(n)\n",
    "\n",
    "p = 10\n",
    "print(power(lambda n:n**p, 2))"
   ]
  },
  {
   "cell_type": "markdown",
   "metadata": {},
   "source": [
    "## 14\n",
    "In the last section of this tutorial we will look at functions taking a variable number of parameters.  Such functions are often used in libraries, particularly Matplotlib.  \n",
    "\n",
    "Such functions are called variadic functions.  Let's start with functions where parametrs are passed by position.  Consider our \"average\" function:\n",
    "<pre>def average(a, b, c):\n",
    "    total = a + b + c\n",
    "    return total/3</pre>\n",
    "This function takes a fixed number of parameters by position.  If we pass more than 3 parameters we get an error:"
   ]
  },
  {
   "cell_type": "code",
   "execution_count": null,
   "metadata": {
    "slideshow": {
     "slide_type": "slide"
    }
   },
   "outputs": [],
   "source": [
    "def average(a, b, c):\n",
    "    total = a + b + c\n",
    "    return total/3\n",
    "    \n",
    "result = average(5, 8, 11, 23, 51)\n",
    "print(f\"the average of our numbers is: {result}\")"
   ]
  },
  {
   "cell_type": "markdown",
   "metadata": {},
   "source": [
    "## 15\n",
    "However if we change the \"average\" function slightly, we find we can pass as many parameters as we like.  We just have to mark the first parameter with a *.  \n",
    "\n",
    "Let's just return 999 from the function for now and correct our mistake later."
   ]
  },
  {
   "cell_type": "code",
   "execution_count": null,
   "metadata": {
    "slideshow": {
     "slide_type": "slide"
    }
   },
   "outputs": [],
   "source": [
    "def average(*a):\n",
    "    print(a)\n",
    "    print(type(a))\n",
    "    return 999\n",
    "    \n",
    "result = average(5, 8, 11, 23, 51)\n",
    "print(f\"the average of our numbers is: {result}\")"
   ]
  },
  {
   "cell_type": "markdown",
   "metadata": {},
   "source": [
    "## 16\n",
    "So the * allows us to pass several parameters.  The parameters get wrapped up in a tuple.  \n",
    "\n",
    "Now we can complete the function:"
   ]
  },
  {
   "cell_type": "code",
   "execution_count": null,
   "metadata": {
    "slideshow": {
     "slide_type": "slide"
    }
   },
   "outputs": [],
   "source": [
    "def average(*a):\n",
    "    return sum(a) / len(a)\n",
    "    \n",
    "result = average(5, 8, 11, 23, 51)\n",
    "print(f\"the average of our first set of numbers is: {result}\")\n",
    "\n",
    "result = average(2, 10, 5)\n",
    "print(f\"the average of our second set of numbers is: {result}\")"
   ]
  },
  {
   "cell_type": "markdown",
   "metadata": {},
   "source": [
    "## 17\n",
    "What if we have a tuple that contains all the parameters we want to pass to our variadic function.  Will the following work?"
   ]
  },
  {
   "cell_type": "code",
   "execution_count": null,
   "metadata": {
    "slideshow": {
     "slide_type": "slide"
    }
   },
   "outputs": [],
   "source": [
    "def average(*a):\n",
    "    return sum(a) / len(a)\n",
    "    \n",
    "result = average(5, 8, 11, 23, 51)\n",
    "print(f\"the average of our first set of numbers is: {result}\")\n",
    "\n",
    "t = (5, 8, 11, 23, 51)\n",
    "result = average(t)\n",
    "print(f\"the average of our second set of numbers is: {result}\")"
   ]
  },
  {
   "cell_type": "markdown",
   "metadata": {},
   "source": [
    "## 18\n",
    "So that doesn't work.  But the following does work:"
   ]
  },
  {
   "cell_type": "code",
   "execution_count": null,
   "metadata": {
    "slideshow": {
     "slide_type": "slide"
    }
   },
   "outputs": [],
   "source": [
    "def average(*a):\n",
    "    return sum(a) / len(a)\n",
    "    \n",
    "result = average(5, 8, 11, 23, 51)\n",
    "print(f\"the average of our first set of numbers is: {result}\")\n",
    "\n",
    "t = (5, 8, 11, 23, 51)\n",
    "result = average(*t)\n",
    "print(f\"the average of our second set of numbers is: {result}\")"
   ]
  },
  {
   "cell_type": "markdown",
   "metadata": {},
   "source": [
    "## 19\n",
    "To summarise:  If we use a * in the function parameter list, the parameters get wrapped up in a tuple.  If we use a * in the calling program, the reverse happens, the tuple gets unwrapped.  \n",
    "Finally, let's change the parameter name from \"a\" to \"args\".  This is not necessary, but \"args\" is conventionally used by library functions."
   ]
  },
  {
   "cell_type": "code",
   "execution_count": null,
   "metadata": {
    "slideshow": {
     "slide_type": "slide"
    }
   },
   "outputs": [],
   "source": [
    "def average(*args):\n",
    "    return sum(args) / len(args)\n",
    "    \n",
    "result = average(5, 8, 11, 23, 51)\n",
    "print(f\"the average of our first set of numbers is: {result}\")\n",
    "\n",
    "t = (5, 8, 11, 23, 51)\n",
    "result = average(*t)\n",
    "print(f\"the average of our second set of numbers is: {result}\")"
   ]
  },
  {
   "cell_type": "markdown",
   "metadata": {},
   "source": [
    "## 20\n",
    "Here's a snippet from Numpy documentation:  \n",
    "\n",
    "<img src=\"images/figure3.jpg\" />\n",
    "\n",
    "As you can see, the function is variadic.  There are many more functions like this in the Numpy library.  "
   ]
  },
  {
   "cell_type": "markdown",
   "metadata": {},
   "source": [
    "## 21\n",
    "Functions that use named parameter lists can also be variadic.  Consider this example of a \"volume\" function:"
   ]
  },
  {
   "cell_type": "code",
   "execution_count": null,
   "metadata": {},
   "outputs": [],
   "source": [
    "def volume(height, width, depth):\n",
    "    return height * (width + 2) * (depth + 10)\n",
    "\n",
    "print( volume(height=5, width=10, depth=15) )"
   ]
  },
  {
   "cell_type": "markdown",
   "metadata": {},
   "source": [
    "## 22\n",
    "We can make the \"volume\" variadic along similar lines, but this time we need two *s:"
   ]
  },
  {
   "cell_type": "code",
   "execution_count": null,
   "metadata": {},
   "outputs": [],
   "source": [
    "def volume(**d):\n",
    "    print(d)\n",
    "    print(type(d))\n",
    "    return 999\n",
    "\n",
    "print( volume(height=5, width=10, depth=15) )"
   ]
  },
  {
   "cell_type": "markdown",
   "metadata": {},
   "source": [
    "## 23\n",
    "So this time the named parameters are wrapped up in a dict.  The corrected function uses this dictionary:"
   ]
  },
  {
   "cell_type": "code",
   "execution_count": null,
   "metadata": {},
   "outputs": [],
   "source": [
    "def volume(**d):\n",
    "    return d['height'] * (d['width'] + 2) * (d['depth'] + 10)\n",
    "\n",
    "print( volume(height=5, width=10, depth=15) )"
   ]
  },
  {
   "cell_type": "markdown",
   "metadata": {},
   "source": [
    "## 24\n",
    "Furthermore, we can pass a dictionary to \"volume\" if we use ** to unwrap the dictionary first.  \n",
    "To summarise: If we use ** in the function parameter list, the parameters get wrapped up in a dictionary. If we use ** in the calling program, the reverse happens, the dictionary gets unwrapped."
   ]
  },
  {
   "cell_type": "code",
   "execution_count": null,
   "metadata": {},
   "outputs": [],
   "source": [
    "def volume(**d):\n",
    "    return d['height'] * (d['width'] + 2) * (d['depth'] + 10)\n",
    "\n",
    "mydict = {'height':5, 'width':10, 'depth':15}\n",
    "print( volume(**mydict) )"
   ]
  },
  {
   "cell_type": "markdown",
   "metadata": {},
   "source": [
    "## 25\n",
    "Here's a snippet from Matplotlib documentation:\n",
    "\n",
    "<img src=\"images/figure4.jpg\" />\n",
    "\n",
    "There are lots of other examples using variadic named parameters.  Note the parameter is called \"kwargs\".  \"kwargs\" stands for key-word-arguments.\n",
    "\n",
    "Let's rewrite our \"volume\" function with \"kwargs\":"
   ]
  },
  {
   "cell_type": "code",
   "execution_count": null,
   "metadata": {},
   "outputs": [],
   "source": [
    "def volume(**kwargs):\n",
    "    return kwargs['height'] * (kwargs['width'] + 2) * (kwargs['depth'] + 10)\n",
    "\n",
    "print( volume(height=5, width=10, depth=15) )"
   ]
  }
 ],
 "metadata": {
  "kernelspec": {
   "display_name": "Python 3",
   "language": "python",
   "name": "python3"
  },
  "language_info": {
   "codemirror_mode": {
    "name": "ipython",
    "version": 3
   },
   "file_extension": ".py",
   "mimetype": "text/x-python",
   "name": "python",
   "nbconvert_exporter": "python",
   "pygments_lexer": "ipython3",
   "version": "3.7.1"
  }
 },
 "nbformat": 4,
 "nbformat_minor": 4
}
