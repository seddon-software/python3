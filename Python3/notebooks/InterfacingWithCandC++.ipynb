{
 "cells": [
  {
   "cell_type": "markdown",
   "metadata": {},
   "source": [
    "<div style=\"color:red;background-color:black\">\n",
    "Diamond Light Source\n",
    "\n",
    "<h1 style=\"color:red;background-color:antiquewhite\"> Python Fundamentals: TITLE</h1>  \n",
    "\n",
    "©2000-20 Chris Seddon \n",
    "</div>"
   ]
  },
  {
   "cell_type": "markdown",
   "metadata": {},
   "source": [
    "Execute the following cell to activate styling for this tutorial"
   ]
  },
  {
   "cell_type": "code",
   "execution_count": null,
   "metadata": {},
   "outputs": [],
   "source": [
    "from IPython.display import HTML\n",
    "HTML(f\"<style>{open('my.css').read()}</style>\")"
   ]
  },
  {
   "cell_type": "markdown",
   "metadata": {},
   "source": [
    "## Preamble: 1\n",
    "In this tutorial, we will be showing how to wrap up C and C++ code into a module that can be called as if it were normal Python code; this is achieved by compiling C and C++ code into a shared library.\n",
    "\n",
    "However, before we start this tutorial, I need to point out that Jupyter notebook doesn't always show the output of Python code.  This is because the notebook server runs code in a subshell and redirects this output of the shell to the browser.  But, some Python code runs in a subshell of a subshell and this output does not get redirected to the browser by the notebook server.\n",
    "\n",
    "This is particularly true of Python \"subprocess\" module.  For example is we run code in the following cell, all we see is the reurn code from \"subprocess.run()\":"
   ]
  },
  {
   "cell_type": "code",
   "execution_count": null,
   "metadata": {},
   "outputs": [],
   "source": [
    "import subprocess\n",
    "subprocess.run(\"ls -l\".split())"
   ]
  },
  {
   "cell_type": "markdown",
   "metadata": {},
   "source": [
    "## Preamble: 2\n",
    "We can circumvent this problem by using pipes.  The \"subprocess\" module can use pipes to get output from the subshell of the subshell as follows:"
   ]
  },
  {
   "cell_type": "code",
   "execution_count": null,
   "metadata": {},
   "outputs": [],
   "source": [
    "import subprocess\n",
    "result = subprocess.run(\"ls -l\".split(), stdout=subprocess.PIPE)\n",
    "print (f\"return code: {result.returncode} \\nstdout = \\n{result.stdout.decode()}\")"
   ]
  },
  {
   "cell_type": "markdown",
   "metadata": {},
   "source": [
    "## Preamble: 3\n",
    "For the rest of this tutorial, we will wrap up this functionality in a \"run\" function.  Sometimes, we will also need to specify the directory in which to execute the code:"
   ]
  },
  {
   "cell_type": "code",
   "execution_count": null,
   "metadata": {},
   "outputs": [],
   "source": [
    "import subprocess\n",
    "def run(cmd, dir=\".\"):\n",
    "    result = subprocess.run (cmd.split(), stdout=subprocess.PIPE, cwd=dir)\n",
    "    print (f\"return code = {result.returncode} \\n{result.stdout.decode()}\")\n",
    "print(\"run command defined\")"
   ]
  },
  {
   "cell_type": "markdown",
   "metadata": {},
   "source": [
    "## Preamble: 4\n",
    "Now we are ready to start the tutorial.  Since we are going to explore several examples, we will need several pre-written files.  I've decided to store these files under a \"resources\" folder for each example.  \n",
    "\n",
    "We will \"cd\" to this folder now:"
   ]
  },
  {
   "cell_type": "code",
   "execution_count": null,
   "metadata": {},
   "outputs": [],
   "source": [
    "%cd resources"
   ]
  },
  {
   "cell_type": "markdown",
   "metadata": {},
   "source": [
    "## Preamble: 5\n",
    "Now we are ready to start the tutorial.  Since we are going to explore several examples, we will need several pre-written files.  I've decided to store these files under a \"resources\" folder for each example.  The resources will be split according which example we are using:"
   ]
  },
  {
   "cell_type": "code",
   "execution_count": null,
   "metadata": {},
   "outputs": [],
   "source": [
    "run(\"ls -l\", \"example1\")\n",
    "run(\"ls -l\", \"example2\")"
   ]
  },
  {
   "cell_type": "markdown",
   "metadata": {},
   "source": [
    "## Example1: 1\n",
    "When we want to wrap up C and C++ code in a shared library we need to provide:\n",
    "* the C/C++ code to go in the shared library\n",
    "* setup.py: instructions on building the library\n",
    "\n",
    "As an example of C code, we will write a Fibonacci module.  Here is the C code:"
   ]
  },
  {
   "cell_type": "code",
   "execution_count": null,
   "metadata": {},
   "outputs": [],
   "source": [
    "run(\"cat fibmodule.c\", \"example1\")"
   ]
  },
  {
   "cell_type": "markdown",
   "metadata": {},
   "source": [
    "## Example1: 2\n",
    "The C code is in 4 parts:\n",
    "\n",
    "* the function<pre>int _fib(int n)</pre>\n",
    "* binding code between C and Python in the function<pre>static PyObject* fib(PyObject* self, PyObject* args)</pre>\n",
    "* interface definitions<pre>\n",
    "method table\n",
    "module definition structure</pre>\n",
    "* Python entry point to the shared libary<pre>PyMODINIT_FUNC PyInit_fibonacci(void)</pre>  \n",
    "\n",
    "The `setup.py` file is shown below:"
   ]
  },
  {
   "cell_type": "code",
   "execution_count": null,
   "metadata": {},
   "outputs": [],
   "source": [
    "run(\"cat setup.py\", \"example1\")"
   ]
  },
  {
   "cell_type": "markdown",
   "metadata": {},
   "source": [
    "## Example1: 3\n",
    "The key parts of the above file are:\n",
    "\n",
    "* creating a \"distutils.core.setup\" object, containing build details <pre>setup(...)</pre>\n",
    "\n",
    "* an Extension object defining which C files are to be compiled:\n",
    "<pre>mymodule = Extension('fibonacci', sources = ['fibmodule.c'])</pre>\n",
    "\n",
    "* the link between the \"setup\" object and the \"Extension\" object\n",
    "<pre>ext_modules = [mymodule]</pre>\n",
    "\n",
    "Python has a special way of building the shared library:"
   ]
  },
  {
   "cell_type": "code",
   "execution_count": null,
   "metadata": {},
   "outputs": [],
   "source": [
    "import subprocess,os,sys\n",
    "\n",
    "pythonPath = os.path.dirname(sys.executable)\n",
    "swigPath = \"/usr/local/bin\"\n",
    "compilerPath = \"/opt/local/bin\"\n",
    "#os.environ[\"PATH\"] = pythonPath + os.pathsep + os.environ[\"PATH\"]\n",
    "os.environ[\"PATH\"] = pythonPath + os.pathsep + swigPath + os.pathsep + compilerPath + os.pathsep + os.environ[\"PATH\"]\n",
    "\n",
    "run(\"python setup.py -v build_ext\", \"example1\")\n",
    "run(\"ls -lR build\", \"example1\")"
   ]
  },
  {
   "cell_type": "markdown",
   "metadata": {},
   "source": [
    "## Example1: 4\n",
    "Python creates a shared object file with a \".so\" extension in the build directory a some other temporary files.\n",
    "\n",
    "We now need to install this shared object .  Since we do not have permission to install in Diamond's Anacoda distribution we will have to install locally in our home directory:"
   ]
  },
  {
   "cell_type": "code",
   "execution_count": null,
   "metadata": {},
   "outputs": [],
   "source": [
    "run(\"python setup.py install --record files.txt --user\", \"example1\")"
   ]
  },
  {
   "cell_type": "markdown",
   "metadata": {},
   "source": [
    "## Example1: 5\n",
    "Now we've installed our library, we should clean the build area:"
   ]
  },
  {
   "cell_type": "code",
   "execution_count": null,
   "metadata": {},
   "outputs": [],
   "source": [
    "run(\"python setup.py clean --all\", \"example1\")\n",
    "print(\"staging area cleaned\")"
   ]
  },
  {
   "cell_type": "markdown",
   "metadata": {},
   "source": [
    "## Example1: 6\n",
    "Time to test our module:"
   ]
  },
  {
   "cell_type": "code",
   "execution_count": null,
   "metadata": {},
   "outputs": [],
   "source": [
    "import fibonacci\n",
    "\n",
    "print((fibonacci.fib(10)))\n",
    "print((fibonacci.fib(11)))\n",
    "print((fibonacci.fib(12)))"
   ]
  },
  {
   "cell_type": "markdown",
   "metadata": {},
   "source": [
    "## Example1: 7\n",
    "So our module is working!\n",
    "\n",
    "Note, we've been keeping a record of the files we've been creating to facilitate the \"uninstall\":"
   ]
  },
  {
   "cell_type": "code",
   "execution_count": null,
   "metadata": {},
   "outputs": [],
   "source": [
    "run(\"cat files.txt\", \"example1\")"
   ]
  },
  {
   "cell_type": "markdown",
   "metadata": {},
   "source": [
    "## Example1: 8\n",
    "The following code will print out the \"egg-info\" file:"
   ]
  },
  {
   "cell_type": "code",
   "execution_count": null,
   "metadata": {},
   "outputs": [],
   "source": [
    "installedFiles = open(\"example1/files.txt\", \"r\")\n",
    "for file in installedFiles:\n",
    "    file = file.rstrip()\n",
    "    if file.endswith(\"egg-info\"):\n",
    "        f = open(file, 'r')\n",
    "        print(f.read())"
   ]
  },
  {
   "cell_type": "markdown",
   "metadata": {},
   "source": [
    "## Example1: 9\n",
    "Now we can unistall our module:"
   ]
  },
  {
   "cell_type": "code",
   "execution_count": null,
   "metadata": {},
   "outputs": [],
   "source": [
    "try:\n",
    "    installedFiles = open(\"example1/files.txt\", \"r\")\n",
    "    for file in installedFiles:\n",
    "        print(f\"rm {file}\")\n",
    "        run(f\"rm {file}\")\n",
    "\n",
    "    print(\"rm example1/files.txt\")\n",
    "    run(\"rm example1/files.txt\")\n",
    "    print(\"Example uninstalled\")\n",
    "except:\n",
    "    print(\"Example already uninstalled\")"
   ]
  },
  {
   "cell_type": "markdown",
   "metadata": {},
   "source": [
    "## Example2: 1\n",
    "The above procedure in the same for C++.\n",
    "\n",
    "The one difficulty with the above is writing the C code `fibmodule.c`.  If you look at the code again, realise that you would expect to have to write the equivalent of the function<pre>int _fib(int n)</pre>\n",
    "but the binding code requires knowledge of internals of the Python interpretert.  It would be great if we didn't need to write the binding code; that is what the \"Swig\" library is for.  It also generates the interface tables and entry point.\n",
    "\n",
    "For more complex examples the \"Swig\" library saves a lot of work.  We will look at how to modify the above procedure to use \"Swig\".\n",
    "\n",
    "We'll be using a different example - a C file that has two messages.  Note that we are using \"static\" to avoid memory problems; we can't easily allocate memory for a char array in our C code and expect Python to clean it up:"
   ]
  },
  {
   "cell_type": "code",
   "execution_count": null,
   "metadata": {},
   "outputs": [],
   "source": [
    "run(\"cat messages.c\", \"example2\")"
   ]
  },
  {
   "cell_type": "markdown",
   "metadata": {},
   "source": [
    "## Example2: 2\n",
    "Swig needs a special file to tell it what binding code is required:"
   ]
  },
  {
   "cell_type": "code",
   "execution_count": null,
   "metadata": {},
   "outputs": [],
   "source": [
    "run(\"cat messages.i\", \"example2\")"
   ]
  },
  {
   "cell_type": "markdown",
   "metadata": {},
   "source": [
    "## Example2: 3\n",
    "The `setup.py` needs to be changed to reference the \"swig\" file (\"messages.i\"):"
   ]
  },
  {
   "cell_type": "code",
   "execution_count": null,
   "metadata": {},
   "outputs": [],
   "source": [
    "run(\"cat setup.py\", \"example2\")"
   ]
  },
  {
   "cell_type": "markdown",
   "metadata": {},
   "source": [
    "## Example2: 4\n",
    "Now we can run `setup.py` to generate binding code etc.  \"swig\" will be called automatically:"
   ]
  },
  {
   "cell_type": "code",
   "execution_count": null,
   "metadata": {},
   "outputs": [],
   "source": [
    "run(\"python setup.py -v build_ext\", \"example2\")"
   ]
  },
  {
   "cell_type": "markdown",
   "metadata": {},
   "source": [
    "## Example2: 5\n",
    "The binding code produced by \"swig\" is very verbose.  Here's the forst 100 lines ..."
   ]
  },
  {
   "cell_type": "code",
   "execution_count": null,
   "metadata": {},
   "outputs": [],
   "source": [
    "run(\"head -100 messages_wrap.c\", \"example2\")"
   ]
  },
  {
   "cell_type": "markdown",
   "metadata": {},
   "source": [
    "## Example2: 6\n",
    "Next, we can install:"
   ]
  },
  {
   "cell_type": "code",
   "execution_count": null,
   "metadata": {},
   "outputs": [],
   "source": [
    "run(\"python setup.py install --record files.txt --user\", \"example2\")"
   ]
  },
  {
   "cell_type": "markdown",
   "metadata": {},
   "source": [
    "## Example2: 7\n",
    "And test ..."
   ]
  },
  {
   "cell_type": "code",
   "execution_count": null,
   "metadata": {},
   "outputs": [],
   "source": [
    "import mymessages\n",
    "\n",
    "print(mymessages.say_hello(\"World\"))\n",
    "print(mymessages.say_goodbye(\"Universe\"))"
   ]
  },
  {
   "cell_type": "markdown",
   "metadata": {},
   "source": [
    "## Example 2: 8\n",
    "Finally, clean up"
   ]
  },
  {
   "cell_type": "code",
   "execution_count": null,
   "metadata": {},
   "outputs": [],
   "source": [
    "run(\"python setup.py clean --all\", \"example2\")\n",
    "run(\"rm messages_wrap.c mymessages.py\", \"example2\")"
   ]
  },
  {
   "cell_type": "code",
   "execution_count": null,
   "metadata": {},
   "outputs": [],
   "source": []
  }
 ],
 "metadata": {
  "kernelspec": {
   "display_name": "Python 3",
   "language": "python",
   "name": "python3"
  },
  "language_info": {
   "codemirror_mode": {
    "name": "ipython",
    "version": 3
   },
   "file_extension": ".py",
   "mimetype": "text/x-python",
   "name": "python",
   "nbconvert_exporter": "python",
   "pygments_lexer": "ipython3",
   "version": "3.7.1"
  }
 },
 "nbformat": 4,
 "nbformat_minor": 4
}
