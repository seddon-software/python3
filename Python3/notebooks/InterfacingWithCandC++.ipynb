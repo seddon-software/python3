{
 "cells": [
  {
   "cell_type": "markdown",
   "metadata": {},
   "source": [
    "<div style=\"color:red;background-color:black\">\n",
    "Diamond Light Source\n",
    "\n",
    "<h1 style=\"color:red;background-color:antiquewhite\"> Python Fundamentals: TITLE</h1>  \n",
    "\n",
    "©2000-20 Chris Seddon \n",
    "</div>"
   ]
  },
  {
   "cell_type": "markdown",
   "metadata": {},
   "source": [
    "## 1\n",
    "Execute the following cell to activate styling for this tutorial"
   ]
  },
  {
   "cell_type": "code",
   "execution_count": 1,
   "metadata": {},
   "outputs": [
    {
     "data": {
      "text/html": [
       "<style>/* GLOBALS */\n",
       "/* body {background-color: #f7f7f7;} */\n",
       ".text_cell {background-color: cornsilk;}\n",
       ".code_cell { background-color: lightskyblue; }\n",
       ".selected { background-color: peachpuff; }\n",
       ".output { background-color: aliceblue; }\n",
       "\n",
       "</style>"
      ],
      "text/plain": [
       "<IPython.core.display.HTML object>"
      ]
     },
     "execution_count": 1,
     "metadata": {},
     "output_type": "execute_result"
    }
   ],
   "source": [
    "from IPython.display import HTML\n",
    "HTML(f\"<style>{open('my.css').read()}</style>\")"
   ]
  },
  {
   "cell_type": "markdown",
   "metadata": {},
   "source": [
    "## 2\n",
    "In this tutorial, we will be showing how to wrap up C and C++ code into a module that can be called as if it were normal Python code; this is achieved by compiling C and C++ code into a shared library.\n",
    "\n",
    "However, before we start this tutorial, I need to point out that Jupyter notebook doesn't always show the output of Python code.  This is because the notebook server runs code in a subshell and redirects this output of the shell to the browser.  But, some Python code runs in a subshell of a subshell and this output does not get redirected to the browser by the notebook server.\n",
    "\n",
    "This is particularly true of Python \"subprocess\" module.  For example is we run code in the following cell, all we see is the reurn code from \"subprocess.run()\":"
   ]
  },
  {
   "cell_type": "code",
   "execution_count": 2,
   "metadata": {},
   "outputs": [
    {
     "data": {
      "text/plain": [
       "CompletedProcess(args=['ls', '-l'], returncode=0)"
      ]
     },
     "execution_count": 2,
     "metadata": {},
     "output_type": "execute_result"
    }
   ],
   "source": [
    "import subprocess\n",
    "subprocess.run(\"ls -l\".split())"
   ]
  },
  {
   "cell_type": "markdown",
   "metadata": {},
   "source": [
    "## 3\n",
    "We can circumvent this problem by using pipes.  The \"subprocess\" module can use pipes to get output from the subshell of the subshell as follows:"
   ]
  },
  {
   "cell_type": "code",
   "execution_count": 3,
   "metadata": {},
   "outputs": [
    {
     "name": "stdout",
     "output_type": "stream",
     "text": [
      "return code: 0 \n",
      "stdout = \n",
      "total 2424\n",
      "-rw-r--r--   1 seddon  staff   10075 18 Mar 21:41 A02_mutability.ipynb\n",
      "-rw-r--r--   1 seddon  staff    8696 18 Mar 21:39 A03_conditionals_and_loops.ipynb\n",
      "-rw-r--r--   1 seddon  staff   15380 18 Mar 21:36 A04_lists_and_tuples.ipynb\n",
      "-rw-r--r--   1 seddon  staff   20134 18 Mar 21:29 A05_functions.ipynb\n",
      "-rw-r--r--   1 seddon  staff   13438 18 Mar 21:19 A06_dictionaries.ipynb\n",
      "-rw-r--r--   1 seddon  staff   16867 18 Mar 21:16 A07_modules.ipynb\n",
      "-rw-r--r--   1 seddon  staff   21106 18 Mar 21:14 A08_classes.ipynb\n",
      "-rw-r--r--   1 seddon  staff   13205 18 Mar 21:12 A09_file_IO.ipynb\n",
      "-rw-r--r--   1 seddon  staff   17004 17 Mar 19:45 A10_exception_handling.ipynb\n",
      "-rw-r--r--   1 seddon  staff   11850 18 Mar 20:49 A11_comprehensions.ipynb\n",
      "-rw-r--r--   1 seddon  staff   18419 18 Mar 20:51 A12_iterators_and_generators.ipynb\n",
      "-rw-r--r--   1 seddon  staff   20932 16 Mar 23:44 A13_decorators.ipynb\n",
      "-rw-r--r--   1 seddon  staff   21009 19 Mar 23:37 B01_numpy.ipynb\n",
      "-rw-r--r--   1 seddon  staff   28196 21 Mar 22:12 B02_pandas.ipynb\n",
      "-rw-r--r--   1 seddon  staff   12707 18 Mar 21:10 B03_nexus_files.ipynb\n",
      "-rw-r--r--   1 seddon  staff   13967 18 Mar 21:08 B04_curve_fitting.ipynb\n",
      "-rw-r--r--   1 seddon  staff   19198 22 Mar 20:31 B05_Sympy.ipynb\n",
      "-rw-r--r--   1 seddon  staff    9025 21 Mar 15:41 B06_PIL.ipynb\n",
      "-rw-r--r--   1 seddon  staff   13638 22 Mar 15:47 B07_SciKitLearn.ipynb\n",
      "-rw-r--r--@  1 seddon  staff   40960 12 Mar 21:43 Figures.ppt\n",
      "-rw-r--r--   1 seddon  staff   18805 23 Mar 17:32 InterfacingWithCandC++.ipynb\n",
      "drwxr-xr-x   4 seddon  staff     128 13 Mar 19:40 __pycache__\n",
      "-rw-r--r--@  1 seddon  staff   15650 22 Mar 14:59 bokeh.html\n",
      "drwxr-xr-x  15 seddon  staff     480 21 Mar 18:52 data\n",
      "drwxr-xr-x@ 26 seddon  staff     832 21 Mar 14:13 images\n",
      "-rw-r--r--@  1 seddon  staff  797184 19 Mar 15:10 images.ppt\n",
      "drwxr-xr-x   4 seddon  staff     128 13 Mar 19:47 libs\n",
      "drwxr-xr-x   3 seddon  staff      96 17 Mar 16:54 logs\n",
      "-rw-r--r--   1 seddon  staff     227 11 Mar 13:03 my.css\n",
      "drwxr-xr-x   4 seddon  staff     128 15 Mar 20:23 nexus\n",
      "drwxr-xr-x   4 seddon  staff     128 23 Mar 17:32 resources\n",
      "-rw-r--r--   1 seddon  staff    5014 18 Mar 21:48 z.ipynb\n",
      "\n"
     ]
    }
   ],
   "source": [
    "import subprocess\n",
    "result = subprocess.run(\"ls -l\".split(), stdout=subprocess.PIPE)\n",
    "print (f\"return code: {result.returncode} \\nstdout = \\n{result.stdout.decode()}\")"
   ]
  },
  {
   "cell_type": "markdown",
   "metadata": {},
   "source": [
    "## 4\n",
    "For the rest of this tutorial, we will wrap up this functionality in a \"run\" function:"
   ]
  },
  {
   "cell_type": "code",
   "execution_count": 4,
   "metadata": {},
   "outputs": [
    {
     "name": "stdout",
     "output_type": "stream",
     "text": [
      "run command defined\n"
     ]
    }
   ],
   "source": [
    "def run(cmd):\n",
    "    result = subprocess.run (cmd.split(), stdout=subprocess.PIPE)\n",
    "    print (f\"return code = {result.returncode} \\n{result.stdout.decode()}\")\n",
    "print(\"run command defined\")"
   ]
  },
  {
   "cell_type": "markdown",
   "metadata": {},
   "source": [
    "## 5\n",
    "Now we are ready to start the tutorial.\n",
    "\n",
    "When we want to wrap up C and C++ code in a shared library we need to provide:\n",
    "* the C/C++ code to go in the shared library\n",
    "* setup.py: instructions on building the library\n",
    "\n",
    "As an example of C code, we will write a Fibonacci module.  Here is the C code:"
   ]
  },
  {
   "cell_type": "code",
   "execution_count": 5,
   "metadata": {},
   "outputs": [
    {
     "name": "stdout",
     "output_type": "stream",
     "text": [
      "#include <Python.h>\r\n",
      "\r\n",
      "int _fib(int n)\r\n",
      "{\r\n",
      "    if (n < 2)\r\n",
      "        return n;\r\n",
      "    else\r\n",
      "        return _fib(n-1) + _fib(n-2);\r\n",
      "}\r\n",
      "\r\n",
      "static PyObject* fib(PyObject* self, PyObject* args)\r\n",
      "{\r\n",
      "    int n;\r\n",
      "\r\n",
      "    if (!PyArg_ParseTuple(args, \"i\", &n))\r\n",
      "        return NULL;\r\n",
      "\r\n",
      "    return Py_BuildValue(\"i\", _fib(n));\r\n",
      "}\r\n",
      "\r\n",
      "// method table\r\n",
      "static PyMethodDef FibMethods[] = {\r\n",
      "    {\"fib\", (PyCFunction)fib, METH_VARARGS, \"Calculate the Fibonacci numbers.\"},\r\n",
      "    {NULL, NULL, 0, NULL}\r\n",
      "};\r\n",
      "\r\n",
      "// module definition structure\r\n",
      "static struct PyModuleDef moduleDefinition =\r\n",
      "{\r\n",
      "    PyModuleDef_HEAD_INIT,\r\n",
      "    \"fibonacci\", /* name of module */\r\n",
      "    \"\",          /* module documentation, may be NULL */\r\n",
      "    -1,          /* size of per-interpreter state of the module, or -1 if the module keeps state in global variables. */\r\n",
      "    FibMethods\r\n",
      "};\r\n",
      "\r\n",
      "// module initialization function\r\n",
      "PyMODINIT_FUNC PyInit_fibonacci(void)\r\n",
      "{\r\n",
      "    return PyModule_Create(&moduleDefinition);\r\n",
      "}\r\n",
      "\r\n"
     ]
    }
   ],
   "source": [
    "%%bash\n",
    "cat resources/fibmodule.c"
   ]
  },
  {
   "cell_type": "markdown",
   "metadata": {},
   "source": [
    "## 7\n",
    "The C code is in 4 parts:\n",
    "\n",
    "* the function<pre>int _fib(int n)</pre>\n",
    "* binding code between C and Python in the function<pre>static PyObject* fib(PyObject* self, PyObject* args)</pre>\n",
    "* interface definitions<pre>\n",
    "method table\n",
    "module definition structure</pre>\n",
    "* Python entry point to the shared libary<pre>PyMODINIT_FUNC PyInit_fibonacci(void)</pre>  \n",
    "\n",
    "The `setup.py` file is shown below:"
   ]
  },
  {
   "cell_type": "code",
   "execution_count": 6,
   "metadata": {},
   "outputs": [
    {
     "name": "stdout",
     "output_type": "stream",
     "text": [
      "import sys\r\n",
      "from distutils.core import setup, Extension\r\n",
      " \r\n",
      "mymodule = Extension('fibonacci', sources = ['fibmodule.c'])\r\n",
      "\r\n",
      "setup (name = 'FibonacciPackage',\r\n",
      "        version = '1.0',\r\n",
      "        author = \"CRS Enterprises Ltd\",\r\n",
      "        author_email='seddon-software@keme.co.uk',\r\n",
      "        maintainer = \"CRS Enterprises Ltd\",\r\n",
      "        maintainer_email ='seddon-software@keme.co.uk',\r\n",
      "        url='http://www.keme.co.uk/~seddon-software',\r\n",
      "        description = \"simple example\",\r\n",
      "        long_description = \"\"\"This is a simple example,\r\n",
      "            to wrap up a C module\"\"\",\r\n",
      "        download_url = \"local\",\r\n",
      "        classifiers = [\"Developers\", \"Python Programming Course\"],\r\n",
      "        platforms = sys.platform,\r\n",
      "        license = \"none\",\r\n",
      "        ext_modules = [mymodule])\r\n"
     ]
    }
   ],
   "source": [
    "%%bash\n",
    "cat resources/setup.py"
   ]
  },
  {
   "cell_type": "markdown",
   "metadata": {},
   "source": [
    "## 8\n",
    "The key parts of the above file are:\n",
    "\n",
    "* creating a \"distutils.core.setup\" object, containing build details <pre>setup(...)</pre>\n",
    "\n",
    "* an Extension object defining which C files are to be compiled:\n",
    "<pre>mymodule = Extension('fibonacci', sources = ['fibmodule.c'])</pre>\n",
    "\n",
    "* the link between the \"setup\" object and the \"Extension\" object\n",
    "<pre>ext_modules = [mymodule]</pre>\n",
    "\n",
    "Python has a special way of building the shared library:"
   ]
  },
  {
   "cell_type": "code",
   "execution_count": 7,
   "metadata": {},
   "outputs": [
    {
     "name": "stdout",
     "output_type": "stream",
     "text": [
      "return code = 0 \n",
      "running build_ext\n",
      "building 'fibonacci' extension\n",
      "creating build\n",
      "creating build/temp.macosx-10.7-x86_64-3.7\n",
      "gcc -Wno-unused-result -Wsign-compare -Wunreachable-code -DNDEBUG -g -fwrapv -O3 -Wall -Wstrict-prototypes -I/Users/seddon/Anaconda37/anaconda3/include -arch x86_64 -I/Users/seddon/Anaconda37/anaconda3/include -arch x86_64 -I/Users/seddon/Anaconda37/anaconda3/include/python3.7m -c fibmodule.c -o build/temp.macosx-10.7-x86_64-3.7/fibmodule.o\n",
      "creating build/lib.macosx-10.7-x86_64-3.7\n",
      "gcc -bundle -undefined dynamic_lookup -L/Users/seddon/Anaconda37/anaconda3/lib -arch x86_64 -L/Users/seddon/Anaconda37/anaconda3/lib -arch x86_64 -arch x86_64 build/temp.macosx-10.7-x86_64-3.7/fibmodule.o -o build/lib.macosx-10.7-x86_64-3.7/fibonacci.cpython-37m-darwin.so\n",
      "\n",
      "return code = 0 \n",
      "total 0\n",
      "drwxr-xr-x  3 seddon  staff  96 23 Mar 17:33 lib.macosx-10.7-x86_64-3.7\n",
      "drwxr-xr-x  3 seddon  staff  96 23 Mar 17:33 temp.macosx-10.7-x86_64-3.7\n",
      "\n",
      "build/lib.macosx-10.7-x86_64-3.7:\n",
      "total 24\n",
      "-rwxr-xr-x  1 seddon  staff  9208 23 Mar 17:33 fibonacci.cpython-37m-darwin.so\n",
      "\n",
      "build/temp.macosx-10.7-x86_64-3.7:\n",
      "total 32\n",
      "-rw-r--r--  1 seddon  staff  12620 23 Mar 17:33 fibmodule.o\n",
      "\n"
     ]
    }
   ],
   "source": [
    "import subprocess,os,sys\n",
    "\n",
    "pythonPath = os.path.dirname(sys.executable)\n",
    "swigPath = \"/usr/local/bin\"\n",
    "compilerPath = \"/opt/local/bin\"\n",
    "#os.environ[\"PATH\"] = pythonPath + os.pathsep + os.environ[\"PATH\"]\n",
    "os.environ[\"PATH\"] = pythonPath + os.pathsep + swigPath + os.pathsep + compilerPath + os.pathsep + os.environ[\"PATH\"]\n",
    "\n",
    "os.chdir(\"/Users/seddon/home/workspace/Python3/Python3/notebooks/resources\")\n",
    "\n",
    "run(\"python setup.py -v build_ext\")\n",
    "run(\"ls -lR build\")"
   ]
  },
  {
   "cell_type": "markdown",
   "metadata": {},
   "source": [
    "## 9\n",
    "Python creates a shared object file with a \".so\" extension in the build directory a some other temporary files.\n",
    "\n",
    "We now need to install this shared object .  Since we do not have permission to install in Diamond's Anacoda distribution we will have to install locally in our home directory:"
   ]
  },
  {
   "cell_type": "code",
   "execution_count": 8,
   "metadata": {},
   "outputs": [
    {
     "name": "stdout",
     "output_type": "stream",
     "text": [
      "return code = 0 \n",
      "running install\n",
      "running build\n",
      "running build_ext\n",
      "running install_lib\n",
      "copying build/lib.macosx-10.7-x86_64-3.7/fibonacci.cpython-37m-darwin.so -> /Users/seddon/.local/lib/python3.7/site-packages\n",
      "running install_egg_info\n",
      "Writing /Users/seddon/.local/lib/python3.7/site-packages/FibonacciPackage-1.0-py3.7.egg-info\n",
      "writing list of installed files to 'files.txt'\n",
      "\n"
     ]
    }
   ],
   "source": [
    "run(\"python setup.py install --record files.txt --user\")"
   ]
  },
  {
   "cell_type": "markdown",
   "metadata": {},
   "source": [
    "## 10\n",
    "Now we've installed our library, we should clean the build area:"
   ]
  },
  {
   "cell_type": "code",
   "execution_count": 9,
   "metadata": {},
   "outputs": [
    {
     "name": "stdout",
     "output_type": "stream",
     "text": [
      "return code = 0 \n",
      "running clean\n",
      "removing 'build/temp.macosx-10.7-x86_64-3.7' (and everything under it)\n",
      "removing 'build/lib.macosx-10.7-x86_64-3.7' (and everything under it)\n",
      "removing 'build'\n",
      "\n",
      "staging area cleaned\n"
     ]
    }
   ],
   "source": [
    "run(\"python setup.py clean --all\")\n",
    "print(\"staging area cleaned\")"
   ]
  },
  {
   "cell_type": "markdown",
   "metadata": {},
   "source": [
    "## 11\n",
    "Time to test our module:"
   ]
  },
  {
   "cell_type": "code",
   "execution_count": 10,
   "metadata": {},
   "outputs": [
    {
     "name": "stdout",
     "output_type": "stream",
     "text": [
      "55\n",
      "89\n",
      "144\n"
     ]
    }
   ],
   "source": [
    "import fibonacci\n",
    "\n",
    "print((fibonacci.fib(10)))\n",
    "print((fibonacci.fib(11)))\n",
    "print((fibonacci.fib(12)))"
   ]
  },
  {
   "cell_type": "markdown",
   "metadata": {},
   "source": [
    "## 12\n",
    "So our module is working!\n",
    "\n",
    "Note, we've been keeping a record of the files we've been creating to facilitate the \"uninstall\":"
   ]
  },
  {
   "cell_type": "code",
   "execution_count": 11,
   "metadata": {},
   "outputs": [
    {
     "name": "stdout",
     "output_type": "stream",
     "text": [
      "/Users/seddon/.local/lib/python3.7/site-packages/fibonacci.cpython-37m-darwin.so\n",
      "/Users/seddon/.local/lib/python3.7/site-packages/FibonacciPackage-1.0-py3.7.egg-info\n"
     ]
    }
   ],
   "source": [
    "%%bash\n",
    "cat files.txt"
   ]
  },
  {
   "cell_type": "markdown",
   "metadata": {},
   "source": [
    "## 13\n",
    "The following code will print out the \"egg-info\" file:"
   ]
  },
  {
   "cell_type": "code",
   "execution_count": 12,
   "metadata": {},
   "outputs": [
    {
     "name": "stdout",
     "output_type": "stream",
     "text": [
      "Metadata-Version: 1.1\n",
      "Name: FibonacciPackage\n",
      "Version: 1.0\n",
      "Summary: simple example\n",
      "Home-page: http://www.keme.co.uk/~seddon-software\n",
      "Author: CRS Enterprises Ltd\n",
      "Author-email: seddon-software@keme.co.uk\n",
      "License: none\n",
      "Download-URL: local\n",
      "Description: This is a simple example,\n",
      "                    to wrap up a C module\n",
      "Platform: darwin\n",
      "Classifier: Developers\n",
      "Classifier: Python Programming Course\n",
      "\n"
     ]
    }
   ],
   "source": [
    "installedFiles = open(\"files.txt\", \"r\")\n",
    "for file in installedFiles:\n",
    "    file = file.rstrip()\n",
    "    if file.endswith(\"egg-info\"):\n",
    "        f = open(file, 'r')\n",
    "        print(f.read())"
   ]
  },
  {
   "cell_type": "markdown",
   "metadata": {},
   "source": [
    "## 14\n",
    "Now we can unistall our library:"
   ]
  },
  {
   "cell_type": "code",
   "execution_count": 13,
   "metadata": {},
   "outputs": [
    {
     "name": "stdout",
     "output_type": "stream",
     "text": [
      "rm /Users/seddon/.local/lib/python3.7/site-packages/fibonacci.cpython-37m-darwin.so\n",
      "\n",
      "return code = 0 \n",
      "\n",
      "rm /Users/seddon/.local/lib/python3.7/site-packages/FibonacciPackage-1.0-py3.7.egg-info\n",
      "\n",
      "return code = 0 \n",
      "\n",
      "rm files.txt\n",
      "return code = 0 \n",
      "\n",
      "Example uninstalled\n"
     ]
    }
   ],
   "source": [
    "try:\n",
    "    installedFiles = open(\"files.txt\", \"r\")\n",
    "    for file in installedFiles:\n",
    "        print(f\"rm {file}\")\n",
    "        run(f\"rm {file}\")\n",
    "\n",
    "    print(\"rm files.txt\")\n",
    "    run(\"rm files.txt\")\n",
    "    print(\"Example uninstalled\")\n",
    "except:\n",
    "    print(\"Example already uninstalled\")"
   ]
  }
 ],
 "metadata": {
  "kernelspec": {
   "display_name": "Python 3",
   "language": "python",
   "name": "python3"
  },
  "language_info": {
   "codemirror_mode": {
    "name": "ipython",
    "version": 3
   },
   "file_extension": ".py",
   "mimetype": "text/x-python",
   "name": "python",
   "nbconvert_exporter": "python",
   "pygments_lexer": "ipython3",
   "version": "3.7.1"
  }
 },
 "nbformat": 4,
 "nbformat_minor": 4
}
